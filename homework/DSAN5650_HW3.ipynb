{
 "cells": [
  {
   "cell_type": "markdown",
   "id": "6cbf1aba-f0c4-460e-810f-9574624ccd48",
   "metadata": {},
   "source": [
    "## DSAN5650 Homework 3: Evaluating PGM Predictive Performance"
   ]
  },
  {
   "cell_type": "code",
   "execution_count": 6,
   "id": "6f03292b-a552-4c23-9f48-05f58b154f44",
   "metadata": {},
   "outputs": [],
   "source": [
    "# import corrections\n",
    "# corrections.fetch(\"HW3\")"
   ]
  },
  {
   "cell_type": "markdown",
   "id": "bf434809-2928-4628-9254-a78fc76934ff",
   "metadata": {},
   "source": [
    "HW3 has a purpose above and beyond that which HW1 and HW2 had: namely, to **prepare you for your final projects!** While some parts were originally intended as writeups, to provide you with a \"template\" for how you could carry out the different options, I realized that between the two options of:\n",
    "\n",
    "* (a) Giving you writeups and then a separate HW3 you have to worry about, and\n",
    "* (b) Turning the writeups *into* HW3 problems,\n",
    "\n",
    "(b) is probably 10x more helpful to you, and it's a win-win: you have have an actual grade-based incentive to work through these two \"templates\", and I can make sure that we're all on the same page in terms of expectations for the final project 😊"
   ]
  },
  {
   "cell_type": "markdown",
   "id": "f1f29a14-2d30-4171-9eb6-853985f11e24",
   "metadata": {},
   "source": [
    "## The HW3 Study: What Employers Say vs. What They Do\n",
    "\n",
    "The three parts of HW3 build towards developing a model of **discrimination on the basis of race and criminal record**, as an example of how you might start to pursue **Option 1: Modeling Social Phenomena with PGMs**, for your DSAN 5650 final project. For the sake of learning, it is hyper-simplified (focusing on just one specific study), in the sense that it leaves out a bunch of details (things like, a lit review) which should *not* be left out of a fully-formed project!\n",
    "\n",
    "The study we'll be analyzing data from, titled ***\"Walking the Talk?: What Employers Say Versus What They Do\"*** [(Pager and Quillian 2003)](https://journals.sagepub.com/doi/abs/10.1177/000312240507000301), is a perfect candidate for analysis by way of PGMs, since it highlights the importance for social scientists of distinguishing between **latent** and **observed** variables.\n",
    "\n",
    "The study was built upon a pair of investigations, which we'll use one-by-one to build up our model, then infer the parameters of our model from their two resulting datasets. The presentation here, for the sake of walking through a modeling procedure, is the reverse of their actual temporal ordering.\n",
    "\n",
    "### Part 1: Data on *Attitudes* via Telephone Surveys\n",
    "\n",
    "The survey was conducted via telephone, where the same employers as in the experimental audit (described below) were asked about their **attitudes** regarding whether or not they would hire someone with given characteristics, where the given characteristics varied across **race** (white vs. black) as well as **criminal record** (formerly-convicted vs. non-formerly-convicted). Unlike in the next section, however, the criminal-record question was asked **relative to** the no-criminal-record case, which is why we only have a single \"yes\" response rate for each race here. i.e., the questions they asked boiled down to\n",
    "\n",
    "> Chad [the real name they used] is qualified for the position you advertised, but you find out that he was formerly convicted for a drug offense. Would you still hire him?\n",
    "\n",
    "In Part 1.1a you'll load the data and plot an overview of the differential rates with which employers say they would \"likely\" or \"very likely\" hire Chad. And this plot will look as follows:\n",
    "\n",
    "<center>\n",
    "<img src=\"https://github.com/jpowerj/dsan-content/blob/24a7fe4df1a9e89c509ec2e102c4b1bfd5c4e1c5/2025-sum-dsan5650/hw3/survey_rates.png?raw=true\" width=\"60%\" />\n",
    "</center>\n",
    "\n",
    "But, before we can interpret this plot, we also need to understand the **paired experimental audit** that was performed on the same firms!\n",
    "\n",
    "### Part 2: Data on *Behavior* via Experimental Audits\n",
    "\n",
    "The experimental investigation is described more fully in a separate article by Pager *\"The Mark of a Criminal Record\"* [(Pager 2003)](https://www.journals.uchicago.edu/doi/10.1086/374403). It involved an **audit** of the same employers in the Milwaukee metro area, which worked as follows:\n",
    "\n",
    "1.  A sample of 23-year-old college students from Milwaukee, split between white males and black males, were recruited with the stated goal of maximizing \"comparability in terms of physical and interpersonal attributes.\"\n",
    "2.  Once the sample had been recruited, participants were randomly split into groups-of-4 $g_i = (w_1, w_2, b_1, b_1)$.\n",
    "3.  Although all members of the group-of-4 were given identical (fictionalized) resumes, in each job application \"wave\", one of the pair $(b_1, b_2)$ and then one of the pair $(w_1, w_2)$ were randomly assigned to also have a criminal record.\n",
    "    \n",
    "    In 74% of the randomly-chosen jobs, this came up immediately since the job applications required disclosure of past criminal conviction. For the other 26%, the applicants included 6 months of job experience within prison as part of their resume.\n",
    "4.  The final results were tabulated based on how many of the individuals across all of the applications received callbacks.\n",
    "\n",
    "You will load the data from this experimental audit and plot an overview of the results at the beginning of Part 2, and it will look as follows... painting a very different picture of employer behavior than the survey results!\n",
    "\n",
    "<center>\n",
    "<img src=\"https://github.com/jpowerj/dsan-content/blob/main/2025-sum-dsan5650/hw3/audit_rates.png?raw=true\" width=\"60%\" />\n",
    "</center>\n",
    "\n",
    "The final piece of background before you start analyzing and interpreting this data, however, is to understand **how** we're going to evaluate the extent to which our PGMs are \"capturing\" the attitudes and behaviors of the surveyed and audited firms!"
   ]
  },
  {
   "cell_type": "markdown",
   "id": "299efa6e-7d3d-4464-b336-b3a8c7da0d9d",
   "metadata": {},
   "source": [
    "## The HW3 Methodology: *Evaluating* Our Estimated Models on Test Data\n",
    "\n",
    "Methodologically, this part will introduce you to a piece of the causal-analysis pipeline that you're probably/hopefully used to from other DSAN classes, but which we haven't touched on much yet in 5650. Namely, the **train-test split** approach to evaluating our models and distinguishing between \"better\" and \"worse\" models:\n",
    "\n",
    "* **Splitting** our data into **training** and **test** subsets, and then\n",
    "* **Evaluating** them on a relevant metric of predictive accuracy\n",
    "\n",
    "Although **accuracy** often feels intuitively like the most appropriate evaluation metric, in most machine learning contexts it turns out to be not so helpful, since e.g. it rewards ML algorithms that just always guess the most-common class rather than actually learning the statistical relationship of interest. If we're trying to diagnose a rare disease that only occurs in 1% of the population, for example, the ML algorithm can achieve 99% accuracy by just always predicting no-disease (rather than learning to **distinguish** the disease cases from non-disease cases).\n",
    "\n",
    "Thus, in general, for discrete classification tasks the [F1 score](https://en.wikipedia.org/wiki/F-score) is usually more appropriate. In this assignment, though, we will be **predicting probabilities** of being hired for individuals with different characteristics, which entails using the [AUC metric](https://developers.google.com/machine-learning/crash-course/classification/roc-and-auc) to evaluate the *tradeoff* between false positives and false negatives as we change the **threshold** for predicting a hiring from 0 to 1.\n",
    "\n",
    "### Quick Overview of ROC Curve $\\rightarrow$ AUC Metric\n",
    "\n",
    "Since that last sentence is a bit vague, a more direct way of understanding this **threshold-based** evaluation is as follows. Once you've trained a model in PyMC, you can use its `.sample_predictive_posterior()` function to obtain a bunch of simulated datasets **generated by** the model (on the basis of its now-estimated parameter valuers). Since the default number of draws is 500, this corresponds to 500 generated hire/no-hire values for each individual in the dataset.\n",
    "\n",
    "With these 500 hire/no-hire guesses for $i$ in hand, you can then compute their **mean** to obtain a point estimate of the model's **estimated probability that this individual $i$ is hired**. We'll call this mean $\\hat{p}_i$, then use it to **evaluate** the model's predictions by constructing an **ROC Curve** via the following steps:\n",
    "\n",
    "1.  First, we set up a plot in the $xy$-plane, where both $x$ and $y$ range from 0 to 1, and where the the $x$-axis is labeled **false positive rate** and the $y$-axis is labeled **true positive rate**.\n",
    "2.  To get our first point on this **ROC Curve**, we set a threshold of **$\\theta = 0.0$** for positive prediction. Meaning, we \"convert\" the predicted probabilities $\\hat{p}_i$ generated by our model into actual predictions via the rule\n",
    "    $$\n",
    "    \\text{Prediction}_i(0.0) = \\begin{cases}\n",
    "      1 &\\text{if }\\hat{p}_i \\geq 0.0 \\\\\n",
    "      0 &\\text{otherwise}\n",
    "    \\end{cases}\n",
    "    $$\n",
    "    This will then generate some number of correct predictions (for all cases where person $i$ was actually hired), but also a bunch of false positives, since it's predicting 1 *no matter what*. So, we compute the False Positive Rate $FPR = \\frac{\\# FP}{\\# FP + \\# TN}$ under this prediction rule (where $\\#$ means \"number of\", and $TN$ means \"true negatives\", so $\\# TN$ means \"number of true negatives\"), along with the True Positive Rate $TPR = \\frac{\\# TP}{\\# TP + \\# FN}$, and add a point to the ROC curve created in the previous step at exactly the coordinates $(FPR, TPR)$.\n",
    "3.  Then, we **increase the threshold** by some increment (say, $0.1$), and re-do Step 1. Meaning, we now generate a new set of predictions using the rule\n",
    "    $$\n",
    "    \\text{Prediction}_i(0.1) = \\begin{cases}\n",
    "      1 &\\text{if }\\hat{p}_i \\geq 0.1 \\\\\n",
    "      0 &\\text{otherwise}\n",
    "    \\end{cases}\n",
    "    $$\n",
    "    And, like in the previous step, this will generate a False Positive Rate $FPR$ and a True Positive Rate $TPR$, which we plot as a second point in our ROC Curve.\n",
    "4.  We continue with this process, incrementing the threshold $\\theta$, generating predictions via\n",
    "    $$\n",
    "    \\text{Prediction}_i(\\theta) = \\begin{cases}\n",
    "      1 &\\text{if }\\hat{p}_i \\geq \\theta \\\\\n",
    "      0 &\\text{otherwise}\n",
    "    \\end{cases}\n",
    "    $$\n",
    "    and then adding the resulting $(FPR, TPR)$ point to our ROC Curve until we reach $\\theta = 1.0$ (at which point we're classifying every point as *negative*/no-hire, no matter what!)\n",
    "\n",
    "The plot obtained using this method is called the **ROC Curve**, and if you think about the difference between a \"fake\" learning method that just randomly guesses between 0 and 1, and the \"real\" learning that you hope your chosen ML algorithm is performing, you'll arrive at the result that a good measure of \"How well is my algorithm doing relative to random-guessing?\" is precisely the **area underneath the curve**, or **AUC**, generated by connecting the points plotted in Steps 1 through 4 above. A random-guessing algorithm will obtain an **AUC** of 50%, whereas ML algorithms that more effectively **distinguish** the positive from the negative cases will have AUC scores which exceed 50%."
   ]
  },
  {
   "cell_type": "markdown",
   "id": "ed552eae-da9f-4056-8371-bc147cba7074",
   "metadata": {},
   "source": [
    "# [Part 1] Modeling *Attitudes* with Survey Data"
   ]
  },
  {
   "cell_type": "code",
   "execution_count": 7,
   "id": "69d703c8-51df-404d-be55-fdd0d997dd4e",
   "metadata": {},
   "outputs": [],
   "source": [
    "#%run jupyter_fixes.ipynb\n",
    "import pandas as pd\n",
    "import numpy as np\n",
    "import matplotlib.pyplot as plt\n",
    "import seaborn as sns\n",
    "import patchworklib as pw\n",
    "import pymc as pm\n",
    "import arviz as az"
   ]
  },
  {
   "cell_type": "markdown",
   "id": "34b4b974-e94e-4273-82ea-6896c3e3bb25",
   "metadata": {},
   "source": [
    "## [Part 1.1] Loading and Preparing the Dataset"
   ]
  },
  {
   "cell_type": "markdown",
   "id": "1bdabd77-7ffe-47bf-b778-e1eb97b5def8",
   "metadata": {},
   "source": [
    "Run the following code to load the survey data:"
   ]
  },
  {
   "cell_type": "code",
   "execution_count": 8,
   "id": "81755524-ba2f-48b9-8c6c-c1ff752b473c",
   "metadata": {},
   "outputs": [
    {
     "data": {
      "text/html": [
       "<div>\n",
       "<style scoped>\n",
       "    .dataframe tbody tr th:only-of-type {\n",
       "        vertical-align: middle;\n",
       "    }\n",
       "\n",
       "    .dataframe tbody tr th {\n",
       "        vertical-align: top;\n",
       "    }\n",
       "\n",
       "    .dataframe thead th {\n",
       "        text-align: right;\n",
       "    }\n",
       "</style>\n",
       "<table border=\"1\" class=\"dataframe\">\n",
       "  <thead>\n",
       "    <tr style=\"text-align: right;\">\n",
       "      <th></th>\n",
       "      <th>survey_id</th>\n",
       "      <th>firm_id</th>\n",
       "      <th>con</th>\n",
       "      <th>race</th>\n",
       "      <th>race_str</th>\n",
       "      <th>sayhire</th>\n",
       "    </tr>\n",
       "  </thead>\n",
       "  <tbody>\n",
       "    <tr>\n",
       "      <th>0</th>\n",
       "      <td>0</td>\n",
       "      <td>0</td>\n",
       "      <td>0</td>\n",
       "      <td>0</td>\n",
       "      <td>White</td>\n",
       "      <td>1</td>\n",
       "    </tr>\n",
       "    <tr>\n",
       "      <th>1</th>\n",
       "      <td>1</td>\n",
       "      <td>0</td>\n",
       "      <td>1</td>\n",
       "      <td>0</td>\n",
       "      <td>White</td>\n",
       "      <td>0</td>\n",
       "    </tr>\n",
       "    <tr>\n",
       "      <th>2</th>\n",
       "      <td>2</td>\n",
       "      <td>0</td>\n",
       "      <td>0</td>\n",
       "      <td>1</td>\n",
       "      <td>Black</td>\n",
       "      <td>1</td>\n",
       "    </tr>\n",
       "    <tr>\n",
       "      <th>3</th>\n",
       "      <td>3</td>\n",
       "      <td>0</td>\n",
       "      <td>1</td>\n",
       "      <td>1</td>\n",
       "      <td>Black</td>\n",
       "      <td>0</td>\n",
       "    </tr>\n",
       "    <tr>\n",
       "      <th>4</th>\n",
       "      <td>4</td>\n",
       "      <td>1</td>\n",
       "      <td>0</td>\n",
       "      <td>0</td>\n",
       "      <td>White</td>\n",
       "      <td>1</td>\n",
       "    </tr>\n",
       "  </tbody>\n",
       "</table>\n",
       "</div>"
      ],
      "text/plain": [
       "   survey_id  firm_id  con  race race_str  sayhire\n",
       "0          0        0    0     0    White        1\n",
       "1          1        0    1     0    White        0\n",
       "2          2        0    0     1    Black        1\n",
       "3          3        0    1     1    Black        0\n",
       "4          4        1    0     0    White        1"
      ]
     },
     "execution_count": 8,
     "metadata": {},
     "output_type": "execute_result"
    }
   ],
   "source": [
    "survey_df = pd.read_csv(\"./data/pager_matched_surveys.csv\")\n",
    "survey_df.head()"
   ]
  },
  {
   "cell_type": "markdown",
   "id": "5795c449-2145-4a61-8d86-423486619a00",
   "metadata": {},
   "source": [
    "By printing the first 5 rows, we can see how:\n",
    "\n",
    "* `survey_id` uniquely identifies **responses to vignettes**,\n",
    "* `firm_id` uniquely identifies the **firm** responding to the survey (hence, there are four `survey_id` values for each `firm_id`)\n",
    "* `con` and `race` represent the **features** we have available for predicting the survey response (`race_str` is there to help us keep track of which numeric value is mapped to which race value)\n",
    "* `sayhire` is the **outcome** that we care about: whether or not the employer said they would be \"likely to hire\" Chad from the survey vignette.\n",
    "\n",
    "Next, the following code aggregates the data into the four possible `(race,con)` pairs, and computes the rate of \"likely\" responses for each group:"
   ]
  },
  {
   "cell_type": "code",
   "execution_count": 9,
   "id": "981868ce-312c-4c9d-8b46-9eaa226ca036",
   "metadata": {},
   "outputs": [
    {
     "data": {
      "text/html": [
       "<div>\n",
       "<style scoped>\n",
       "    .dataframe tbody tr th:only-of-type {\n",
       "        vertical-align: middle;\n",
       "    }\n",
       "\n",
       "    .dataframe tbody tr th {\n",
       "        vertical-align: top;\n",
       "    }\n",
       "\n",
       "    .dataframe thead th {\n",
       "        text-align: right;\n",
       "    }\n",
       "</style>\n",
       "<table border=\"1\" class=\"dataframe\">\n",
       "  <thead>\n",
       "    <tr style=\"text-align: right;\">\n",
       "      <th></th>\n",
       "      <th>race_str</th>\n",
       "      <th>con</th>\n",
       "      <th>sayhire_rate</th>\n",
       "    </tr>\n",
       "  </thead>\n",
       "  <tbody>\n",
       "    <tr>\n",
       "      <th>0</th>\n",
       "      <td>Black</td>\n",
       "      <td>0</td>\n",
       "      <td>1.000000</td>\n",
       "    </tr>\n",
       "    <tr>\n",
       "      <th>1</th>\n",
       "      <td>Black</td>\n",
       "      <td>1</td>\n",
       "      <td>0.604651</td>\n",
       "    </tr>\n",
       "    <tr>\n",
       "      <th>2</th>\n",
       "      <td>White</td>\n",
       "      <td>0</td>\n",
       "      <td>1.000000</td>\n",
       "    </tr>\n",
       "    <tr>\n",
       "      <th>3</th>\n",
       "      <td>White</td>\n",
       "      <td>1</td>\n",
       "      <td>0.627907</td>\n",
       "    </tr>\n",
       "  </tbody>\n",
       "</table>\n",
       "</div>"
      ],
      "text/plain": [
       "  race_str  con  sayhire_rate\n",
       "0    Black    0      1.000000\n",
       "1    Black    1      0.604651\n",
       "2    White    0      1.000000\n",
       "3    White    1      0.627907"
      ]
     },
     "execution_count": 9,
     "metadata": {},
     "output_type": "execute_result"
    }
   ],
   "source": [
    "rate_df = survey_df.groupby(['race_str','con'])['sayhire'].mean().to_frame().reset_index()\n",
    "rate_df.rename(columns={'sayhire': 'sayhire_rate'}, inplace=True)\n",
    "rate_df"
   ]
  },
  {
   "cell_type": "markdown",
   "id": "58424967-124f-4dd8-b246-5c8369dbe4b5",
   "metadata": {},
   "source": [
    "Now, run the following code to generate the plot from above, showing the relative \"likely hire\" rates for the four vignettes used in the survey:"
   ]
  },
  {
   "cell_type": "code",
   "execution_count": 10,
   "id": "654908d5-d000-4c84-9280-c67184f72070",
   "metadata": {},
   "outputs": [
    {
     "data": {
      "image/png": "[encoded data removed]",
      "text/plain": [
       "<Figure size 100x100 with 2 Axes>"
      ]
     },
     "execution_count": 10,
     "metadata": {},
     "output_type": "execute_result"
    }
   ],
   "source": [
    "plot_df = rate_df.rename(columns={'con': 'Prior Conviction'})\n",
    "ax = pw.Brick(figsize=(6, 3))\n",
    "sns.barplot(\n",
    "    x=\"race_str\", y='sayhire_rate', hue='Prior Conviction', data=plot_df,\n",
    "    alpha=0.9, ax=ax,\n",
    ");\n",
    "ax.set_title(\"Rates of 'Likely' or 'Very Likely' Response\")\n",
    "ax.savefig()"
   ]
  },
  {
   "cell_type": "markdown",
   "id": "48bfa62d-77ba-4260-85fb-81fbb7ad62b1",
   "metadata": {},
   "source": [
    "So, going off of *just* this survey-based investigation, we might think that the only salient variable we'd need to include would be one indicating **whether or not the applicant has a prior conviction**. In other words, this seems to indicate that we can \"capture\" employer behavior(🧐)---say, in order to make accurate **predictions** of job-applicant success---using only prior-conviction status. A tabulation of how often employers say they would likely hire an applicant, by race, seems to confirm this visual intuition, with the white Chad vignette eliciting only a slightly higher `sayhire` probability than the black Chad vignette:"
   ]
  },
  {
   "cell_type": "code",
   "execution_count": 11,
   "id": "4f7fd479-c4e5-48ad-9b7e-b2cbf0b0268a",
   "metadata": {},
   "outputs": [
    {
     "data": {
      "text/plain": [
       "race_str\n",
       "Black    0.802326\n",
       "White    0.813953\n",
       "Name: sayhire, dtype: float64"
      ]
     },
     "execution_count": 11,
     "metadata": {},
     "output_type": "execute_result"
    }
   ],
   "source": [
    "survey_df.groupby('race_str')['sayhire'].mean()"
   ]
  },
  {
   "cell_type": "markdown",
   "id": "6d7d9166-88a3-4a33-8cdc-a1b017738250",
   "metadata": {},
   "source": [
    "In Part 1 we'll explore the relative performance of models with and without conviction status and race, then in Part 2 we'll move to a model of **observed** behavior (rather than hypothetical behavior), where we'll obtain very different results! So, in Part 3 we'll address this discrepancy head on, by modeling Attitude-Behavior Consistency directly."
   ]
  },
  {
   "cell_type": "markdown",
   "id": "5c8d3646-ee2b-4f7a-b8c5-8d71f03540c4",
   "metadata": {},
   "source": [
    "### [Question 1.1.1] Train-Test Split"
   ]
  },
  {
   "cell_type": "markdown",
   "id": "de465f22-de36-4564-8ea3-4abeda0d8371",
   "metadata": {},
   "source": [
    "To achieve a probabilistic split of the data into **training** and **test sets**, we don't need to reinvent the wheel! `scikit-learn` has its own `train_test_split()` function we can import, that does exactly what we need in Parts 1 and 2 (in Part 3 we will have to be more careful about how we perform this split, but, `train_test_split()` is the \"industry standard\" for sample-splitting!).\n",
    "\n",
    "So, your job in the following code cell is to use the imported `train_test_split()` function to split `survey_df` into:\n",
    "\n",
    "* A **training set** named `train_df` containing 80% of the rows in `survey_df`, and\n",
    "* A **test set** named `test_df` containing the remaining 20% of the rows in `survey_df`\n",
    "\n",
    "*Make sure to pass the `random_state=5650` argument to the `train_test_split()` function, so that our solution output will match yours!*"
   ]
  },
  {
   "cell_type": "code",
   "execution_count": 12,
   "id": "a1c38507-ba97-4e19-ab8c-1af831b9ca59",
   "metadata": {},
   "outputs": [
    {
     "data": {
      "text/plain": [
       "((137, 6), (35, 6))"
      ]
     },
     "execution_count": 12,
     "metadata": {},
     "output_type": "execute_result"
    }
   ],
   "source": [
    "# @title Q1.1.1-response\n",
    "\n",
    "from sklearn.model_selection import train_test_split\n",
    "\n",
    "# Your code here: separate survey_df into train_df and test_df\n",
    "train_df, test_df = train_test_split(survey_df, test_size=0.2, random_state=42)\n",
    "# Once you've created train_df and test_df, you can uncomment the following line\n",
    "# to make sure that they have the expected dimensions\n",
    "train_df.shape, test_df.shape"
   ]
  },
  {
   "cell_type": "code",
   "execution_count": 13,
   "id": "398b14a0-e59e-406f-bb8f-924f71fd9744",
   "metadata": {},
   "outputs": [
    {
     "data": {
      "text/plain": [
       "{'train_df defined': '✅ Passed!', 'test_df defined': '✅ Passed!'}"
      ]
     },
     "execution_count": 13,
     "metadata": {},
     "output_type": "execute_result"
    }
   ],
   "source": [
    "# @title Q1.1.1-public-tests\n",
    "q1_1_1_public_tests = {\n",
    "    'train_df defined': '✅ Passed!' if 'train_df' in globals() else '🔲 No variable named train_df exists in Python memory',\n",
    "    'test_df defined': '✅ Passed!' if 'test_df' in globals() else '🔲 No variable named test_df exists in Python memory',\n",
    "}\n",
    "q1_1_1_public_tests"
   ]
  },
  {
   "cell_type": "markdown",
   "id": "b39f0811-7a93-4a63-a0d2-ff62f13201c5",
   "metadata": {},
   "source": [
    "### [Question 1.1.2] The Feature Matrices $\\mathbf{X}$ and Label Vectors $\\mathbf{y}$"
   ]
  },
  {
   "cell_type": "markdown",
   "id": "1053fc28-6869-41c6-aafe-90247a940058",
   "metadata": {},
   "source": [
    "Next, in the following cell, create a further split of `train_df` into:\n",
    "\n",
    "* A Pandas `DataFrame` named `X_train`, containing only the numeric **features** mentioned above (`race` and `con`), and\n",
    "* A Pandas `Series` object named `y_train`, containing only the single **outcome** mentioned above (`sayhire`)\n",
    "\n",
    "Then do the same for `test_df` (creating `X_test` and `y_test`)."
   ]
  },
  {
   "cell_type": "code",
   "execution_count": 14,
   "id": "07012b43-3949-4258-90cb-a475eaf371be",
   "metadata": {},
   "outputs": [
    {
     "data": {
      "text/plain": [
       "((137, 2), (35, 2), (137,), (35,))"
      ]
     },
     "execution_count": 14,
     "metadata": {},
     "output_type": "execute_result"
    }
   ],
   "source": [
    "# @title Q1.1.2-solution\n",
    "\n",
    "# Your code here: create DataFrame objects X_train and X_test, and Series\n",
    "# objects y_train and y_test\n",
    "X_train = train_df[['race','con']]\n",
    "y_train = train_df['sayhire']\n",
    "\n",
    "X_test = test_df[['race','con']]\n",
    "y_test = test_df['sayhire']\n",
    "\n",
    "# Once you've created the four objects, you can uncomment the following line to\n",
    "# make sure that they have the expected dimensions\n",
    "X_train.shape, X_test.shape, y_train.shape, y_test.shape"
   ]
  },
  {
   "cell_type": "code",
   "execution_count": 15,
   "id": "3b3350b6-bde9-4d3f-9edb-d21cff21aa6e",
   "metadata": {},
   "outputs": [
    {
     "data": {
      "text/plain": [
       "{'X_train defined': '✅ Passed!',\n",
       " 'X_test defined': '✅ Passed!',\n",
       " 'y_train defined': '✅ Passed!',\n",
       " 'y_test defined': '✅ Passed!'}"
      ]
     },
     "execution_count": 15,
     "metadata": {},
     "output_type": "execute_result"
    }
   ],
   "source": [
    "# @title Q1.1.2-public-tests\n",
    "q1_2_2_varnames = ['X_train', 'X_test', 'y_train', 'y_test']\n",
    "q1_2_2_public_tests = {\n",
    "    f'{cur_varname} defined': '✅ Passed!' if cur_varname in globals() else f'🔲 No variable named {cur_varname} exists in Python memory'\n",
    "    for cur_varname in q1_2_2_varnames\n",
    "}\n",
    "q1_2_2_public_tests"
   ]
  },
  {
   "cell_type": "markdown",
   "id": "32f9de8e-c92a-4cec-8588-199d5a9a2c75",
   "metadata": {},
   "source": [
    "Finally, the following cell just creates an `OrderedDict`, which we'll use to store the results for each model so that we can generate a final \"which model performed best?\" plot at the end of Part 1!"
   ]
  },
  {
   "cell_type": "code",
   "execution_count": 16,
   "id": "6fdbf9d5-ff50-4d0d-ae2b-5950f13c9893",
   "metadata": {},
   "outputs": [],
   "source": [
    "from collections import OrderedDict\n",
    "survey_model_aucs = OrderedDict()"
   ]
  },
  {
   "cell_type": "markdown",
   "id": "b4a851bc-2d57-464c-bc33-056d44763173",
   "metadata": {},
   "source": [
    "## [Part 1.2] Baseline Model: Always Guess Most-Frequent Label"
   ]
  },
  {
   "cell_type": "markdown",
   "id": "bae16b28-f81d-4522-894f-a93c1224fe45",
   "metadata": {},
   "source": [
    "To start off, one of the biggest biggest (I can't emphasize this enough... biggest!) issues in Machine Learning evaluations specifically is the lack of a **baseline model** that your audience can use to understand **what it means** that your model has some performance metric value $x$!\n",
    "\n",
    "This is crucial in the sense that, it's literally how we know whether or not your machine **learning** algorithm is actually **learning** anything: consider a model that just always says \"yes\":"
   ]
  },
  {
   "cell_type": "code",
   "execution_count": 17,
   "id": "5e9831c2-05ce-480f-b83e-e380e02a8c94",
   "metadata": {},
   "outputs": [
    {
     "data": {
      "text/html": [
       "<div>\n",
       "<style scoped>\n",
       "    .dataframe tbody tr th:only-of-type {\n",
       "        vertical-align: middle;\n",
       "    }\n",
       "\n",
       "    .dataframe tbody tr th {\n",
       "        vertical-align: top;\n",
       "    }\n",
       "\n",
       "    .dataframe thead th {\n",
       "        text-align: right;\n",
       "    }\n",
       "</style>\n",
       "<table border=\"1\" class=\"dataframe\">\n",
       "  <thead>\n",
       "    <tr style=\"text-align: right;\">\n",
       "      <th></th>\n",
       "      <th>race</th>\n",
       "      <th>con</th>\n",
       "      <th>predictions</th>\n",
       "    </tr>\n",
       "  </thead>\n",
       "  <tbody>\n",
       "    <tr>\n",
       "      <th>101</th>\n",
       "      <td>0</td>\n",
       "      <td>1</td>\n",
       "      <td>1</td>\n",
       "    </tr>\n",
       "    <tr>\n",
       "      <th>56</th>\n",
       "      <td>0</td>\n",
       "      <td>0</td>\n",
       "      <td>1</td>\n",
       "    </tr>\n",
       "    <tr>\n",
       "      <th>42</th>\n",
       "      <td>1</td>\n",
       "      <td>0</td>\n",
       "      <td>1</td>\n",
       "    </tr>\n",
       "    <tr>\n",
       "      <th>82</th>\n",
       "      <td>1</td>\n",
       "      <td>0</td>\n",
       "      <td>1</td>\n",
       "    </tr>\n",
       "    <tr>\n",
       "      <th>65</th>\n",
       "      <td>0</td>\n",
       "      <td>1</td>\n",
       "      <td>1</td>\n",
       "    </tr>\n",
       "  </tbody>\n",
       "</table>\n",
       "</div>"
      ],
      "text/plain": [
       "     race  con  predictions\n",
       "101     0    1            1\n",
       "56      0    0            1\n",
       "42      1    0            1\n",
       "82      1    0            1\n",
       "65      0    1            1"
      ]
     },
     "execution_count": 17,
     "metadata": {},
     "output_type": "execute_result"
    }
   ],
   "source": [
    "def my_fancy_model(features):\n",
    "    return 1\n",
    "\n",
    "X_train_copy = X_train.copy()\n",
    "X_train_copy['predictions'] = X_train_copy[['con','race']].apply(my_fancy_model, axis=1)\n",
    "X_train_copy.head()"
   ]
  },
  {
   "cell_type": "markdown",
   "id": "8d824eff-4a0d-402c-a06a-1ba52bc10add",
   "metadata": {},
   "source": [
    "Or a model that flips a coin and says \"Yes\" or \"No\" accordingly:"
   ]
  },
  {
   "cell_type": "code",
   "execution_count": 18,
   "id": "ed14b6ba-1419-4114-a22f-589ad1e5d5c7",
   "metadata": {},
   "outputs": [
    {
     "data": {
      "text/html": [
       "<div>\n",
       "<style scoped>\n",
       "    .dataframe tbody tr th:only-of-type {\n",
       "        vertical-align: middle;\n",
       "    }\n",
       "\n",
       "    .dataframe tbody tr th {\n",
       "        vertical-align: top;\n",
       "    }\n",
       "\n",
       "    .dataframe thead th {\n",
       "        text-align: right;\n",
       "    }\n",
       "</style>\n",
       "<table border=\"1\" class=\"dataframe\">\n",
       "  <thead>\n",
       "    <tr style=\"text-align: right;\">\n",
       "      <th></th>\n",
       "      <th>race</th>\n",
       "      <th>con</th>\n",
       "      <th>predictions</th>\n",
       "    </tr>\n",
       "  </thead>\n",
       "  <tbody>\n",
       "    <tr>\n",
       "      <th>101</th>\n",
       "      <td>0</td>\n",
       "      <td>1</td>\n",
       "      <td>1</td>\n",
       "    </tr>\n",
       "    <tr>\n",
       "      <th>56</th>\n",
       "      <td>0</td>\n",
       "      <td>0</td>\n",
       "      <td>0</td>\n",
       "    </tr>\n",
       "    <tr>\n",
       "      <th>42</th>\n",
       "      <td>1</td>\n",
       "      <td>0</td>\n",
       "      <td>0</td>\n",
       "    </tr>\n",
       "    <tr>\n",
       "      <th>82</th>\n",
       "      <td>1</td>\n",
       "      <td>0</td>\n",
       "      <td>0</td>\n",
       "    </tr>\n",
       "    <tr>\n",
       "      <th>65</th>\n",
       "      <td>0</td>\n",
       "      <td>1</td>\n",
       "      <td>0</td>\n",
       "    </tr>\n",
       "  </tbody>\n",
       "</table>\n",
       "</div>"
      ],
      "text/plain": [
       "     race  con  predictions\n",
       "101     0    1            1\n",
       "56      0    0            0\n",
       "42      1    0            0\n",
       "82      1    0            0\n",
       "65      0    1            0"
      ]
     },
     "execution_count": 18,
     "metadata": {},
     "output_type": "execute_result"
    }
   ],
   "source": [
    "def my_even_fancier_model(features):\n",
    "    return np.random.randint(2)\n",
    "\n",
    "X_train_copy = X_train.copy()\n",
    "X_train_copy['predictions'] = X_train_copy[['con','race']].apply(my_even_fancier_model, axis=1)\n",
    "X_train_copy.head()"
   ]
  },
  {
   "cell_type": "markdown",
   "id": "5735c58d-3e31-4f28-a7bd-a84ef3a1a169",
   "metadata": {},
   "source": [
    "If one of these models outperforms your model, then, it's difficult to conceive of your model as \"learning\" anything, if we want that word to retain its meaning!\n",
    "\n",
    "In the case of our model of hiring, however, we know that there are always going to be *idiosyncratic factors* that we can't include, like whether the interviewer has a headache in the interview, whether their favorite sports team won their game earlier that day, etc. So, rather than predicting 0/1 hire/no-hire outcomes, we'll aim to predict the **probability** that a person $i$ with characteristics $X_i = (C_i, R_i)$ ($C_i$ representing their prior conviction status and $R_i$ representing their reported race) is hired.\n",
    "\n",
    "In this setting, the parallel to \"just always guess the most common outcome\" is \"just always guess the overall probability of hiring regardless of individual characteristics\". So, we'll write the simplest possible model in PyMC, which just learns a single parameter $p$, representing the overall probability of an individual $i$ being hired if we **don't observe anything at all about that individual**.\n",
    "\n",
    "In other words, if this baseline model is successful, it should approximately recover the overall probability of hiring that we see in the data, the probability that the label `y` is `1`:"
   ]
  },
  {
   "cell_type": "code",
   "execution_count": 19,
   "id": "5f7f17a6-322f-4c3b-9eea-53fd7e9ed73f",
   "metadata": {},
   "outputs": [
    {
     "data": {
      "text/plain": [
       "sayhire\n",
       "1    0.80292\n",
       "0    0.19708\n",
       "Name: proportion, dtype: float64"
      ]
     },
     "execution_count": 19,
     "metadata": {},
     "output_type": "execute_result"
    }
   ],
   "source": [
    "y_train.value_counts(normalize=True)"
   ]
  },
  {
   "cell_type": "markdown",
   "id": "f239ee5e-cea1-4f3e-bde5-ef905ba77b46",
   "metadata": {},
   "source": [
    "I say \"approximately\" because, keep in mind that we're in Bayesian-modeling world, where we put **priors** on all of the parameters we'd like to learn! So, it will be the result of starting with some **prior distribution** over possible `p_hire` values, then updating this prior distribution to take into account each observed datapoint.\n",
    "\n",
    "Specifically, we'll use a continuous Uniform distribution $p \\sim \\mathcal{U}[0,1]$ as our prior, though from here on out we'll write it in terms of the **Beta distribution** as $p \\sim \\textsf{Beta}(1,1)$ because the two-parameter Beta distribution makes it more clear how this prior is mathematically equivalent to the uncertainty we'd have after observing a **single** \"positive\" ($\\textsf{Hired}$) outcome and a single \"negative\" ($\\textsf{Not Hired}$) outcome: that is, it models the hire vs. no-hire decision (before we get to observe any actual data) as a fair coin flip.\n",
    "\n",
    "***(If this point about the Beta distribution doesn't make sense to you yet, check out the [Writeup](https://jjacobs.me/dsan5650/writeups/priors/) on the course website which walks through Skeptical, Weakly-Informative, and Strongly-Informative Priors!)***"
   ]
  },
  {
   "cell_type": "markdown",
   "id": "46e4a190-56ec-4b2f-9e47-9c319451842d",
   "metadata": {},
   "source": [
    "### [Question 1.2.1] Write and Visualize the Baseline Model"
   ]
  },
  {
   "cell_type": "markdown",
   "id": "cb0a3c98-6b0c-41ab-a7b9-cdd7524a3792",
   "metadata": {},
   "source": [
    "Baseline model time! I was originally going to torture you by making you go through these steps with **two** models---one using a $\\text{Beta}(1,1)$ prior and the other using the (improper) **flat** prior that was discussed briefly in class (the \"frequentist prior\")---but decided against it. Instead, in your free time, you can change your prior on `p_hire` from `pm.Beta()` to `pm.Flat()` to see how it affects the results!\n",
    "\n",
    "> *If you do follow this optional path, a **hint** is that the flat prior should perform better on the **training** data, but the Beta prior should perform better on the **test** data...*\n",
    "> \n",
    "> *And, whether you follow the optional path or not, you should **think about why this is the case!** Because, it's an important lesson in how **the choice of appropriate regularizing priors** is exactly the Bayesian approach to avoiding **overfitting!***\n",
    "\n",
    "Once you've written the model and used the included `pm.model_to_graphviz()` call to visualize it, the result should look as follows:\n",
    "\n",
    "<center>\n",
    "<img src=\"https://raw.githubusercontent.com/jpowerj/dsan-content/e628c12c32570ad88a0345ca223d3fa03100eeca/2025-sum-dsan5650/hw3/baseline_sayhire.svg\" width=\"15%\" />\n",
    "</center>"
   ]
  },
  {
   "cell_type": "code",
   "execution_count": 39,
   "id": "5a51ea23-1a07-4ce8-8894-2f939ac2dc04",
   "metadata": {},
   "outputs": [
    {
     "data": {
      "image/svg+xml": [
       "<?xml version=\"1.0\" encoding=\"UTF-8\" standalone=\"no\"?>\n",
       "<!DOCTYPE svg PUBLIC \"-//W3C//DTD SVG 1.1//EN\"\n",
       " \"http://www.w3.org/Graphics/SVG/1.1/DTD/svg11.dtd\">\n",
       "<!-- Generated by graphviz version 12.2.1 (20241206.2353)\n",
       " -->\n",
       "<!-- Pages: 1 -->\n",
       "<svg width=\"137pt\" height=\"341pt\"\n",
       " viewBox=\"0.00 0.00 137.00 340.63\" xmlns=\"http://www.w3.org/2000/svg\" xmlns:xlink=\"http://www.w3.org/1999/xlink\">\n",
       "<g id=\"graph0\" class=\"graph\" transform=\"scale(1 1) rotate(0) translate(4 336.63)\">\n",
       "<polygon fill=\"white\" stroke=\"none\" points=\"-4,4 -4,-336.63 133,-336.63 133,4 -4,4\"/>\n",
       "<g id=\"clust1\" class=\"cluster\">\n",
       "<title>clusterresponse_id (137)</title>\n",
       "<path fill=\"none\" stroke=\"black\" d=\"M20,-8C20,-8 109,-8 109,-8 115,-8 121,-14 121,-20 121,-20 121,-211.32 121,-211.32 121,-217.32 115,-223.32 109,-223.32 109,-223.32 20,-223.32 20,-223.32 14,-223.32 8,-217.32 8,-211.32 8,-211.32 8,-20 8,-20 8,-14 14,-8 20,-8\"/>\n",
       "<text text-anchor=\"middle\" x=\"64.25\" y=\"-15.2\" font-family=\"Times,serif\" font-size=\"14.00\">response_id (137)</text>\n",
       "</g>\n",
       "<!-- theta -->\n",
       "<g id=\"node1\" class=\"node\">\n",
       "<title>theta</title>\n",
       "<ellipse fill=\"none\" stroke=\"black\" cx=\"64\" cy=\"-291.98\" rx=\"29.88\" ry=\"40.66\"/>\n",
       "<text text-anchor=\"middle\" x=\"64\" y=\"-303.43\" font-family=\"Times,serif\" font-size=\"14.00\">theta</text>\n",
       "<text text-anchor=\"middle\" x=\"64\" y=\"-286.93\" font-family=\"Times,serif\" font-size=\"14.00\">~</text>\n",
       "<text text-anchor=\"middle\" x=\"64\" y=\"-270.43\" font-family=\"Times,serif\" font-size=\"14.00\">Beta</text>\n",
       "</g>\n",
       "<!-- sayhire -->\n",
       "<g id=\"node3\" class=\"node\">\n",
       "<title>sayhire</title>\n",
       "<ellipse fill=\"lightgrey\" stroke=\"black\" cx=\"64\" cy=\"-174.66\" rx=\"47.38\" ry=\"40.66\"/>\n",
       "<text text-anchor=\"middle\" x=\"64\" y=\"-186.11\" font-family=\"Times,serif\" font-size=\"14.00\">sayhire</text>\n",
       "<text text-anchor=\"middle\" x=\"64\" y=\"-169.61\" font-family=\"Times,serif\" font-size=\"14.00\">~</text>\n",
       "<text text-anchor=\"middle\" x=\"64\" y=\"-153.11\" font-family=\"Times,serif\" font-size=\"14.00\">Bernoulli</text>\n",
       "</g>\n",
       "<!-- theta&#45;&gt;sayhire -->\n",
       "<g id=\"edge2\" class=\"edge\">\n",
       "<title>theta&#45;&gt;sayhire</title>\n",
       "<path fill=\"none\" stroke=\"black\" d=\"M64,-250.97C64,-243.19 64,-234.93 64,-226.84\"/>\n",
       "<polygon fill=\"black\" stroke=\"black\" points=\"67.5,-227.11 64,-217.11 60.5,-227.11 67.5,-227.11\"/>\n",
       "</g>\n",
       "<!-- sayhire_obs -->\n",
       "<g id=\"node2\" class=\"node\">\n",
       "<title>sayhire_obs</title>\n",
       "<path fill=\"lightgrey\" stroke=\"black\" d=\"M92.25,-98C92.25,-98 35.75,-98 35.75,-98 29.75,-98 23.75,-92 23.75,-86 23.75,-86 23.75,-52.5 23.75,-52.5 23.75,-46.5 29.75,-40.5 35.75,-40.5 35.75,-40.5 92.25,-40.5 92.25,-40.5 98.25,-40.5 104.25,-46.5 104.25,-52.5 104.25,-52.5 104.25,-86 104.25,-86 104.25,-92 98.25,-98 92.25,-98\"/>\n",
       "<text text-anchor=\"middle\" x=\"64\" y=\"-80.7\" font-family=\"Times,serif\" font-size=\"14.00\">sayhire_obs</text>\n",
       "<text text-anchor=\"middle\" x=\"64\" y=\"-64.2\" font-family=\"Times,serif\" font-size=\"14.00\">~</text>\n",
       "<text text-anchor=\"middle\" x=\"64\" y=\"-47.7\" font-family=\"Times,serif\" font-size=\"14.00\">Data</text>\n",
       "</g>\n",
       "<!-- sayhire&#45;&gt;sayhire_obs -->\n",
       "<g id=\"edge1\" class=\"edge\">\n",
       "<title>sayhire&#45;&gt;sayhire_obs</title>\n",
       "<path fill=\"none\" stroke=\"black\" d=\"M64,-133.68C64,-125.83 64,-117.6 64,-109.76\"/>\n",
       "<polygon fill=\"black\" stroke=\"black\" points=\"67.5,-109.79 64,-99.79 60.5,-109.79 67.5,-109.79\"/>\n",
       "</g>\n",
       "</g>\n",
       "</svg>\n"
      ],
      "text/plain": [
       "<graphviz.graphs.Digraph at 0x324e8f910>"
      ]
     },
     "execution_count": 39,
     "metadata": {},
     "output_type": "execute_result"
    }
   ],
   "source": [
    "# @title Q1.2.1-response\n",
    "train_coords = {\n",
    "    'response_id': X_train.index.values\n",
    "}\n",
    "\n",
    "# Your code here: create a pm.Model object named nofeats_model as described above\n",
    "with pm.Model(coords=train_coords) as nofeats_model:\n",
    "    p_sayhire = pm.Beta(\"theta\", 1, 1)\n",
    "    sayhire_obs = pm.Data(\"sayhire_obs\", y_train, dims=\"response_id\")\n",
    "    sayhire = pm.Bernoulli(\"sayhire\", p = p_sayhire, observed=sayhire_obs, dims=\"response_id\")\n",
    "# Once you've written the model, uncomment this line to visualize it as a PGM\n",
    "pm.model_to_graphviz(nofeats_model)"
   ]
  },
  {
   "cell_type": "code",
   "execution_count": 21,
   "id": "5bcfd9cc-7165-472b-b131-bf50b51b9f09",
   "metadata": {},
   "outputs": [
    {
     "data": {
      "text/plain": [
       "{'nofeats_model defined': '✅ Passed!'}"
      ]
     },
     "execution_count": 21,
     "metadata": {},
     "output_type": "execute_result"
    }
   ],
   "source": [
    "# @title Q1.2.1-public-tests\n",
    "q1_2_1_public_tests = {\n",
    "    'nofeats_model defined': '✅ Passed!' if 'nofeats_model' in globals() else '🔲 No variable named nofeats_model exists in Python memory',\n",
    "}\n",
    "q1_2_1_public_tests"
   ]
  },
  {
   "cell_type": "markdown",
   "id": "03b0b2a8-e66b-4914-857c-4a7bcde6dbd7",
   "metadata": {},
   "source": [
    "### [Question 1.2.2] Parameter RVs vs. Data RVs"
   ]
  },
  {
   "cell_type": "markdown",
   "id": "62687b2e-4dbc-42bd-b829-b83c0a8e7271",
   "metadata": {},
   "source": [
    "This is a somewhat confusing point about Bayesian models that you don't encounter in frequentist settings, so it's good to think about it early and often!\n",
    "\n",
    "Since the Bayesian models we're writing in PyMC are **generative**, and since they're just Python \"encodings\" of **PGMs** (hence the ability to use `pm.model_to_graphviz()`), **every variable in the entire model is (technically) a Random Variable!** Meaning, in the case of our baseline model, all of:\n",
    "\n",
    "* `p_sayhire`,\n",
    "* `sayhire`, and\n",
    "* `sayhire_obs`\n",
    "\n",
    "are actually represented in PyMC's memory as Random Variables. Though this can be confusing at first, it \"unlocks\" some amazing features of Bayesian inference, the main one being (in my mind) that **we get missing-data imputation for free!** Meaning: since every data point is represented as a RV with its own distribution (which you'll see below), the only difference between fitting our model to a dataset $\\mathbf{D}_{1}$ with 30 non-missing observations and another dataset $\\mathbf{D}_2$ with 29 non-missing observations but one missing observation at index $i$ is that **the RV for `data[i]` becomes a *latent* rather than *observed* Random Variable**, and we proceed with inference the exact same in either case 😎\n",
    "\n",
    "The only \"cost\" we incur for this free bonus feature is that we have to be a bit more careful in keeping track of which variables are indeed **parameters** of the model that we're trying to estimate, and which are just (possibly-observed but possibly-missing) \"slots\" for data observations.\n",
    "\n",
    "To this end, your Question 1.3b is, **which of the following are *parameters of the model* that we want to estimate?** (And that we will estimate in the next step, using `pm.sample()`.) ***(Check all that apply, by setting the code cell variable accordingly)***\n",
    "\n",
    "* (a) `p_sayhire`\n",
    "* (b) `sayhire`"
   ]
  },
  {
   "cell_type": "code",
   "execution_count": 22,
   "id": "af5d375b-89e8-416f-9b21-01629dab6f8c",
   "metadata": {},
   "outputs": [],
   "source": [
    "# @title Q1.2.2-response\n",
    "q1_2_2_response = {\n",
    "    'a': True, # Change to True to \"check\" option (a)\n",
    "    'b': False, # Change to True to \"check\" option (b)\n",
    "}"
   ]
  },
  {
   "cell_type": "code",
   "execution_count": 23,
   "id": "236acf1f-7c33-497b-bf24-8dc72750290e",
   "metadata": {},
   "outputs": [
    {
     "data": {
      "text/plain": [
       "{'q1_2_2_response defined': '✅ Passed'}"
      ]
     },
     "execution_count": 23,
     "metadata": {},
     "output_type": "execute_result"
    }
   ],
   "source": [
    "# @title Q1.2.2-public-tests\n",
    "q1_2_2_public_tests = {\n",
    "    'q1_2_2_response defined': '✅ Passed' if 'q1_2_2_response' in globals() else '🔲 No variable named q1_2_2_response exists in Python memory',\n",
    "}\n",
    "q1_2_2_public_tests"
   ]
  },
  {
   "cell_type": "markdown",
   "id": "c5a20963-3b6b-434b-9d84-b38430b20cc4",
   "metadata": {},
   "source": [
    "### [Question 1.2.3] Estimate Model Parameters"
   ]
  },
  {
   "cell_type": "markdown",
   "id": "a6b6a332-bd1f-4f70-88ec-ae000616f56d",
   "metadata": {},
   "source": [
    "Next, use the `pm.sample()` function (making sure to remember `random_seed=5650`!) to draw estimates of the posterior distribution, storing the result in a variable named `nofeats_idata`.\n",
    "\n",
    "If the model has been specified correctly, the included `az.summary()` call should display information (mean, sd, etc.) about the estimated posterior distribution over values of the model's sole parameter (which is a hint for the previous question 😜)"
   ]
  },
  {
   "cell_type": "code",
   "execution_count": 47,
   "id": "4c60de58-147c-4167-96dd-ccfff6df86f7",
   "metadata": {},
   "outputs": [
    {
     "name": "stderr",
     "output_type": "stream",
     "text": [
      "Initializing NUTS using jitter+adapt_diag...\n",
      "Multiprocess sampling (4 chains in 4 jobs)\n",
      "NUTS: [theta]\n"
     ]
    },
    {
     "data": {
      "application/vnd.jupyter.widget-view+json": {
       "model_id": "0395f662fbb64de486649efe4d12b8cd",
       "version_major": 2,
       "version_minor": 0
      },
      "text/plain": [
       "Output()"
      ]
     },
     "metadata": {},
     "output_type": "display_data"
    },
    {
     "data": {
      "text/html": [
       "<pre style=\"white-space:pre;overflow-x:auto;line-height:normal;font-family:Menlo,'DejaVu Sans Mono',consolas,'Courier New',monospace\"></pre>\n"
      ],
      "text/plain": []
     },
     "metadata": {},
     "output_type": "display_data"
    },
    {
     "name": "stderr",
     "output_type": "stream",
     "text": [
      "Sampling 4 chains for 1_000 tune and 1_000 draw iterations (4_000 + 4_000 draws total) took 1 seconds.\n"
     ]
    },
    {
     "data": {
      "text/html": [
       "<div>\n",
       "<style scoped>\n",
       "    .dataframe tbody tr th:only-of-type {\n",
       "        vertical-align: middle;\n",
       "    }\n",
       "\n",
       "    .dataframe tbody tr th {\n",
       "        vertical-align: top;\n",
       "    }\n",
       "\n",
       "    .dataframe thead th {\n",
       "        text-align: right;\n",
       "    }\n",
       "</style>\n",
       "<table border=\"1\" class=\"dataframe\">\n",
       "  <thead>\n",
       "    <tr style=\"text-align: right;\">\n",
       "      <th></th>\n",
       "      <th>mean</th>\n",
       "      <th>sd</th>\n",
       "      <th>hdi_3%</th>\n",
       "      <th>hdi_97%</th>\n",
       "      <th>mcse_mean</th>\n",
       "      <th>mcse_sd</th>\n",
       "      <th>ess_bulk</th>\n",
       "      <th>ess_tail</th>\n",
       "      <th>r_hat</th>\n",
       "    </tr>\n",
       "  </thead>\n",
       "  <tbody>\n",
       "    <tr>\n",
       "      <th>theta</th>\n",
       "      <td>0.797</td>\n",
       "      <td>0.034</td>\n",
       "      <td>0.733</td>\n",
       "      <td>0.858</td>\n",
       "      <td>0.001</td>\n",
       "      <td>0.0</td>\n",
       "      <td>1785.0</td>\n",
       "      <td>2783.0</td>\n",
       "      <td>1.0</td>\n",
       "    </tr>\n",
       "  </tbody>\n",
       "</table>\n",
       "</div>"
      ],
      "text/plain": [
       "        mean     sd  hdi_3%  hdi_97%  mcse_mean  mcse_sd  ess_bulk  ess_tail  \\\n",
       "theta  0.797  0.034   0.733    0.858      0.001      0.0    1785.0    2783.0   \n",
       "\n",
       "       r_hat  \n",
       "theta    1.0  "
      ]
     },
     "execution_count": 47,
     "metadata": {},
     "output_type": "execute_result"
    }
   ],
   "source": [
    "# @title Q1.2.3-response\n",
    "\n",
    "# Your code here: Estimate the posterior distribution of nofeats_model\n",
    "with nofeats_model:\n",
    "    nofeats_idata = pm.sample(random_seed=5650)\n",
    "# Once you've stored the posterior inference data in nofeats_idata, uncomment\n",
    "# the following line to display a summary of the inferred p_hire distribution\n",
    "az.summary(nofeats_idata)"
   ]
  },
  {
   "cell_type": "code",
   "execution_count": 25,
   "id": "a7b8d713-1062-4240-8ba9-29ff1fc37896",
   "metadata": {},
   "outputs": [
    {
     "data": {
      "text/plain": [
       "{'nofeats_idata defined': '✅ Passed!'}"
      ]
     },
     "execution_count": 25,
     "metadata": {},
     "output_type": "execute_result"
    }
   ],
   "source": [
    "# @title Q1.2.3-public-tests\n",
    "q1_2_3_public_tests = {\n",
    "    'nofeats_idata defined': '✅ Passed!' if 'nofeats_idata' in globals() else \"🔲 No variable named 'nofeats_idata' exists in Python memory\",\n",
    "}\n",
    "q1_2_3_public_tests"
   ]
  },
  {
   "cell_type": "markdown",
   "id": "4de904fb-6e4b-4eb1-9470-724cbfce875c",
   "metadata": {},
   "source": [
    "### [Question 1.2.4] Extract Posterior Predictive Distribution for Training Data"
   ]
  },
  {
   "cell_type": "markdown",
   "id": "b3e0336e-5ee7-476d-92a6-cb2ec36fad5b",
   "metadata": {},
   "source": [
    "Now for the whole reason we split the data into training and test sets! Though we **really** care about the predictive performance on unseen test data, here before we get to that let's use the `pm.sample_posterior_predictive()` function to generate the estimated distributions over **outcomes**. So, in this case, this will actually be 137 different distributions over possible values of `sayhire`, one for each row in the training data.\n",
    "\n",
    "In the following code cell, use `pm.sample_posterior_predictive()` to draw these estimates, making sure to include `random_seed=5650`. The included `az.summary()` call will then display a table summarizing the distributions over possible `sayhire` values for each observation in the training data."
   ]
  },
  {
   "cell_type": "code",
   "execution_count": 48,
   "id": "1ad67b4c-7ca3-4dd3-bd1c-986cee4a8248",
   "metadata": {},
   "outputs": [
    {
     "name": "stderr",
     "output_type": "stream",
     "text": [
      "Sampling: [sayhire]\n"
     ]
    },
    {
     "data": {
      "application/vnd.jupyter.widget-view+json": {
       "model_id": "5e6525e0e65247fe8390be03a2057083",
       "version_major": 2,
       "version_minor": 0
      },
      "text/plain": [
       "Output()"
      ]
     },
     "metadata": {},
     "output_type": "display_data"
    },
    {
     "data": {
      "text/html": [
       "<pre style=\"white-space:pre;overflow-x:auto;line-height:normal;font-family:Menlo,'DejaVu Sans Mono',consolas,'Courier New',monospace\"></pre>\n"
      ],
      "text/plain": []
     },
     "metadata": {},
     "output_type": "display_data"
    },
    {
     "data": {
      "text/html": [
       "<div>\n",
       "<style scoped>\n",
       "    .dataframe tbody tr th:only-of-type {\n",
       "        vertical-align: middle;\n",
       "    }\n",
       "\n",
       "    .dataframe tbody tr th {\n",
       "        vertical-align: top;\n",
       "    }\n",
       "\n",
       "    .dataframe thead th {\n",
       "        text-align: right;\n",
       "    }\n",
       "</style>\n",
       "<table border=\"1\" class=\"dataframe\">\n",
       "  <thead>\n",
       "    <tr style=\"text-align: right;\">\n",
       "      <th></th>\n",
       "      <th>mean</th>\n",
       "      <th>sd</th>\n",
       "      <th>hdi_3%</th>\n",
       "      <th>hdi_97%</th>\n",
       "      <th>mcse_mean</th>\n",
       "      <th>mcse_sd</th>\n",
       "      <th>ess_bulk</th>\n",
       "      <th>ess_tail</th>\n",
       "      <th>r_hat</th>\n",
       "    </tr>\n",
       "  </thead>\n",
       "  <tbody>\n",
       "    <tr>\n",
       "      <th>sayhire[101]</th>\n",
       "      <td>0.792</td>\n",
       "      <td>0.406</td>\n",
       "      <td>0.0</td>\n",
       "      <td>1.0</td>\n",
       "      <td>0.007</td>\n",
       "      <td>0.005</td>\n",
       "      <td>3790.0</td>\n",
       "      <td>3790.0</td>\n",
       "      <td>1.0</td>\n",
       "    </tr>\n",
       "    <tr>\n",
       "      <th>sayhire[56]</th>\n",
       "      <td>0.794</td>\n",
       "      <td>0.405</td>\n",
       "      <td>0.0</td>\n",
       "      <td>1.0</td>\n",
       "      <td>0.007</td>\n",
       "      <td>0.005</td>\n",
       "      <td>3732.0</td>\n",
       "      <td>3732.0</td>\n",
       "      <td>1.0</td>\n",
       "    </tr>\n",
       "    <tr>\n",
       "      <th>sayhire[42]</th>\n",
       "      <td>0.803</td>\n",
       "      <td>0.398</td>\n",
       "      <td>0.0</td>\n",
       "      <td>1.0</td>\n",
       "      <td>0.006</td>\n",
       "      <td>0.005</td>\n",
       "      <td>3862.0</td>\n",
       "      <td>3862.0</td>\n",
       "      <td>1.0</td>\n",
       "    </tr>\n",
       "    <tr>\n",
       "      <th>sayhire[82]</th>\n",
       "      <td>0.806</td>\n",
       "      <td>0.396</td>\n",
       "      <td>0.0</td>\n",
       "      <td>1.0</td>\n",
       "      <td>0.007</td>\n",
       "      <td>0.005</td>\n",
       "      <td>3699.0</td>\n",
       "      <td>3699.0</td>\n",
       "      <td>1.0</td>\n",
       "    </tr>\n",
       "    <tr>\n",
       "      <th>sayhire[65]</th>\n",
       "      <td>0.803</td>\n",
       "      <td>0.398</td>\n",
       "      <td>0.0</td>\n",
       "      <td>1.0</td>\n",
       "      <td>0.006</td>\n",
       "      <td>0.005</td>\n",
       "      <td>3755.0</td>\n",
       "      <td>3755.0</td>\n",
       "      <td>1.0</td>\n",
       "    </tr>\n",
       "    <tr>\n",
       "      <th>...</th>\n",
       "      <td>...</td>\n",
       "      <td>...</td>\n",
       "      <td>...</td>\n",
       "      <td>...</td>\n",
       "      <td>...</td>\n",
       "      <td>...</td>\n",
       "      <td>...</td>\n",
       "      <td>...</td>\n",
       "      <td>...</td>\n",
       "    </tr>\n",
       "    <tr>\n",
       "      <th>sayhire[71]</th>\n",
       "      <td>0.807</td>\n",
       "      <td>0.395</td>\n",
       "      <td>0.0</td>\n",
       "      <td>1.0</td>\n",
       "      <td>0.006</td>\n",
       "      <td>0.005</td>\n",
       "      <td>3893.0</td>\n",
       "      <td>3893.0</td>\n",
       "      <td>1.0</td>\n",
       "    </tr>\n",
       "    <tr>\n",
       "      <th>sayhire[106]</th>\n",
       "      <td>0.797</td>\n",
       "      <td>0.402</td>\n",
       "      <td>0.0</td>\n",
       "      <td>1.0</td>\n",
       "      <td>0.007</td>\n",
       "      <td>0.005</td>\n",
       "      <td>3767.0</td>\n",
       "      <td>3767.0</td>\n",
       "      <td>1.0</td>\n",
       "    </tr>\n",
       "    <tr>\n",
       "      <th>sayhire[14]</th>\n",
       "      <td>0.801</td>\n",
       "      <td>0.399</td>\n",
       "      <td>0.0</td>\n",
       "      <td>1.0</td>\n",
       "      <td>0.006</td>\n",
       "      <td>0.005</td>\n",
       "      <td>3962.0</td>\n",
       "      <td>3962.0</td>\n",
       "      <td>1.0</td>\n",
       "    </tr>\n",
       "    <tr>\n",
       "      <th>sayhire[92]</th>\n",
       "      <td>0.799</td>\n",
       "      <td>0.401</td>\n",
       "      <td>0.0</td>\n",
       "      <td>1.0</td>\n",
       "      <td>0.006</td>\n",
       "      <td>0.005</td>\n",
       "      <td>3817.0</td>\n",
       "      <td>3817.0</td>\n",
       "      <td>1.0</td>\n",
       "    </tr>\n",
       "    <tr>\n",
       "      <th>sayhire[102]</th>\n",
       "      <td>0.795</td>\n",
       "      <td>0.404</td>\n",
       "      <td>0.0</td>\n",
       "      <td>1.0</td>\n",
       "      <td>0.007</td>\n",
       "      <td>0.005</td>\n",
       "      <td>3754.0</td>\n",
       "      <td>3754.0</td>\n",
       "      <td>1.0</td>\n",
       "    </tr>\n",
       "  </tbody>\n",
       "</table>\n",
       "<p>137 rows × 9 columns</p>\n",
       "</div>"
      ],
      "text/plain": [
       "               mean     sd  hdi_3%  hdi_97%  mcse_mean  mcse_sd  ess_bulk  \\\n",
       "sayhire[101]  0.792  0.406     0.0      1.0      0.007    0.005    3790.0   \n",
       "sayhire[56]   0.794  0.405     0.0      1.0      0.007    0.005    3732.0   \n",
       "sayhire[42]   0.803  0.398     0.0      1.0      0.006    0.005    3862.0   \n",
       "sayhire[82]   0.806  0.396     0.0      1.0      0.007    0.005    3699.0   \n",
       "sayhire[65]   0.803  0.398     0.0      1.0      0.006    0.005    3755.0   \n",
       "...             ...    ...     ...      ...        ...      ...       ...   \n",
       "sayhire[71]   0.807  0.395     0.0      1.0      0.006    0.005    3893.0   \n",
       "sayhire[106]  0.797  0.402     0.0      1.0      0.007    0.005    3767.0   \n",
       "sayhire[14]   0.801  0.399     0.0      1.0      0.006    0.005    3962.0   \n",
       "sayhire[92]   0.799  0.401     0.0      1.0      0.006    0.005    3817.0   \n",
       "sayhire[102]  0.795  0.404     0.0      1.0      0.007    0.005    3754.0   \n",
       "\n",
       "              ess_tail  r_hat  \n",
       "sayhire[101]    3790.0    1.0  \n",
       "sayhire[56]     3732.0    1.0  \n",
       "sayhire[42]     3862.0    1.0  \n",
       "sayhire[82]     3699.0    1.0  \n",
       "sayhire[65]     3755.0    1.0  \n",
       "...                ...    ...  \n",
       "sayhire[71]     3893.0    1.0  \n",
       "sayhire[106]    3767.0    1.0  \n",
       "sayhire[14]     3962.0    1.0  \n",
       "sayhire[92]     3817.0    1.0  \n",
       "sayhire[102]    3754.0    1.0  \n",
       "\n",
       "[137 rows x 9 columns]"
      ]
     },
     "execution_count": 48,
     "metadata": {},
     "output_type": "execute_result"
    }
   ],
   "source": [
    "# @title Q1.2.4-response\n",
    "\n",
    "# Your code here: extract posterior predictive distribution for nofeats_idata\n",
    "with nofeats_model:\n",
    "    nofeats_postpred_idata = pm.sample_posterior_predictive(nofeats_idata, random_seed=5650)\n",
    "# Once you've drawn estimates from the posterior predictive distribution, and stored the\n",
    "# results in a variable named nofeats_postpred_idata, uncomment the following line to\n",
    "# generate a table of results!\n",
    "\n",
    "az.summary(nofeats_postpred_idata)"
   ]
  },
  {
   "cell_type": "code",
   "execution_count": 27,
   "id": "8f35a73b-8b9f-4ca2-a5ec-0261865696cb",
   "metadata": {},
   "outputs": [
    {
     "data": {
      "text/plain": [
       "{'nofeats_postpred_idata defined': '✅ Passed!'}"
      ]
     },
     "execution_count": 27,
     "metadata": {},
     "output_type": "execute_result"
    }
   ],
   "source": [
    "# @title Q1.2.4-public-tests\n",
    "q1_2_4_public_tests = {\n",
    "    'nofeats_postpred_idata defined': '✅ Passed!' if 'nofeats_postpred_idata' in globals() else \"🔲 No variable named 'nofeats_postpred_idata' exists in Python memory\",\n",
    "}\n",
    "q1_2_4_public_tests"
   ]
  },
  {
   "cell_type": "markdown",
   "id": "8b441f0a-6f6c-4120-8a5f-c833db9ab6bd",
   "metadata": {},
   "source": [
    "### [Question 1.2.5] Evaluate Predictive Performance on Training Data"
   ]
  },
  {
   "cell_type": "markdown",
   "id": "f0e3616c-9d9c-47a9-a8bd-8fb32d2821ce",
   "metadata": {},
   "source": [
    "One of the more confusing aspects of Bayesian modeling at first, admittedly, is that from frequentist-stats world we're used to obtaining **point estimates** of things, and then maybe **standard errors** describing our uncertainty about these point estimates... In Bayes world, model results are **not** point estimates of things, but entire **distributions** over possible values of the things! Therefore, as mentioned above, rather than 137 estimates of `sayhire` values (which would be either `0` or `1`), we have **4000 draws** from the posterior distribution of each survey's `sayhire` value: 4 Markov chains, each of which produces 1000 estimates.\n",
    "\n",
    "There is a ton of cool stuff that this having-a-distribution-rather-than-a-point-estimate unlocks for us, so it's actually a shame to collapse it all back down into point estimates 😭. But, to be able to evaluate its predictive performance as a probabilistic classifier of `sayhire` values, we'll do this collapsing: in the following cell, compute the **mean** over all 4000 draws of `sayhire` for each `response_id` in the dataset, so that you end up with just a **vector** of 137 means with the name `nofeats_train_means`. (Note that, you can transform the vector into a Pandas `Series` object, as I've done in class, or you can just keep it in PyMC's default `xarray` format; either one will work with the provided `plot_roc()` function).\n",
    "\n",
    "Once your `nofeats_train_means` vector of \"predicted scores\" is ready, the provided code at the end of the cell includes a `plot_roc()` function that we'll use from here on out to compare these predictions with the **observed** `sayhire` values in the training data. The function displays the ROC curve visually, then returns the numeric AUC metric value. Since this is just the **training** performance, we don't save it anywhere, but the fact that `plot_roc()` returns the AUC value will be important when we compute the **test** performance in the next step!"
   ]
  },
  {
   "cell_type": "code",
   "execution_count": 49,
   "id": "1f6eabd8",
   "metadata": {},
   "outputs": [
    {
     "data": {
      "image/png": "[encoded data removed]",
      "text/plain": [
       "<Figure size 100x100 with 2 Axes>"
      ]
     },
     "metadata": {},
     "output_type": "display_data"
    },
    {
     "data": {
      "text/plain": [
       "0.5797979797979798"
      ]
     },
     "execution_count": 49,
     "metadata": {},
     "output_type": "execute_result"
    }
   ],
   "source": [
    "# @title Q1.2.5-response\n",
    "\n",
    "# Your code here: derive mean values for each of the posterior predictive distributions\n",
    "# (one per observation in the training data)\n",
    "nofeats_train_means = nofeats_postpred_idata.posterior_predictive['sayhire'].mean(dim=['chain','draw'])\n",
    "# Provided plot_roc() function: Please use this function to visualize the ROC curve for the scores in\n",
    "# nofeats_train_means, so that the autograder can evaluate your responses appropriately!\n",
    "from sklearn.metrics import RocCurveDisplay, auc, roc_curve\n",
    "def plot_roc(true_labels, pred_p_hire, plot_title=\"ROC Curve\"):\n",
    "    ax = pw.Brick(figsize=(3, 3))\n",
    "    model_fpr, model_tpr, model_thresholds = roc_curve(\n",
    "        y_true=true_labels, y_score=pred_p_hire, pos_label=1, drop_intermediate=True\n",
    "    )\n",
    "    model_auc = auc(model_fpr, model_tpr)\n",
    "    roc_display = RocCurveDisplay(fpr=model_fpr, tpr=model_tpr, roc_auc=model_auc)\n",
    "    roc_display = roc_display.plot(ax=ax, marker=\"o\", markersize=2, plot_chance_level=True)\n",
    "    ax.set_title(plot_title);\n",
    "    ax.legend(fontsize=10);\n",
    "    display(ax.savefig())\n",
    "    return model_auc\n",
    "plot_roc(y_train, nofeats_train_means, \"Training ROC: No Features\")"
   ]
  },
  {
   "cell_type": "code",
   "execution_count": 29,
   "id": "a9371587-d47c-4b4a-ab84-0a3ed949febf",
   "metadata": {},
   "outputs": [
    {
     "data": {
      "text/plain": [
       "{'nofeats_train_means defined': '✅ Passed!'}"
      ]
     },
     "execution_count": 29,
     "metadata": {},
     "output_type": "execute_result"
    }
   ],
   "source": [
    "# @title Q1.2.5-public-tests\n",
    "q1_2_5_public_tests = {\n",
    "    'nofeats_train_means defined': '✅ Passed!' if 'nofeats_train_means' in globals() else \"🔲 No variable named 'nofeats_train_means' exists in Python memory\",\n",
    "}\n",
    "q1_2_5_public_tests"
   ]
  },
  {
   "cell_type": "markdown",
   "id": "24463ff7-0f97-49d2-bc2b-1d57008d696b",
   "metadata": {},
   "source": [
    "You should see a Training ROC curve that is... as bad as random-chance, and in fact a bit be worse (due to the noise we've introduced by estimating `p_sayhire` *then* drawing a bunch of Bernoulli-distributed `sayhire` values from it). But that's ok! This is the **baseline** model, where we haven't learned anything besides the overall probability of `sayhire`. Let's see how it performs on the **test** data before moving on to introduce actual **features** of the survey vignettes (the Chads...)"
   ]
  },
  {
   "cell_type": "markdown",
   "id": "7765bda1-4b22-4d13-8078-99eb40690b7c",
   "metadata": {},
   "source": [
    "### [Question 1.2.6] Evaluate Predictive Performance on Test Data"
   ]
  },
  {
   "cell_type": "markdown",
   "id": "dec4b824-0dae-4722-abcb-f782369cb014",
   "metadata": {},
   "source": [
    "One thing to note, before we dive into evaluating our model's performance on the **test** data, is that because of the stochastic split of the data into training and test sets, we expect the test set to have slightly different statistical properties from the training set! The theoretical point of the train-test split is to simulate **two** random draws from a larger population, with the training \"draw\" being 4 times larger than the test \"draw\".\n",
    "\n",
    "So, run the following two code cells to see this in action:"
   ]
  },
  {
   "cell_type": "code",
   "execution_count": 50,
   "id": "3e5a1edb-6685-441a-8c28-d8bd87d97c9f",
   "metadata": {},
   "outputs": [
    {
     "data": {
      "text/plain": [
       "sayhire\n",
       "1    0.80292\n",
       "0    0.19708\n",
       "Name: proportion, dtype: float64"
      ]
     },
     "execution_count": 50,
     "metadata": {},
     "output_type": "execute_result"
    }
   ],
   "source": [
    "y_train.value_counts(normalize=True)"
   ]
  },
  {
   "cell_type": "code",
   "execution_count": 51,
   "id": "32772e74-7541-4d4f-a2b5-fa09dae4ead8",
   "metadata": {},
   "outputs": [
    {
     "data": {
      "text/plain": [
       "sayhire\n",
       "1    0.828571\n",
       "0    0.171429\n",
       "Name: proportion, dtype: float64"
      ]
     },
     "execution_count": 51,
     "metadata": {},
     "output_type": "execute_result"
    }
   ],
   "source": [
    "y_test.value_counts(normalize=True)"
   ]
  },
  {
   "cell_type": "markdown",
   "id": "a469bac3-3f45-42ad-8f14-ad8bac183080",
   "metadata": {},
   "source": [
    "You should see that the proportion of test observations with a `sayhire` value of `1` is slightly **lower** than the proportion of training observations with a `sayhire` value of `1`. So, to the degree that our model has fallen prey to **overfitting**, e.g. to the degree that it has just tried to **\"memorize\"** the training data rather than trying to **generalize** from it to the population it was drawn from, our **test** performance will be worse. (Which again, is the point of the priors in Bayesian data analysis!) This doesn't matter so much for our baseline model, since its just to check whether our \"real\" models are improving upon this baseline, but it's good to keep this in mind now as we move forward!\n",
    "\n",
    "In the following code cell, you'll need to do something you didn't have to do for the training data evaluation. You'll need to:\n",
    "\n",
    "1.  **Update the data** in `nofeats_model` so that it now has the **test** features as its observations (which will also require providing a new `coords` value, as the second argument to `pm.set_data()`, corresponding to the `response_id` values in the **test** data. Then, once the model's observed data has been updated,\n",
    "2.  **Re-estimate** the posterior predictive distribution using `pm.sample_posterior_predictive()`, remembering to include `random_seed=5650`, and store the **35 newly-generated `sayhire` distributions** (one per label in `y_test`) in a variable named `nofeats_test_idata`.\n",
    "\n",
    "Note that you should **not re-run `pm.sample()`** to generate these test predictions! In fact, if you do, it will just re-estimate the entire model (with the test data now just becoming the new training data), so that you will no longer be evaluating the model's **generalizability** to unseen data!\n",
    "\n",
    "Since this `set_data()` $\\rightarrow$ `pm.sample_posterior_predictive()` approach can be a bit daunting, we've made your lives a bit easier by just providing the code for extracting `sayhire` means and plotting the ROC curve. So, just focus on generating the posterior predictive distribution over the **test** data!"
   ]
  },
  {
   "cell_type": "code",
   "execution_count": 53,
   "id": "04427d62-e74c-499b-9092-478e36ae0722",
   "metadata": {},
   "outputs": [
    {
     "name": "stderr",
     "output_type": "stream",
     "text": [
      "Sampling: [sayhire]\n"
     ]
    },
    {
     "data": {
      "application/vnd.jupyter.widget-view+json": {
       "model_id": "bb91bc45a497454587dd87fe60292245",
       "version_major": 2,
       "version_minor": 0
      },
      "text/plain": [
       "Output()"
      ]
     },
     "metadata": {},
     "output_type": "display_data"
    },
    {
     "data": {
      "text/html": [
       "<pre style=\"white-space:pre;overflow-x:auto;line-height:normal;font-family:Menlo,'DejaVu Sans Mono',consolas,'Courier New',monospace\"></pre>\n"
      ],
      "text/plain": []
     },
     "metadata": {},
     "output_type": "display_data"
    },
    {
     "name": "stdout",
     "output_type": "stream",
     "text": [
      "[0.788   0.79475 0.807   0.7945  0.7975  0.7935  0.7915  0.793   0.8015\n",
      " 0.7985  0.8115  0.7985  0.79575 0.80525 0.8025  0.7985  0.80675 0.80325\n",
      " 0.80125 0.79225 0.80525 0.809   0.79025 0.798   0.79875 0.795   0.79975\n",
      " 0.798   0.79875 0.797   0.7975  0.7925  0.796   0.78475 0.8065 ]\n"
     ]
    },
    {
     "data": {
      "image/png": "[encoded data removed]",
      "text/plain": [
       "<Figure size 100x100 with 2 Axes>"
      ]
     },
     "metadata": {},
     "output_type": "display_data"
    },
    {
     "data": {
      "text/plain": [
       "OrderedDict([('nofeats', 0.6580459770114943)])"
      ]
     },
     "execution_count": 53,
     "metadata": {},
     "output_type": "execute_result"
    }
   ],
   "source": [
    "# @title Q1.2.6-response\n",
    "\n",
    "# Your code here: update the data in nofeats_model to be the *test* features,\n",
    "# and then re-estimate the posterior predictive distribution conditional on\n",
    "# this test data\n",
    "test_coords = {\n",
    "    'response_id': X_test.index.values\n",
    "}\n",
    "with nofeats_model:\n",
    "    pm.set_data({\"sayhire_obs\": y_test}, coords=test_coords)\n",
    "with nofeats_model:\n",
    "    nofeats_test_idata = pm.sample_posterior_predictive(nofeats_idata, random_seed=5650)\n",
    "\n",
    "# Provided code step 1: Extract means of sayhire values from the posterior predictive\n",
    "# distribution given test data\n",
    "nofeats_test_meanhired = nofeats_test_idata.posterior_predictive['sayhire'].mean(dim=['chain','draw'])\n",
    "print(nofeats_test_meanhired.values)\n",
    "# Provided code step 2: Plot Test ROC curve\n",
    "nofeats_auc = plot_roc(y_test, nofeats_test_meanhired.values, \"Test ROC: No Features\")\n",
    "# Provided code step 3: Store the resulting AUC value in surv_model_aucs, and display the set of\n",
    "# AUCs we've computed thus far\n",
    "survey_model_aucs['nofeats'] = nofeats_auc\n",
    "survey_model_aucs"
   ]
  },
  {
   "cell_type": "code",
   "execution_count": 61,
   "id": "2240a805-504b-403c-8ad5-05fb9bf5eb3f",
   "metadata": {},
   "outputs": [
    {
     "data": {
      "text/plain": [
       "{'nofeats_test_idata defined': '✅ Passed!'}"
      ]
     },
     "execution_count": 61,
     "metadata": {},
     "output_type": "execute_result"
    }
   ],
   "source": [
    "# @title Q1.2.6-public-tests\n",
    "q1_2_6_public_tests = {\n",
    "    'nofeats_test_idata defined': '✅ Passed!' if 'nofeats_test_idata' in globals() else \"🔲 No variable named 'nofeats_test_idata' exists in Python memory\",\n",
    "}\n",
    "q1_2_6_public_tests"
   ]
  },
  {
   "cell_type": "markdown",
   "id": "d741ae12-f9d1-40dd-bf57-f056b91f26e3",
   "metadata": {},
   "source": [
    "You should see even-worse performance than in the training-data case, which is still ok because it's a baseline model! (And, if I wanted to be annoying, I'd ask you to go back up now and replace the `pm.Beta()` prior with a `pm.Flat()` prior, to see how the test performance becomes even worse!)"
   ]
  },
  {
   "cell_type": "markdown",
   "id": "53ef3bf1-c57a-4879-8085-6e341d03f226",
   "metadata": {},
   "source": [
    "## [Part 1.3] Model with Conviction Status Only"
   ]
  },
  {
   "cell_type": "markdown",
   "id": "d88468f3-beb2-4ae3-885e-252fc461910c",
   "metadata": {},
   "source": [
    "Thank you for trooping through the baseline model. Now for the more stimulating part, where you actually get to use machine learning to learn things!"
   ]
  },
  {
   "cell_type": "markdown",
   "id": "c2f61794-e8b1-413e-82bd-d3f9cae36045",
   "metadata": {},
   "source": [
    "### [Question 1.3.1] Write and Visualize the Conviction-Only Model"
   ]
  },
  {
   "cell_type": "markdown",
   "id": "8ad2c749-557f-4b44-8c6b-eb7fefe5288f",
   "metadata": {},
   "source": [
    "The logic for the conviction-status-only model will be similar to models from class and HW2, where instead of a single `p_sayhire` parameter you'll now have:\n",
    "\n",
    "* A parameter `p_sayhire_nocon` representing the probability that the employer says they are \"likely\" to hire Chad in the vignette where Chad does not have a prior drug conviction, and\n",
    "* A separate parameter `p_sayhire_con` for the case where vignette-Chad *does* have a prior drug conviction.\n",
    "\n",
    "Then, the outcome `sayhire` will be modeled as a Bernoulli random variable, whose `p` parameter is drawn from the appropriate `p_sayhire` parameter among these two options (you should use PyMC's `pm.math.switch()` function to achieve this!)\n",
    "\n",
    "As with the previous model, the `pm.model_to_graphviz()` call provided at the end of the code cell should be used to check that your model matches the above description. Once the model is set up correctly it should look like the following:\n",
    "\n",
    "<center>\n",
    "<img src=\"https://raw.githubusercontent.com/jpowerj/dsan-content/b108a8d0f8616935c7f88ebd262ad412ee55e4ba/2025-sum-dsan5650/hw3/sayhire_cononly.svg\" width=\"50%\" />\n",
    "</center>"
   ]
  },
  {
   "cell_type": "code",
   "execution_count": 54,
   "id": "93e9c894-7b4d-460a-89cc-ef3531e276ac",
   "metadata": {},
   "outputs": [
    {
     "data": {
      "image/svg+xml": [
       "<?xml version=\"1.0\" encoding=\"UTF-8\" standalone=\"no\"?>\n",
       "<!DOCTYPE svg PUBLIC \"-//W3C//DTD SVG 1.1//EN\"\n",
       " \"http://www.w3.org/Graphics/SVG/1.1/DTD/svg11.dtd\">\n",
       "<!-- Generated by graphviz version 12.2.1 (20241206.2353)\n",
       " -->\n",
       "<!-- Pages: 1 -->\n",
       "<svg width=\"451pt\" height=\"345pt\"\n",
       " viewBox=\"0.00 0.00 451.32 344.73\" xmlns=\"http://www.w3.org/2000/svg\" xmlns:xlink=\"http://www.w3.org/1999/xlink\">\n",
       "<g id=\"graph0\" class=\"graph\" transform=\"scale(1 1) rotate(0) translate(4 340.73)\">\n",
       "<polygon fill=\"white\" stroke=\"none\" points=\"-4,4 -4,-340.73 447.32,-340.73 447.32,4 -4,4\"/>\n",
       "<g id=\"clust1\" class=\"cluster\">\n",
       "<title>clusterresponse_id (137)</title>\n",
       "<path fill=\"none\" stroke=\"black\" d=\"M20,-8C20,-8 109,-8 109,-8 115,-8 121,-14 121,-20 121,-20 121,-316.73 121,-316.73 121,-322.73 115,-328.73 109,-328.73 109,-328.73 20,-328.73 20,-328.73 14,-328.73 8,-322.73 8,-316.73 8,-316.73 8,-20 8,-20 8,-14 14,-8 20,-8\"/>\n",
       "<text text-anchor=\"middle\" x=\"64.25\" y=\"-15.2\" font-family=\"Times,serif\" font-size=\"14.00\">response_id (137)</text>\n",
       "</g>\n",
       "<!-- con_obs -->\n",
       "<g id=\"node1\" class=\"node\">\n",
       "<title>con_obs</title>\n",
       "<path fill=\"lightgrey\" stroke=\"black\" d=\"M84.5,-320.73C84.5,-320.73 47.5,-320.73 47.5,-320.73 41.5,-320.73 35.5,-314.73 35.5,-308.73 35.5,-308.73 35.5,-275.23 35.5,-275.23 35.5,-269.23 41.5,-263.23 47.5,-263.23 47.5,-263.23 84.5,-263.23 84.5,-263.23 90.5,-263.23 96.5,-269.23 96.5,-275.23 96.5,-275.23 96.5,-308.73 96.5,-308.73 96.5,-314.73 90.5,-320.73 84.5,-320.73\"/>\n",
       "<text text-anchor=\"middle\" x=\"66\" y=\"-303.43\" font-family=\"Times,serif\" font-size=\"14.00\">con_obs</text>\n",
       "<text text-anchor=\"middle\" x=\"66\" y=\"-286.93\" font-family=\"Times,serif\" font-size=\"14.00\">~</text>\n",
       "<text text-anchor=\"middle\" x=\"66\" y=\"-270.43\" font-family=\"Times,serif\" font-size=\"14.00\">Data</text>\n",
       "</g>\n",
       "<!-- sayhire -->\n",
       "<g id=\"node3\" class=\"node\">\n",
       "<title>sayhire</title>\n",
       "<ellipse fill=\"lightgrey\" stroke=\"black\" cx=\"66\" cy=\"-174.66\" rx=\"47.38\" ry=\"40.66\"/>\n",
       "<text text-anchor=\"middle\" x=\"66\" y=\"-186.11\" font-family=\"Times,serif\" font-size=\"14.00\">sayhire</text>\n",
       "<text text-anchor=\"middle\" x=\"66\" y=\"-169.61\" font-family=\"Times,serif\" font-size=\"14.00\">~</text>\n",
       "<text text-anchor=\"middle\" x=\"66\" y=\"-153.11\" font-family=\"Times,serif\" font-size=\"14.00\">Bernoulli</text>\n",
       "</g>\n",
       "<!-- con_obs&#45;&gt;sayhire -->\n",
       "<g id=\"edge2\" class=\"edge\">\n",
       "<title>con_obs&#45;&gt;sayhire</title>\n",
       "<path fill=\"none\" stroke=\"black\" d=\"M66,-262.77C66,-251.94 66,-239.23 66,-226.91\"/>\n",
       "<polygon fill=\"black\" stroke=\"black\" points=\"69.5,-227.28 66,-217.28 62.5,-227.28 69.5,-227.28\"/>\n",
       "</g>\n",
       "<!-- sayhire_obs -->\n",
       "<g id=\"node2\" class=\"node\">\n",
       "<title>sayhire_obs</title>\n",
       "<path fill=\"lightgrey\" stroke=\"black\" d=\"M94.25,-98C94.25,-98 37.75,-98 37.75,-98 31.75,-98 25.75,-92 25.75,-86 25.75,-86 25.75,-52.5 25.75,-52.5 25.75,-46.5 31.75,-40.5 37.75,-40.5 37.75,-40.5 94.25,-40.5 94.25,-40.5 100.25,-40.5 106.25,-46.5 106.25,-52.5 106.25,-52.5 106.25,-86 106.25,-86 106.25,-92 100.25,-98 94.25,-98\"/>\n",
       "<text text-anchor=\"middle\" x=\"66\" y=\"-80.7\" font-family=\"Times,serif\" font-size=\"14.00\">sayhire_obs</text>\n",
       "<text text-anchor=\"middle\" x=\"66\" y=\"-64.2\" font-family=\"Times,serif\" font-size=\"14.00\">~</text>\n",
       "<text text-anchor=\"middle\" x=\"66\" y=\"-47.7\" font-family=\"Times,serif\" font-size=\"14.00\">Data</text>\n",
       "</g>\n",
       "<!-- sayhire&#45;&gt;sayhire_obs -->\n",
       "<g id=\"edge1\" class=\"edge\">\n",
       "<title>sayhire&#45;&gt;sayhire_obs</title>\n",
       "<path fill=\"none\" stroke=\"black\" d=\"M66,-133.68C66,-125.83 66,-117.6 66,-109.76\"/>\n",
       "<polygon fill=\"black\" stroke=\"black\" points=\"69.5,-109.79 66,-99.79 62.5,-109.79 69.5,-109.79\"/>\n",
       "</g>\n",
       "<!-- p_sayhire_con -->\n",
       "<g id=\"node4\" class=\"node\">\n",
       "<title>p_sayhire_con</title>\n",
       "<ellipse fill=\"none\" stroke=\"black\" cx=\"196\" cy=\"-291.98\" rx=\"67\" ry=\"40.66\"/>\n",
       "<text text-anchor=\"middle\" x=\"196\" y=\"-303.43\" font-family=\"Times,serif\" font-size=\"14.00\">p_sayhire_con</text>\n",
       "<text text-anchor=\"middle\" x=\"196\" y=\"-286.93\" font-family=\"Times,serif\" font-size=\"14.00\">~</text>\n",
       "<text text-anchor=\"middle\" x=\"196\" y=\"-270.43\" font-family=\"Times,serif\" font-size=\"14.00\">Beta</text>\n",
       "</g>\n",
       "<!-- p_sayhire_con&#45;&gt;sayhire -->\n",
       "<g id=\"edge3\" class=\"edge\">\n",
       "<title>p_sayhire_con&#45;&gt;sayhire</title>\n",
       "<path fill=\"none\" stroke=\"black\" d=\"M158.75,-257.93C142.52,-243.54 123.45,-226.62 106.84,-211.88\"/>\n",
       "<polygon fill=\"black\" stroke=\"black\" points=\"109.34,-209.42 99.53,-205.4 104.69,-214.66 109.34,-209.42\"/>\n",
       "</g>\n",
       "<!-- p_sayhire_noncon -->\n",
       "<g id=\"node5\" class=\"node\">\n",
       "<title>p_sayhire_noncon</title>\n",
       "<ellipse fill=\"none\" stroke=\"black\" cx=\"362\" cy=\"-291.98\" rx=\"81.32\" ry=\"40.66\"/>\n",
       "<text text-anchor=\"middle\" x=\"362\" y=\"-303.43\" font-family=\"Times,serif\" font-size=\"14.00\">p_sayhire_noncon</text>\n",
       "<text text-anchor=\"middle\" x=\"362\" y=\"-286.93\" font-family=\"Times,serif\" font-size=\"14.00\">~</text>\n",
       "<text text-anchor=\"middle\" x=\"362\" y=\"-270.43\" font-family=\"Times,serif\" font-size=\"14.00\">Beta</text>\n",
       "</g>\n",
       "<!-- p_sayhire_noncon&#45;&gt;sayhire -->\n",
       "<g id=\"edge4\" class=\"edge\">\n",
       "<title>p_sayhire_noncon&#45;&gt;sayhire</title>\n",
       "<path fill=\"none\" stroke=\"black\" d=\"M302.19,-263.99C292.16,-259.65 281.82,-255.28 272,-251.32 221.08,-230.77 162.2,-209.38 120.47,-194.61\"/>\n",
       "<polygon fill=\"black\" stroke=\"black\" points=\"121.73,-191.34 111.13,-191.31 119.4,-197.94 121.73,-191.34\"/>\n",
       "</g>\n",
       "</g>\n",
       "</svg>\n"
      ],
      "text/plain": [
       "<graphviz.graphs.Digraph at 0x324fd4590>"
      ]
     },
     "execution_count": 54,
     "metadata": {},
     "output_type": "execute_result"
    }
   ],
   "source": [
    "# @title Q1.3.1-response\n",
    "train_coords = {\n",
    "    'response_id': X_train.index.values\n",
    "}\n",
    "\n",
    "# Your code here: implement the model as a pm.Model object with the name conviction_model\n",
    "with pm.Model() as conviction_model:\n",
    "    con_obs = pm.Data(\"con_obs\", X_train['con'], dims=\"response_id\")\n",
    "    p_sayhire_noncon = pm.Beta(\"p_sayhire_noncon\", 1.5, 1)\n",
    "    p_sayhire_con = pm.Beta(\"p_sayhire_con\", 1, 1.5)\n",
    "    p_sayhire =  pm.math.switch(con_obs, p_sayhire_con, p_sayhire_noncon)\n",
    "    sayhire_obs = pm.Data(\"sayhire_obs\", y_train, dims=\"response_id\")\n",
    "    sayhire = pm.Bernoulli(\"sayhire\", p = p_sayhire, observed=sayhire_obs, dims=\"response_id\")\n",
    "\n",
    "# Once you've written the model, uncomment the following line to generate a\n",
    "# PGM representation of the model\n",
    "\n",
    "pm.model_to_graphviz(conviction_model)"
   ]
  },
  {
   "cell_type": "code",
   "execution_count": 63,
   "id": "bfd9eb6f-c9a3-48e2-a9af-756c29591cea",
   "metadata": {},
   "outputs": [
    {
     "data": {
      "text/plain": [
       "{'conviction_model defined': '✅ Passed!'}"
      ]
     },
     "execution_count": 63,
     "metadata": {},
     "output_type": "execute_result"
    }
   ],
   "source": [
    "# @title Q1.3.1-public-tests\n",
    "q1_3_1_public_tests = {\n",
    "    'conviction_model defined': '✅ Passed!' if 'conviction_model' in globals() else \"🔲 No variable named 'conviction_model' exists in Python memory\",\n",
    "}\n",
    "q1_3_1_public_tests"
   ]
  },
  {
   "cell_type": "markdown",
   "id": "0ff95b24-0b47-4103-84bf-c9edeec9bca7",
   "metadata": {},
   "source": [
    "### [Question 1.3.2] Parameter RVs vs. Data RVs"
   ]
  },
  {
   "cell_type": "markdown",
   "id": "f78f2ed1-6c94-4fad-9e73-aac1dd55830d",
   "metadata": {},
   "source": [
    "For the same reasons outlined in Question 1.2.2 earlier, specify **which of the following Python variables represent latent *parameters* that we'd like to estimate via this model**:\n",
    "\n",
    "* (a) `con_obs`\n",
    "* (b) `p_sayhire_con`\n",
    "* (c) `p_sayhire_nocon`\n",
    "* (d) `sayhire`\n",
    "* (e) `sayhire_obs`"
   ]
  },
  {
   "cell_type": "code",
   "execution_count": null,
   "id": "c9019645-e7cf-44ec-9fd4-fdada7471248",
   "metadata": {},
   "outputs": [],
   "source": [
    "# @title Q1.3.2-response\n",
    "q1_3_2_response = {\n",
    "    'a': False, # Change to True to \"check\" option (a)\n",
    "    'b': True, # Change to True to \"check\" option (b)\n",
    "    'c': True, # Change to True to \"check\" option (c)\n",
    "    'd': False, # Change to True to \"check\" option (d)\n",
    "    'e': False, # Change to True to \"check\" option (e)\n",
    "}"
   ]
  },
  {
   "cell_type": "code",
   "execution_count": 65,
   "id": "d84e1d58-b2f4-4b22-b16c-6e11e9af59f6",
   "metadata": {},
   "outputs": [
    {
     "data": {
      "text/plain": [
       "{'q1_3_2_response defined': '✅ Passed!'}"
      ]
     },
     "execution_count": 65,
     "metadata": {},
     "output_type": "execute_result"
    }
   ],
   "source": [
    "# @title Q1.3.2-public-tests\n",
    "q1_3_2_public_tests = {\n",
    "    'q1_3_2_response defined': '✅ Passed!' if 'q1_3_2_response' in globals() else \"🔲 No variable named 'q1_3_2_response' exists in Python memory\",\n",
    "}\n",
    "q1_3_2_public_tests"
   ]
  },
  {
   "cell_type": "markdown",
   "id": "962f342a-f74c-4e59-a937-ea6bd7d56707",
   "metadata": {},
   "source": [
    "### [Question 1.3.3] Estimate Model Parameters"
   ]
  },
  {
   "cell_type": "markdown",
   "id": "ff882c56-aabb-4ad8-a747-a8c2f0420857",
   "metadata": {},
   "source": [
    "Now, use the `pm.sample()` function (making sure to remember `random_seed=5650`!) to draw estimates of the posterior distribution, storing the result in a variable named `conviction_idata`.\n",
    "\n",
    "If the model has been specified correctly, the included `az.summary()` call at the end of the code cell should display information (mean, sd, etc.) about the estimated posterior distribution over values of the model's parameters."
   ]
  },
  {
   "cell_type": "code",
   "execution_count": 55,
   "id": "b057dd5a-a1ef-456f-acdd-22884c3abfcc",
   "metadata": {},
   "outputs": [
    {
     "name": "stderr",
     "output_type": "stream",
     "text": [
      "Initializing NUTS using jitter+adapt_diag...\n",
      "Multiprocess sampling (4 chains in 4 jobs)\n",
      "NUTS: [p_sayhire_noncon, p_sayhire_con]\n"
     ]
    },
    {
     "data": {
      "application/vnd.jupyter.widget-view+json": {
       "model_id": "89dd8f923ff54a9cb2b061b04b27403f",
       "version_major": 2,
       "version_minor": 0
      },
      "text/plain": [
       "Output()"
      ]
     },
     "metadata": {},
     "output_type": "display_data"
    },
    {
     "data": {
      "text/html": [
       "<pre style=\"white-space:pre;overflow-x:auto;line-height:normal;font-family:Menlo,'DejaVu Sans Mono',consolas,'Courier New',monospace\"></pre>\n"
      ],
      "text/plain": []
     },
     "metadata": {},
     "output_type": "display_data"
    },
    {
     "name": "stderr",
     "output_type": "stream",
     "text": [
      "Sampling 4 chains for 1_000 tune and 1_000 draw iterations (4_000 + 4_000 draws total) took 1 seconds.\n",
      "There were 3 divergences after tuning. Increase `target_accept` or reparameterize.\n"
     ]
    },
    {
     "data": {
      "text/html": [
       "<div>\n",
       "<style scoped>\n",
       "    .dataframe tbody tr th:only-of-type {\n",
       "        vertical-align: middle;\n",
       "    }\n",
       "\n",
       "    .dataframe tbody tr th {\n",
       "        vertical-align: top;\n",
       "    }\n",
       "\n",
       "    .dataframe thead th {\n",
       "        text-align: right;\n",
       "    }\n",
       "</style>\n",
       "<table border=\"1\" class=\"dataframe\">\n",
       "  <thead>\n",
       "    <tr style=\"text-align: right;\">\n",
       "      <th></th>\n",
       "      <th>mean</th>\n",
       "      <th>sd</th>\n",
       "      <th>hdi_3%</th>\n",
       "      <th>hdi_97%</th>\n",
       "      <th>mcse_mean</th>\n",
       "      <th>mcse_sd</th>\n",
       "      <th>ess_bulk</th>\n",
       "      <th>ess_tail</th>\n",
       "      <th>r_hat</th>\n",
       "    </tr>\n",
       "  </thead>\n",
       "  <tbody>\n",
       "    <tr>\n",
       "      <th>p_sayhire_noncon</th>\n",
       "      <td>0.985</td>\n",
       "      <td>0.014</td>\n",
       "      <td>0.959</td>\n",
       "      <td>1.000</td>\n",
       "      <td>0.000</td>\n",
       "      <td>0.000</td>\n",
       "      <td>2273.0</td>\n",
       "      <td>1462.0</td>\n",
       "      <td>1.0</td>\n",
       "    </tr>\n",
       "    <tr>\n",
       "      <th>p_sayhire_con</th>\n",
       "      <td>0.616</td>\n",
       "      <td>0.056</td>\n",
       "      <td>0.509</td>\n",
       "      <td>0.715</td>\n",
       "      <td>0.001</td>\n",
       "      <td>0.001</td>\n",
       "      <td>2604.0</td>\n",
       "      <td>2453.0</td>\n",
       "      <td>1.0</td>\n",
       "    </tr>\n",
       "  </tbody>\n",
       "</table>\n",
       "</div>"
      ],
      "text/plain": [
       "                   mean     sd  hdi_3%  hdi_97%  mcse_mean  mcse_sd  ess_bulk  \\\n",
       "p_sayhire_noncon  0.985  0.014   0.959    1.000      0.000    0.000    2273.0   \n",
       "p_sayhire_con     0.616  0.056   0.509    0.715      0.001    0.001    2604.0   \n",
       "\n",
       "                  ess_tail  r_hat  \n",
       "p_sayhire_noncon    1462.0    1.0  \n",
       "p_sayhire_con       2453.0    1.0  "
      ]
     },
     "execution_count": 55,
     "metadata": {},
     "output_type": "execute_result"
    }
   ],
   "source": [
    "# @title Q1.3.3-response\n",
    "\n",
    "# Your code here: Derive posterior estimates for model parameters\n",
    "with conviction_model:\n",
    "    conviction_idata = pm.sample(random_seed=5650)\n",
    "# Once you've estimated the posterior_distribution, and stored the result in\n",
    "# conviction_idata, uncomment the following line to display a summary of the\n",
    "# results\n",
    "az.summary(conviction_idata)"
   ]
  },
  {
   "cell_type": "code",
   "execution_count": 67,
   "id": "038cc442-3c89-4ad8-969a-861f89924bce",
   "metadata": {},
   "outputs": [
    {
     "data": {
      "text/plain": [
       "{'conviction_idata defined': '✅ Passed!'}"
      ]
     },
     "execution_count": 67,
     "metadata": {},
     "output_type": "execute_result"
    }
   ],
   "source": [
    "# @title Q1.3.3-public-tests\n",
    "q1_3_3_public_tests = {\n",
    "    'conviction_idata defined': '✅ Passed!' if 'conviction_idata' in globals() else \"🔲 No variable named 'conviction_idata' exists in Python memory\",\n",
    "}\n",
    "q1_3_3_public_tests"
   ]
  },
  {
   "cell_type": "markdown",
   "id": "d0d9d0cb-66db-422f-97a1-5c871c8333e5",
   "metadata": {},
   "source": [
    "### [Question 1.3.4] Evaluate Predictive Performance on Training Data"
   ]
  },
  {
   "cell_type": "markdown",
   "id": "5324b3fb-1498-4603-bf26-a738b390c084",
   "metadata": {},
   "source": [
    "In the next question we'll skip evaluating predictive performance on training data, but for this part I want you to see what the ROC curve looks like for a model which does **significantly better than random guessing!**\n",
    "\n",
    "So, in the following code cell, use `pm.sample_posterior_predictive()` (with `random_seed=5650`) to generate distributions over possible values of `sayhire` for each observation in the training data, storing the result in a variable named `conviction_train_idata`. The provided code at the end of the code cell will do the rest, computing means for each `response_id` value and evaluating these means in terms of AUC."
   ]
  },
  {
   "cell_type": "code",
   "execution_count": 45,
   "id": "e31c7b9a-f611-47aa-940a-d2b0087c0753",
   "metadata": {},
   "outputs": [
    {
     "name": "stderr",
     "output_type": "stream",
     "text": [
      "Sampling: [sayhire]\n"
     ]
    },
    {
     "data": {
      "application/vnd.jupyter.widget-view+json": {
       "model_id": "3808c9c8312741bba18ec2d426e04398",
       "version_major": 2,
       "version_minor": 0
      },
      "text/plain": [
       "Output()"
      ]
     },
     "metadata": {},
     "output_type": "display_data"
    },
    {
     "data": {
      "text/html": [
       "<pre style=\"white-space:pre;overflow-x:auto;line-height:normal;font-family:Menlo,'DejaVu Sans Mono',consolas,'Courier New',monospace\"></pre>\n"
      ],
      "text/plain": []
     },
     "metadata": {},
     "output_type": "display_data"
    },
    {
     "name": "stdout",
     "output_type": "stream",
     "text": [
      "[0.62025 0.987   0.98425 0.98225 0.62325 0.62475 0.9865  0.98675 0.61425\n",
      " 0.9865  0.98825 0.603   0.9895  0.9865  0.98775 0.98525 0.60525 0.985\n",
      " 0.62525 0.98775 0.6215  0.62575 0.988   0.986   0.6235  0.61875 0.6165\n",
      " 0.98775 0.6125  0.6075  0.98325 0.98425 0.9845  0.62725 0.61575 0.9865\n",
      " 0.9835  0.6195  0.984   0.983   0.98575 0.98675 0.98525 0.61625 0.984\n",
      " 0.989   0.98525 0.6155  0.61925 0.60925 0.616   0.61725 0.9885  0.6225\n",
      " 0.611   0.9885  0.60825 0.6265  0.98525 0.61775 0.98675 0.6165  0.63375\n",
      " 0.61725 0.61525 0.98575 0.985   0.6315  0.9845  0.987   0.983   0.617\n",
      " 0.61025 0.60875 0.621   0.98575 0.6185  0.604   0.61175 0.6155  0.98225\n",
      " 0.62    0.988   0.98575 0.621   0.61925 0.986   0.61375 0.98375 0.61325\n",
      " 0.61525 0.98225 0.61775 0.60625 0.986   0.61675 0.61525 0.619   0.61625\n",
      " 0.62275 0.98275 0.98725 0.98475 0.631   0.624   0.60425 0.9895  0.60975\n",
      " 0.986   0.6215  0.98275 0.985   0.98475 0.6065  0.6055  0.9875  0.61025\n",
      " 0.61875 0.9865  0.612   0.98725 0.62625 0.98525 0.625   0.614   0.59825\n",
      " 0.988   0.62275 0.985   0.623   0.60775 0.98625 0.63075 0.9855  0.98675\n",
      " 0.9865  0.9865 ]\n"
     ]
    },
    {
     "data": {
      "image/png": "[encoded data removed]",
      "text/plain": [
       "<Figure size 100x100 with 2 Axes>"
      ]
     },
     "metadata": {},
     "output_type": "display_data"
    },
    {
     "data": {
      "text/plain": [
       "0.8853535353535353"
      ]
     },
     "execution_count": 45,
     "metadata": {},
     "output_type": "execute_result"
    }
   ],
   "source": [
    "# @title Q1.3.4-response\n",
    "\n",
    "# Your code here: Extract posterior predictive distributions\n",
    "with conviction_model:\n",
    "    conviction_train_idata = pm.sample_posterior_predictive(conviction_idata, random_seed=5650)\n",
    "# Provided code step 1: Extract means of sayhire values from the posterior predictive\n",
    "# distribution given training data\n",
    "conviction_train_meanhired = conviction_train_idata.posterior_predictive['sayhire'].mean(dim=['chain','draw'])\n",
    "print(conviction_train_meanhired.values)\n",
    "# Provided code step 2: Plot Training ROC curve\n",
    "plot_roc(y_train, conviction_train_meanhired.values, \"Training ROC: Conviction Status Model\")"
   ]
  },
  {
   "cell_type": "code",
   "execution_count": 69,
   "id": "88782064-c214-4c22-8a41-34066a66f8a0",
   "metadata": {},
   "outputs": [
    {
     "data": {
      "text/plain": [
       "{'conviction_train_idata defined': '✅ Passed!'}"
      ]
     },
     "execution_count": 69,
     "metadata": {},
     "output_type": "execute_result"
    }
   ],
   "source": [
    "# @title Q1.3.4-public-tests\n",
    "q1_3_4_public_tests = {\n",
    "    'conviction_train_idata defined': '✅ Passed!' if 'conviction_train_idata' in globals() else \"🔲 No variable named 'conviction_train_idata' exists in Python memory\",\n",
    "}\n",
    "q1_3_4_public_tests"
   ]
  },
  {
   "cell_type": "markdown",
   "id": "65b58c65-90a7-4fe4-9c69-c6d79be7dc11",
   "metadata": {},
   "source": [
    "You should see an AUC score exceeding `0.75`! An increase of more than 25 percentage points over our baseline AUC score 🥳"
   ]
  },
  {
   "cell_type": "markdown",
   "id": "50baad0f-3c0b-4fd8-8b0e-0a450c1fcc84",
   "metadata": {},
   "source": [
    "### [Question 1.3.5] Evaluate Predictive Performance on Test Data"
   ]
  },
  {
   "cell_type": "markdown",
   "id": "061f8b32-21c3-4dd3-9018-e23558d3b84b",
   "metadata": {},
   "source": [
    "Here, as you did for the baseline model above, first use `pm.set_data()` to update the data stored in the PyMC model object to the **test** data, then use `pm.sample_posterior_predictive()` to draw from the predictive posterior distribution relative to the **test** data, storing the result in a variable named `conviction_test_idata`. The provided code will do the rest!"
   ]
  },
  {
   "cell_type": "code",
   "execution_count": 57,
   "id": "45ff69b6-f114-430e-926f-00c04464b742",
   "metadata": {},
   "outputs": [
    {
     "name": "stderr",
     "output_type": "stream",
     "text": [
      "Sampling: [sayhire]\n"
     ]
    },
    {
     "data": {
      "application/vnd.jupyter.widget-view+json": {
       "model_id": "dc2a1f41037e4d4188cba8af1f7b4395",
       "version_major": 2,
       "version_minor": 0
      },
      "text/plain": [
       "Output()"
      ]
     },
     "metadata": {},
     "output_type": "display_data"
    },
    {
     "data": {
      "text/html": [
       "<pre style=\"white-space:pre;overflow-x:auto;line-height:normal;font-family:Menlo,'DejaVu Sans Mono',consolas,'Courier New',monospace\"></pre>\n"
      ],
      "text/plain": []
     },
     "metadata": {},
     "output_type": "display_data"
    },
    {
     "data": {
      "image/png": "[encoded data removed]",
      "text/plain": [
       "<Figure size 100x100 with 2 Axes>"
      ]
     },
     "metadata": {},
     "output_type": "display_data"
    },
    {
     "data": {
      "text/plain": [
       "OrderedDict([('nofeats', 0.6580459770114943),\n",
       "             ('conviction_only', 0.867816091954023)])"
      ]
     },
     "execution_count": 57,
     "metadata": {},
     "output_type": "execute_result"
    }
   ],
   "source": [
    "# @title Q1.3.5-response\n",
    "conviction_test_coords = {\n",
    "    'response_id': X_test.index.values\n",
    "}\n",
    "\n",
    "# Your code here: update the data in conviction_model to the *test* data, then\n",
    "# derive new posterior predictive distributions for the test observations\n",
    "with conviction_model:\n",
    "    pm.set_data({\"sayhire_obs\": y_test}, coords=conviction_test_coords)\n",
    "    pm.set_data({\"con_obs\": X_test['con']}, coords=conviction_test_coords)\n",
    "with conviction_model:\n",
    "    conviction_test_idata = pm.sample_posterior_predictive(conviction_idata, random_seed=5650)\n",
    "# Provided code step 1: Extract means of sayhire values from the posterior predictive\n",
    "# distribution given test data\n",
    "conviction_test_means = conviction_test_idata.posterior_predictive['sayhire'].mean(dim=['chain','draw'])\n",
    "# Provided code step 2: Plot test ROC curve\n",
    "conviction_auc = plot_roc(y_test, conviction_test_means, \"Test ROC: Conviction Only\")\n",
    "# Provided code step 3: Store the AUC score in the model_aucs dictionary\n",
    "survey_model_aucs['conviction_only'] = conviction_auc\n",
    "survey_model_aucs"
   ]
  },
  {
   "cell_type": "markdown",
   "id": "37dca8a5-5355-4d43-afd7-56711155ffc5",
   "metadata": {},
   "source": [
    "Like in the training data case, you should see a significant improvement in AUC score over the baseline value."
   ]
  },
  {
   "cell_type": "markdown",
   "id": "b3f31ae1-baa2-4dde-8900-471e650f79f0",
   "metadata": {},
   "source": [
    "## [Part 1.4] Model with Race Only"
   ]
  },
  {
   "cell_type": "markdown",
   "id": "c847fbc2-823a-405d-ac1f-6734db18ea30",
   "metadata": {},
   "source": [
    "Now, to verify our intuition about race being \"less informative\" in terms of predictive power with respect to employer *attitudes*, let's construct and estimate a similar model but only using the `race` feature.\n",
    "\n",
    "**(Rather than thinking of this as tedious, think of it as free points for \"repeating\" the code you just wrote for Part 1.3! To this end, since the instructions are the exact same, I'll just provide the code cells, and you can hopefully copy-and-paste your code from Part 1.3 in most cases. Here, you should be modeling `p_sayhire_white` and `p_sayhire_black` rather than `p_sayhire_con` and `p_sayhire_nocon`)**"
   ]
  },
  {
   "cell_type": "markdown",
   "id": "39aba340-f8db-44d9-b0de-aa61cebe27f8",
   "metadata": {},
   "source": [
    "### [Question 1.4.1] Write and Visualize the Race-Only Model"
   ]
  },
  {
   "cell_type": "code",
   "execution_count": 63,
   "id": "d969cbc0-d553-44ce-8cdf-2578f8da5c41",
   "metadata": {},
   "outputs": [
    {
     "data": {
      "image/svg+xml": [
       "<?xml version=\"1.0\" encoding=\"UTF-8\" standalone=\"no\"?>\n",
       "<!DOCTYPE svg PUBLIC \"-//W3C//DTD SVG 1.1//EN\"\n",
       " \"http://www.w3.org/Graphics/SVG/1.1/DTD/svg11.dtd\">\n",
       "<!-- Generated by graphviz version 12.2.1 (20241206.2353)\n",
       " -->\n",
       "<!-- Pages: 1 -->\n",
       "<svg width=\"401pt\" height=\"345pt\"\n",
       " viewBox=\"0.00 0.00 401.16 344.73\" xmlns=\"http://www.w3.org/2000/svg\" xmlns:xlink=\"http://www.w3.org/1999/xlink\">\n",
       "<g id=\"graph0\" class=\"graph\" transform=\"scale(1 1) rotate(0) translate(4 340.73)\">\n",
       "<polygon fill=\"white\" stroke=\"none\" points=\"-4,4 -4,-340.73 397.16,-340.73 397.16,4 -4,4\"/>\n",
       "<g id=\"clust1\" class=\"cluster\">\n",
       "<title>clusterresponse_id (137)</title>\n",
       "<path fill=\"none\" stroke=\"black\" d=\"M20,-8C20,-8 109,-8 109,-8 115,-8 121,-14 121,-20 121,-20 121,-316.73 121,-316.73 121,-322.73 115,-328.73 109,-328.73 109,-328.73 20,-328.73 20,-328.73 14,-328.73 8,-322.73 8,-316.73 8,-316.73 8,-20 8,-20 8,-14 14,-8 20,-8\"/>\n",
       "<text text-anchor=\"middle\" x=\"64.25\" y=\"-15.2\" font-family=\"Times,serif\" font-size=\"14.00\">response_id (137)</text>\n",
       "</g>\n",
       "<!-- sayhire_obs -->\n",
       "<g id=\"node1\" class=\"node\">\n",
       "<title>sayhire_obs</title>\n",
       "<path fill=\"lightgrey\" stroke=\"black\" d=\"M94.25,-98C94.25,-98 37.75,-98 37.75,-98 31.75,-98 25.75,-92 25.75,-86 25.75,-86 25.75,-52.5 25.75,-52.5 25.75,-46.5 31.75,-40.5 37.75,-40.5 37.75,-40.5 94.25,-40.5 94.25,-40.5 100.25,-40.5 106.25,-46.5 106.25,-52.5 106.25,-52.5 106.25,-86 106.25,-86 106.25,-92 100.25,-98 94.25,-98\"/>\n",
       "<text text-anchor=\"middle\" x=\"66\" y=\"-80.7\" font-family=\"Times,serif\" font-size=\"14.00\">sayhire_obs</text>\n",
       "<text text-anchor=\"middle\" x=\"66\" y=\"-64.2\" font-family=\"Times,serif\" font-size=\"14.00\">~</text>\n",
       "<text text-anchor=\"middle\" x=\"66\" y=\"-47.7\" font-family=\"Times,serif\" font-size=\"14.00\">Data</text>\n",
       "</g>\n",
       "<!-- sayhire -->\n",
       "<g id=\"node2\" class=\"node\">\n",
       "<title>sayhire</title>\n",
       "<ellipse fill=\"lightgrey\" stroke=\"black\" cx=\"66\" cy=\"-174.66\" rx=\"47.38\" ry=\"40.66\"/>\n",
       "<text text-anchor=\"middle\" x=\"66\" y=\"-186.11\" font-family=\"Times,serif\" font-size=\"14.00\">sayhire</text>\n",
       "<text text-anchor=\"middle\" x=\"66\" y=\"-169.61\" font-family=\"Times,serif\" font-size=\"14.00\">~</text>\n",
       "<text text-anchor=\"middle\" x=\"66\" y=\"-153.11\" font-family=\"Times,serif\" font-size=\"14.00\">Bernoulli</text>\n",
       "</g>\n",
       "<!-- sayhire&#45;&gt;sayhire_obs -->\n",
       "<g id=\"edge1\" class=\"edge\">\n",
       "<title>sayhire&#45;&gt;sayhire_obs</title>\n",
       "<path fill=\"none\" stroke=\"black\" d=\"M66,-133.68C66,-125.83 66,-117.6 66,-109.76\"/>\n",
       "<polygon fill=\"black\" stroke=\"black\" points=\"69.5,-109.79 66,-99.79 62.5,-109.79 69.5,-109.79\"/>\n",
       "</g>\n",
       "<!-- race_obs -->\n",
       "<g id=\"node3\" class=\"node\">\n",
       "<title>race_obs</title>\n",
       "<path fill=\"lightgrey\" stroke=\"black\" d=\"M86,-320.73C86,-320.73 46,-320.73 46,-320.73 40,-320.73 34,-314.73 34,-308.73 34,-308.73 34,-275.23 34,-275.23 34,-269.23 40,-263.23 46,-263.23 46,-263.23 86,-263.23 86,-263.23 92,-263.23 98,-269.23 98,-275.23 98,-275.23 98,-308.73 98,-308.73 98,-314.73 92,-320.73 86,-320.73\"/>\n",
       "<text text-anchor=\"middle\" x=\"66\" y=\"-303.43\" font-family=\"Times,serif\" font-size=\"14.00\">race_obs</text>\n",
       "<text text-anchor=\"middle\" x=\"66\" y=\"-286.93\" font-family=\"Times,serif\" font-size=\"14.00\">~</text>\n",
       "<text text-anchor=\"middle\" x=\"66\" y=\"-270.43\" font-family=\"Times,serif\" font-size=\"14.00\">Data</text>\n",
       "</g>\n",
       "<!-- race_obs&#45;&gt;sayhire -->\n",
       "<g id=\"edge4\" class=\"edge\">\n",
       "<title>race_obs&#45;&gt;sayhire</title>\n",
       "<path fill=\"none\" stroke=\"black\" d=\"M66,-262.77C66,-251.94 66,-239.23 66,-226.91\"/>\n",
       "<polygon fill=\"black\" stroke=\"black\" points=\"69.5,-227.28 66,-217.28 62.5,-227.28 69.5,-227.28\"/>\n",
       "</g>\n",
       "<!-- p_hire_white -->\n",
       "<g id=\"node4\" class=\"node\">\n",
       "<title>p_hire_white</title>\n",
       "<ellipse fill=\"none\" stroke=\"black\" cx=\"191\" cy=\"-291.98\" rx=\"61.7\" ry=\"40.66\"/>\n",
       "<text text-anchor=\"middle\" x=\"191\" y=\"-303.43\" font-family=\"Times,serif\" font-size=\"14.00\">p_hire_white</text>\n",
       "<text text-anchor=\"middle\" x=\"191\" y=\"-286.93\" font-family=\"Times,serif\" font-size=\"14.00\">~</text>\n",
       "<text text-anchor=\"middle\" x=\"191\" y=\"-270.43\" font-family=\"Times,serif\" font-size=\"14.00\">Beta</text>\n",
       "</g>\n",
       "<!-- p_hire_white&#45;&gt;sayhire -->\n",
       "<g id=\"edge2\" class=\"edge\">\n",
       "<title>p_hire_white&#45;&gt;sayhire</title>\n",
       "<path fill=\"none\" stroke=\"black\" d=\"M155.51,-258.24C140.03,-243.95 121.8,-227.13 105.84,-212.42\"/>\n",
       "<polygon fill=\"black\" stroke=\"black\" points=\"108.57,-210.17 98.85,-205.96 103.82,-215.31 108.57,-210.17\"/>\n",
       "</g>\n",
       "<!-- p_hire_black -->\n",
       "<g id=\"node5\" class=\"node\">\n",
       "<title>p_hire_black</title>\n",
       "<ellipse fill=\"none\" stroke=\"black\" cx=\"332\" cy=\"-291.98\" rx=\"61.16\" ry=\"40.66\"/>\n",
       "<text text-anchor=\"middle\" x=\"332\" y=\"-303.43\" font-family=\"Times,serif\" font-size=\"14.00\">p_hire_black</text>\n",
       "<text text-anchor=\"middle\" x=\"332\" y=\"-286.93\" font-family=\"Times,serif\" font-size=\"14.00\">~</text>\n",
       "<text text-anchor=\"middle\" x=\"332\" y=\"-270.43\" font-family=\"Times,serif\" font-size=\"14.00\">Beta</text>\n",
       "</g>\n",
       "<!-- p_hire_black&#45;&gt;sayhire -->\n",
       "<g id=\"edge3\" class=\"edge\">\n",
       "<title>p_hire_black&#45;&gt;sayhire</title>\n",
       "<path fill=\"none\" stroke=\"black\" d=\"M286.95,-264.17C278.76,-259.67 270.21,-255.2 262,-251.32 215.44,-229.29 160.6,-208.54 120.79,-194.36\"/>\n",
       "<polygon fill=\"black\" stroke=\"black\" points=\"122,-191.08 111.41,-191.05 119.67,-197.68 122,-191.08\"/>\n",
       "</g>\n",
       "</g>\n",
       "</svg>\n"
      ],
      "text/plain": [
       "<graphviz.graphs.Digraph at 0x326fd4090>"
      ]
     },
     "execution_count": 63,
     "metadata": {},
     "output_type": "execute_result"
    }
   ],
   "source": [
    "# @title Q1.4.1-response\n",
    "\n",
    "# Your code here: create a pm.Model object named race_model, using the same approach\n",
    "# as in Part 1.3, but with p_hire_white and p_hire_black in place of than p_hire_con\n",
    "# and p_hire_nocon\n",
    "train_coords = {\n",
    "    'response_id': X_train.index.values\n",
    "}\n",
    "with pm.Model() as race_model:\n",
    "    race_obs = pm.Data(\"race_obs\", X_train['race'], dims='response_id')\n",
    "    p_hire_white = pm.Beta(\"p_hire_white\", 1.2, 1)\n",
    "    p_hire_black = pm.Beta(\"p_hire_black\", 1, 1.2)\n",
    "    p_hire = pm.math.switch(race_obs, p_hire_black, p_hire_white) # 1 is black; 0 is white\n",
    "    sayhire_obs = pm.Data(\"sayhire_obs\", y_train, dims = \"response_id\")\n",
    "    sayhire = pm.Bernoulli(\"sayhire\", p = p_hire, observed=sayhire_obs, dims=\"response_id\")\n",
    "# Once you've written the model, uncomment this line to visualize it as a PGM\n",
    "pm.model_to_graphviz(race_model)"
   ]
  },
  {
   "cell_type": "markdown",
   "id": "e0cd4f13-279c-4bb3-99aa-00ef901ea116",
   "metadata": {},
   "source": [
    "### [Question 1.4.2] Parameter RVs vs. Data RVs\n",
    "\n",
    "Which of the following Python variables represent **latent *parameters* that we'd like to estimate via `race_model`**:\n",
    "\n",
    "* (a) `race_obs`\n",
    "* (b) `p_sayhire_white`\n",
    "* (c) `p_sayhire_black`\n",
    "* (d) `sayhire`\n",
    "* (e) `sayhire_obs`"
   ]
  },
  {
   "cell_type": "code",
   "execution_count": null,
   "id": "12bbb63d-e32b-405a-9490-67c47815a7df",
   "metadata": {},
   "outputs": [],
   "source": [
    "# @title Q1.4.2-response\n",
    "q1_4_2_response = {\n",
    "    'a': False, # Change to True to \"check\" option (a)\n",
    "    'b': True, # Change to True to \"check\" option (b)\n",
    "    'c': True, # Change to True to \"check\" option (c)\n",
    "    'd': False, # Change to True to \"check\" option (d)\n",
    "    'e': False, # Change to True to \"check\" option (e)\n",
    "}"
   ]
  },
  {
   "cell_type": "code",
   "execution_count": 77,
   "id": "524fb479-17e5-407d-9403-616c02c1a191",
   "metadata": {},
   "outputs": [
    {
     "data": {
      "text/plain": [
       "{'q1_4_2_response defined': '✅ Passed!'}"
      ]
     },
     "execution_count": 77,
     "metadata": {},
     "output_type": "execute_result"
    }
   ],
   "source": [
    "# @title Q1.4.2-public-tests\n",
    "q1_4_2_public_tests = {\n",
    "    'q1_4_2_response defined': '✅ Passed!' if 'q1_4_2_response' in globals() else \"🔲 No variable named 'q1_4_2_response' exists in Python memory\",\n",
    "}\n",
    "q1_4_2_public_tests"
   ]
  },
  {
   "cell_type": "markdown",
   "id": "32631046-3771-403d-bbca-2b1b9bc6319a",
   "metadata": {},
   "source": [
    "### [Question 1.4.3] Estimate Model Parameters"
   ]
  },
  {
   "cell_type": "code",
   "execution_count": 64,
   "id": "07cc6c30-aeb1-4965-a6f5-23187bbd2f54",
   "metadata": {
    "execution": {
     "iopub.execute_input": "2025-07-29T10:29:42.336909Z",
     "iopub.status.busy": "2025-07-29T10:29:42.336568Z",
     "iopub.status.idle": "2025-07-29T10:29:42.339628Z",
     "shell.execute_reply": "2025-07-29T10:29:42.339163Z",
     "shell.execute_reply.started": "2025-07-29T10:29:42.336882Z"
    }
   },
   "outputs": [
    {
     "name": "stderr",
     "output_type": "stream",
     "text": [
      "Initializing NUTS using jitter+adapt_diag...\n",
      "Multiprocess sampling (4 chains in 4 jobs)\n",
      "NUTS: [p_hire_white, p_hire_black]\n"
     ]
    },
    {
     "data": {
      "application/vnd.jupyter.widget-view+json": {
       "model_id": "e017232404c54994806e7381e491c196",
       "version_major": 2,
       "version_minor": 0
      },
      "text/plain": [
       "Output()"
      ]
     },
     "metadata": {},
     "output_type": "display_data"
    },
    {
     "data": {
      "text/html": [
       "<pre style=\"white-space:pre;overflow-x:auto;line-height:normal;font-family:Menlo,'DejaVu Sans Mono',consolas,'Courier New',monospace\"></pre>\n"
      ],
      "text/plain": []
     },
     "metadata": {},
     "output_type": "display_data"
    },
    {
     "name": "stderr",
     "output_type": "stream",
     "text": [
      "Sampling 4 chains for 1_000 tune and 1_000 draw iterations (4_000 + 4_000 draws total) took 1 seconds.\n"
     ]
    },
    {
     "data": {
      "text/html": [
       "<div>\n",
       "<style scoped>\n",
       "    .dataframe tbody tr th:only-of-type {\n",
       "        vertical-align: middle;\n",
       "    }\n",
       "\n",
       "    .dataframe tbody tr th {\n",
       "        vertical-align: top;\n",
       "    }\n",
       "\n",
       "    .dataframe thead th {\n",
       "        text-align: right;\n",
       "    }\n",
       "</style>\n",
       "<table border=\"1\" class=\"dataframe\">\n",
       "  <thead>\n",
       "    <tr style=\"text-align: right;\">\n",
       "      <th></th>\n",
       "      <th>mean</th>\n",
       "      <th>sd</th>\n",
       "      <th>hdi_3%</th>\n",
       "      <th>hdi_97%</th>\n",
       "      <th>mcse_mean</th>\n",
       "      <th>mcse_sd</th>\n",
       "      <th>ess_bulk</th>\n",
       "      <th>ess_tail</th>\n",
       "      <th>r_hat</th>\n",
       "    </tr>\n",
       "  </thead>\n",
       "  <tbody>\n",
       "    <tr>\n",
       "      <th>p_hire_white</th>\n",
       "      <td>0.793</td>\n",
       "      <td>0.050</td>\n",
       "      <td>0.707</td>\n",
       "      <td>0.888</td>\n",
       "      <td>0.001</td>\n",
       "      <td>0.001</td>\n",
       "      <td>3931.0</td>\n",
       "      <td>2891.0</td>\n",
       "      <td>1.0</td>\n",
       "    </tr>\n",
       "    <tr>\n",
       "      <th>p_hire_black</th>\n",
       "      <td>0.792</td>\n",
       "      <td>0.046</td>\n",
       "      <td>0.706</td>\n",
       "      <td>0.877</td>\n",
       "      <td>0.001</td>\n",
       "      <td>0.001</td>\n",
       "      <td>4230.0</td>\n",
       "      <td>2805.0</td>\n",
       "      <td>1.0</td>\n",
       "    </tr>\n",
       "  </tbody>\n",
       "</table>\n",
       "</div>"
      ],
      "text/plain": [
       "               mean     sd  hdi_3%  hdi_97%  mcse_mean  mcse_sd  ess_bulk  \\\n",
       "p_hire_white  0.793  0.050   0.707    0.888      0.001    0.001    3931.0   \n",
       "p_hire_black  0.792  0.046   0.706    0.877      0.001    0.001    4230.0   \n",
       "\n",
       "              ess_tail  r_hat  \n",
       "p_hire_white    2891.0    1.0  \n",
       "p_hire_black    2805.0    1.0  "
      ]
     },
     "execution_count": 64,
     "metadata": {},
     "output_type": "execute_result"
    }
   ],
   "source": [
    "# @title Q1.4.3-response\n",
    "\n",
    "# Your code here: Estimate posterior distributions over parameters in race_model\n",
    "with race_model:\n",
    "    race_idata = pm.sample(random_seed=5650)\n",
    "# Uncomment the following line to generate a table summarizing the posterior\n",
    "# distributions\n",
    "\n",
    "az.summary(race_idata)"
   ]
  },
  {
   "cell_type": "code",
   "execution_count": 81,
   "id": "66bb46b2-7154-42c7-a9dc-66d9e58d4a74",
   "metadata": {},
   "outputs": [
    {
     "data": {
      "text/plain": [
       "{'race_idata defined': '✅ Passed!'}"
      ]
     },
     "execution_count": 81,
     "metadata": {},
     "output_type": "execute_result"
    }
   ],
   "source": [
    "# @title Q1.4.3-public-tests\n",
    "q1_4_3_public_tests = {\n",
    "    'race_idata defined': '✅ Passed!' if 'race_idata' in globals() else \"🔲 No variable named 'race_idata' exists in Python memory\",\n",
    "}\n",
    "q1_4_3_public_tests"
   ]
  },
  {
   "cell_type": "markdown",
   "id": "1776ac33-3c3c-412c-adf6-0b8da2341bb7",
   "metadata": {},
   "source": [
    "### [Question 1.4.4] Evaluate Predictive Performance on Test Data"
   ]
  },
  {
   "cell_type": "code",
   "execution_count": null,
   "id": "5ba69506-51b7-4646-98d0-624420825dac",
   "metadata": {},
   "outputs": [
    {
     "name": "stderr",
     "output_type": "stream",
     "text": [
      "Sampling: [sayhire]\n"
     ]
    },
    {
     "data": {
      "application/vnd.jupyter.widget-view+json": {
       "model_id": "95240da9f1b8430e9077eaef200def53",
       "version_major": 2,
       "version_minor": 0
      },
      "text/plain": [
       "Output()"
      ]
     },
     "metadata": {},
     "output_type": "display_data"
    },
    {
     "data": {
      "text/html": [
       "<pre style=\"white-space:pre;overflow-x:auto;line-height:normal;font-family:Menlo,'DejaVu Sans Mono',consolas,'Courier New',monospace\"></pre>\n"
      ],
      "text/plain": []
     },
     "metadata": {},
     "output_type": "display_data"
    },
    {
     "data": {
      "image/png": "[encoded data removed]",
      "text/plain": [
       "<Figure size 100x100 with 2 Axes>"
      ]
     },
     "metadata": {},
     "output_type": "display_data"
    },
    {
     "data": {
      "text/plain": [
       "OrderedDict([('nofeats', 0.6580459770114943),\n",
       "             ('conviction_only', 0.867816091954023),\n",
       "             ('race_only', 0.8304597701149425)])"
      ]
     },
     "execution_count": 67,
     "metadata": {},
     "output_type": "execute_result"
    }
   ],
   "source": [
    "# @title Q1.4.4-response\n",
    "race_test_coords = {\n",
    "    'response_id': X_test.index.values\n",
    "}\n",
    "\n",
    "# Your code here: Update the data in race_model to be the *test* data features,\n",
    "# then derive new posterior predictive distribution\n",
    "with race_model:\n",
    "    pm.set_data({\"sayhire_obs\": y_test}, coords=race_test_coords)\n",
    "    pm.set_data({\"race_obs\": X_test['race']}, coords=race_test_coords)\n",
    "with race_model:\n",
    "    race_test_idata = pm.sample_posterior_predictive(race_idata, random_seed=5650)\n",
    "# Provided code step 1: Mean of predicted sayhire distributions for each test observation\n",
    "race_test_means = race_test_idata.posterior_predictive['sayhire'].mean(dim=['chain','draw'])\n",
    "# Provided code step 2: Plot test ROC curve\n",
    "race_auc = plot_roc(y_test, race_test_means, \"Test ROC: Race Model\")\n",
    "# Provided code step 3: Store resulting AUC score\n",
    "survey_model_aucs['race_only'] = race_auc\n",
    "survey_model_aucs"
   ]
  },
  {
   "cell_type": "code",
   "execution_count": 87,
   "id": "09cd0b7c-14da-4896-90e1-ab8957e7e243",
   "metadata": {},
   "outputs": [
    {
     "data": {
      "text/plain": [
       "{'race_test_idata defined': '✅ Passed!'}"
      ]
     },
     "execution_count": 87,
     "metadata": {},
     "output_type": "execute_result"
    }
   ],
   "source": [
    "# @title Q1.4.4-public-tests\n",
    "q1_4_4_public_tests = {\n",
    "    'race_test_idata defined': '✅ Passed!' if 'race_test_idata' in globals() else \"🔲 No variable named 'race_test_idata' exists in Python memory\",\n",
    "}\n",
    "q1_4_4_public_tests"
   ]
  },
  {
   "cell_type": "markdown",
   "id": "d94a8e40-e9c2-4e12-b9ab-0307ed518ec9",
   "metadata": {},
   "source": [
    "## [Part 1.5] Modeling Race and Conviction Status with Logistic Regression\n",
    "\n",
    "Here, one way we *could* proceed would be to keep \"stacking\" more and more conditions onto the features. In other words, letting $C_i$ be a Random Variable representing $i$'s prior-conviction status and $R_i$ be a Random Variable representing $i$'s perceived race, we could keep defining conditional $p_{\\texttt{sayhire}}$ parameters like:\n",
    "\n",
    "| | No Prior Conviction $c_i = 0$ | Prior Conviction $c_i = 1$ |\n",
    "| -:|:-:|:-:|\n",
    "| **White**<br>$r_i = 0$ | $p_{\\texttt{sayhire}} = p_{00}$<br>White, no prior conviction | $p_{\\texttt{sayhire}} = p_{01}$<br>White, prior conviction |\n",
    "| **Black**<br>$r_i = 1$ | $p_{\\texttt{sayhire}} = p_{10}$<br>Black, no prior conviction | $p_{\\texttt{sayhire}} = p_{11}$<br>Black, prior conviction |\n",
    "\n",
    "However, as data scientists, you can maybe also start to see an alternative approach: the more \"standard\" approach, in statistics, machine learning, etc., is to set up a **parameterization** whereby we can include **as many coefficients as we want**, and model how $p_{\\text{hire}}$ increases or decreases as some function of these coefficients...\n",
    "\n",
    "### Bayesian Logistic Regression\n",
    "\n",
    "This is, as you may know from e.g. DSAN 5300, exactly what a **logistic regression** model achieves! So, to connect this material back to your other DSAN classes, rather than creating a model with invididual parameters `p_sayhire_nocon_white`, `p_sayhire_nocon_black`, `p_sayhire_con_white`, and `p_sayhire_con_black`, let's instead introduce **one parameter $\\beta_j$ per coefficient $X_j$**, plus an **interaction term** (which we'll discuss below), so that our model here looks like:\n",
    "\n",
    "$$\n",
    "\\begin{align*}\n",
    "H_i &\\sim \\text{Bern}(p_i) \\\\\n",
    "p_i &= f(\\alpha + \\beta_r r_i + \\beta_c c_i, \\beta_{rc}r_ic_i)\n",
    "\\end{align*}\n",
    "$$\n",
    "\n",
    "The remaining issue is the function $f(\\cdot)$ that we choose for that second line... if we just used $\\alpha + \\beta_r r_i + \\beta_c c_i + \\beta_{rc}r_ic_i$ on its own, it would introduce some awkward constraints on our parameter estimation, since we'd need to ensure that this sum always stays within the range that $p_i$ can take on: namely, $[0, 1]$.\n",
    "\n",
    "That's why, in 5300, we talk about **link functions** (which underlie **Generalized Linear Models (GLMs)**): we'll find some transformation to use as our $f(\\cdot)$ function which ensures that, even if $\\alpha + \\beta_r r_i + \\beta_c c_i + \\beta_{rc}r_ic_i$ ranges from $-\\infty$ to $\\infty$, this range is \"condensed\" down into $[0, 1]$ once it is passed through $f(\\cdot)$.\n",
    "\n",
    "And, as you learned in 5300 as well, the \"canonical\" link function which achieves this feat (i.e., the link function that allows us to \"adapt\" our regression model to outputs ranging from $0$ to $1$, thus enabling **logistic regression**) is the **inverse logit function!** If we use this as our $f(\\cdot)$ function in the above generative model, it becomes\n",
    "\n",
    "$$\n",
    "\\begin{align*}\n",
    "H_i &\\sim \\text{Bern}(p_i) \\\\\n",
    "p_i &= \\text{logit}^{-1}(\\alpha + \\beta_r r_i + \\beta_c c_i + \\beta_{rc}r_ic_i)\n",
    "\\end{align*}\n",
    "$$\n",
    "\n",
    "And because the $\\text{logit}^{-1}(\\cdot)$ function looks as follows (in the `SciPy` library, $\\text{logit}^{-1}(\\cdot)$ is called the \"`expit()`\" function, as a play on the fact that $\\log(\\cdot)$ and $\\exp(\\cdot)$ are inverse functions: `logit()` and `expit()` are inverse functions in the same way `log()` and `exp()` are):"
   ]
  },
  {
   "cell_type": "code",
   "execution_count": 91,
   "id": "ceabe69d-9be0-40fe-8343-405b8e956519",
   "metadata": {},
   "outputs": [
    {
     "data": {
      "image/png": "[encoded data removed]",
      "text/plain": [
       "<Figure size 100x100 with 5 Axes>"
      ]
     },
     "execution_count": 91,
     "metadata": {},
     "output_type": "execute_result"
    }
   ],
   "source": [
    "from scipy.special import expit\n",
    "def gen_expit_plot(xmin, xmax):\n",
    "    x_vals = np.arange(xmin, xmax, 0.1)\n",
    "    y_vals = expit(x_vals)\n",
    "    expit_df = pd.DataFrame({'x': x_vals, 'y': y_vals})\n",
    "    ax = pw.Brick(figsize=(3.5, 2.25))\n",
    "    sns.lineplot(\n",
    "        x=\"x\", y=\"y\", data=expit_df, ax=ax\n",
    "    );\n",
    "    ax.axhline(y=0, ls='dashed', color='black');\n",
    "    ax.axhline(y=1, ls='dashed', color='black');\n",
    "    ax.set_title(f\"Inverse Logit from {xmin} to {xmax}\")\n",
    "    return ax\n",
    "ax_narrow = gen_expit_plot(-3, 3);\n",
    "ax_wide = gen_expit_plot(-10, 10);\n",
    "ax_combined = ax_narrow | ax_wide;\n",
    "ax_combined.savefig()"
   ]
  },
  {
   "cell_type": "markdown",
   "id": "22a7a4b1-4983-4265-adb5-e8f464a77429",
   "metadata": {},
   "source": [
    "We can see that, no matter how wide the range of values we \"plug into\" $\\text{logit}^{-1}(\\cdot)$ is, it will always compress these values to be between $0$ and $1$, and thus into a value which can be used as the $p$ parameter in our Bernoulli variable `sayhire`!\n",
    "\n",
    "### The Interaction Term $\\beta_{rc}r_ic_i$\n",
    "\n",
    "On top of the details above about the utility of $\\text{logit}^{-1}(\\cdot)$ for our model, there's one more factor we'll need to consider for our model: what terms specifically to include as **features!** It's kind of... not obvious *a priori*, in a given modeling scenario, whether or not you should include or omit features representing **interactions** between individual features. In this case, however, there's a good reason to include this interaction term.\n",
    "\n",
    "If you want to take it on faith that there's a good reason and get on with the homework, **you can <span style='background-color: rgba(255,220,116,0.5);'>skip the following mathy stuff and move on to Q1.5.1</span>**!\n",
    "\n",
    "But, for my brain at least, I try to always take the time to write out this logic so I can explicitly justify including or not-including interaction terms.\n",
    "\n",
    "### What the Interaction Term *Does* in a Linear Model\n",
    "\n",
    "First, note that the function $\\text{logit}^{-1}(x)$ can be written in two different ways, which are each helpful in different contexts:\n",
    "\n",
    "$$\n",
    "\\begin{align*}\n",
    "\\text{logit}^{-1}(x) &\\equiv \\boxed{\\frac{1}{1 + e^{-x}}} \\\\\n",
    "&= \\frac{1}{1 + e^{-x}} \\cdot \\left( \\frac{e^x}{e^x} \\right) = \\frac{e^x}{(1 + e^{-x})e^x} = \\frac{e^x}{e^x + e^{-x}e^x} = \\frac{e^x}{e^x + e^0} \\\\\n",
    "&= \\boxed{\\frac{e^x}{e^x + 1}}\n",
    "\\end{align*}\n",
    "$$\n",
    "\n",
    "So, we can now use either one to see how our model lets us straightforwardly **transform** any value we'd like from the $(-\\infty, \\infty)$ domain (so, the domain of unbounded continuous real numbers) and the $[0, 1]$ domain (the domain of probabilities). Letting $p_i \\equiv \\Pr(H_i = 1 \\mid R_i = r_i, C_i = c_i)$, we obtain:\n",
    "\n",
    "$$\n",
    "\\begin{align*}\n",
    "&p_i = \\text{logit}^{-1}(\\alpha + \\beta_r r_i + \\beta_c c_i) \\\\\n",
    "\\iff &p_i = \\frac{1}{1 + e^{-\\alpha - \\beta_r r_i - \\beta_c c_i}} \\\\\n",
    "\\iff &p_i \\left(1 + e^{-\\alpha - \\beta_r r_i - \\beta_c c_i} \\right) = 1 \\\\\n",
    "\\iff &p_i + p_ie^{-\\alpha - \\beta_r r_i - \\beta_c c_i} = 1 \\\\\n",
    "\\iff &p_ie^{-\\alpha - \\beta_r r_i - \\beta_c c_i} = 1 - p_i \\\\\n",
    "\\iff &e^{-\\alpha - \\beta_r r_i - \\beta_c c_i} = \\frac{1 - p_i}{p_i} \\\\\n",
    "\\iff &\\log\\left[ e^{-\\alpha - \\beta_r r_i - \\beta_c c_i} \\right] = \\log \\left[ \\frac{1 - p_i}{p_i} \\right] \\\\\n",
    "\\iff &-\\alpha - \\beta_r r_i - \\beta_c c_i = \\log(1 - p_i) - \\log(p_i) \\\\\n",
    "\\iff &(-1)(-\\alpha - \\beta_r r_i - \\beta_c c_i) = (-1)(\\log(1 - p_i) - \\log(p_i)) \\\\\n",
    "\\iff &\\alpha + \\beta_r r_i + \\beta_c c_i = \\log(p_i) - \\log(1 - p_i) \\\\\n",
    "\\iff &\\alpha + \\beta_r r_i + \\beta_c c_i = \\log\\left[ \\frac{p_i}{1 - p_i} \\right]\n",
    "\\end{align*}\n",
    "$$\n",
    "\n",
    "Now, let's consider what this model would look like with and without the interaction term $r_ic_i$:\n",
    "\n",
    "### Model 1: No Interaction Term\n",
    "\n",
    "$$\n",
    "\\log\\left[\n",
    "  \\frac\n",
    "    {\\Pr(H_i = 1 \\mid R_i = r_i, C_i = c_i)}\n",
    "    {1 - \\Pr(H_i = 1 \\mid R_i = r_i, C_i = c_i)}\n",
    "\\right] = \\alpha + \\beta_c c_i + \\beta_r r_i\n",
    "$$\n",
    "\n",
    "First, consider the vignettes where Chad does **not** have a prior criminal conviction. So, rows where $c_i = 0$. In this case, Model 1 becomes:\n",
    "\n",
    "$$\n",
    "\\log\\left[\n",
    "  \\frac\n",
    "    {\\Pr(H_i = 1 \\mid R_i = r_i, C_i = 0)}\n",
    "    {1 - \\Pr(H_i = 1 \\mid R_i = r_i, C_i = 0)}\n",
    "\\right] = \\begin{cases}\n",
    "\\alpha &\\text{if }r_i = 0, \\\\\n",
    "\\alpha + \\beta_r &\\text{if }r_i = 1\n",
    "\\end{cases}\n",
    "$$\n",
    "\n",
    "And this means that the estimated difference in the log-odds of `sayhire`, between the white and black vignettes, will just be $\\beta_r$.\n",
    "\n",
    "Next, consider the vignettes where Chad **does** have a prior criminal conviction. For these observations $i$ with $c_i = 1$, Model 1 instead becomes:\n",
    "\n",
    "$$\n",
    "\\log\\left[\n",
    "  \\frac{p_i}{1 - p_i}\n",
    "\\right] = \\begin{cases}\n",
    "\\alpha + \\beta_c &\\text{if }r_i = 0, \\\\\n",
    "\\alpha + \\beta_c + \\beta_r &\\text{if }r_i = 1\n",
    "\\end{cases}\n",
    "$$\n",
    "\n",
    "So, the estimated difference in the log-odds of `sayhire`, between the black and white vignettes, will again just be $\\beta_r$ here.\n",
    "\n",
    "The takeaway from all this is that **omitting the interaction term means we're *assuming* that the `race` variable has the same impact on the log-odds of `sayhire` for *former-conviction-Chad* and *no-former-conviction-Chad*... Now let's compare this with the version of the model which *includes* the interaction term:\n",
    "\n",
    "### Model 2: Interaction Term Included\n",
    "\n",
    "$$\n",
    "\\log\\left[\n",
    "  \\frac{p_i}{1 - p_i}\n",
    "\\right] = \\alpha + \\beta_c c_i + \\beta_r r_i + \\beta_{cr}(c_i r_i),\n",
    "$$\n",
    "\n",
    "Consider again the vignettes where Chad does **not** have a prior criminal conviction. So, rows where $c_i = 0$. Model 2 then becomes:\n",
    "\n",
    "$$\n",
    "\\log\\left[\n",
    "  \\frac{p_i}{1 - p_i}\n",
    "\\right] = \\begin{cases}\n",
    "\\alpha &\\text{if }r_i = 0, \\\\\n",
    "\\alpha + \\beta_r &\\text{if }r_i = 1\n",
    "\\end{cases}\n",
    "$$\n",
    "\n",
    "So that, like in Model 1, the estimated difference in the log-odds of `sayhire` between the white and black vignettes is just $\\beta_r$.\n",
    "\n",
    "However, now consider the vignettes where Chad **does** have a prior criminal conviction. For these observations $i$ with $c_i = 1$, Model 2 becomes:\n",
    "\n",
    "$$\n",
    "\\log\\left[\n",
    "  \\frac{p_i}{1 - p_i}\n",
    "\\right] = \\begin{cases}\n",
    "\\alpha + \\beta_c &\\text{if }r_i = 0, \\\\\n",
    "\\alpha + \\beta_c + \\beta_r + \\beta_{cr} &\\text{if }r_i = 1\n",
    "\\end{cases}\n",
    "$$\n",
    "\n",
    "So that now the estimated difference in the log-odds of `sayhire` between the black and white vignettes takes on a **different** value from that of Model 1: $\\beta_r + \\beta_{cr}$\n",
    "\n",
    "The takeaway, if you've read this far, is that **Model 2 provides us with an additional free parameter** that we can use to estimate the **differential impact of `race` on applicants with and without prior convictions (and, symmetrically, the differential impact of `conviction` for white vs. black applicants)!**"
   ]
  },
  {
   "cell_type": "markdown",
   "id": "037befe9-5397-42cc-af16-d9ed498d2f5e",
   "metadata": {},
   "source": [
    "### [Question 1.5.1] Write and Visualize the Logistic Regression Model"
   ]
  },
  {
   "cell_type": "markdown",
   "id": "43938ee4-44d3-4ddc-a0fc-da0e57e85120",
   "metadata": {},
   "source": [
    "This is your time to shine! Use what you know about logistic regression (from, e.g., the above discussion) and PyMC to construct a **multivariate model of employer attitudes** named `mva_model` (`mva_model` as in, **m**ulti**v**ariate **a**ttitude model).\n",
    "\n",
    "The main hint for this part is just that, given the above discussion on using $\\text{logit}^{-1}(\\cdot)$ to \"translate\" back and forth between $(-\\infty,infty)$ and $[0,1]$, **you will likely find PyMC's `pm.math.invlogit()` function extremely helpful!**\n",
    "\n",
    "Once you've written the model, uncomment the `pm.model_to_graphviz()` call provided at the end of the code cell to visualize the model as a PGM. If set up correctly (though there are multiple ways of writing this model!), it should look something like the following:\n",
    "\n",
    "<center>\n",
    "<img src=\"https://raw.githubusercontent.com/jpowerj/dsan-content/57a1df179d9e74464a80dc337e96851623d30a65/2025-sum-dsan5650/hw3/sayhire_multivar.svg\" width=\"60%\" />\n",
    "</center>"
   ]
  },
  {
   "cell_type": "code",
   "execution_count": null,
   "id": "2ab0f7c2-23a5-44b0-bc31-54032d736c52",
   "metadata": {},
   "outputs": [],
   "source": [
    "# @title Q1.5.1-response\n",
    "coords = {'response_id': X_train.index.values}\n",
    "\n",
    "# Your code here: Implement multivariate (logistic regression) model as described\n",
    "# above\n",
    "\n",
    "# Once you've written the model, uncomment the following line to generate a\n",
    "# visual PGM representation of the model\n",
    "\n",
    "# pm.model_to_graphviz(mva_model)"
   ]
  },
  {
   "cell_type": "code",
   "execution_count": 96,
   "id": "cb75f583-2eb7-4ebd-aead-e14faf379f70",
   "metadata": {},
   "outputs": [
    {
     "data": {
      "text/plain": [
       "{'mva_model defined': '✅ Passed!'}"
      ]
     },
     "execution_count": 96,
     "metadata": {},
     "output_type": "execute_result"
    }
   ],
   "source": [
    "# @title Q1.5.1-public-tests\n",
    "q1_5_1_public_tests = {\n",
    "    'mva_model defined': '✅ Passed!' if 'mva_model' in globals() else \"🔲 No variable named 'mva_model' exists in Python memory\",\n",
    "}\n",
    "q1_5_1_public_tests"
   ]
  },
  {
   "cell_type": "markdown",
   "id": "b6d94339-18c2-42a3-8b53-3a4a3301d813",
   "metadata": {},
   "source": [
    "### [Question 1.5.2] Parameter RVs vs. Data RVs"
   ]
  },
  {
   "cell_type": "markdown",
   "id": "17135ee7-dd3b-41b7-becb-9ddaa1a3dd54",
   "metadata": {},
   "source": [
    "As you did in earlier parts, specify which of the following Python variables represent **latent *parameters* that we'd like to estimate via `mva_model`**:\n",
    "\n",
    "* (a) `con_obs`\n",
    "* (b) `race_obs`\n",
    "* (c) `beta_c`\n",
    "* (d) `beta_rc`\n",
    "* (e) `beta_r`\n",
    "* (f) `alpha`\n",
    "* (g) `p_sayhire`\n",
    "* (h) `sayhire`\n",
    "* (i) `sayhire_obs`"
   ]
  },
  {
   "cell_type": "code",
   "execution_count": 97,
   "id": "d3b9dc96-63ed-426f-812c-16ab318ce1fe",
   "metadata": {},
   "outputs": [],
   "source": [
    "# @title Q1.5.2-response\n",
    "q1_5_2_response = {\n",
    "    'a': False,\n",
    "    'b': False,\n",
    "    'c': False,\n",
    "    'd': False,\n",
    "    'e': False,\n",
    "    'f': False,\n",
    "    'g': False,\n",
    "    'h': False,\n",
    "    'i': False,\n",
    "}"
   ]
  },
  {
   "cell_type": "code",
   "execution_count": 98,
   "id": "4a7dce88-c293-4ae2-b6f7-3d24d033ed7a",
   "metadata": {},
   "outputs": [
    {
     "data": {
      "text/plain": [
       "{'q1_5_2_response defined': '✅ Passed!'}"
      ]
     },
     "execution_count": 98,
     "metadata": {},
     "output_type": "execute_result"
    }
   ],
   "source": [
    "# @title Q1.5.2-public-tests\n",
    "q1_5_2_public_tests = {\n",
    "    'q1_5_2_response defined': '✅ Passed!' if 'q1_5_2_response' in globals() else \"🔲 No variable named 'q1_5_2_response' exists in Python memory\",\n",
    "}\n",
    "q1_5_2_public_tests"
   ]
  },
  {
   "cell_type": "markdown",
   "id": "895e11ca-aa3f-4030-9ca8-9e75e26e7390",
   "metadata": {},
   "source": [
    "### [Question 1.5.3] Estimate Model Parameters"
   ]
  },
  {
   "cell_type": "markdown",
   "id": "6ebf872a-980b-45d4-bba7-6547fa5ae70a",
   "metadata": {},
   "source": [
    "As you did in earlier parts, here estimate the posterior distributions over possible values of the parameters in `mva_model`, storing the result in a variable named `mva_idata`. The provided code will condense these full distributions down into their **means**, which you'll then **interpret** in Question 1.5.4."
   ]
  },
  {
   "cell_type": "code",
   "execution_count": null,
   "id": "9bb4dcaa-e22a-480a-bc20-06de81c9631e",
   "metadata": {},
   "outputs": [],
   "source": [
    "# @title Q1.5.3-response\n",
    "\n",
    "# Your code here: Estimate posterior distributions\n",
    "\n",
    "# Once you've stored the posterior estimates in mva_idata, uncomment the following\n",
    "# line to generate a summary table of the model parameter distributions\n",
    "\n",
    "# az.summary(mva_idata)"
   ]
  },
  {
   "cell_type": "code",
   "execution_count": 101,
   "id": "14f7be12-90b6-413e-ae99-5e83781d24e7",
   "metadata": {},
   "outputs": [
    {
     "data": {
      "text/plain": [
       "{'mva_idata defined': '✅ Passed!'}"
      ]
     },
     "execution_count": 101,
     "metadata": {},
     "output_type": "execute_result"
    }
   ],
   "source": [
    "# @title Q1.5.3-public-tests\n",
    "q1_5_3_public_tests = {\n",
    "    'mva_idata defined': '✅ Passed!' if 'mva_idata' in globals() else \"🔲 No variable named 'mva_idata' exists in Python memory\",\n",
    "}\n",
    "q1_5_3_public_tests"
   ]
  },
  {
   "cell_type": "markdown",
   "id": "639f7ebd-2161-4d39-ad19-35610669bff7",
   "metadata": {},
   "source": [
    "### [Question 1.5.4] Interpret Parameter Distributions"
   ]
  },
  {
   "cell_type": "markdown",
   "id": "177ae635-0e92-4deb-8d04-7d8a7fdf2451",
   "metadata": {},
   "source": [
    "Since we now have a multivariable model, there are **four** different **point estimates** that we can derive solely from our estimates of `alpha`, `beta_r`, `beta_c`, and `beta_rc`:\n",
    "\n",
    "* $\\Pr(\\texttt{dohire}_i \\mid \\texttt{race}_i = \\text{White}, \\texttt{con}_i = 0)$\n",
    "* $\\Pr(\\texttt{dohire}_i \\mid \\texttt{race}_i = \\text{Black}, \\texttt{con}_i = 0)$\n",
    "* $\\Pr(\\texttt{dohire}_i \\mid \\texttt{race}_i = \\text{White}, \\texttt{con}_i = 1)$\n",
    "* $\\Pr(\\texttt{dohire}_i \\mid \\texttt{race}_i = \\text{Black}, \\texttt{con}_i = 1)$"
   ]
  },
  {
   "cell_type": "code",
   "execution_count": 107,
   "id": "7b749201-f6b8-49c3-a35d-d9a72e2a6434",
   "metadata": {},
   "outputs": [],
   "source": [
    "# @title Q1.5.4-response\n",
    "# Your code here: compute conditional probability estimates,\n",
    "# using the mvm_estimates Series object you created above\n",
    "\n",
    "# Once they're computed, replace None values at the end of the code cell with\n",
    "# the estimated probability values\n",
    "from enum import Enum\n",
    "from dataclasses import dataclass\n",
    "\n",
    "class Race:\n",
    "    White = 0\n",
    "    Black = 1\n",
    "\n",
    "@dataclass(frozen=True)\n",
    "class TesterProfile:\n",
    "    race: Race\n",
    "    conviction: bool\n",
    "\n",
    "# (Replace None values to complete the dictionary object)\n",
    "q1_5_4_response = {\n",
    "    TesterProfile(race=\"White\", conviction=0): None,\n",
    "    TesterProfile(race=\"White\", conviction=1): None,\n",
    "    TesterProfile(race=\"Black\", conviction=0): None,\n",
    "    TesterProfile(race=\"Black\", conviction=1): None,\n",
    "}"
   ]
  },
  {
   "cell_type": "code",
   "execution_count": 108,
   "id": "abf3eaa9-6066-4d47-8ed1-9def4c4bae19",
   "metadata": {},
   "outputs": [
    {
     "data": {
      "text/plain": [
       "{'q1_5_4_response defined': '✅ Passed!',\n",
       " 'No None values': \"🔲 One or more of the values in 'q1_5_4_response' is None\"}"
      ]
     },
     "execution_count": 108,
     "metadata": {},
     "output_type": "execute_result"
    }
   ],
   "source": [
    "# @title Q1.5.4-public-tests\n",
    "def all_none(response_dict):\n",
    "    response_vals = list(response_dict.values())\n",
    "    return all([v is None for v in response_vals])\n",
    "q1_5_4_public_tests = {\n",
    "    'q1_5_4_response defined': '✅ Passed!' if 'q1_5_4_response' in globals() else \"🔲 No variable named 'q1_5_4_response' exists in Python memory\",\n",
    "    'No None values': '✅ Passed!' if ('q1_5_4_response' in globals()) and (not all_none(q1_5_4_response)) else \"🔲 One or more of the values in 'q1_5_4_response' is None\",\n",
    "}\n",
    "q1_5_4_public_tests"
   ]
  },
  {
   "cell_type": "markdown",
   "id": "0c3bc6e8-873a-48ca-bb0f-075404024f50",
   "metadata": {},
   "source": [
    "### [Question 1.5.5] Evaluate Predictive Performance on Training Data"
   ]
  },
  {
   "cell_type": "code",
   "execution_count": null,
   "id": "55c254f7-9ca7-46fd-886b-46ea7677fde3",
   "metadata": {},
   "outputs": [],
   "source": [
    "# @title Q1.5.5-response\n",
    "\n",
    "# Your code here: draw from posterior predictive distribution of mva_model\n",
    "\n",
    "az.summary(mva_train_idata)\n",
    "mva_train_means = mva_train_idata.posterior_predictive['hired'].mean(dim=['chain','draw'])\n",
    "plot_roc(y_train, mva_train_meanhired, \"Train ROC: Multivar Model\")"
   ]
  },
  {
   "cell_type": "code",
   "execution_count": 109,
   "id": "f59788a9-25fd-47f3-8a1f-fb17d4518828",
   "metadata": {},
   "outputs": [
    {
     "data": {
      "text/plain": [
       "{'mva_train_idata defined': \"🔲 No variable named 'mva_train_idata' exists in Python memory\"}"
      ]
     },
     "execution_count": 109,
     "metadata": {},
     "output_type": "execute_result"
    }
   ],
   "source": [
    "# @title Q1.5.5-public-tests\n",
    "q1_5_5_public_tests = {\n",
    "    'mva_train_idata defined': '✅ Passed!' if 'mva_train_idata' in globals() else \"🔲 No variable named 'mva_train_idata' exists in Python memory\",\n",
    "}\n",
    "q1_5_5_public_tests"
   ]
  },
  {
   "cell_type": "markdown",
   "id": "9710ce32-a489-4426-90d1-95e0e0140a9d",
   "metadata": {},
   "source": [
    "### [Question 1.5.6] Evaluate Predictive Performance on Test Data"
   ]
  },
  {
   "cell_type": "code",
   "execution_count": null,
   "id": "9f83219b-f881-43ee-825a-80cfb8f09568",
   "metadata": {},
   "outputs": [],
   "source": [
    "# @title Q1.5.6-response\n",
    "mva_test_coords = {\n",
    "    'i': X_test.index.values\n",
    "}\n",
    "\n",
    "# Your code here: Update data in mva_model to be test data, then re-estimate\n",
    "# posterior predictive distributions\n",
    "\n",
    "# Provided code step 1: Compute posterior predictive means\n",
    "mva_test_meanhired = mva_test_idata.posterior_predictive['hired'].mean(dim=['chain','draw'])\n",
    "# Provided code step 2: Plot test ROC curve\n",
    "mva_auc = plot_roc(y_test, mva_test_meanhired, \"Test ROC: Multivar Model\")\n",
    "# Provided code step 3: Store resulting AUC score\n",
    "survey_model_aucs['multivar'] = mva_auc\n",
    "survey_model_aucs"
   ]
  },
  {
   "cell_type": "code",
   "execution_count": 125,
   "id": "c8695dac-eb45-4089-9b3a-6c63e8fbd7c1",
   "metadata": {},
   "outputs": [
    {
     "data": {
      "text/plain": [
       "{'mva_test_idata defined': \"🔲 No variable named 'mva_test_idata' exists in Python memory\"}"
      ]
     },
     "execution_count": 125,
     "metadata": {},
     "output_type": "execute_result"
    }
   ],
   "source": [
    "# @title Q1.5.6-public-tests\n",
    "q1_5_6_public_tests = {\n",
    "    'mva_test_idata defined': '✅ Passed!' if 'mva_test_idata' in globals() else \"🔲 No variable named 'mva_test_idata' exists in Python memory\",\n",
    "}\n",
    "q1_5_6_public_tests"
   ]
  },
  {
   "cell_type": "markdown",
   "id": "2fc6fbc0-ea9d-4909-9efc-21d876bd733f",
   "metadata": {},
   "source": [
    "### [Question 1.5.7] Check (Approximate) Agreement with `scikit-learn`"
   ]
  },
  {
   "cell_type": "code",
   "execution_count": 6,
   "id": "d1ba0809-730e-4988-8f4c-9425417c3fc1",
   "metadata": {
    "execution": {
     "iopub.execute_input": "2025-07-29T10:35:21.860011Z",
     "iopub.status.busy": "2025-07-29T10:35:21.859781Z",
     "iopub.status.idle": "2025-07-29T10:35:22.840855Z",
     "shell.execute_reply": "2025-07-29T10:35:22.840270Z",
     "shell.execute_reply.started": "2025-07-29T10:35:21.859994Z"
    }
   },
   "outputs": [],
   "source": [
    "# @title Q1.5.7-response\n",
    "from sklearn.linear_model import LogisticRegression\n",
    "\n",
    "# Your code here: estimate the same parameters, using the same data, but with\n",
    "# scikit-learn's LogisticRegression() class rather than PyMC"
   ]
  },
  {
   "cell_type": "code",
   "execution_count": 7,
   "id": "54fcdc8a-ce95-4e6f-8a9c-40fc7fda4261",
   "metadata": {
    "execution": {
     "iopub.execute_input": "2025-07-29T10:36:30.843143Z",
     "iopub.status.busy": "2025-07-29T10:36:30.842825Z",
     "iopub.status.idle": "2025-07-29T10:36:30.847683Z",
     "shell.execute_reply": "2025-07-29T10:36:30.847195Z",
     "shell.execute_reply.started": "2025-07-29T10:36:30.843125Z"
    }
   },
   "outputs": [
    {
     "data": {
      "text/plain": [
       "{'lr_model defined': \"🔲 No variable named 'lr_model' exists in Python memory\",\n",
       " 'lr_coefs defined': \"🔲 No variable named 'lr_coefs' exists in Python memory\",\n",
       " 'lr_predictions defined': \"🔲 No variable named 'lr_predictions' exists in Python memory\"}"
      ]
     },
     "execution_count": 7,
     "metadata": {},
     "output_type": "execute_result"
    }
   ],
   "source": [
    "# @title Q1.5.7-public-tests\n",
    "q1_5_7_public_tests = {\n",
    "    'lr_model defined': '✅ Passed!' if 'lr_model' in globals() else \"🔲 No variable named 'lr_model' exists in Python memory\",\n",
    "    'lr_coefs defined': '✅ Passed!' if 'lr_coefs' in globals() else \"🔲 No variable named 'lr_coefs' exists in Python memory\",\n",
    "    'lr_predictions defined': '✅ Passed!' if 'lr_predictions' in globals() else \"🔲 No variable named 'lr_predictions' exists in Python memory\",\n",
    "}\n",
    "q1_5_7_public_tests"
   ]
  },
  {
   "cell_type": "markdown",
   "id": "4cbb1906-aef4-4321-9242-944bca9b4075",
   "metadata": {},
   "source": [
    "## [Part 1.6] Comparing Models"
   ]
  },
  {
   "cell_type": "markdown",
   "id": "4d880b23-ad12-4544-a0cf-5e64bdf1d717",
   "metadata": {},
   "source": [
    "You made it! The last thing to do is just to **plot the AUC scores** for each of the models we've estimated, to see which one comes out on top in terms of predictive accuracy for **unseen** survey responses!\n",
    "\n",
    "If you've implemented and estimated everything correctly in Parts 1.1 through 1.5, you should be able to run the following cell to generate this comparative plot (and receive free points!)"
   ]
  },
  {
   "cell_type": "markdown",
   "id": "e76e4ed7-9cc7-4a97-8a30-b89ff8a18ba6",
   "metadata": {},
   "source": [
    "### [Question 1.6.1] Generate Model-Comparison Plot"
   ]
  },
  {
   "cell_type": "code",
   "execution_count": null,
   "id": "b01614a5-e34a-4c71-a1bb-024a133d3499",
   "metadata": {},
   "outputs": [],
   "source": [
    "# @title Q1.6.1-response\n",
    "# (No need to change anything here; free points!)\n",
    "auc_df = pd.DataFrame(survey_model_aucs.items(), columns=['model','auc'])\n",
    "ax = pw.Brick(figsize=(5, 3.5));\n",
    "sns.barplot(\n",
    "    x='model', y='auc', data=auc_df, ax=ax\n",
    ");\n",
    "ax.set_title(\"Out-of-Sample Predictive Performance, Employer Attitude Models\")\n",
    "ax.savefig()"
   ]
  },
  {
   "cell_type": "code",
   "execution_count": null,
   "id": "186e33e1-c94b-4b4a-9bf9-61877457a15c",
   "metadata": {},
   "outputs": [],
   "source": [
    "# @title Q1.6.1-public-tests\n",
    "q1_6_1_public_tests = {\n",
    "    'auc_df defined': '✅ Passed!' if 'auc_df' in globals() else \"🔲 No variable named 'auc_df' exists in Python memory\",\n",
    "}\n",
    "q1_6_1_public_tests"
   ]
  },
  {
   "cell_type": "markdown",
   "id": "c3bd7f8a-a2c2-4971-be10-c6e766e736c1",
   "metadata": {},
   "source": [
    "### [Question 1.6.2] Best-Performing Model\n",
    "\n",
    "Which model performed best? **(Choose one option, by replacing the blank string in the response cell with the letter of the option)**\n",
    "\n",
    "* (a) The baseline model (`nofeats`)\n",
    "* (b) The conviction-only model (`conviction_only`)\n",
    "* (c) The race-only model (`race_only`)\n",
    "* (d) The multivariate logistic regression movel (`multivar`)"
   ]
  },
  {
   "cell_type": "code",
   "execution_count": 121,
   "id": "c7bafccb-7d6e-4270-ba22-ec2dd994eb71",
   "metadata": {},
   "outputs": [],
   "source": [
    "# @title Q1.6.2-response\n",
    "q1_6_2_response = \"\" # Replace with the letter for the option you'd like to choose, e.g., \"a\" for option (a)"
   ]
  },
  {
   "cell_type": "code",
   "execution_count": 122,
   "id": "0fb5265c-44ba-4eda-a36c-03cce6779c80",
   "metadata": {},
   "outputs": [
    {
     "data": {
      "text/plain": [
       "{'q1_6_2_response defined': '✅ Passed!'}"
      ]
     },
     "execution_count": 122,
     "metadata": {},
     "output_type": "execute_result"
    }
   ],
   "source": [
    "# @title Q1.6.2-public-tests\n",
    "q1_6_2_public_tests = {\n",
    "    'q1_6_2_response defined': '✅ Passed!' if 'q1_6_2_response' in globals() else \"🔲 No variable named 'q1_6_2_response' exists in Python memory\",\n",
    "}\n",
    "q1_6_2_public_tests"
   ]
  },
  {
   "cell_type": "markdown",
   "id": "24308e16-d741-4237-8ef0-38f84de36dbb",
   "metadata": {},
   "source": [
    "### [Question 1.6.3] Expected Best-Performing Model"
   ]
  },
  {
   "cell_type": "markdown",
   "id": "bb24dafa-4d23-455b-aabd-67676df12735",
   "metadata": {},
   "source": [
    "Is it the model you were expecting? **(Choose one option as in Q1.6.2... No incorrect answers! Free points!)**\n",
    "\n",
    "* (a) Yes\n",
    "* (b) No"
   ]
  },
  {
   "cell_type": "code",
   "execution_count": 123,
   "id": "4fb9fb97-0d5a-46da-9a56-a47bc07683d2",
   "metadata": {},
   "outputs": [],
   "source": [
    "# @title Q1.6.3-response\n",
    "q1_6_3_response = \"\" # Replace with the letter for the option you'd like to choose, e.g., \"a\" for option (a)"
   ]
  },
  {
   "cell_type": "code",
   "execution_count": 124,
   "id": "be9c4540-5481-4039-9449-a48a701823f3",
   "metadata": {},
   "outputs": [
    {
     "data": {
      "text/plain": [
       "{'q1_6_3_response defined': '✅ Passed!'}"
      ]
     },
     "execution_count": 124,
     "metadata": {},
     "output_type": "execute_result"
    }
   ],
   "source": [
    "# @title Q1.6.3-public-tests\n",
    "q1_6_3_public_tests = {\n",
    "    'q1_6_3_response defined': '✅ Passed!' if 'q1_6_3_response' in globals() else \"🔲 No variable named 'q1_6_3_response exists in Python memory\",\n",
    "}\n",
    "q1_6_3_public_tests"
   ]
  },
  {
   "cell_type": "markdown",
   "id": "b7548884-1735-4cdf-b5fa-946c952989dc",
   "metadata": {},
   "source": [
    "*(...I suppose Q1.6.3 was a somewhat leading question. But the takeaway is **not** that Bayesian Logistic Regression itself is trash! Rather, it's that we need to learn about **regularizing priors**, which we should get to by Week 12!)*\n",
    "\n",
    "Onto **Part 2!**"
   ]
  },
  {
   "cell_type": "markdown",
   "id": "98199c84-051d-4dbb-8630-6084216a09a9",
   "metadata": {},
   "source": [
    "# [Part 2] Modeling *Behaviors* with Experimental Audit Data\n",
    "\n",
    "In this part, we'll start to see the issue with conflating attitudes and behavior (so, in other words, the dangers that can arise from assuming that **survey responses** can be used as a \"mirror\" for real-world **behavior**), which will motivate the move in Part 3 below to *merge* the survey and experimental-audit data and analyze this discrepancy itself.\n",
    "\n",
    "But, don't worry! This part won't involve another 7 tedious steps of doing the same thing you did in Part 1! Instead, we'll use it as an opportunity to explore a package called [**Bambi**](https://bambinos.github.io/bambi/), which is essentially a wrapper around more in-the-weeds Bayesian model-building tools like PyMC.\n",
    "\n",
    "> *The **social contract** here, though, is that you promise to **keep your Bayesian modeling skills sharp**, the skills you've built in HW2 and in Part 1 above!*\n",
    ">\n",
    "> *I say that here because, using Bambi essentially takes us *away from* the PyMC modeling approach---the **\"learning a modeling *language*\"** approach---and back towards just choosing from a collection of pre-made, \"off-the-shelf\" algorithms: the approach of using `lm()` or `statsmodels` for example.*\n",
    "\n",
    "So yeah, in general I want you to avoid seeing `lm()` or `statsmodels` as \"default\" approaches, and instead see them as tools you can take advantage of **after** you've gone through the modeling steps and determined that the assumptions underlying e.g. logistic regression are appropriate for your scenario. *But*, since you just trooped through the non-off-the-shelf \"hard mode\" approach in Part 1, and \"arrived at\" the use of logistic regression in Part 1.6, in this part we'll basically just skip those hard parts and ask Bambi to run a Bayesian logistic regression for us (with PyMC still running \"under the hood\"!)"
   ]
  },
  {
   "cell_type": "code",
   "execution_count": null,
   "id": "9b85fdc5-f7ab-4816-87e1-91ca871f007c",
   "metadata": {},
   "outputs": [],
   "source": []
  }
 ],
 "metadata": {
  "kernelspec": {
   "display_name": "3.11.5",
   "language": "python",
   "name": "python3"
  },
  "language_info": {
   "codemirror_mode": {
    "name": "ipython",
    "version": 3
   },
   "file_extension": ".py",
   "mimetype": "text/x-python",
   "name": "python",
   "nbconvert_exporter": "python",
   "pygments_lexer": "ipython3",
   "version": "3.11.5"
  },
  "widgets": {
   "application/vnd.jupyter.widget-state+json": {
    "state": {},
    "version_major": 2,
    "version_minor": 0
   }
  }
 },
 "nbformat": 4,
 "nbformat_minor": 5
}
