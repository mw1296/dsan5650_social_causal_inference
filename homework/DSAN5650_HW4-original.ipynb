{
 "cells": [
  {
   "cell_type": "markdown",
   "id": "6cbf1aba-f0c4-460e-810f-9574624ccd48",
   "metadata": {},
   "source": [
    "# DSAN5650 Homework 4: \"Cross-Prediction\" of Attitudes and Behaviors"
   ]
  },
  {
   "cell_type": "code",
   "execution_count": null,
   "id": "6f03292b-a552-4c23-9f48-05f58b154f44",
   "metadata": {
    "execution": {
     "iopub.execute_input": "2025-08-01T08:14:28.619885Z",
     "iopub.status.busy": "2025-08-01T08:14:28.619575Z",
     "iopub.status.idle": "2025-08-01T08:14:28.751021Z",
     "shell.execute_reply": "2025-08-01T08:14:28.750616Z",
     "shell.execute_reply.started": "2025-08-01T08:14:28.619865Z"
    }
   },
   "outputs": [],
   "source": [
    "import corrections\n",
    "corrections.fetch(\"HW4\")"
   ]
  },
  {
   "cell_type": "markdown",
   "id": "6f4f10e6-809d-4ba4-9b2e-02a974c598c0",
   "metadata": {},
   "source": [
    "# [Part 2] Modeling *Behaviors* with Experimental Audit Data\n",
    "\n",
    "In this part, we'll start to see the issue with conflating attitudes and behavior (so, in other words, the dangers that can arise from assuming that **survey responses** can be used as a \"mirror\" for real-world **behavior**), which will motivate the move in Part 3 below to *merge* the survey and experimental-audit data and analyze this discrepancy itself.\n",
    "\n",
    "But, don't worry! This part won't involve another 7 tedious steps of doing the same thing you did in Part 1! Instead, we'll use it as an opportunity to explore a package called [**Bambi**](https://bambinos.github.io/bambi/), which is essentially a wrapper around more in-the-weeds Bayesian model-building tools like PyMC.\n",
    "\n",
    "> *The **social contract** here, though, is that you promise to **keep your Bayesian modeling skills sharp**, the skills you've built in HW2 and in Part 1 above!*\n",
    ">\n",
    "> *I say that here because, using Bambi essentially takes us *away from* the PyMC modeling approach---the **\"learning a modeling *language*\"** approach---and back towards just choosing from a collection of pre-made, \"off-the-shelf\" algorithms: the approach of using `lm()` or `statsmodels` for example.*\n",
    "\n",
    "So yeah, in general I want you to avoid seeing `lm()` or `statsmodels` as \"default\" approaches, and instead see them as tools you can take advantage of **after** you've gone through the modeling steps and determined that the assumptions underlying e.g. logistic regression are appropriate for your scenario. *But*, since you just trooped through the non-off-the-shelf \"hard mode\" approach in Part 1, and \"arrived at\" the use of logistic regression in Part 1.5, in this part we'll basically just skip those hard parts and ask Bambi to run a Bayesian logistic regression for us (with PyMC still running \"under the hood\"!)\n",
    "\n",
    "Since this part is similar to Part 1---it's the same analysis, just using the **experimental audit** data with the `dohire` variable rather than the survey data with the `sayhire` dependent variable---there will be less wordy instructions here. So, if you get stuck, you can look back at the equivalent portion of Part 1 for more details!"
   ]
  },
  {
   "cell_type": "markdown",
   "id": "261ddece-57e6-4eaa-802c-def61af76881",
   "metadata": {},
   "source": [
    "**Python Imports**"
   ]
  },
  {
   "cell_type": "code",
   "execution_count": 148,
   "id": "bb42986f-ce2d-4fe6-8337-7ff69a989b3a",
   "metadata": {
    "execution": {
     "iopub.execute_input": "2025-08-01T04:13:17.149621Z",
     "iopub.status.busy": "2025-08-01T04:13:17.149330Z",
     "iopub.status.idle": "2025-08-01T04:13:17.158220Z",
     "shell.execute_reply": "2025-08-01T04:13:17.157729Z",
     "shell.execute_reply.started": "2025-08-01T04:13:17.149604Z"
    }
   },
   "outputs": [
    {
     "data": {
      "text/html": [
       "<style>\n",
       "@import url('https://fonts.googleapis.com/css2?family=Roboto:ital,wght@0,100..900;1,100..900&display=swap');\n",
       ".jp-RenderedHTMLCommon {\n",
       "    font-family: \"Roboto\", sans-serif;\n",
       "}\n",
       "</style>\n"
      ],
      "text/plain": [
       "<IPython.core.display.HTML object>"
      ]
     },
     "metadata": {},
     "output_type": "display_data"
    }
   ],
   "source": [
    "%run jupyter_fixes.ipynb\n",
    "import pandas as pd\n",
    "import numpy as np\n",
    "import matplotlib.pyplot as plt\n",
    "import seaborn as sns\n",
    "import patchworklib as pw\n",
    "\n",
    "import pymc as pm\n",
    "import arviz as az"
   ]
  },
  {
   "cell_type": "markdown",
   "id": "a6d61c1b-c8dd-496d-8d22-167f3f5f5811",
   "metadata": {},
   "source": [
    "**Loading the Data**\n",
    "\n",
    "The following code cell loads the **experimental-audit-level** dataset, `pager_matched_experiments.csv`, where the auditor in each row is uniquely identified by `audit_id`. For each auditor, we have the following information:\n",
    "\n",
    "* `firm_id`: The firm (from the previous dataset) whose application process the auditor went through\n",
    "* `con`: Has the value `0` if the auditor did **not** list/mention a prior criminal conviction in their application, and `1` if the auditor **did** list such a prior conviction\n",
    "* `race_str`: A string variable which is `\"White\"` for the recruited self-reported white auditors and `\"Black\"` for the recruited self-reported black auditors\n",
    "* `race` Same as `race_str`, but with **`\"White\"`** mapped to the int value **`0`** and **`\"Black\"`** mapped to the int value **`1`**\n",
    "* `sayhire`: Has the value **`1`** if the firm said they would \"likely\" hire an applicant (Chad from the survey vignettes) with the same race and conviction-status as the auditor\n",
    "* `dohire`: Has the value **`1`** if the auditor ended up getting a callback from the firm, and **`0`** otherwise"
   ]
  },
  {
   "cell_type": "code",
   "execution_count": null,
   "id": "23b07378-7bb6-4151-86a2-6132b9c2b9cd",
   "metadata": {},
   "outputs": [],
   "source": [
    "exp_df = pd.read_csv(\"pager_matched_experiments.csv\")\n",
    "exp_df.head()"
   ]
  },
  {
   "cell_type": "markdown",
   "id": "bbf02b86-fee3-4f5b-8274-0844d86347cc",
   "metadata": {},
   "source": [
    "**Computing and Visualizing Summary Statistics**\n",
    "\n",
    "To see how the dynamics of **behavior** in this part are drastically different from the dynamics of **attitudes** you estimated in Part 1, the following code cells generate numeric and visual summaries of the experimental audit results (the plot here is the same as the plot from the beginning of HW3A).\n",
    "\n",
    "First, as a nice built-in Pandas function you can use to quickly generate summary statistics, the following cell uses `pd.crosstab()` with the additional `values=` and `aggfunc=` arguments to generate a **two-way cross-tabulation** of the `dohire` rates by race (since `dohire` is a `0`/`1` binary variable, computing the `mean` of this column gives us the proportion of rows containing `1`):"
   ]
  },
  {
   "cell_type": "code",
   "execution_count": null,
   "id": "3a624386-5505-4fe8-9e15-0b4a3ec6665e",
   "metadata": {},
   "outputs": [],
   "source": [
    "pd.crosstab(exp_df['race_str'], exp_df['con'], values=exp_df['dohire'], aggfunc='mean')"
   ]
  },
  {
   "cell_type": "markdown",
   "id": "bfab6d4c-aa3c-4115-8aed-13f9f2f96b7a",
   "metadata": {},
   "source": [
    "As you may already know if you've taken DSAN5200 for example, the `seaborn` library works better with \"long\" data than with the 2x2 structure produced by `pd.crosstab()`. So,  to plot this information more easily, the following code cell generates a 4-row dataset of rates, one row per possible `race_str` x `con` combination:"
   ]
  },
  {
   "cell_type": "code",
   "execution_count": null,
   "id": "e4c240a1-1509-4f4b-80a6-6b8e185ffa5f",
   "metadata": {},
   "outputs": [],
   "source": [
    "exp_rate_df = exp_df.groupby(['race_str','con'])['dohire'].mean().to_frame().reset_index()\n",
    "exp_rate_df.rename(columns={'dohire': 'dohire_rate'}, inplace=True)\n",
    "exp_rate_df"
   ]
  },
  {
   "cell_type": "markdown",
   "id": "837fd885-84c3-4ae9-9019-5d96f6d37a8b",
   "metadata": {},
   "source": [
    "Which we can now just plug into Seaborn to produce the plot you saw at the beginning of HW3A!"
   ]
  },
  {
   "cell_type": "code",
   "execution_count": null,
   "id": "1a648995-411b-425f-8920-5d605db47fd5",
   "metadata": {},
   "outputs": [],
   "source": [
    "ax = pw.Brick(figsize=(3.5, 2.25));\n",
    "sns.barplot(\n",
    "    x=\"race_str\", y='dohire_rate', hue='con', data=exp_rate_df,\n",
    "    alpha=0.85, order=['White','Black'], ax=ax\n",
    ");\n",
    "ax.set_title(\"Experimental Audit Callback Rates\")\n",
    "ax.savefig()"
   ]
  },
  {
   "cell_type": "markdown",
   "id": "d8f273a0-3f59-4225-b0bd-ae5713c50d0f",
   "metadata": {},
   "source": [
    "**The Train-Test Split We'll Use Throughout HW3B**\n",
    "\n",
    "The following code cell uses `scikit-learn`'s `train_test_split()` function, as in HW3A, with `random_state=5650` included to ensure comparability of your implementations with our solutions!"
   ]
  },
  {
   "cell_type": "code",
   "execution_count": null,
   "id": "03b4a775-4328-4789-a1bf-dd958a94105e",
   "metadata": {},
   "outputs": [],
   "source": [
    "from sklearn.model_selection import train_test_split\n",
    "train_df, test_df = train_test_split(exp_df, test_size=0.2, random_state=5650)\n",
    "train_df.shape, test_df.shape"
   ]
  },
  {
   "cell_type": "markdown",
   "id": "e715c2ad-43d9-49e0-ad09-451443dceb0f",
   "metadata": {},
   "source": [
    "And finally, we'll create an `OrderedDict` object like we did in HW3A, for collecting the test AUC values which we'll compare at the end"
   ]
  },
  {
   "cell_type": "code",
   "execution_count": 45,
   "id": "d3badbce-ef24-43ef-bf05-14611d32f963",
   "metadata": {
    "execution": {
     "iopub.execute_input": "2025-08-01T02:17:41.007054Z",
     "iopub.status.busy": "2025-08-01T02:17:41.006813Z",
     "iopub.status.idle": "2025-08-01T02:17:41.010009Z",
     "shell.execute_reply": "2025-08-01T02:17:41.009523Z",
     "shell.execute_reply.started": "2025-08-01T02:17:41.007037Z"
    }
   },
   "outputs": [],
   "source": [
    "from collections import OrderedDict\n",
    "exp_model_aucs = OrderedDict()"
   ]
  },
  {
   "cell_type": "markdown",
   "id": "fccb41a0-9aa2-41fe-88df-b3919c6cb37d",
   "metadata": {},
   "source": [
    "## [Part 2.0] Baseline Model: Intercept Only"
   ]
  },
  {
   "cell_type": "markdown",
   "id": "6468e7c6-725a-4ff8-a06f-aa49f518da6c",
   "metadata": {},
   "source": [
    "As your first Bambi model (and as the first model you should construct in pretty much **any** ML setting!), let's construct the **baseline model** the same way we did in HW3: a model that just \"learns\" the overall mean of `dohire`, and always guesses that mean value as the probability of being hired, regardless of the applicant's characteristics.\n",
    "\n",
    "**Writing the Model in R's Formula Notation**\n",
    "\n",
    "The weird-ish way to do this with Bambi becomes less weird if you keep in mind how **R's formula syntax** (which is also used by Bambi) works. If you ask `glm()` in R to estimate a logistic regression model using a formula like:\n",
    "\n",
    "``` {.r}\n",
    "glm(\"y ~ x1 + x2 + x3\", data = my_df, family = \"binomial\")\n",
    "```\n",
    "\n",
    "R will interpret this as you asking it to estimate the $\\beta$ coefficients of the following regression model:\n",
    "\n",
    "$$\n",
    "\\log\\left[ \\frac{\\Pr(Y = 1)}{1 - \\Pr(Y = 1)} \\right] = \\beta_0 \\cdot 1 + \\beta_1 X_1 + \\beta_2 X_2 + \\beta_3 X_3\n",
    "$$\n",
    "\n",
    "Where $\\beta_0$ is just multiplied by 1 since we want R to estimate this as the **intercept** for the model.\n",
    "\n",
    "So, if we want a model that **just** learns a single parameter, and uses that parameter value to generate the same guess for every observation regardless of characteristics... we want the above formula but without the `x1`, `x2`, and `x3` terms!\n",
    "\n",
    "That's super close to the answer, but, R doesn't actually accept a formula like `\"y ~ \"`, with nothing on the right-hand side, as valid syntax. So what do we do? We look at the above formula, and notice how the intercept we want to estimate is the **coefficient that is just multiplied by 1**. And, the missing piece in `\"y ~ \"` that would make it valid syntax is exactly this `1`. So, to modify the above R code to only estimate an intercept, we'd change it to:\n",
    "\n",
    "``` {.r}\n",
    "glm(\"y ~ 1\", data = my_df, family = \"binomial\")\n",
    "```\n",
    "\n",
    "So, run the code cells in this section the see estimation with Bambi in action (you'll implement your own Bambi models starting in Part 2.3), and notice how:\n",
    "\n",
    "* (a) Bambi uses the **same formula syntax as R**, but\n",
    "* (b) Bambi uses `family=\"bernoulli\"` in place of R's `family=\"binomial\"`."
   ]
  },
  {
   "cell_type": "code",
   "execution_count": 51,
   "id": "9d4be09e-77f8-4cf9-b2f3-301629fe697a",
   "metadata": {
    "execution": {
     "iopub.execute_input": "2025-08-01T02:42:33.968780Z",
     "iopub.status.busy": "2025-08-01T02:42:33.968538Z",
     "iopub.status.idle": "2025-08-01T02:42:33.976001Z",
     "shell.execute_reply": "2025-08-01T02:42:33.975494Z",
     "shell.execute_reply.started": "2025-08-01T02:42:33.968763Z"
    }
   },
   "outputs": [],
   "source": [
    "import bambi as bmb\n",
    "nofeats_model = bmb.Model('dohire ~ 1', data=train_df, family='bernoulli')"
   ]
  },
  {
   "cell_type": "markdown",
   "id": "7e87473c-acf0-48a3-b8d2-18eae2bf4ad5",
   "metadata": {},
   "source": [
    "Everything from this point onwards will start to feel more like PyMC! Which makes sense since Bambi is mainly intended as a \"wrapper\" around estimation libraries like PyMC which eases the pain of having to manually choose prior distributions.\n",
    "\n",
    "For example, the following two steps serve as Bambi's equivalent to PyMC's `pm.model_to_graphviz()`:"
   ]
  },
  {
   "cell_type": "code",
   "execution_count": null,
   "id": "9ed1a2c8-283e-4e83-93b7-c93e9f654981",
   "metadata": {},
   "outputs": [],
   "source": [
    "# This step doesn't really have an equivalent in PyMC, since, it's Bambi's\n",
    "# signal to *pair* the variables you specified in the previous code cell with\n",
    "# appropriate *prior* distributions:\n",
    "nofeats_model.build()\n",
    "\n",
    "# Once the model has been built, however, the following becomes Bambi's direct\n",
    "# equivalent of PyMC's pm.model_to_graphviz():\n",
    "nofeats_model.graph()"
   ]
  },
  {
   "cell_type": "markdown",
   "id": "d4425e6b-e7a8-4685-ba59-24d19d20b541",
   "metadata": {},
   "source": [
    "**Posterior Estimation**\n",
    "\n",
    "The next cell produces the same **result** as the posterior-estimation step in PyMC (the step where you call `pm.Sample()`). But, notice how:\n",
    "\n",
    "* (a) We use `.fit()` rather than `.sample()` (since Bambi also \"shifts\" the syntax more towards `scikit-learn`'s `fit()`-`transform()` setup), and\n",
    "* (b) We no longer need to use PyMC's indented `with my_model:` syntax!"
   ]
  },
  {
   "cell_type": "code",
   "execution_count": null,
   "id": "7b094a64-6c39-4e8e-b4b1-0353f39b2cf3",
   "metadata": {},
   "outputs": [],
   "source": [
    "nofeats_idata = nofeats_model.fit(random_seed=5650)"
   ]
  },
  {
   "cell_type": "markdown",
   "id": "faa98818-e6ae-4c01-b57f-eec3c79a68de",
   "metadata": {},
   "source": [
    "If the call to `fit()` ran successfully (which it should!), `nofeats_idata` will now have a `.posterior` attribute you can use to access the $N = 4000$ samples of `Intercept` values from the posterior distribution:"
   ]
  },
  {
   "cell_type": "code",
   "execution_count": null,
   "id": "168e2b17-2a27-4c0c-8a87-2d7a9515d641",
   "metadata": {},
   "outputs": [],
   "source": [
    "nofeats_idata.posterior['Intercept']"
   ]
  },
  {
   "cell_type": "markdown",
   "id": "c8501788-50d3-4fe0-aad4-9d876a9b4453",
   "metadata": {},
   "source": [
    "And, like you've done with PyMC before, if we want a **point estimate** for the Intercept we can use `.mean(dim=['chain','draw'])` to compute the average value of this parameter over all $N = 4000$ samples:"
   ]
  },
  {
   "cell_type": "code",
   "execution_count": null,
   "id": "40fe32f6-b145-48e8-a5fc-b6302382b3d1",
   "metadata": {},
   "outputs": [],
   "source": [
    "intercept_mean = float(nofeats_idata.posterior['Intercept'].mean(dim=['chain','draw']))\n",
    "intercept_mean"
   ]
  },
  {
   "cell_type": "markdown",
   "id": "1253921a-c088-472d-96e3-54fb2621cb78",
   "metadata": {},
   "source": [
    "Keep in mind once again that this coefficient value **isn't a probability on its own**, but a \"log-odds\" value. The model we're estimating here is:\n",
    "\n",
    "$$\n",
    "\\log\\left[ \\frac{\\Pr(Y = 1)}{1 - \\Pr(Y = 1)} \\right] = \\alpha\n",
    "$$\n",
    "\n",
    "Meaning that we need to apply our friend the `expit()` function to transform this point estimate of the intercept into a human-interpretable probability value:"
   ]
  },
  {
   "cell_type": "code",
   "execution_count": null,
   "id": "f8610ee6-fa20-424e-9796-75d941d3c130",
   "metadata": {},
   "outputs": [],
   "source": [
    "from scipy.special import expit\n",
    "expit(intercept_mean)"
   ]
  },
  {
   "cell_type": "markdown",
   "id": "c6788cf1-184c-4b06-9fc1-4fd1183501ec",
   "metadata": {},
   "source": [
    "Which is very close to the actual observed **mean** value for `dohire` (the \"empirical\" $\\Pr(Y = 1)$ value), just pulled slightly down towards **0** because of the **prior** that Bambi automatically places on the Intercept coefficient in a logistic regression model:"
   ]
  },
  {
   "cell_type": "code",
   "execution_count": null,
   "id": "2dfc72c6-4288-4c7a-9e59-ab196435b6e3",
   "metadata": {},
   "outputs": [],
   "source": [
    "exp_df['dohire'].mean()"
   ]
  },
  {
   "cell_type": "markdown",
   "id": "5f5638bb-1233-4f2e-a669-e5e4583b5f55",
   "metadata": {},
   "source": [
    "*(If you're interested in what specific priors Bambi is choosing, you can use the following syntax to check. For somewhat weird reasons, it uses a standard-normal $\\mathcal{N}(\\mu = 0, \\sigma = 1)$ prior for all of the $\\beta$ coefficients **except for** the intercept, which instead will have a $\\mathcal{N}(\\mu = 0, \\sigma = 1.5)$ prior by default)*"
   ]
  },
  {
   "cell_type": "code",
   "execution_count": null,
   "id": "8bfffe37-3823-43ec-9496-8e9650a63696",
   "metadata": {},
   "outputs": [],
   "source": [
    "nofeats_model.components['p'].terms"
   ]
  },
  {
   "cell_type": "markdown",
   "id": "e1f0642d-96ba-4f85-969d-da9c9033e7c9",
   "metadata": {},
   "source": [
    "**Posterior-Predictive Estimation**\n",
    "\n",
    "The syntax in Bambi that replaces PyMC's `pm.sample_posterior_predictive()` also takes a step towards mirroring `scikit-learn`, by replacing that function with just `.predict()`\n",
    "\n",
    "...However, in a setup that I personally find very confusing, calling `.predict()` on its own does not produce **any** visual indication that anything has happened! Things are happening \"under the hood\", though, don't worry -- to see what `.predict()` does, let's first look at what attributes are stored in `nofeats_idata` right now, *before* we call `.predict()`:"
   ]
  },
  {
   "cell_type": "code",
   "execution_count": null,
   "id": "cf187e2f-5bd7-44a7-bdf3-2874206e537e",
   "metadata": {},
   "outputs": [],
   "source": [
    "nofeats_idata"
   ]
  },
  {
   "cell_type": "markdown",
   "id": "fbf8d3a8-a0df-4af6-9bad-5a17e6ca8e30",
   "metadata": {},
   "source": [
    "You should see that the only **distribution** currently stored is the **posterior** distribution (`sample_stats` just contains information relevant for debugging the Markov Chain Monte Carlo run which produced this distribution, and `observed_data` just \"carries along\" the `train_df` data we provided to `bmb.Model()` above). This is the distribution that was generated via our call to `.fit()` above.\n",
    "\n",
    "So, now let's run `.predict()`, where we'll jump right to **predictive performance on the *test* dataset** by including `data=test_df`."
   ]
  },
  {
   "cell_type": "code",
   "execution_count": null,
   "id": "37823611-11e7-42bb-bdc6-4cb3db5caa84",
   "metadata": {},
   "outputs": [],
   "source": [
    "nofeats_model.predict(nofeats_idata, data=test_df, kind='response')"
   ]
  },
  {
   "cell_type": "markdown",
   "id": "f5e5446f-d689-4cf5-b60c-22afd639043a",
   "metadata": {},
   "source": [
    "Notice how nothing happened, as expected! However, if it ran without any errors, `nofeats_idata` will now **also** have a `posterior_predictive` attribute:"
   ]
  },
  {
   "cell_type": "code",
   "execution_count": null,
   "id": "d55bad49-6239-4f9f-ac12-b0c5838487c1",
   "metadata": {},
   "outputs": [],
   "source": [
    "nofeats_idata"
   ]
  },
  {
   "cell_type": "markdown",
   "id": "8756c157-164f-4fc9-95cd-400404315479",
   "metadata": {},
   "source": [
    "Which we can now use to compute **mean** values for `dohire` for each test observation, like we did in HW3A:"
   ]
  },
  {
   "cell_type": "code",
   "execution_count": null,
   "id": "f519b2af-c61a-44ae-8547-6beda79af858",
   "metadata": {},
   "outputs": [],
   "source": [
    "nofeats_test_dohiremeans = nofeats_idata.posterior_predictive['dohire'].mean(dim=['chain','draw'])\n",
    "nofeats_test_dohiremeans"
   ]
  },
  {
   "cell_type": "markdown",
   "id": "567868c1-e49f-4096-8263-49d97683ba0e",
   "metadata": {},
   "source": [
    "And we can wrap up the baseline model by plotting the test ROC curve and storing the resulting AUC score in `exp_model_aucs`, for comparison at the end! (Note: this is the exact same `plot_roc()` function from HW3A, which you should use so the autograder can autograde pls)"
   ]
  },
  {
   "cell_type": "code",
   "execution_count": null,
   "id": "bf79b1fe-2335-43f3-bceb-c35a8bc65c86",
   "metadata": {},
   "outputs": [],
   "source": [
    "from sklearn.metrics import RocCurveDisplay, auc, roc_curve\n",
    "def plot_roc(true_labels, pred_p_hire, plot_title=\"ROC Curve\"):\n",
    "    ax = pw.Brick(figsize=(3, 3))\n",
    "    model_fpr, model_tpr, model_thresholds = roc_curve(\n",
    "        y_true=true_labels, y_score=pred_p_hire, pos_label=1, drop_intermediate=True\n",
    "    )\n",
    "    model_auc = auc(model_fpr, model_tpr)\n",
    "    roc_display = RocCurveDisplay(fpr=model_fpr, tpr=model_tpr, roc_auc=model_auc)\n",
    "    roc_display = roc_display.plot(ax=ax, marker=\"o\", markersize=2, plot_chance_level=True)\n",
    "    ax.set_title(plot_title);\n",
    "    ax.legend(fontsize=10);\n",
    "    display(ax.savefig())\n",
    "    return model_auc\n",
    "\n",
    "exp_model_aucs['nofeats'] = plot_roc(\n",
    "    test_df['dohire'], nofeats_test_dohiremeans,\n",
    "    \"Test ROC: Audit Outcomes Only\"\n",
    ")\n",
    "exp_model_aucs"
   ]
  },
  {
   "cell_type": "markdown",
   "id": "278edb7c-db4f-4566-9d88-9b5f4e1e45f0",
   "metadata": {},
   "source": [
    "And thus we see that, by learning only the overall mean `dohire` value, we do only slightly better than random chance. In the next 3 parts, it's your turn to estimate the non-baseline models which actually incorporate the information we have for each auditor!"
   ]
  },
  {
   "cell_type": "markdown",
   "id": "c1f23942-7587-46ad-9fa0-b6125db8f7f8",
   "metadata": {},
   "source": [
    "## [Part 2.1] Model With Just Conviction Status"
   ]
  },
  {
   "cell_type": "markdown",
   "id": "544af60b-a9fc-4b3a-a469-f3afe48bda39",
   "metadata": {},
   "source": [
    "### [Question 2.1.1] Write and Fit Model with Bambi"
   ]
  },
  {
   "cell_type": "markdown",
   "id": "15c2fd60-87cf-45c8-b76f-eb648d3ea785",
   "metadata": {},
   "source": [
    "Use what you learned in Part 2.2 to write a new Bambi model, a logistic regression model like before but this time incorporating the auditor's `con` value as the sole predictor (the model should still have an **intercept**, though!). Store the model object itself as `con_model`.\n",
    "\n",
    "Then, use the `.fit()` function to estimate the posterior distribution over the two parameters (the `Intercept` and `con` coefficients), storing the result in `con_idata`."
   ]
  },
  {
   "cell_type": "code",
   "execution_count": 178,
   "id": "dcccbf33-45c9-45fd-bcd8-d26b68cab688",
   "metadata": {
    "execution": {
     "iopub.execute_input": "2025-08-01T04:25:23.310247Z",
     "iopub.status.busy": "2025-08-01T04:25:23.310008Z",
     "iopub.status.idle": "2025-08-01T04:25:23.313582Z",
     "shell.execute_reply": "2025-08-01T04:25:23.313070Z",
     "shell.execute_reply.started": "2025-08-01T04:25:23.310228Z"
    }
   },
   "outputs": [],
   "source": [
    "# @title Q2.1.1-response\n",
    "con_model = None # Your code here: replace with Bambi model as described above\n",
    "con_idata = None # Your code here: estimate posterior distribution of coefficients"
   ]
  },
  {
   "cell_type": "code",
   "execution_count": null,
   "id": "b4f6142a-54fb-427c-a7f7-96c9ec76e167",
   "metadata": {},
   "outputs": [],
   "source": [
    "# @title Q2.1.1-public-tests\n",
    "q2_1_1_public_tests = {\n",
    "    'con_model defined': '✅ Passed!' if 'con_model' in globals() else \"🔲 No variable named 'con_model' exists in Python memory\",\n",
    "    'con_idata defined': '✅ Passed!' if 'con_idata' in globals() else \"🔲 No variable named 'con_idata' exists in Python memory\",\n",
    "}\n",
    "q2_1_1_public_tests"
   ]
  },
  {
   "cell_type": "markdown",
   "id": "755cd761-d26a-44e5-9d17-ded12e0e4c93",
   "metadata": {},
   "source": [
    "If all went well, you should be able to run the following cell to generate the visual PGM representation of `con_model`:\n",
    "\n",
    "*(Note that you do **not** have to call `.build()` if you've already run `.fit()`, which you should have done in the previous response cell! `.fit()` automatically calls `.build()` as a first step under the hood)*"
   ]
  },
  {
   "cell_type": "code",
   "execution_count": null,
   "id": "c279e131-de4f-4f83-bf94-6ebe0d488f15",
   "metadata": {},
   "outputs": [],
   "source": [
    "con_model.graph()"
   ]
  },
  {
   "cell_type": "markdown",
   "id": "6e9d0760-68ed-44d7-a4eb-676fa6b17f23",
   "metadata": {},
   "source": [
    "And it should look similar to the following:\n",
    "\n",
    "<center>\n",
    "<img src=\"https://raw.githubusercontent.com/jpowerj/dsan-content/e0a5c5efa29a25fae1959ff09871196d21f20397/2025-sum-dsan5650/hw3/bambi_conmodel.svg\" width=\"30%\" />\n",
    "</center>"
   ]
  },
  {
   "cell_type": "markdown",
   "id": "d743c40f-4e16-4ad0-8f37-453d8b05b95b",
   "metadata": {},
   "source": [
    "### [Question 2.1.2] Extract and Interpret Point Estimates for Coefficients"
   ]
  },
  {
   "cell_type": "markdown",
   "id": "66e18ed2-f7e3-4abf-b8fa-2374c44bc695",
   "metadata": {},
   "source": [
    "Next, extract *point* estimates for our two coefficients in the same way that we computed a point estimate for the `Intercept` coefficient in the baseline model.\n",
    "\n",
    "Then, whereas for that model we computed a **single** probability estimate (our estimate of $\\Pr(Y = 1)$, which we derived using `expit()`), here since we have an intercept **and** a coefficient estimate for `con`, you will need to derive and then store **two** probability values:\n",
    "\n",
    "* (a) Store the estimated value of $\\Pr(\\texttt{dohire} = 1 \\mid \\texttt{con} = 0)$ in `pr_dohire_nocon`, and then\n",
    "* (b) Store the estimated value of $\\Pr(\\texttt{dohire} = 1 \\mid \\texttt{con} = 1)$ in `pr_dohire_con`,\n",
    "\n",
    "as indicated in the comments within the code cell."
   ]
  },
  {
   "cell_type": "code",
   "execution_count": null,
   "id": "5347506c-d70a-4084-b482-4c8b7e9ac39e",
   "metadata": {},
   "outputs": [],
   "source": [
    "# @title Q2.1.2-response\n",
    "\n",
    "# (Step 1) Extract point estimates for coefficients on 'Intercept' and 'con'\n",
    "\n",
    "# Your code here\n",
    "\n",
    "# (Step 2) Use the extracted point estimates to fill in the probability values\n",
    "\n",
    "pr_dohire_nocon = None # Your code here: replace the None\n",
    "pr_dohire_con = None # Your code here: replace the None\n",
    "print(pr_dohire_nocon, pr_dohire_con)"
   ]
  },
  {
   "cell_type": "code",
   "execution_count": null,
   "id": "0e4ac142-ff5b-47f0-b6a4-4d3cd963f98a",
   "metadata": {},
   "outputs": [],
   "source": [
    "# @title Q2.1.2-public-tests\n",
    "q2_1_2_public_tests = {\n",
    "    'pr_dohire_nocon filled': '✅ Passed!' if 'pr_dohire_nocon' is not None else \"🔲 Value of 'pr_dohire_nocon' should not be None\",\n",
    "    'pr_dohire_con filled': '✅ Passed!' if 'pr_dohire_con' is not None else \"🔲 Value of 'pr_dohire_con' should not be None\",\n",
    "}\n",
    "q2_1_2_public_tests"
   ]
  },
  {
   "cell_type": "markdown",
   "id": "cef7ddd9-1b7c-4301-ab35-21e823425e29",
   "metadata": {},
   "source": [
    "As a quick sanity check, the two estimates that get printed out at the end of your response should be very close to the following two **group means** of the `dohire` variable, for auditors without and with prior convictions (respectively):"
   ]
  },
  {
   "cell_type": "code",
   "execution_count": null,
   "id": "88352207-965b-4d15-860f-7d0eb75a9402",
   "metadata": {},
   "outputs": [],
   "source": [
    "train_df.groupby('con')['dohire'].mean()"
   ]
  },
  {
   "cell_type": "markdown",
   "id": "a3d9d73a-3e48-4eb7-90fe-0990819ffea8",
   "metadata": {},
   "source": [
    "**Moving Beyond Point Estimates**\n",
    "\n",
    "I know the reading is painful, but there is a **super important** caveat here: what we just did in Parts 2.2 and 2.3, where we derived probability estimates as **single numbers** by \"plugging in\" `con = 0` and `con = 1` into a formula like `pr_value = expit(Intercept_coef + con_coef * con)`... This is for **sanity-checking purposes only!** Meaning, the above derivation of the two point estimates `pr_dohire_nocon` and `pr_dohire_con` does **not** represent the \"final result\" for your model!\n",
    "\n",
    "It's not the final result because, it **throws away 99.999% of the information that the Bayesian model gives you!** As I've emphasized in the instructions for HW3 especially, PyMC/Bambi give us entire **distributions over coefficients**, rather than just single point estimates. The following code cell will help illustrate the difference.\n",
    "\n",
    "By calling `.predict()` with **`kind='response_params'`**, instead of the `kind='response'` argument used in Part 2.2 above, we generate an entire **distribution** of estimates for $\\Pr(Y_i = 1)$, for each row $i$ in the training data, conditional on values of `con`.\n",
    "\n",
    "We can then use `az.summary()` to generate a table where each row $i$ is a **summary** of distribution $i$ out of the $N_{\\text{train}} = 139$ total distributions, which defaults to the `train_df` data provided at the beginning of this part since we don't use the optional `data=` argument here:"
   ]
  },
  {
   "cell_type": "code",
   "execution_count": null,
   "id": "9dc76570-dab6-4e21-afe9-5dbc8ede4088",
   "metadata": {},
   "outputs": [],
   "source": [
    "# @title generate-posterior-distributions\n",
    "con_model.predict(con_idata, kind='response_params')\n",
    "az.summary(con_idata)"
   ]
  },
  {
   "cell_type": "markdown",
   "id": "b82c54b5-49b6-438c-8385-d01ab5e11b3c",
   "metadata": {},
   "source": [
    "### [Question 2.1.3] Evaluate Predictive Performance on Test Data"
   ]
  },
  {
   "cell_type": "markdown",
   "id": "d1cbeab5-8842-4eed-b43a-438257b21087",
   "metadata": {},
   "source": [
    "With this distinction between **point estimates** (from frequentist statistics) and **distributions over estimates** (from Bayesian statistics) in mind, let's move on to generating our ROC curve and AUC score.\n",
    "\n",
    "Here, another good reason to read that quick rant about distributions is because it contains some starter code for this question 😉! Whereas in Part 2.2 we jumped straight to calling `.predict()` with the `kind='response'` argument, without explanation. You now know from the previous code cell, though, how this `kind` parameter operates in Bambi:\n",
    "\n",
    "* Calling `.predict()` with **`kind='response_params'`** produces a summary table of the **posterior distribution**, while\n",
    "* Calling `.predict()` with **`kind='response'`** produces a summary table of the **posterior predictive distribution**.\n",
    "\n",
    "So, in the following code cell, you should be able to draw on the code provided in the previous code cell, but with the `kind='response_params'` option changed to `kind='response'`. Since we're skipping the training-set evaluation here, you should also provide a value for the `data=` argument to `.predict()` (which you did in a code cell near the end of Part 2.2)\n",
    "\n",
    "Then, to finish this part, you just need to write one more line of code! Because, after calling `.predict()`, all that's left is to use the `.mean(dim=['chain','draw'])` approach to extract the **mean** `dohire` values for each observation in the **test** set ($N_{\\text{test}} = 35$ values total), storing these means in a variable named `con_train_dohiremeans`."
   ]
  },
  {
   "cell_type": "code",
   "execution_count": null,
   "id": "c96450ea-7d0d-40a1-811f-0ad9c69e30aa",
   "metadata": {},
   "outputs": [],
   "source": [
    "# @title Q2.1.3-response\n",
    "\n",
    "# (Step 1) Call con_model.predict() with appropriate arguments.\n",
    "# Remember that this function won't produce any output, but if it runs without\n",
    "# visible errors, that should indicate that everything worked as expected!\n",
    "\n",
    "# Your code here\n",
    "\n",
    "# (Step 2) Extract the mean of each distribution over dohire, storing the result\n",
    "# in a variable named con_test_dohiremeans\n",
    "\n",
    "# Your code here\n",
    "con_test_dohiremeans = None # Replace the None\n",
    "\n",
    "# The following line will display the posterior predictive means for dohire\n",
    "# values (the mean of Pr(dohire_i = 1) for i = 1, 2, ..., n_test), if your code\n",
    "# above has been implemented correctly\n",
    "con_test_dohiremeans"
   ]
  },
  {
   "cell_type": "code",
   "execution_count": null,
   "id": "fdf51771-1976-4520-b815-eb72ba5b7e0f",
   "metadata": {},
   "outputs": [],
   "source": [
    "# @title Q2.1.3-public-tests\n",
    "q2_1_3_public_tests = {\n",
    "    'con_test_dohiremeans defined': '✅ Passed!' if 'con_test_dohiremeans' in globals() else \"🔲 No variable named 'con_test_dohiremeans' exists in Python memory\",\n",
    "}\n",
    "q2_1_3_public_tests"
   ]
  },
  {
   "cell_type": "markdown",
   "id": "1ef7b7e0-9613-4cc3-9625-e7205ec6798a",
   "metadata": {},
   "source": [
    "**ROC Curve and AUC Score**\n",
    "\n",
    "Finally, as a thank you for trudging through this part, the code for generating the ROC curve and storing the AUC score is provided for you in the following code cell:"
   ]
  },
  {
   "cell_type": "code",
   "execution_count": null,
   "id": "96857185-d156-463b-8602-4e66f24c52c2",
   "metadata": {},
   "outputs": [],
   "source": [
    "exp_model_aucs['con_only'] = plot_roc(\n",
    "    test_df['dohire'], con_test_dohiremeans,\n",
    "    \"Test ROC: Audits with Conviction Only\"\n",
    ")\n",
    "exp_model_aucs"
   ]
  },
  {
   "cell_type": "markdown",
   "id": "a7399146-2f81-4f65-910c-a689f3f345a0",
   "metadata": {},
   "source": [
    "If all is working as expected, you should observe an increase in AUC score, relative to the baseline model (`nofeats`), result from the new inclusion of `con` as a feature.\n",
    "\n",
    "And, to reiterate the `kind='response_params'` vs. `kind='response'` distinction one last time, before you move to the last 2 models:\n",
    "\n",
    "* The code you just wrote, using `kind='response'`, generated (predictive) distributions over the $Y_i$ values **themselves**, the **outcomes** in the model, in contrast to\n",
    "* The code provided to you immediately beforehand (in the code cell with title `generate-posterior-distributions`) generated distributions over values of the **parameters** $p = \\Pr(Y_i = 1)$.\n",
    "\n",
    "Using the `kind='response'` option therefore plays the same role in Bambi as the `.sample_posterior_predictive()` function plays in base PyMC."
   ]
  },
  {
   "cell_type": "markdown",
   "id": "655b7c42-079c-4cf6-bf11-8dcbf6e42fe1",
   "metadata": {},
   "source": [
    "## [Part 2.2] Model With Race Only"
   ]
  },
  {
   "cell_type": "markdown",
   "id": "176ae71d-c2f5-4a89-a08a-8b1acd2dad0b",
   "metadata": {},
   "source": [
    "Here, so that you can get a feel for carrying out the full Bambi workflow without interruption, the only instruction is to follow the same steps as in Part 2.1, but this time with a model that **only includes `race` as a predictor** (though it should still have an intercept!)\n",
    "\n",
    "You can use the public tests, after each `response` cell, for guidance on the names of the variables you should be producing in the cell."
   ]
  },
  {
   "cell_type": "markdown",
   "id": "bc8d4280-0143-4745-9409-ac6ec0b19cae",
   "metadata": {},
   "source": [
    "### [Question 2.2.1] Write and Fit the Model with Bambi"
   ]
  },
  {
   "cell_type": "code",
   "execution_count": null,
   "id": "8d315897-f4dc-480a-b322-d9966ca65747",
   "metadata": {},
   "outputs": [],
   "source": [
    "# @title Q2.2.1-response\n",
    "race_model = None # Your code here: replace the None\n",
    "race_idata = None # Your code here: replace the None"
   ]
  },
  {
   "cell_type": "code",
   "execution_count": null,
   "id": "3ba37ae1-8c71-4422-af9a-0a0565e55e65",
   "metadata": {},
   "outputs": [],
   "source": [
    "# @title Q2.2.1-public-tests\n",
    "q2_2_1_public_tests = {\n",
    "    'race_model defined': '✅ Passed!' if 'race_model' in globals() else \"🔲 No variable named 'race_model' exists in Python memory\",\n",
    "    'race_idata defined': '✅ Passed!' if 'race_idata' in globals() else \"🔲 No variable named 'race_idata' exists in Python memory\",\n",
    "}\n",
    "q2_2_1_public_tests"
   ]
  },
  {
   "cell_type": "markdown",
   "id": "41698978-0e07-4019-85fe-eb107eec04de",
   "metadata": {},
   "source": [
    "### [Question 2.2.2] Extract and Interpret Point Estimates for Coefficients"
   ]
  },
  {
   "cell_type": "code",
   "execution_count": null,
   "id": "b5f234e3-d46e-4a33-b446-dadd9900a977",
   "metadata": {},
   "outputs": [],
   "source": [
    "# @title Q2.2.2-response\n",
    "\n",
    "# (Step 1) Extract point estimates for coefficients on 'Intercept' and 'con'\n",
    "\n",
    "# Your code here\n",
    "\n",
    "# (Step 2) Use the extracted point estimates to fill in the probability values\n",
    "\n",
    "pr_dohire_white = None # Your code here: replace the None\n",
    "pr_dohire_black = None # Your code here: replace the None\n",
    "\n",
    "print(pr_dohire_white, pr_dohire_black)"
   ]
  },
  {
   "cell_type": "code",
   "execution_count": null,
   "id": "bb6e69c1-3aa4-4b84-b29e-07258ae11b4b",
   "metadata": {},
   "outputs": [],
   "source": [
    "# @title Q2.2.2-public-tests\n",
    "q2_2_2_public_tests = {\n",
    "    'pr_dohire_white filled': '✅ Passed!' if 'pr_dohire_white' is not None else \"🔲 Value of 'pr_dohire_white' should not be None\",\n",
    "    'pr_dohire_black filled': '✅ Passed!' if 'pr_dohire_black' is not None else \"🔲 Value of 'pr_dohire_black' should not be None\",\n",
    "}\n",
    "q2_2_2_public_tests"
   ]
  },
  {
   "cell_type": "markdown",
   "id": "c01f9e81-60be-4d3f-a26b-fd871064a323",
   "metadata": {
    "execution": {
     "iopub.status.busy": "2025-07-29T06:50:30.803903Z",
     "iopub.status.idle": "2025-07-29T06:50:30.804097Z",
     "shell.execute_reply": "2025-07-29T06:50:30.804010Z",
     "shell.execute_reply.started": "2025-07-29T06:50:30.804002Z"
    }
   },
   "source": [
    "As a sanity check: your \"summary\" point estimates for `pr_dohire_white` and `pr_dohire_black`, printed out at the end of the previous cell, should be close to the group means computed and displayed by the following code cell:"
   ]
  },
  {
   "cell_type": "code",
   "execution_count": null,
   "id": "f781f0bd-ff30-4620-a466-dfb8b14bdef9",
   "metadata": {},
   "outputs": [],
   "source": [
    "train_df.groupby('race')['dohire'].mean()"
   ]
  },
  {
   "cell_type": "markdown",
   "id": "3e035fc2-0508-48a1-a80f-eefe483742b1",
   "metadata": {},
   "source": [
    "### [Question 2.2.3] Evaluate Predictive Performance on Test Data"
   ]
  },
  {
   "cell_type": "code",
   "execution_count": null,
   "id": "a7bf9014-99f4-4394-80c0-b77ea6cd0933",
   "metadata": {},
   "outputs": [],
   "source": [
    "# @title Q2.2.3-response\n",
    "\n",
    "# (Step 1) Call race_model.predict() with appropriate arguments\n",
    "\n",
    "# Your code here\n",
    "\n",
    "# (Step 2) Extract the mean of each distribution over dohire, storing the result\n",
    "# in a variable named race_test_dohiremeans\n",
    "\n",
    "race_test_dohiremeans = None # Your code here: replace the None"
   ]
  },
  {
   "cell_type": "code",
   "execution_count": null,
   "id": "5229ed6f-68b8-4241-a163-fff59c38a007",
   "metadata": {},
   "outputs": [],
   "source": [
    "# @title Q2.2.3-public-tests\n",
    "q2_2_3_public_tests = {\n",
    "    'race_test_dohiremeans defined': '✅ Passed!' if 'race_test_dohiremeans' in globals() else \"🔲 No variable named 'race_test_dohiremeans' exists in Python memory\",\n",
    "}\n",
    "q2_1_3_public_tests"
   ]
  },
  {
   "cell_type": "markdown",
   "id": "59252ce0-68ab-46fe-8151-fb0a5799b5c2",
   "metadata": {
    "execution": {
     "iopub.status.busy": "2025-07-29T06:50:30.806899Z",
     "iopub.status.idle": "2025-07-29T06:50:30.807087Z",
     "shell.execute_reply": "2025-07-29T06:50:30.807005Z",
     "shell.execute_reply.started": "2025-07-29T06:50:30.806997Z"
    }
   },
   "source": [
    "And, as before, we provide the final piece of code in the following cell, which displays the ROC curve for your model, stores the corresponding AUC score, and displays our running list of AUC scores for the three models we've estimated thus far:"
   ]
  },
  {
   "cell_type": "code",
   "execution_count": null,
   "id": "bdf12c72-0e91-414d-86fa-48a92cc8e09d",
   "metadata": {},
   "outputs": [],
   "source": [
    "exp_model_aucs['race_only'] = plot_roc(\n",
    "    test_df['dohire'], race_test_dohiremeans,\n",
    "    \"Test ROC: Audits with Race Only\"\n",
    ")\n",
    "exp_model_aucs"
   ]
  },
  {
   "cell_type": "markdown",
   "id": "015c86a4-13b4-4ce4-91b3-e4bf532d34ac",
   "metadata": {},
   "source": [
    "## [Part 2.3] Multivariate Logistic Regression Model\n",
    "\n",
    "Now, the payoff for using Bambi! Whereas the multivariable setting was probably a bit daunting in Part 1, since we had to write out a multivariate Logistic Regression model \"from scratch\" (and thus had to think about, for example, which specific priors to put on each coefficient), here we can extend the prior two single-variable models in a \"natural\" way, which should be familiar if you've estimated regressions in R for example.\n",
    "\n",
    "The main complexity here, relative to the previous two parts, is just that we again want to include an **interaction term** between `race` and `con`, like you did in HW3A. Since Bambi fully imports R's formula syntax, this interaction term can be written in the formula string itself as either **`race * con`** or **`race:con`**. Since the \"standard\" representation is `race:con`, regardless of which you choose you should see a `race:con` node in the PGM if your interaction term is implemented correctly! In our solutions, the PGM looks as follows:\n",
    "\n",
    "<center>\n",
    "<img src=\"https://raw.githubusercontent.com/jpowerj/dsan-content/6d575669ede3be71b2a7bc983d2c110c406fa11b/2025-sum-dsan5650/hw3/bambi_multivar.svg\" width=\"60%\" />\n",
    "</center>"
   ]
  },
  {
   "cell_type": "markdown",
   "id": "47783f9a-8b2d-4af9-ab8f-b5a9305a8fb0",
   "metadata": {},
   "source": [
    "### [Question 2.3.1] Write and Fit the Model with Bambi"
   ]
  },
  {
   "cell_type": "markdown",
   "id": "c1e2d37c-0f2a-44a2-8c67-936f6fb078f5",
   "metadata": {},
   "source": [
    "As you did in Parts 2.1 and 2.2, implement the multivariate logistic regression model (with `race:con` interaction term) in Bambi, storing the model object in a variable named `mvb_model`, then estimate the posterior distribution via `.fit()`, storing the inference data in a variable named `mvb_idata`.\n",
    "\n",
    "The included line of code at the end displays the PGM for the model, so that you can compare with the image included above."
   ]
  },
  {
   "cell_type": "code",
   "execution_count": null,
   "id": "eeb52e98-760c-431a-8804-5878d213155b",
   "metadata": {},
   "outputs": [],
   "source": [
    "# @title Q2.3.1-response\n",
    "\n",
    "# (Step 1) Write the model using R's formula syntax in Bambi\n",
    "mvb_model = None # Your code here: replace the None\n",
    "\n",
    "# (Step 2) Use .fit() to infer posterior distribution\n",
    "mvb_idata = None # Your code here: Replace the None"
   ]
  },
  {
   "cell_type": "code",
   "execution_count": null,
   "id": "cd84c7eb-875e-4923-b8ac-30f2c4bbf109",
   "metadata": {},
   "outputs": [],
   "source": [
    "# @title Q2.3.1-public-tests\n",
    "q2_3_1_public_tests = {\n",
    "    'mvb_model defined': '✅ Passed!' if 'mvb_model' in globals() else \"🔲 No variable named 'mvb_model' exists in Python memory\",\n",
    "    'mvb_idata defined': '✅ Passed!' if 'mvb_idata' in globals() else \"🔲 No variable named 'mvb_idata' exists in Python memory\",\n",
    "}\n",
    "q2_3_1_public_tests"
   ]
  },
  {
   "cell_type": "markdown",
   "id": "3e1a31cc-ea62-4b56-a8d6-ff41b6003c52",
   "metadata": {},
   "source": [
    "### [Question 2.3.2] Extract and Interpret Point Estimates for Coefficients"
   ]
  },
  {
   "cell_type": "markdown",
   "id": "8d780ad5-5c7f-4dd0-9d48-36d54cfa2ae7",
   "metadata": {},
   "source": [
    "Since we now have a multivariable model, with two binary variable `race` and `con`, there are **four** different probability estimates we can derive from our coefficients:\n",
    "\n",
    "* $\\Pr(\\texttt{dohire}_i = 1 \\mid \\texttt{race}_i = \\text{White}, \\texttt{con}_i = 0)$\n",
    "* $\\Pr(\\texttt{dohire}_i = 1 \\mid \\texttt{race}_i = \\text{Black}, \\texttt{con}_i = 0)$\n",
    "* $\\Pr(\\texttt{dohire}_i = 1 \\mid \\texttt{race}_i = \\text{White}, \\texttt{con}_i = 1)$\n",
    "* $\\Pr(\\texttt{dohire}_i = 1 \\mid \\texttt{race}_i = \\text{Black}, \\texttt{con}_i = 1)$\n",
    "\n",
    "In the following code cell, use the `mvb_idata` variable you created above to compute these conditional probabilities, then replace the `None` values near the end of the code cell with the appropriate values as indicated.\n",
    "\n",
    "*(Here we use fancy stuff like `Enum`, `dataclass`, and `namedtuple`, not for the sake of being fancy, but because I've found this combination genuinely useful for creating mini-data structures like this to represent joint probability distributions as the number of possible values starts to become larger than, like, 2 or 3!)*"
   ]
  },
  {
   "cell_type": "code",
   "execution_count": 278,
   "id": "b2d78e37-c63a-4024-b315-abeb381075a1",
   "metadata": {
    "execution": {
     "iopub.execute_input": "2025-08-01T08:34:02.924033Z",
     "iopub.status.busy": "2025-08-01T08:34:02.923801Z",
     "iopub.status.idle": "2025-08-01T08:34:02.930340Z",
     "shell.execute_reply": "2025-08-01T08:34:02.929873Z",
     "shell.execute_reply.started": "2025-08-01T08:34:02.924015Z"
    }
   },
   "outputs": [
    {
     "data": {
      "text/plain": [
       "{TesterProfile(race='White', conviction=0): None,\n",
       " TesterProfile(race='White', conviction=1): None,\n",
       " TesterProfile(race='Black', conviction=0): None,\n",
       " TesterProfile(race='Black', conviction=1): None}"
      ]
     },
     "execution_count": 278,
     "metadata": {},
     "output_type": "execute_result"
    }
   ],
   "source": [
    "# @title Q2.3.2-response\n",
    "# Setup code: Data structures for joint distribution\n",
    "from enum import Enum\n",
    "from dataclasses import dataclass\n",
    "\n",
    "class Race(Enum):\n",
    "    White = 0\n",
    "    Black = 1\n",
    "\n",
    "@dataclass(frozen=True)\n",
    "class TesterProfile:\n",
    "    race: Race\n",
    "    conviction: bool\n",
    "\n",
    "# (Step 1) derive posterior estimates using mvb_idata, storing the result in\n",
    "# a variable named mvb_estimates\n",
    "\n",
    "# Your code here\n",
    "\n",
    "# (Step 2) extract posterior point estimates from the mvb_estimates object just\n",
    "# created\n",
    "\n",
    "# Your code here\n",
    "\n",
    "# (Step 3) Use the posterior point estimates to compute the four probability\n",
    "# values (or, if you prefer, you can skip this and just replace the None values\n",
    "# below directly)\n",
    "\n",
    "# Your code here\n",
    "\n",
    "# Once they're computed, replace None values below with estimated probabilities\n",
    "q2_3_2_response = {\n",
    "    TesterProfile(race=\"White\", conviction=0): None,\n",
    "    TesterProfile(race=\"White\", conviction=1): None,\n",
    "    TesterProfile(race=\"Black\", conviction=0): None,\n",
    "    TesterProfile(race=\"Black\", conviction=1): None,\n",
    "}\n",
    "q2_3_2_response"
   ]
  },
  {
   "cell_type": "code",
   "execution_count": 279,
   "id": "541eade1-064e-40a6-8184-8bbf4d1564ba",
   "metadata": {
    "execution": {
     "iopub.execute_input": "2025-08-01T08:34:03.726046Z",
     "iopub.status.busy": "2025-08-01T08:34:03.725834Z",
     "iopub.status.idle": "2025-08-01T08:34:03.731914Z",
     "shell.execute_reply": "2025-08-01T08:34:03.731351Z",
     "shell.execute_reply.started": "2025-08-01T08:34:03.726028Z"
    }
   },
   "outputs": [
    {
     "data": {
      "text/plain": [
       "{'q2_3_2_response defined': '✅ Passed!',\n",
       " 'No None values': \"🔲 One or more of the values in 'q2_3_2_response' is None\"}"
      ]
     },
     "execution_count": 279,
     "metadata": {},
     "output_type": "execute_result"
    }
   ],
   "source": [
    "# @title Q2.3.2-public-tests\n",
    "def all_none(response_dict):\n",
    "    response_vals = list(response_dict.values())\n",
    "    return all([v is None for v in response_vals])\n",
    "q2_3_2_public_tests = {\n",
    "    'q2_3_2_response defined': '✅ Passed!' if 'q2_3_2_response' in globals() else \"🔲 No variable named 'q2_3_2_response' exists in Python memory\",\n",
    "    'No None values': '✅ Passed!' if ('q2_3_2_response' in globals()) and (not all_none(q2_3_2_response)) else \"🔲 One or more of the values in 'q2_3_2_response' is None\",\n",
    "}\n",
    "q2_3_2_public_tests"
   ]
  },
  {
   "cell_type": "markdown",
   "id": "b71677dd-742a-44c9-a397-458d8b7cae72",
   "metadata": {},
   "source": [
    "### [Question 2.3.3] Evaluate Predictive Performance on Test Data"
   ]
  },
  {
   "cell_type": "code",
   "execution_count": 269,
   "id": "3d74ae26-6207-45e8-b6b3-907d5af3d90a",
   "metadata": {
    "execution": {
     "iopub.execute_input": "2025-08-01T08:10:29.245689Z",
     "iopub.status.busy": "2025-08-01T08:10:29.245346Z",
     "iopub.status.idle": "2025-08-01T08:10:29.248736Z",
     "shell.execute_reply": "2025-08-01T08:10:29.248262Z",
     "shell.execute_reply.started": "2025-08-01T08:10:29.245669Z"
    }
   },
   "outputs": [],
   "source": [
    "# @title Q2.3.3-response\n",
    "\n",
    "# (Step 1) Use .predict(), with appropriate arguments, to generate the posterior\n",
    "# predictive distribution (which will be stored in mvb_idata automatically)\n",
    "\n",
    "# Your code here\n",
    "\n",
    "# (Step 2) Derive the mean dohire values from `mvb_idata.posterior_predictive`,\n",
    "# storing the results in a variable named mvb_test_dohiremeans\n",
    "\n",
    "mvb_test_dohiremeans = None # Your code here: replace the None\n",
    "\n",
    "mvb_test_dohiremeans"
   ]
  },
  {
   "cell_type": "code",
   "execution_count": null,
   "id": "a126c3ae-236a-493e-8bc1-24e9271c03f3",
   "metadata": {},
   "outputs": [],
   "source": [
    "# @title Q2.3.3-public-tests\n",
    "q2_3_3_public_tests = {\n",
    "    'mvb_test_dohiremeans defined': '✅ Passed!' if 'mvb_test_dohiremeans' in globals() else \"🔲 No variable named 'mvb_test_dohiremeans' exists in Python memory\",\n",
    "}\n",
    "q2_3_3_public_tests"
   ]
  },
  {
   "cell_type": "markdown",
   "id": "fba36c5b-1d0f-4293-bb57-74cf029a95ee",
   "metadata": {
    "execution": {
     "iopub.status.busy": "2025-07-29T06:50:30.819324Z",
     "iopub.status.idle": "2025-07-29T06:50:30.819551Z",
     "shell.execute_reply": "2025-07-29T06:50:30.819462Z",
     "shell.execute_reply.started": "2025-07-29T06:50:30.819453Z"
    }
   },
   "source": [
    "And we can now display the ROC curve and store the AUC score for our final behavior model!"
   ]
  },
  {
   "cell_type": "code",
   "execution_count": null,
   "id": "017426a4-aa3b-4a00-8943-9f0053f8725d",
   "metadata": {},
   "outputs": [],
   "source": [
    "exp_model_aucs['multivar'] = plot_roc(\n",
    "    test_df['dohire'], mvb_test_dohiremeans,\n",
    "    \"Test ROC: Multivariate Model\"\n",
    ")\n",
    "exp_model_aucs"
   ]
  },
  {
   "cell_type": "markdown",
   "id": "777f4a01-e08f-42b3-8d14-024c8c2463f3",
   "metadata": {},
   "source": [
    "Here you can ponder on whether/why the multivariate model may have failed to perform best out of all models in Part 2 (though, it will likely be close between `multivar` and `con_only`, and, in a full-on modeling scenario we'd use **regularizing priors** to constrain the multivariate model's ability to overfit, and it would then likely come out on top unambiguously!)"
   ]
  },
  {
   "cell_type": "markdown",
   "id": "14a6706c-0029-4a01-b25b-8bde798165c9",
   "metadata": {},
   "source": [
    "# [Part 3] Modeling Attitudes *and* Behaviors *and* Their Connection(s)!"
   ]
  },
  {
   "cell_type": "markdown",
   "id": "cf95ff61-9804-4229-a608-5fe1ab371044",
   "metadata": {
    "execution": {
     "iopub.execute_input": "2025-08-01T04:57:30.585463Z",
     "iopub.status.busy": "2025-08-01T04:57:30.585200Z",
     "iopub.status.idle": "2025-08-01T04:57:30.592922Z",
     "shell.execute_reply": "2025-08-01T04:57:30.592281Z",
     "shell.execute_reply.started": "2025-08-01T04:57:30.585443Z"
    }
   },
   "source": [
    "**Overview: One Model, One Multiple-Choice Question**\n",
    "\n",
    "This part will be almost entirely **reading** and **running pre-written code** because... well, I was trying to come up with a way to make this attitude-behavior cross-prediction model as interactive and step-by-step as Parts 1 and 2, but... in the end I'd rather that you focus on the concepts! Meaning, focus on how you can model **indidvidual \"pieces\" of your problem** like you did in the previous two parts, and then **fuse** them together to model the dynamics of how the two pieces interrelate, going back and tweaking the individual pieces as needed.\n",
    "\n",
    "This turns out to be one of the three or four most game-changing aspects of the **modular** PGM approach (along with the missing-data-imputation-for-free and the distributions-rather-than-point-estimates features I've ranted about thus far): to see it in action, it's so so worth reading [Lee and Wagenmakers (2013), *Bayesian Cognitive Modeling*](https://www.dropbox.com/scl/fi/7flgs68gpesokk3xpn2dw/Bayesian-cognitive-modeling-_-a-practical-course.pdf?rlkey=504q33aqpeldz7go0x4kicjqe&st=o3548lkc&dl=1), from cover-to-cover, since it builds step-by-step from the simplest possible PGMs to PGMs used in modern cognitive science research!\n",
    "\n",
    "So, your task is to read the following, implement one final model in Part 3.1 (the only part! That I walk you through as quickly as possible!), and then answer one last **multiple-choice question** at the end of that part where you just **promise to... at least scroll through** the [**\"HW3 Grand Finale\" writeup**](https://jjacobs.me/dsan5650/writeups/birthday-instrument/) on the website.\n",
    "\n",
    "The reason it's called the \"HW3 Grand Finale\" is because, it takes the model from Part 3.1 below and extends it into a full-on **joint-inferential** model of attitudes and behaviors. Meaning, in other words, a model **optimized for prediction of behaviors from attitudes, and vice-versa**, by just \"turning the crank\" of Bayes' rule as carried out by PyMC 🤓 Onwards and upwards..."
   ]
  },
  {
   "cell_type": "markdown",
   "id": "a579c3b4-24ab-49e3-9e36-6def66dbc813",
   "metadata": {},
   "source": [
    "## Context for Part 3: Attitude-Behavior Consistency"
   ]
  },
  {
   "cell_type": "markdown",
   "id": "d933f7e3-e1d4-4c93-839e-86be3930b8c5",
   "metadata": {},
   "source": [
    "The lack of consistency between your results from Part 1 and from Part 2 hopefully helps point towards why social psychologists have been studying [**Attitude-Behavior Consistency (ABC)**](https://en.wikipedia.org/wiki/Attitude-behavior_consistency) for many decades now! C. Wright Mills, for example (who is apparently the [fourth-most-cited sociologist of all time](https://scholar.google.com/citations?view_op=search_authors&hl=en&mauthors=label:sociology)), posited back in 1940 that\n",
    "\n",
    "> *Perhaps the central methodological problem of the social sciences [comes from the] disparity between lingual and social-motor types of behavior.*\n",
    ">\n",
    "> &mdash;[Mills (1940)](https://www.jstor.org/stable/2769572?seq=1)\n",
    "\n",
    "Thankfully for us, as **computational social scientists**, we have the modeling language of **Probabilistic Graphical Models**, within which we can explicitly differentiate between **latent** and **observable** variables<sup>[1]</sup>. The logic underlying the model in this section, then, is as follows:\n",
    "\n",
    "* We can model **\"Attitudes\" $A$** as latent variables which **do not determine observed behavior on their own!**\n",
    "* Instead, they lead to **different behavior in different Contexts $C$**.\n",
    "* We'll thus define two contexts, $\\textsf{Saying}$ and $\\textsf{Doing}$, as two possible values for $C$.\n",
    "* The telephone survey you modeled in **Part 1** will represent the **Value-Reporting** context $\\textsf{Saying}$, while\n",
    "* The experimental audit you modeled in **Part 2** will represent the **Decision-Making** context $\\textsf{Doing}$\n",
    "\n",
    "The point, however, is to approach this problem with the same kind of testing-rather-than-assuming framework that the **multilevel models** you looked at in HW2 allow us to take. The analogy between multilevel models and the model in this part (and thus between HW2 and HW3) is summarized in the following table:\n",
    "\n",
    "| | Possible Multilevel Models | Possible Attitude-Behavior Models |\n",
    "| - | - | - |\n",
    "| **No-Pooling** | **The assumption**: Within Africa, learning the views of someone in country $x$ tells us nothing about the views of someone in country $y$<br><br>**Methodological result**: We just fit $N$ different regressions for the $N$ countries in Africa<br><br>**The issue**: Think of e.g. Sudan vs. South Sudan---some people in South Sudan went to sleep on [8 July 2011](https://www.bbc.com/news/world-africa-14069082) as Sudanese citizens and woke up the next day as South Sudanese citizens. So, we can probably infer at least *something* about South Sudanese attitudes by e.g. learning the views of Sudanese citizens near the southern border! | **The assumption**: Learning someone's views from a survey gives us no useful information about their behavior<br><br>**Methodological result**: We have survey data from a set of people $S$, alongside experimental results from that same set of people, but no way to connect them (which would massively increase the statistical power of our inferences about $S$)<br><br>**The issue**: People, at least under Festinger's theory of [cognitive dissonance](https://www.jstor.org/stable/24936719), sometimes go to great pains to bring their *behavior* in line with their *values*. So, if this theory holds even a little bit, we can usually at least learn *something* about people's behavior from their stated beliefs/attitudes (allowing us to predict it better than random guessing!) |\n",
    "| **Full-Pooling** | **The assumption**: The difference between person $i$'s country and person $j$'s country is not salient to understanding their views<br><br>**Methodological result**: We estimate one big regression, throwing away the `country` variable<br><br>**The issue**: People within a country often have shared \"norms\", which give rise to correlations across their individual values (something we could actually try to measure with the data!) | **The assumption**: The views professed by someone in a survey gives us all the information we need about their behavioral proclivities<br><br>**Methodological result**: We don't need to conduct an experiment at all!<br><br>**The issue**: People often behave in a way that conflicts with their professed values, so we may be \"assuming away\" an important aspect of whatever social phenomenon we're trying to study (hiring decisions, voting, etc.) |\n",
    "| **Adaptive Pooling** | **The assumption**: We can explicitly **incorporate** the degree of similarity/discrepancy between views of people in country $x$ and country $y$ as a part of our model<br><br>**Methodological result**: We can then use this estimated degree of similarity/discrepancy to e.g. develop better estimates for countries with limited data availability | **The assumption**: We can explicitly **incorporate** the degree of similarity/discrepancy between professed behavior in hypothetical scenarios and observed behavior in real-world scenarios<br><br>**Methodological result**: We can then use this estimated degree of similarity/discrepancy to e.g. develop better estimates for people's behavior given only information on their professed views, and vice-versa! |\n",
    "\n",
    "Hopefully those details drive home the point made at the end of the same article quoted earlier:\n",
    "\n",
    "> While survey and interview methods may offer a window into \"attitudinal frames,\" it is important that they\n",
    "also demonstrate, rather than assume, the impact of these frames upon activities in the world\n",
    ">\n",
    "> &mdash;[Jerolmack and Khan (2014)](https://doi.org/10.1177/0049124114523396)\n",
    "\n",
    "If our model \"succeeds\", then, we should be able to use it as essentially a \"bullshit-calibrator\": a way to take people's professed beliefs and derive useful estimates of their behavior, and vice-versa... Let's get to it!\n",
    "\n",
    "---\n",
    "\n",
    "<small>\n",
    "\n",
    "1. Sadly, I only was able to find [\\[two\\]](https://www.sciencedirect.com/science/article/pii/S0010027709001607) [\\[articles\\]](https://www.research.ed.ac.uk/en/publications/predicting-actions-using-an-adaptive-probabilistic-model-of-human) which mention probabilistic models as a possible approach to studying Attitude-Behavior Consistency, so... I made this footnote to link them and encourage yall to pursue these questions! 😜\n",
    "\n",
    "</small>"
   ]
  },
  {
   "cell_type": "markdown",
   "id": "c039a403-e9f1-428d-b625-ad7e7b244481",
   "metadata": {},
   "source": [
    "## Loading and Exploring the Dataset"
   ]
  },
  {
   "cell_type": "code",
   "execution_count": 226,
   "id": "df525789-e8c7-43a0-acf6-6c516e51253f",
   "metadata": {
    "execution": {
     "iopub.execute_input": "2025-08-01T05:19:41.293864Z",
     "iopub.status.busy": "2025-08-01T05:19:41.293519Z",
     "iopub.status.idle": "2025-08-01T05:19:41.309419Z",
     "shell.execute_reply": "2025-08-01T05:19:41.308925Z",
     "shell.execute_reply.started": "2025-08-01T05:19:41.293847Z"
    }
   },
   "outputs": [
    {
     "data": {
      "text/html": [
       "<style>\n",
       "@import url('https://fonts.googleapis.com/css2?family=Roboto:ital,wght@0,100..900;1,100..900&display=swap');\n",
       ".jp-RenderedHTMLCommon {\n",
       "    font-family: \"Roboto\", sans-serif;\n",
       "}\n",
       "</style>\n"
      ],
      "text/plain": [
       "<IPython.core.display.HTML object>"
      ]
     },
     "metadata": {},
     "output_type": "display_data"
    }
   ],
   "source": [
    "%run jupyter_fixes.ipynb\n",
    "import pandas as pd\n",
    "import numpy as np\n",
    "from scipy.special import expit\n",
    "import matplotlib.pyplot as plt\n",
    "import seaborn as sns\n",
    "import patchworklib as pw\n",
    "\n",
    "import pymc as pm\n",
    "import arviz as az"
   ]
  },
  {
   "cell_type": "markdown",
   "id": "2c6f4ed7-cd34-436b-9cac-28377d6ad716",
   "metadata": {},
   "source": [
    "**Firm-Level Data**\n",
    "\n",
    "The following code cell loads the first, **firm-level** dataset used in this part, `pager_matched_firms.csv`. The firms in each row are uniquely identified by `firm_id`, and for each firm we have the following information:\n",
    "\n",
    "* `region_str`: A string variable which is `\"Urban\"` for firms within the city of Milwaukee itself, and `\"Suburban\"` for firms located outside of the city (but within the [Milwaukee metropolitan area](https://en.wikipedia.org/wiki/Milwaukee_metropolitan_area))\n",
    "* `region`: The same information as `region_str`, but where **Urban** firms have value `0` and **Suburban** firms have value `1` (for easier use with our ML libraries)\n",
    "* `industry`: A categorical string variable, not used here but, it came with the dataset and you can think about how the analysis could be expanded to incorporate this info!"
   ]
  },
  {
   "cell_type": "code",
   "execution_count": 242,
   "id": "6b70d10a-944f-423f-a088-9a7b6d210074",
   "metadata": {
    "execution": {
     "iopub.execute_input": "2025-08-01T06:57:48.183988Z",
     "iopub.status.busy": "2025-08-01T06:57:48.183704Z",
     "iopub.status.idle": "2025-08-01T06:57:48.192443Z",
     "shell.execute_reply": "2025-08-01T06:57:48.191966Z",
     "shell.execute_reply.started": "2025-08-01T06:57:48.183968Z"
    }
   },
   "outputs": [
    {
     "data": {
      "text/html": [
       "<div>\n",
       "<style scoped>\n",
       "    .dataframe tbody tr th:only-of-type {\n",
       "        vertical-align: middle;\n",
       "    }\n",
       "\n",
       "    .dataframe tbody tr th {\n",
       "        vertical-align: top;\n",
       "    }\n",
       "\n",
       "    .dataframe thead th {\n",
       "        text-align: right;\n",
       "    }\n",
       "</style>\n",
       "<table border=\"1\" class=\"dataframe\">\n",
       "  <thead>\n",
       "    <tr style=\"text-align: right;\">\n",
       "      <th></th>\n",
       "      <th>firm_id</th>\n",
       "      <th>region_str</th>\n",
       "      <th>industry</th>\n",
       "      <th>region</th>\n",
       "    </tr>\n",
       "  </thead>\n",
       "  <tbody>\n",
       "    <tr>\n",
       "      <th>0</th>\n",
       "      <td>0</td>\n",
       "      <td>Urban</td>\n",
       "      <td>Retail Trade</td>\n",
       "      <td>0</td>\n",
       "    </tr>\n",
       "    <tr>\n",
       "      <th>1</th>\n",
       "      <td>1</td>\n",
       "      <td>Urban</td>\n",
       "      <td>Retail Trade</td>\n",
       "      <td>0</td>\n",
       "    </tr>\n",
       "    <tr>\n",
       "      <th>2</th>\n",
       "      <td>2</td>\n",
       "      <td>Suburban</td>\n",
       "      <td>Retail Trade</td>\n",
       "      <td>1</td>\n",
       "    </tr>\n",
       "    <tr>\n",
       "      <th>3</th>\n",
       "      <td>3</td>\n",
       "      <td>Urban</td>\n",
       "      <td>Retail Trade</td>\n",
       "      <td>0</td>\n",
       "    </tr>\n",
       "    <tr>\n",
       "      <th>4</th>\n",
       "      <td>4</td>\n",
       "      <td>Urban</td>\n",
       "      <td>Retail Trade</td>\n",
       "      <td>0</td>\n",
       "    </tr>\n",
       "  </tbody>\n",
       "</table>\n",
       "</div>"
      ],
      "text/plain": [
       "   firm_id region_str      industry  region\n",
       "0        0      Urban  Retail Trade       0\n",
       "1        1      Urban  Retail Trade       0\n",
       "2        2   Suburban  Retail Trade       1\n",
       "3        3      Urban  Retail Trade       0\n",
       "4        4      Urban  Retail Trade       0"
      ]
     },
     "execution_count": 242,
     "metadata": {},
     "output_type": "execute_result"
    }
   ],
   "source": [
    "firm_df = pd.read_csv(\"pager_matched_firms.csv\")\n",
    "firm_df.head()"
   ]
  },
  {
   "cell_type": "markdown",
   "id": "faf92adb-374d-40c1-8c57-884db08b87ad",
   "metadata": {},
   "source": [
    "**Auditor-Level Data**\n",
    "\n",
    "Then, the following code cell loads a new, expanded-via-imputation version of the **auditor** data from Part 2<sup>[1]</sup>. It has the same variables, but a greater number of audits per firm, thus introducing **within-firm variation** for given (race, conviction-status) values, ensuring that the model in this section is **identifiable** despite its greater number of parameters.\n",
    "\n",
    "---\n",
    "\n",
    "<small>\n",
    "\n",
    "1.  *Why is there a new, expanded version? What was wrong with the Part 2 dataset?* The dataset you just used had **four audits per firm**: one for each possible (race, conviction-status) pair. This made things more manageable, for wrapping-mind-around purposes, but also means that we had the minimum possible **within-firm variation** for an estimable model. To make it possible to estimate the **additional** parameters in this section's model, therefore, I drew additional samples from the overall joint distribution of variables from the original dataset (using PyMC's `pm.sample_posterior_predictive()` function!) This ensures that the **summary statistics** (and findings of their study) remain approximately the same as before, but that we now have **40 (simulated) audits per firm** (ten per possible race x conviction-status pair)) rather than just 4.\n",
    "\n",
    "</small>"
   ]
  },
  {
   "cell_type": "code",
   "execution_count": 243,
   "id": "f42c16fe-bd6c-4d56-90a8-78baf7839ac0",
   "metadata": {
    "execution": {
     "iopub.execute_input": "2025-08-01T06:57:51.347006Z",
     "iopub.status.busy": "2025-08-01T06:57:51.346676Z",
     "iopub.status.idle": "2025-08-01T06:57:51.354702Z",
     "shell.execute_reply": "2025-08-01T06:57:51.354137Z",
     "shell.execute_reply.started": "2025-08-01T06:57:51.346980Z"
    }
   },
   "outputs": [
    {
     "data": {
      "text/html": [
       "<div>\n",
       "<style scoped>\n",
       "    .dataframe tbody tr th:only-of-type {\n",
       "        vertical-align: middle;\n",
       "    }\n",
       "\n",
       "    .dataframe tbody tr th {\n",
       "        vertical-align: top;\n",
       "    }\n",
       "\n",
       "    .dataframe thead th {\n",
       "        text-align: right;\n",
       "    }\n",
       "</style>\n",
       "<table border=\"1\" class=\"dataframe\">\n",
       "  <thead>\n",
       "    <tr style=\"text-align: right;\">\n",
       "      <th></th>\n",
       "      <th>auditor_id</th>\n",
       "      <th>firm_id</th>\n",
       "      <th>con</th>\n",
       "      <th>race</th>\n",
       "      <th>race_str</th>\n",
       "      <th>dohire</th>\n",
       "    </tr>\n",
       "  </thead>\n",
       "  <tbody>\n",
       "    <tr>\n",
       "      <th>0</th>\n",
       "      <td>0</td>\n",
       "      <td>0</td>\n",
       "      <td>0</td>\n",
       "      <td>0</td>\n",
       "      <td>White</td>\n",
       "      <td>0</td>\n",
       "    </tr>\n",
       "    <tr>\n",
       "      <th>1</th>\n",
       "      <td>1</td>\n",
       "      <td>0</td>\n",
       "      <td>1</td>\n",
       "      <td>0</td>\n",
       "      <td>White</td>\n",
       "      <td>1</td>\n",
       "    </tr>\n",
       "    <tr>\n",
       "      <th>2</th>\n",
       "      <td>2</td>\n",
       "      <td>0</td>\n",
       "      <td>0</td>\n",
       "      <td>1</td>\n",
       "      <td>Black</td>\n",
       "      <td>0</td>\n",
       "    </tr>\n",
       "    <tr>\n",
       "      <th>3</th>\n",
       "      <td>3</td>\n",
       "      <td>0</td>\n",
       "      <td>1</td>\n",
       "      <td>1</td>\n",
       "      <td>Black</td>\n",
       "      <td>0</td>\n",
       "    </tr>\n",
       "    <tr>\n",
       "      <th>4</th>\n",
       "      <td>4</td>\n",
       "      <td>1</td>\n",
       "      <td>0</td>\n",
       "      <td>0</td>\n",
       "      <td>White</td>\n",
       "      <td>1</td>\n",
       "    </tr>\n",
       "  </tbody>\n",
       "</table>\n",
       "</div>"
      ],
      "text/plain": [
       "   auditor_id  firm_id  con  race race_str  dohire\n",
       "0           0        0    0     0    White       0\n",
       "1           1        0    1     0    White       1\n",
       "2           2        0    0     1    Black       0\n",
       "3           3        0    1     1    Black       0\n",
       "4           4        1    0     0    White       1"
      ]
     },
     "execution_count": 243,
     "metadata": {},
     "output_type": "execute_result"
    }
   ],
   "source": [
    "audit_df = pd.read_csv(\"pager_matched_auditors.csv\")\n",
    "audit_df.head()"
   ]
  },
  {
   "cell_type": "markdown",
   "id": "716fa9fa-8549-48f3-9f6f-9edf8c0fa8b7",
   "metadata": {},
   "source": [
    "## Summary Statistics and Visualization"
   ]
  },
  {
   "cell_type": "markdown",
   "id": "d27e0950-4031-451d-a2fb-a8479531604d",
   "metadata": {},
   "source": [
    "By computing the same summary statistics we computed in Part 2, we can see how the expansion-via-imputation has preserved many substantive aspects of the dataset (for example, the high-to-low ordering of groups in terms of `dohire` rates). Because of how Bayesian imputation works, though, it *has* brought the group rates closer together -- for the same reason that the estimates for the low-data-availability \"Zudan\" country from HW2 were \"shrunk\" down to be closer to the overall (pooled) mean!"
   ]
  },
  {
   "cell_type": "code",
   "execution_count": 244,
   "id": "96e0d60f-5377-4684-a666-076215fdce5e",
   "metadata": {
    "execution": {
     "iopub.execute_input": "2025-08-01T06:57:52.915832Z",
     "iopub.status.busy": "2025-08-01T06:57:52.915592Z",
     "iopub.status.idle": "2025-08-01T06:57:52.924388Z",
     "shell.execute_reply": "2025-08-01T06:57:52.923938Z",
     "shell.execute_reply.started": "2025-08-01T06:57:52.915814Z"
    }
   },
   "outputs": [
    {
     "data": {
      "text/html": [
       "<div>\n",
       "<style scoped>\n",
       "    .dataframe tbody tr th:only-of-type {\n",
       "        vertical-align: middle;\n",
       "    }\n",
       "\n",
       "    .dataframe tbody tr th {\n",
       "        vertical-align: top;\n",
       "    }\n",
       "\n",
       "    .dataframe thead th {\n",
       "        text-align: right;\n",
       "    }\n",
       "</style>\n",
       "<table border=\"1\" class=\"dataframe\">\n",
       "  <thead>\n",
       "    <tr style=\"text-align: right;\">\n",
       "      <th></th>\n",
       "      <th>race_str</th>\n",
       "      <th>con</th>\n",
       "      <th>callback_rate</th>\n",
       "    </tr>\n",
       "  </thead>\n",
       "  <tbody>\n",
       "    <tr>\n",
       "      <th>0</th>\n",
       "      <td>Black</td>\n",
       "      <td>0</td>\n",
       "      <td>0.302326</td>\n",
       "    </tr>\n",
       "    <tr>\n",
       "      <th>1</th>\n",
       "      <td>Black</td>\n",
       "      <td>1</td>\n",
       "      <td>0.248837</td>\n",
       "    </tr>\n",
       "    <tr>\n",
       "      <th>2</th>\n",
       "      <td>White</td>\n",
       "      <td>0</td>\n",
       "      <td>0.400000</td>\n",
       "    </tr>\n",
       "    <tr>\n",
       "      <th>3</th>\n",
       "      <td>White</td>\n",
       "      <td>1</td>\n",
       "      <td>0.330233</td>\n",
       "    </tr>\n",
       "  </tbody>\n",
       "</table>\n",
       "</div>"
      ],
      "text/plain": [
       "  race_str  con  callback_rate\n",
       "0    Black    0       0.302326\n",
       "1    Black    1       0.248837\n",
       "2    White    0       0.400000\n",
       "3    White    1       0.330233"
      ]
     },
     "execution_count": 244,
     "metadata": {},
     "output_type": "execute_result"
    }
   ],
   "source": [
    "audit_rate_df = audit_df.groupby(['race_str','con'])['dohire'].mean().to_frame().reset_index()\n",
    "audit_rate_df.rename(columns={'dohire': 'callback_rate'}, inplace=True)\n",
    "audit_rate_df"
   ]
  },
  {
   "cell_type": "code",
   "execution_count": 245,
   "id": "8220939e-3b6b-4d74-a5c4-7db1c8ab74c8",
   "metadata": {
    "execution": {
     "iopub.execute_input": "2025-08-01T06:57:53.605643Z",
     "iopub.status.busy": "2025-08-01T06:57:53.605398Z",
     "iopub.status.idle": "2025-08-01T06:57:53.756808Z",
     "shell.execute_reply": "2025-08-01T06:57:53.756326Z",
     "shell.execute_reply.started": "2025-08-01T06:57:53.605625Z"
    }
   },
   "outputs": [
    {
     "data": {
      "image/png": "[encoded data removed]",
      "text/plain": [
       "<Figure size 100x100 with 2 Axes>"
      ]
     },
     "execution_count": 245,
     "metadata": {},
     "output_type": "execute_result"
    }
   ],
   "source": [
    "ax = pw.Brick(figsize=(5, 3));\n",
    "sns.barplot(\n",
    "    x=\"race_str\", y='callback_rate', hue='con', data=audit_rate_df,\n",
    "    alpha=0.9, order=['White','Black'], ax=ax\n",
    ");\n",
    "ax.set_title(\"Callback Rates for Imputed Dataset\")\n",
    "ax.savefig()"
   ]
  },
  {
   "cell_type": "markdown",
   "id": "e9278c66-45d7-47f3-98c5-817d0c991f5e",
   "metadata": {},
   "source": [
    "This \"smoothing out\" of inter-group differences is, sadly, the price that must be paid if we want a dataset with **greater** within-firm variation but **approximately-similar** group effects, unless we're willing to bring additional assumptions to this procedure (it turns out to be very similar to the [\"differential privacy\" approach](https://www.census.gov/programs-surveys/decennial-census/decade/2020/planning-management/process/disclosure-avoidance/differential-privacy.html) utilized by the US Census starting in 2020, and if you took DSAN5450 with me you may also be able to see the connection between the two!).\n",
    "\n",
    "With all that said, let's build our model **connecting** attitudes and behaviors! Your job is just to answer the multiple-choice questions at the end of each sub-part."
   ]
  },
  {
   "cell_type": "markdown",
   "id": "fa970275-3a9c-416b-9784-049f2d364163",
   "metadata": {},
   "source": [
    "## [Part 3.1] *(The Only Sub-Part!)* A Multilevel Model of Attitudes"
   ]
  },
  {
   "cell_type": "code",
   "execution_count": 256,
   "id": "1af6bc09-cf99-429e-bb33-7bd61240f7d6",
   "metadata": {
    "execution": {
     "iopub.execute_input": "2025-08-01T06:59:58.626808Z",
     "iopub.status.busy": "2025-08-01T06:59:58.626536Z",
     "iopub.status.idle": "2025-08-01T06:59:58.635845Z",
     "shell.execute_reply": "2025-08-01T06:59:58.635456Z",
     "shell.execute_reply.started": "2025-08-01T06:59:58.626788Z"
    }
   },
   "outputs": [
    {
     "data": {
      "text/html": [
       "<style>\n",
       "@import url('https://fonts.googleapis.com/css2?family=Roboto:ital,wght@0,100..900;1,100..900&display=swap');\n",
       ".jp-RenderedHTMLCommon {\n",
       "    font-family: \"Roboto\", sans-serif;\n",
       "}\n",
       "</style>\n"
      ],
      "text/plain": [
       "<IPython.core.display.HTML object>"
      ]
     },
     "metadata": {},
     "output_type": "display_data"
    }
   ],
   "source": [
    "%run jupyter_fixes.ipynb\n",
    "import pandas as pd\n",
    "import numpy as np\n",
    "import matplotlib.pyplot as plt\n",
    "import seaborn as sns\n",
    "import patchworklib as pw\n",
    "import pymc as pm\n",
    "import arviz as az\n",
    "from scipy.special import expit"
   ]
  },
  {
   "cell_type": "markdown",
   "id": "8e100bfb-5c67-4249-bfb3-7fbffdc18e78",
   "metadata": {},
   "source": [
    "First, in addition to re-including the imports above (so that you can work on this part independently of Part 2), we'll also re-load the **survey** data just in case, since it's the main data we'll be using to model **attitudes** at both the **region** and **firm** level:"
   ]
  },
  {
   "cell_type": "code",
   "execution_count": 249,
   "id": "02565ff1-14c4-42c0-bea0-bea4b49e70a6",
   "metadata": {
    "execution": {
     "iopub.execute_input": "2025-08-01T06:58:37.830627Z",
     "iopub.status.busy": "2025-08-01T06:58:37.830360Z",
     "iopub.status.idle": "2025-08-01T06:58:37.839182Z",
     "shell.execute_reply": "2025-08-01T06:58:37.838723Z",
     "shell.execute_reply.started": "2025-08-01T06:58:37.830610Z"
    }
   },
   "outputs": [
    {
     "data": {
      "text/html": [
       "<div>\n",
       "<style scoped>\n",
       "    .dataframe tbody tr th:only-of-type {\n",
       "        vertical-align: middle;\n",
       "    }\n",
       "\n",
       "    .dataframe tbody tr th {\n",
       "        vertical-align: top;\n",
       "    }\n",
       "\n",
       "    .dataframe thead th {\n",
       "        text-align: right;\n",
       "    }\n",
       "</style>\n",
       "<table border=\"1\" class=\"dataframe\">\n",
       "  <thead>\n",
       "    <tr style=\"text-align: right;\">\n",
       "      <th></th>\n",
       "      <th>survey_id</th>\n",
       "      <th>firm_id</th>\n",
       "      <th>con</th>\n",
       "      <th>race</th>\n",
       "      <th>race_str</th>\n",
       "      <th>sayhire</th>\n",
       "    </tr>\n",
       "  </thead>\n",
       "  <tbody>\n",
       "    <tr>\n",
       "      <th>0</th>\n",
       "      <td>0</td>\n",
       "      <td>0</td>\n",
       "      <td>0</td>\n",
       "      <td>0</td>\n",
       "      <td>White</td>\n",
       "      <td>1</td>\n",
       "    </tr>\n",
       "    <tr>\n",
       "      <th>1</th>\n",
       "      <td>1</td>\n",
       "      <td>0</td>\n",
       "      <td>1</td>\n",
       "      <td>0</td>\n",
       "      <td>White</td>\n",
       "      <td>0</td>\n",
       "    </tr>\n",
       "    <tr>\n",
       "      <th>2</th>\n",
       "      <td>2</td>\n",
       "      <td>0</td>\n",
       "      <td>0</td>\n",
       "      <td>1</td>\n",
       "      <td>Black</td>\n",
       "      <td>1</td>\n",
       "    </tr>\n",
       "    <tr>\n",
       "      <th>3</th>\n",
       "      <td>3</td>\n",
       "      <td>0</td>\n",
       "      <td>1</td>\n",
       "      <td>1</td>\n",
       "      <td>Black</td>\n",
       "      <td>0</td>\n",
       "    </tr>\n",
       "    <tr>\n",
       "      <th>4</th>\n",
       "      <td>4</td>\n",
       "      <td>1</td>\n",
       "      <td>0</td>\n",
       "      <td>0</td>\n",
       "      <td>White</td>\n",
       "      <td>1</td>\n",
       "    </tr>\n",
       "  </tbody>\n",
       "</table>\n",
       "</div>"
      ],
      "text/plain": [
       "   survey_id  firm_id  con  race race_str  sayhire\n",
       "0          0        0    0     0    White        1\n",
       "1          1        0    1     0    White        0\n",
       "2          2        0    0     1    Black        1\n",
       "3          3        0    1     1    Black        0\n",
       "4          4        1    0     0    White        1"
      ]
     },
     "execution_count": 249,
     "metadata": {},
     "output_type": "execute_result"
    }
   ],
   "source": [
    "survey_df = pd.read_csv(\"pager_matched_surveys.csv\")\n",
    "survey_df.head()"
   ]
  },
  {
   "cell_type": "markdown",
   "id": "89285f96-c3d9-4c42-86b2-a7bf5b2cbc19",
   "metadata": {},
   "source": [
    "### [Question 3.1.1] Write and Fit Model with PyMC"
   ]
  },
  {
   "cell_type": "markdown",
   "id": "d69a463d-68f0-4a46-8119-0f728a68e550",
   "metadata": {},
   "source": [
    "Your job now is just to implement 1/3 of the full cross-predictive model! (The next 1/3 would be a multilevel model of **behaviors**, and then the final 1/3 would be the **latent ABC variable** linking these first two models)\n",
    "\n",
    "Writing it out in the step-by-step, generative form that you saw all the way back in HW1, the key **Parameter RVs** of the model (as in, this does not yet account for how the observed data gets \"plugged in\", which will be covered by the PGM image below this table):\n",
    "\n",
    "| | | | | |\n",
    "| - | - | - | - | - |\n",
    "| 1. | `ascore_city` | $\\sim$ | $\\mathcal{N}(0, 1.5)$ | Generate an \"attitude score\" -- called that because it plays a role in determining $\\Pr(\\texttt{sayhire})$, but is a **log-odds** score rather than a probability (so it can range from $-\\infty$ to $\\infty$, and we can put this nice Normal distribution prior on it, then convert it into a probability further down the line) |\n",
    "| 2. | `ascore_region` | $\\sim$ | $(\\mathcal{N}(0, 1), \\mathcal{N}(0, 1))$ | I know this notation is confusing, but it is written this way to indicate that you should implement this variable as a 2-element **vector** of `pm.Normal()` RVs.<br><br>This will allows you to straightforwardly use a given firm's **`region_obs` value** as an **index** into this vector, in Step 3. This also means that you no don't need to use `pm.math.switch()` anywhere in this model! (Though you won't be penalized for using that approach instead of this indexing approach) |\n",
    "| 3. | `ascore_firm` | $\\sim$ | $\\mathcal{N}(\\texttt{ascore\\_region[region\\_obs]}, 1)$ | This is the \"final\" attitude score, the attitude score at the **firm** level, which is the lowest level in the multilevel model with an \"attitude score\" property |\n",
    "| 4. | `p_sayhire` | $\\leftarrow$ | $\\text{logit}^{-1}(\\texttt{ascore\\_firm})$ | This is the payoff from using attitude **scores** (in log-odds units) in Steps 1-3 rather than attitude **probabilities**: the **regional** attitude scores vary around the city mean via the \"natural\" choice of the Normal distribution, then the **firm** attitude scores vary around the mean of their regions again via the \"natural\" Normal distribution, until finally at this point we **convert** from log-odds scores into human-interpretable **probabilities of saying \"likely hire\"** in response to the Chad vignette. |\n",
    "| 5. | `sayhire` | $\\sim$ | $\\text{Bern}(\\texttt{p\\_sayhire[survey\\_firm\\_ids]})$ | This is the \"outcome\" variable, in the same general form you've implemented a bunch of times now (so, for example, this is where you should include the `observed=` argument to `pm.Bernoulli()`).<br><br>The only slightly-fancier thing now is that, we need to generate **multiple** Bernoulli outcomes for **each** firm (one Bernoulli outcome for each **auditor** who was assigned to a given firm). That's your final challenge: to figure out how to use the `dims=` argument to handle this \"mismatch\" between the number of **firms** and the number of **auditors** in this Part 3 dataset. |\n",
    "\n",
    "Steps 1-4 thus represent the four main **parameters** of the model, and Step 5 represents the **outcome** (which is why this \"final step\" variable is often referred to as the **likelihood link**: it serves as a kind of \"interface\" between the observed data and the hypothesized model parameters when the MCMC algorithm is... \"churning\" back and forth between the two, with the aim of maximizing the model's log-likelihood function).\n",
    "\n",
    "When it's all put together, the model should look something like the following, which also makes explicit where exactly the **data** nodes enter the model:\n",
    "\n",
    "<center>\n",
    "<img src=\"https://raw.githubusercontent.com/jpowerj/dsan-content/132f79397ffb46cc21ef9ceb15eb520d2600a03e/2025-sum-dsan5650/hw3/multilevel_attitude.svg\" width=\"40%\" />\n",
    "</center>"
   ]
  },
  {
   "cell_type": "code",
   "execution_count": null,
   "id": "a58eb9da-e0e1-41c8-99d0-267fff68f132",
   "metadata": {},
   "outputs": [],
   "source": [
    "# @title Q3.1.1-response\n",
    "mla_coords = {\n",
    "    'region': ['Urban','Suburban'],\n",
    "    'audit_id': audit_df.index.values,\n",
    "    'survey_id': survey_df.index.values,\n",
    "    'firm_id': firm_df.index.values,\n",
    "}\n",
    "survey_firm_ids = survey_df['firm_id'].values\n",
    "\n",
    "# Your code here: Implement the model, as described above, giving it the name\n",
    "# mla_model (for MultiLevel Attitude model)\n",
    "\n",
    "\n",
    "\n",
    "# Once you've implemented the model, uncomment the following line to display\n",
    "# it in PGM form -- then you can compare it with the image included above, as\n",
    "# a sanity check!\n",
    "\n",
    "# pm.model_to_graphviz(mla_model)"
   ]
  },
  {
   "cell_type": "code",
   "execution_count": null,
   "id": "1382deb3-6893-4678-b88c-6e04a8c551bb",
   "metadata": {},
   "outputs": [],
   "source": [
    "# @title Q3.1.1-public-tests\n",
    "q3_1_1_public_tests = {\n",
    "    'mla_model defined': '✅ Passed!' if 'mla_model' in globals() else \"🔲 No variable named 'mla_model' exists in Python memory\",\n",
    "}\n",
    "q3_1_1_public_tests"
   ]
  },
  {
   "cell_type": "markdown",
   "id": "530eb2e7-0ffe-4d45-88c7-a0ba26c634c0",
   "metadata": {},
   "source": [
    "### [Question 3.1.2] Extract Point Estimates for `ascore_region`"
   ]
  },
  {
   "cell_type": "markdown",
   "id": "2ca13948-d683-42bb-88cb-b817d1cdd3e0",
   "metadata": {},
   "source": [
    "Now that your model is ready to go, in the following code cell, use the `pm.sample()` function to estimate the posterior distributions for the parameters in `mla_model`.\n",
    "\n",
    "Though `pm.sample()` estimates this distribution for **all** parameters, here we'll focus in specifically on **`ascore_region`**. The idea is that, even with just this \"piece\" of the full cross-predictive model, we can **compare the posterior distributions** of **`ascore_region[Urban]`** and **`ascore_region[Suburban]`** to get a sense for **which subset of firms in the Milwaukee area are more likely to respond positively to applicants, overall!** This was the original purpose of this whole part of the assignment: a Bayesian model allowing yall to \"input\" characteristics and get back predicted $\\Pr(`sayhire` = 1)$ values **and** predicted $\\Pr(`dohire` = 1)$ values. As it stands, the writeup mentioned above is now where that magic model lives!\n",
    "\n",
    "As a final detail on the included code: Since the `az.summary()` tables can start to look cluttered once you add more and more variables to your model, here the included code uses its optional `var_names=` argument to ensure that the table only summarizes the posterior distributions for `ascore_region`.\n",
    "\n",
    "The following table was copied directly from our solutions (with the cell values removed), so you can see exactly the form that the results take on if your model implementation uses `region_obs` as an index into the 2-element vector RV `ascore_region`.\n",
    "\n",
    "<table border=\"1\" class=\"dataframe\">\n",
    "  <thead>\n",
    "    <tr style=\"text-align:right\">\n",
    "      <th></th>\n",
    "      <th>mean</th>\n",
    "      <th>sd</th>\n",
    "      <th>hdi_3%</th>\n",
    "      <th>hdi_97%</th>\n",
    "      <th>mcse_mean</th>\n",
    "      <th>mcse_sd</th>\n",
    "      <th>ess_bulk</th>\n",
    "      <th>ess_tail</th>\n",
    "      <th>r_hat</th>\n",
    "    </tr>\n",
    "  </thead>\n",
    "  <tbody>\n",
    "    <tr>\n",
    "      <th>ascore_region[Urban]</th>\n",
    "      <td></td>\n",
    "      <td></td>\n",
    "      <td></td>\n",
    "      <td></td>\n",
    "      <td></td>\n",
    "      <td></td>\n",
    "      <td></td>\n",
    "      <td></td>\n",
    "      <td></td>\n",
    "    </tr>\n",
    "    <tr>\n",
    "      <th>ascore_region[Suburban]</th>\n",
    "      <td></td>\n",
    "      <td></td>\n",
    "      <td></td>\n",
    "      <td></td>\n",
    "      <td></td>\n",
    "      <td></td>\n",
    "      <td></td>\n",
    "      <td></td>\n",
    "      <td></td>\n",
    "    </tr>\n",
    "  </tbody>\n",
    "</table>"
   ]
  },
  {
   "cell_type": "code",
   "execution_count": 261,
   "id": "f6027d8c-5351-47ca-8022-03681feb0ca8",
   "metadata": {
    "execution": {
     "iopub.execute_input": "2025-08-01T07:40:37.266980Z",
     "iopub.status.busy": "2025-08-01T07:40:37.266701Z",
     "iopub.status.idle": "2025-08-01T07:40:37.269876Z",
     "shell.execute_reply": "2025-08-01T07:40:37.269489Z",
     "shell.execute_reply.started": "2025-08-01T07:40:37.266962Z"
    }
   },
   "outputs": [],
   "source": [
    "# @title Q3.1.2-response\n",
    "\n",
    "# Use pm.sample(random_seed=5650) to estimate the posterior\n",
    "# distributions of the parameters in mla_model, storing the result in a variable\n",
    "# named mla_idata\n",
    "\n",
    "# Your code here\n",
    "\n",
    "# If implemented correctly (and using region_obs as the index for ascore_region),\n",
    "# uncommenting the following line should generate a table that looks like the\n",
    "# above skeleton table, but with the cell values filled in!\n",
    "\n",
    "# az.summary(mla_idata, var_names=['ascore_region'])"
   ]
  },
  {
   "cell_type": "code",
   "execution_count": null,
   "id": "67ef47f4-5403-41dd-b37e-b2a33d2377f6",
   "metadata": {},
   "outputs": [],
   "source": [
    "# @title Q3.1.2-public_tests\n",
    "q3_1_2_public_tests = {\n",
    "    'mla_idata defined': '✅ Passed!' if 'mla_idata' in globals() else \"🔲 No variable named 'mla_idata' exists in Python memory\",\n",
    "}\n",
    "q3_1_2_public_tests"
   ]
  },
  {
   "cell_type": "markdown",
   "id": "f8fb93cb-4576-4663-ad8d-be59ef66dc40",
   "metadata": {},
   "source": [
    "### [Question 3.1.3] Interpret `ascore_region` Point Estimates"
   ]
  },
  {
   "cell_type": "markdown",
   "id": "baf0547e-7754-415b-8e4f-c59bc925ab5d",
   "metadata": {},
   "source": [
    "This is the final coding question on HW3 (besides the multiple choice and pinky promise questions below)!\n",
    "\n",
    "There is one step left, which you saw in Parts 1 and 2 as well: though we can already see from the `az.summary()` table above which of the regions has a **higher** $\\Pr(\\texttt{sayhire} = 1)$ value, we don't yet know **what this value is** for the two regions!\n",
    "\n",
    "So, in the following code cell, use the `expit()` function (that was sneakily imported at the beginning of Part 3) to compute the two **probabilities**\n",
    "\n",
    "* $\\Pr(\\texttt{sayhire}_j = 1 \\mid \\text{Region}_j = \\text{Urban})$ and\n",
    "* $\\Pr(\\texttt{sayhire}_j = 1 \\mid \\text{Region}_j = \\text{Suburban})$,\n",
    "\n",
    "where $j$ indexes **firms** in this case, then store these values in `pr_sayhire_urban` and `pr_sayhire_suburban`, respectively."
   ]
  },
  {
   "cell_type": "code",
   "execution_count": null,
   "id": "25aa9bb1-6cc8-4e27-bb8c-866c5006a0ec",
   "metadata": {},
   "outputs": [],
   "source": [
    "# @title Q3.1.3-response\n",
    "\n",
    "# (Step 1) Extract point estimates for ascore_region from mla_idata.posterior\n",
    "\n",
    "# Your code here\n",
    "\n",
    "# (Step 2) Use these point estimates, along with expit(), to derive the\n",
    "# probability point estimates mentioned above\n",
    "\n",
    "pr_sayhire_urban = None # Your code here: replace the None\n",
    "pr_sayhire_suburban = None # Your code here: replace the None\n",
    "\n",
    "print(pr_sayhire_urban, pr_sayhire_suburban)"
   ]
  },
  {
   "cell_type": "code",
   "execution_count": 281,
   "id": "377705f8-e0b5-4a3f-a347-1d27e74a9e0f",
   "metadata": {
    "execution": {
     "iopub.execute_input": "2025-08-01T08:38:46.151535Z",
     "iopub.status.busy": "2025-08-01T08:38:46.151217Z",
     "iopub.status.idle": "2025-08-01T08:38:46.156622Z",
     "shell.execute_reply": "2025-08-01T08:38:46.156106Z",
     "shell.execute_reply.started": "2025-08-01T08:38:46.151517Z"
    }
   },
   "outputs": [
    {
     "data": {
      "text/plain": [
       "{'pr_sayhire_urban defined': '✅ Passed!',\n",
       " 'pr_sayhire_suburban defined': '✅ Passed!'}"
      ]
     },
     "execution_count": 281,
     "metadata": {},
     "output_type": "execute_result"
    }
   ],
   "source": [
    "# @title Q3.1.3-public-tests\n",
    "q3_1_3_public_tests = {\n",
    "    'pr_sayhire_urban defined': '✅ Passed!' if 'pr_sayhire_urban' in globals() else \"🔲 No variable named 'pr_sayhire_urban' exists in Python memory\",\n",
    "    'pr_sayhire_suburban defined': '✅ Passed!' if 'pr_sayhire_suburban' in globals() else \"🔲 No variable named 'pr_sayhire_suburban' exists in Python memory\",\n",
    "}\n",
    "q3_1_3_public_tests"
   ]
  },
  {
   "cell_type": "markdown",
   "id": "6cb9ea32-a7b2-43bb-8453-15f9eb89ffaa",
   "metadata": {
    "execution": {
     "iopub.execute_input": "2025-08-01T07:00:13.146654Z",
     "iopub.status.busy": "2025-08-01T07:00:13.146376Z",
     "iopub.status.idle": "2025-08-01T07:00:13.150313Z",
     "shell.execute_reply": "2025-08-01T07:00:13.149931Z",
     "shell.execute_reply.started": "2025-08-01T07:00:13.146638Z"
    }
   },
   "source": [
    "### [Question 3.1.4] Log-Odds $\\rightarrow$ Interpretable Probabilities"
   ]
  },
  {
   "cell_type": "markdown",
   "id": "a14cefa1-7739-4643-bf88-81addbc95d0d",
   "metadata": {},
   "source": [
    "Answer this question based on what you found in the previous two sub-parts.\n",
    "\n",
    "Say your name is Chad, and you're searching for a job in the Milwaukee metro area. You only have the pieces of information derived above at your disposal, and you're about to fall asleep, so you only have time to perform one job search on [milwaukeejobs.com](https://www.milwaukeejobs.com/). Consider the following two searches, where (as can be seen on [this page](https://www.milwaukeejobs.com/jobs/location) \"Milwaukee\" on this site refers to jobs within the \"official\" urban city limits of Milwaukee proper:\n",
    "\n",
    "* (a) [Jobs with Location = \"Milwaukee\"](https://www.milwaukeejobs.com/j/l-Milwaukee,-WI-jobs-l31.html)\n",
    "* (b) [Jobs with Location $\\neq$ \"Milwaukee\"](https://www.milwaukeejobs.com/jobs/location)\n",
    "\n",
    "Which search would be **more likely** to lead you to an employer who expresses a positive attitude towards hiring? ***(Choose one option by replacing the `\"\"` with the letter for your answer)***"
   ]
  },
  {
   "cell_type": "code",
   "execution_count": 267,
   "id": "a88f4b45-7b3e-4e05-9de5-900f8d33382a",
   "metadata": {
    "execution": {
     "iopub.execute_input": "2025-08-01T08:03:51.651828Z",
     "iopub.status.busy": "2025-08-01T08:03:51.651509Z",
     "iopub.status.idle": "2025-08-01T08:03:51.654830Z",
     "shell.execute_reply": "2025-08-01T08:03:51.654319Z",
     "shell.execute_reply.started": "2025-08-01T08:03:51.651809Z"
    }
   },
   "outputs": [],
   "source": [
    "# @title Q3.1.4-response\n",
    "q3_1_4_reponse = \"\" # Replace with \"a\" for option (a), \"b\" for option (b)"
   ]
  },
  {
   "cell_type": "code",
   "execution_count": 268,
   "id": "981255e6-b29b-43f5-99ca-3f9828923223",
   "metadata": {
    "execution": {
     "iopub.execute_input": "2025-08-01T08:06:38.453291Z",
     "iopub.status.busy": "2025-08-01T08:06:38.453018Z",
     "iopub.status.idle": "2025-08-01T08:06:38.457480Z",
     "shell.execute_reply": "2025-08-01T08:06:38.457060Z",
     "shell.execute_reply.started": "2025-08-01T08:06:38.453273Z"
    }
   },
   "outputs": [
    {
     "data": {
      "text/plain": [
       "{'q3_1_4_response defined': \"🔲 No variable named 'q3_1_4_response' exists in Python memory\"}"
      ]
     },
     "execution_count": 268,
     "metadata": {},
     "output_type": "execute_result"
    }
   ],
   "source": [
    "# @title Q3.1.4-public-tests\n",
    "q3_1_4_public_tests = {\n",
    "    'q3_1_4_response defined': '✅ Passed!' if 'q3_1_4_response' in globals() else \"🔲 No variable named 'q3_1_4_response' exists in Python memory\",\n",
    "}\n",
    "q3_1_4_public_tests"
   ]
  },
  {
   "cell_type": "markdown",
   "id": "7e57e23c-98f5-418d-873d-636c9c9bfcb7",
   "metadata": {},
   "source": [
    "### [Question 3.1.5] The Pinky-Promise"
   ]
  },
  {
   "cell_type": "markdown",
   "id": "588982f0-aac8-4922-ba41-84195fc12f40",
   "metadata": {},
   "source": [
    "Do you pinky-promise to at least scroll through the [**\"HW3 Grand Finale\" writeup**](https://jjacobs.me/dsan5650/writeups/abc-cross-prediction/), extending this model to full cross-prediction of attitudes and behaviors?\n",
    "\n",
    "* (a) Yes\n",
    "* (b) Double Yes\n",
    "* (c) Only lowercase yes"
   ]
  },
  {
   "cell_type": "code",
   "execution_count": 282,
   "id": "b598e253-9bd4-4e2e-99a8-44ecebc50176",
   "metadata": {
    "execution": {
     "iopub.execute_input": "2025-08-01T08:42:33.097217Z",
     "iopub.status.busy": "2025-08-01T08:42:33.096969Z",
     "iopub.status.idle": "2025-08-01T08:42:33.101373Z",
     "shell.execute_reply": "2025-08-01T08:42:33.100886Z",
     "shell.execute_reply.started": "2025-08-01T08:42:33.097200Z"
    }
   },
   "outputs": [],
   "source": [
    "# @title Q3.1.5-response\n",
    "q3_1_5_response = \"\" # Replace with \"a\" for choice (a), \"b\" for choice (b), \"c\" for choice (c)"
   ]
  },
  {
   "cell_type": "code",
   "execution_count": 283,
   "id": "181fb2b3-af57-431f-8dcf-a053a15bdc6c",
   "metadata": {
    "execution": {
     "iopub.execute_input": "2025-08-01T08:43:20.881612Z",
     "iopub.status.busy": "2025-08-01T08:43:20.881348Z",
     "iopub.status.idle": "2025-08-01T08:43:20.885719Z",
     "shell.execute_reply": "2025-08-01T08:43:20.885237Z",
     "shell.execute_reply.started": "2025-08-01T08:43:20.881594Z"
    }
   },
   "outputs": [
    {
     "data": {
      "text/plain": [
       "{'q3_1_5_response defined': '✅ Passed!'}"
      ]
     },
     "execution_count": 283,
     "metadata": {},
     "output_type": "execute_result"
    }
   ],
   "source": [
    "# @title Q3.1.5-public-tests\n",
    "q3_1_5_public_tests = {\n",
    "    'q3_1_5_response defined': '✅ Passed!' if 'q3_1_5_response' in globals() else \"🔲 No variable named 'q3_1_5_response' exists in Python memory\",\n",
    "}\n",
    "q3_1_5_public_tests"
   ]
  },
  {
   "cell_type": "markdown",
   "id": "91b05657-1605-40cf-89c5-74c08a3be595",
   "metadata": {},
   "source": [
    "Thank you for your patience! And, if it helps, here is the PGM for the full model in the writeup, that I have benevolently spared you from having to write! 😇👼🤗 Though it looks scary at first, you can think about how it could be \"built up\" from the piece of it that you just created in Part 3.1!\n",
    "\n",
    "<center>\n",
    "<img src=\"https://raw.githubusercontent.com/jpowerj/dsan-content/2d66bec8877046fbaac4350bd8295c4c334a8a69/2025-sum-dsan5650/hw3/multilevel_abc.svg\" width=\"60%\" />\n",
    "</center>"
   ]
  },
  {
   "cell_type": "code",
   "execution_count": null,
   "id": "90167554-a950-456c-b46d-33ebbb5e6e81",
   "metadata": {},
   "outputs": [],
   "source": []
  }
 ],
 "metadata": {
  "kernelspec": {
   "display_name": "Python 3 (ipykernel)",
   "language": "python",
   "name": "python3"
  },
  "language_info": {
   "codemirror_mode": {
    "name": "ipython",
    "version": 3
   },
   "file_extension": ".py",
   "mimetype": "text/x-python",
   "name": "python",
   "nbconvert_exporter": "python",
   "pygments_lexer": "ipython3",
   "version": "3.12.6"
  },
  "widgets": {
   "application/vnd.jupyter.widget-state+json": {
    "state": {
     "01d9377b753d4e139b97a000aef42ec8": {
      "model_module": "@jupyter-widgets/base",
      "model_module_version": "2.0.0",
      "model_name": "LayoutModel",
      "state": {}
     },
     "04220ae40fa4437ba98bfd441b5afd5f": {
      "model_module": "@jupyter-widgets/output",
      "model_module_version": "1.0.0",
      "model_name": "OutputModel",
      "state": {
       "layout": "IPY_MODEL_f763d40df0ad4c4f8638fb06ad5296f8",
       "outputs": [
        {
         "data": {
          "text/html": "<pre style=\"white-space:pre;overflow-x:auto;line-height:normal;font-family:Menlo,'DejaVu Sans Mono',consolas,'Courier New',monospace\">                                                                                                                   \n <span style=\"font-weight: bold\"> Progress                 </span> <span style=\"font-weight: bold\"> Draws </span> <span style=\"font-weight: bold\"> Divergences </span> <span style=\"font-weight: bold\"> Step size </span> <span style=\"font-weight: bold\"> Grad evals </span> <span style=\"font-weight: bold\"> Sampling Speed  </span> <span style=\"font-weight: bold\"> Elapsed </span> <span style=\"font-weight: bold\"> Remaining </span> \n ───────────────────────────────────────────────────────────────────────────────────────────────────────────────── \n  <span style=\"color: #1f77b4; text-decoration-color: #1f77b4\">━━━━━━━━━━━━━━━━━━━━━━━━</span>   2000    0             1.60        3            2742.03 draws/s   0:00:00   0:00:00    \n  <span style=\"color: #1f77b4; text-decoration-color: #1f77b4\">━━━━━━━━━━━━━━━━━━━━━━━━</span>   2000    0             0.85        1            2566.96 draws/s   0:00:00   0:00:00    \n  <span style=\"color: #1f77b4; text-decoration-color: #1f77b4\">━━━━━━━━━━━━━━━━━━━━━━━━</span>   2000    0             1.05        3            2343.00 draws/s   0:00:00   0:00:00    \n  <span style=\"color: #1f77b4; text-decoration-color: #1f77b4\">━━━━━━━━━━━━━━━━━━━━━━━━</span>   2000    0             0.86        1            1857.82 draws/s   0:00:01   0:00:00    \n                                                                                                                   \n</pre>\n",
          "text/plain": "                                                                                                                   \n \u001b[1m \u001b[0m\u001b[1mProgress                \u001b[0m\u001b[1m \u001b[0m \u001b[1m \u001b[0m\u001b[1mDraws\u001b[0m\u001b[1m \u001b[0m \u001b[1m \u001b[0m\u001b[1mDivergences\u001b[0m\u001b[1m \u001b[0m \u001b[1m \u001b[0m\u001b[1mStep size\u001b[0m\u001b[1m \u001b[0m \u001b[1m \u001b[0m\u001b[1mGrad evals\u001b[0m\u001b[1m \u001b[0m \u001b[1m \u001b[0m\u001b[1mSampling Speed \u001b[0m\u001b[1m \u001b[0m \u001b[1m \u001b[0m\u001b[1mElapsed\u001b[0m\u001b[1m \u001b[0m \u001b[1m \u001b[0m\u001b[1mRemaining\u001b[0m\u001b[1m \u001b[0m \n ───────────────────────────────────────────────────────────────────────────────────────────────────────────────── \n  \u001b[38;2;31;119;180m━━━━━━━━━━━━━━━━━━━━━━━━\u001b[0m   2000    0             1.60        3            2742.03 draws/s   0:00:00   0:00:00    \n  \u001b[38;2;31;119;180m━━━━━━━━━━━━━━━━━━━━━━━━\u001b[0m   2000    0             0.85        1            2566.96 draws/s   0:00:00   0:00:00    \n  \u001b[38;2;31;119;180m━━━━━━━━━━━━━━━━━━━━━━━━\u001b[0m   2000    0             1.05        3            2343.00 draws/s   0:00:00   0:00:00    \n  \u001b[38;2;31;119;180m━━━━━━━━━━━━━━━━━━━━━━━━\u001b[0m   2000    0             0.86        1            1857.82 draws/s   0:00:01   0:00:00    \n                                                                                                                   \n"
         },
         "metadata": {},
         "output_type": "display_data"
        }
       ]
      }
     },
     "49cc4ead524c4422a16ce078ec2c9159": {
      "model_module": "@jupyter-widgets/output",
      "model_module_version": "1.0.0",
      "model_name": "OutputModel",
      "state": {
       "layout": "IPY_MODEL_a2565d84fff94915bc2af349c8c563f1",
       "outputs": [
        {
         "data": {
          "text/html": "<pre style=\"white-space:pre;overflow-x:auto;line-height:normal;font-family:Menlo,'DejaVu Sans Mono',consolas,'Courier New',monospace\">                                                                                                                   \n <span style=\"font-weight: bold\"> Progress                 </span> <span style=\"font-weight: bold\"> Draws </span> <span style=\"font-weight: bold\"> Divergences </span> <span style=\"font-weight: bold\"> Step size </span> <span style=\"font-weight: bold\"> Grad evals </span> <span style=\"font-weight: bold\"> Sampling Speed  </span> <span style=\"font-weight: bold\"> Elapsed </span> <span style=\"font-weight: bold\"> Remaining </span> \n ───────────────────────────────────────────────────────────────────────────────────────────────────────────────── \n  <span style=\"color: #1f77b4; text-decoration-color: #1f77b4\">━━━━━━━━━━━━━━━━━━━━━━━━</span>   2000    0             0.53        3            1403.67 draws/s   0:00:01   0:00:00    \n  <span style=\"color: #1f77b4; text-decoration-color: #1f77b4\">━━━━━━━━━━━━━━━━━━━━━━━━</span>   2000    0             0.90        7            1500.42 draws/s   0:00:01   0:00:00    \n  <span style=\"color: #1f77b4; text-decoration-color: #1f77b4\">━━━━━━━━━━━━━━━━━━━━━━━━</span>   2000    0             0.94        3            1426.64 draws/s   0:00:01   0:00:00    \n  <span style=\"color: #1f77b4; text-decoration-color: #1f77b4\">━━━━━━━━━━━━━━━━━━━━━━━━</span>   2000    0             0.88        7            1393.63 draws/s   0:00:01   0:00:00    \n                                                                                                                   \n</pre>\n",
          "text/plain": "                                                                                                                   \n \u001b[1m \u001b[0m\u001b[1mProgress                \u001b[0m\u001b[1m \u001b[0m \u001b[1m \u001b[0m\u001b[1mDraws\u001b[0m\u001b[1m \u001b[0m \u001b[1m \u001b[0m\u001b[1mDivergences\u001b[0m\u001b[1m \u001b[0m \u001b[1m \u001b[0m\u001b[1mStep size\u001b[0m\u001b[1m \u001b[0m \u001b[1m \u001b[0m\u001b[1mGrad evals\u001b[0m\u001b[1m \u001b[0m \u001b[1m \u001b[0m\u001b[1mSampling Speed \u001b[0m\u001b[1m \u001b[0m \u001b[1m \u001b[0m\u001b[1mElapsed\u001b[0m\u001b[1m \u001b[0m \u001b[1m \u001b[0m\u001b[1mRemaining\u001b[0m\u001b[1m \u001b[0m \n ───────────────────────────────────────────────────────────────────────────────────────────────────────────────── \n  \u001b[38;2;31;119;180m━━━━━━━━━━━━━━━━━━━━━━━━\u001b[0m   2000    0             0.53        3            1403.67 draws/s   0:00:01   0:00:00    \n  \u001b[38;2;31;119;180m━━━━━━━━━━━━━━━━━━━━━━━━\u001b[0m   2000    0             0.90        7            1500.42 draws/s   0:00:01   0:00:00    \n  \u001b[38;2;31;119;180m━━━━━━━━━━━━━━━━━━━━━━━━\u001b[0m   2000    0             0.94        3            1426.64 draws/s   0:00:01   0:00:00    \n  \u001b[38;2;31;119;180m━━━━━━━━━━━━━━━━━━━━━━━━\u001b[0m   2000    0             0.88        7            1393.63 draws/s   0:00:01   0:00:00    \n                                                                                                                   \n"
         },
         "metadata": {},
         "output_type": "display_data"
        }
       ]
      }
     },
     "4f2830b77d294244a99d2437c10388ad": {
      "model_module": "@jupyter-widgets/base",
      "model_module_version": "2.0.0",
      "model_name": "LayoutModel",
      "state": {}
     },
     "610f20843d114aa1b832d51c3e34ea9a": {
      "model_module": "@jupyter-widgets/output",
      "model_module_version": "1.0.0",
      "model_name": "OutputModel",
      "state": {
       "layout": "IPY_MODEL_723c777c1ee544c9a9a0409f8622be4b",
       "outputs": [
        {
         "data": {
          "text/html": "<pre style=\"white-space:pre;overflow-x:auto;line-height:normal;font-family:Menlo,'DejaVu Sans Mono',consolas,'Courier New',monospace\">                                                                                                                   \n <span style=\"font-weight: bold\"> Progress                 </span> <span style=\"font-weight: bold\"> Draws </span> <span style=\"font-weight: bold\"> Divergences </span> <span style=\"font-weight: bold\"> Step size </span> <span style=\"font-weight: bold\"> Grad evals </span> <span style=\"font-weight: bold\"> Sampling Speed  </span> <span style=\"font-weight: bold\"> Elapsed </span> <span style=\"font-weight: bold\"> Remaining </span> \n ───────────────────────────────────────────────────────────────────────────────────────────────────────────────── \n  <span style=\"color: #1f77b4; text-decoration-color: #1f77b4\">━━━━━━━━━━━━━━━━━━━━━━━━</span>   2000    0             0.54        7            1179.98 draws/s   0:00:01   0:00:00    \n  <span style=\"color: #1f77b4; text-decoration-color: #1f77b4\">━━━━━━━━━━━━━━━━━━━━━━━━</span>   2000    0             0.60        7            1128.42 draws/s   0:00:01   0:00:00    \n  <span style=\"color: #1f77b4; text-decoration-color: #1f77b4\">━━━━━━━━━━━━━━━━━━━━━━━━</span>   2000    0             0.54        7            1159.33 draws/s   0:00:01   0:00:00    \n  <span style=\"color: #1f77b4; text-decoration-color: #1f77b4\">━━━━━━━━━━━━━━━━━━━━━━━━</span>   2000    0             0.63        7            1106.70 draws/s   0:00:01   0:00:00    \n                                                                                                                   \n</pre>\n",
          "text/plain": "                                                                                                                   \n \u001b[1m \u001b[0m\u001b[1mProgress                \u001b[0m\u001b[1m \u001b[0m \u001b[1m \u001b[0m\u001b[1mDraws\u001b[0m\u001b[1m \u001b[0m \u001b[1m \u001b[0m\u001b[1mDivergences\u001b[0m\u001b[1m \u001b[0m \u001b[1m \u001b[0m\u001b[1mStep size\u001b[0m\u001b[1m \u001b[0m \u001b[1m \u001b[0m\u001b[1mGrad evals\u001b[0m\u001b[1m \u001b[0m \u001b[1m \u001b[0m\u001b[1mSampling Speed \u001b[0m\u001b[1m \u001b[0m \u001b[1m \u001b[0m\u001b[1mElapsed\u001b[0m\u001b[1m \u001b[0m \u001b[1m \u001b[0m\u001b[1mRemaining\u001b[0m\u001b[1m \u001b[0m \n ───────────────────────────────────────────────────────────────────────────────────────────────────────────────── \n  \u001b[38;2;31;119;180m━━━━━━━━━━━━━━━━━━━━━━━━\u001b[0m   2000    0             0.54        7            1179.98 draws/s   0:00:01   0:00:00    \n  \u001b[38;2;31;119;180m━━━━━━━━━━━━━━━━━━━━━━━━\u001b[0m   2000    0             0.60        7            1128.42 draws/s   0:00:01   0:00:00    \n  \u001b[38;2;31;119;180m━━━━━━━━━━━━━━━━━━━━━━━━\u001b[0m   2000    0             0.54        7            1159.33 draws/s   0:00:01   0:00:00    \n  \u001b[38;2;31;119;180m━━━━━━━━━━━━━━━━━━━━━━━━\u001b[0m   2000    0             0.63        7            1106.70 draws/s   0:00:01   0:00:00    \n                                                                                                                   \n"
         },
         "metadata": {},
         "output_type": "display_data"
        }
       ]
      }
     },
     "61c5de5cc65a4864b4c6dd0e1a32ef5d": {
      "model_module": "@jupyter-widgets/output",
      "model_module_version": "1.0.0",
      "model_name": "OutputModel",
      "state": {
       "layout": "IPY_MODEL_b342c3685d7b4a719f732e9c7ba118a9",
       "outputs": [
        {
         "data": {
          "text/html": "<pre style=\"white-space:pre;overflow-x:auto;line-height:normal;font-family:Menlo,'DejaVu Sans Mono',consolas,'Courier New',monospace\">                                                                                                                   \n <span style=\"font-weight: bold\"> Progress                 </span> <span style=\"font-weight: bold\"> Draws </span> <span style=\"font-weight: bold\"> Divergences </span> <span style=\"font-weight: bold\"> Step size </span> <span style=\"font-weight: bold\"> Grad evals </span> <span style=\"font-weight: bold\"> Sampling Speed  </span> <span style=\"font-weight: bold\"> Elapsed </span> <span style=\"font-weight: bold\"> Remaining </span> \n ───────────────────────────────────────────────────────────────────────────────────────────────────────────────── \n  <span style=\"color: #1f77b4; text-decoration-color: #1f77b4\">━━━━━━━━━━━━━━━━━━━━━━━━</span>   2000    0             1.25        1            2183.32 draws/s   0:00:00   0:00:00    \n  <span style=\"color: #1f77b4; text-decoration-color: #1f77b4\">━━━━━━━━━━━━━━━━━━━━━━━━</span>   2000    0             0.73        1            2221.53 draws/s   0:00:00   0:00:00    \n  <span style=\"color: #1f77b4; text-decoration-color: #1f77b4\">━━━━━━━━━━━━━━━━━━━━━━━━</span>   2000    0             0.95        3            2132.31 draws/s   0:00:00   0:00:00    \n  <span style=\"color: #1f77b4; text-decoration-color: #1f77b4\">━━━━━━━━━━━━━━━━━━━━━━━━</span>   2000    0             1.29        3            1994.33 draws/s   0:00:01   0:00:00    \n                                                                                                                   \n</pre>\n",
          "text/plain": "                                                                                                                   \n \u001b[1m \u001b[0m\u001b[1mProgress                \u001b[0m\u001b[1m \u001b[0m \u001b[1m \u001b[0m\u001b[1mDraws\u001b[0m\u001b[1m \u001b[0m \u001b[1m \u001b[0m\u001b[1mDivergences\u001b[0m\u001b[1m \u001b[0m \u001b[1m \u001b[0m\u001b[1mStep size\u001b[0m\u001b[1m \u001b[0m \u001b[1m \u001b[0m\u001b[1mGrad evals\u001b[0m\u001b[1m \u001b[0m \u001b[1m \u001b[0m\u001b[1mSampling Speed \u001b[0m\u001b[1m \u001b[0m \u001b[1m \u001b[0m\u001b[1mElapsed\u001b[0m\u001b[1m \u001b[0m \u001b[1m \u001b[0m\u001b[1mRemaining\u001b[0m\u001b[1m \u001b[0m \n ───────────────────────────────────────────────────────────────────────────────────────────────────────────────── \n  \u001b[38;2;31;119;180m━━━━━━━━━━━━━━━━━━━━━━━━\u001b[0m   2000    0             1.25        1            2183.32 draws/s   0:00:00   0:00:00    \n  \u001b[38;2;31;119;180m━━━━━━━━━━━━━━━━━━━━━━━━\u001b[0m   2000    0             0.73        1            2221.53 draws/s   0:00:00   0:00:00    \n  \u001b[38;2;31;119;180m━━━━━━━━━━━━━━━━━━━━━━━━\u001b[0m   2000    0             0.95        3            2132.31 draws/s   0:00:00   0:00:00    \n  \u001b[38;2;31;119;180m━━━━━━━━━━━━━━━━━━━━━━━━\u001b[0m   2000    0             1.29        3            1994.33 draws/s   0:00:01   0:00:00    \n                                                                                                                   \n"
         },
         "metadata": {},
         "output_type": "display_data"
        }
       ]
      }
     },
     "68a4e8f7baa9499b80f3298a32d24be9": {
      "model_module": "@jupyter-widgets/base",
      "model_module_version": "2.0.0",
      "model_name": "LayoutModel",
      "state": {}
     },
     "6a529863b3874624ad97981bafcff219": {
      "model_module": "@jupyter-widgets/base",
      "model_module_version": "2.0.0",
      "model_name": "LayoutModel",
      "state": {}
     },
     "6f9c7282fb484cdeb1c9b0f8da5732f1": {
      "model_module": "@jupyter-widgets/base",
      "model_module_version": "2.0.0",
      "model_name": "LayoutModel",
      "state": {}
     },
     "723c777c1ee544c9a9a0409f8622be4b": {
      "model_module": "@jupyter-widgets/base",
      "model_module_version": "2.0.0",
      "model_name": "LayoutModel",
      "state": {}
     },
     "7e841edd90cb409d9e1441a6b049fbba": {
      "model_module": "@jupyter-widgets/base",
      "model_module_version": "2.0.0",
      "model_name": "LayoutModel",
      "state": {}
     },
     "8062c81d03e04f1495522a7a7056d9f7": {
      "model_module": "@jupyter-widgets/output",
      "model_module_version": "1.0.0",
      "model_name": "OutputModel",
      "state": {
       "layout": "IPY_MODEL_c1fb3c56c0a14081a437c8178694f466",
       "outputs": [
        {
         "data": {
          "text/html": "<pre style=\"white-space:pre;overflow-x:auto;line-height:normal;font-family:Menlo,'DejaVu Sans Mono',consolas,'Courier New',monospace\">                                                                                                                   \n <span style=\"font-weight: bold\"> Progress                 </span> <span style=\"font-weight: bold\"> Draws </span> <span style=\"font-weight: bold\"> Divergences </span> <span style=\"font-weight: bold\"> Step size </span> <span style=\"font-weight: bold\"> Grad evals </span> <span style=\"font-weight: bold\"> Sampling Speed  </span> <span style=\"font-weight: bold\"> Elapsed </span> <span style=\"font-weight: bold\"> Remaining </span> \n ───────────────────────────────────────────────────────────────────────────────────────────────────────────────── \n  <span style=\"color: #1f77b4; text-decoration-color: #1f77b4\">━━━━━━━━━━━━━━━━━━━━━━━━</span>   2000    0             0.53        3            1450.62 draws/s   0:00:01   0:00:00    \n  <span style=\"color: #1f77b4; text-decoration-color: #1f77b4\">━━━━━━━━━━━━━━━━━━━━━━━━</span>   2000    0             0.90        7            1502.90 draws/s   0:00:01   0:00:00    \n  <span style=\"color: #1f77b4; text-decoration-color: #1f77b4\">━━━━━━━━━━━━━━━━━━━━━━━━</span>   2000    0             0.94        3            1393.42 draws/s   0:00:01   0:00:00    \n  <span style=\"color: #1f77b4; text-decoration-color: #1f77b4\">━━━━━━━━━━━━━━━━━━━━━━━━</span>   2000    0             0.88        7            1430.24 draws/s   0:00:01   0:00:00    \n                                                                                                                   \n</pre>\n",
          "text/plain": "                                                                                                                   \n \u001b[1m \u001b[0m\u001b[1mProgress                \u001b[0m\u001b[1m \u001b[0m \u001b[1m \u001b[0m\u001b[1mDraws\u001b[0m\u001b[1m \u001b[0m \u001b[1m \u001b[0m\u001b[1mDivergences\u001b[0m\u001b[1m \u001b[0m \u001b[1m \u001b[0m\u001b[1mStep size\u001b[0m\u001b[1m \u001b[0m \u001b[1m \u001b[0m\u001b[1mGrad evals\u001b[0m\u001b[1m \u001b[0m \u001b[1m \u001b[0m\u001b[1mSampling Speed \u001b[0m\u001b[1m \u001b[0m \u001b[1m \u001b[0m\u001b[1mElapsed\u001b[0m\u001b[1m \u001b[0m \u001b[1m \u001b[0m\u001b[1mRemaining\u001b[0m\u001b[1m \u001b[0m \n ───────────────────────────────────────────────────────────────────────────────────────────────────────────────── \n  \u001b[38;2;31;119;180m━━━━━━━━━━━━━━━━━━━━━━━━\u001b[0m   2000    0             0.53        3            1450.62 draws/s   0:00:01   0:00:00    \n  \u001b[38;2;31;119;180m━━━━━━━━━━━━━━━━━━━━━━━━\u001b[0m   2000    0             0.90        7            1502.90 draws/s   0:00:01   0:00:00    \n  \u001b[38;2;31;119;180m━━━━━━━━━━━━━━━━━━━━━━━━\u001b[0m   2000    0             0.94        3            1393.42 draws/s   0:00:01   0:00:00    \n  \u001b[38;2;31;119;180m━━━━━━━━━━━━━━━━━━━━━━━━\u001b[0m   2000    0             0.88        7            1430.24 draws/s   0:00:01   0:00:00    \n                                                                                                                   \n"
         },
         "metadata": {},
         "output_type": "display_data"
        }
       ]
      }
     },
     "85a4074c174e4eb286cde2c74491bde2": {
      "model_module": "@jupyter-widgets/base",
      "model_module_version": "2.0.0",
      "model_name": "LayoutModel",
      "state": {}
     },
     "8c155a7ab71c427c994a35f714b0466a": {
      "model_module": "@jupyter-widgets/output",
      "model_module_version": "1.0.0",
      "model_name": "OutputModel",
      "state": {
       "layout": "IPY_MODEL_90dbdcf4113a40dbabab1c3aa8e80229",
       "outputs": [
        {
         "data": {
          "text/html": "<pre style=\"white-space:pre;overflow-x:auto;line-height:normal;font-family:Menlo,'DejaVu Sans Mono',consolas,'Courier New',monospace\">                                                                                                                   \n <span style=\"font-weight: bold\"> Progress                 </span> <span style=\"font-weight: bold\"> Draws </span> <span style=\"font-weight: bold\"> Divergences </span> <span style=\"font-weight: bold\"> Step size </span> <span style=\"font-weight: bold\"> Grad evals </span> <span style=\"font-weight: bold\"> Sampling Speed  </span> <span style=\"font-weight: bold\"> Elapsed </span> <span style=\"font-weight: bold\"> Remaining </span> \n ───────────────────────────────────────────────────────────────────────────────────────────────────────────────── \n  <span style=\"color: #1f77b4; text-decoration-color: #1f77b4\">━━━━━━━━━━━━━━━━━━━━━━━━</span>   2000    0             1.60        3            2749.75 draws/s   0:00:00   0:00:00    \n  <span style=\"color: #1f77b4; text-decoration-color: #1f77b4\">━━━━━━━━━━━━━━━━━━━━━━━━</span>   2000    0             0.85        1            2632.97 draws/s   0:00:00   0:00:00    \n  <span style=\"color: #1f77b4; text-decoration-color: #1f77b4\">━━━━━━━━━━━━━━━━━━━━━━━━</span>   2000    0             1.05        3            2384.07 draws/s   0:00:00   0:00:00    \n  <span style=\"color: #1f77b4; text-decoration-color: #1f77b4\">━━━━━━━━━━━━━━━━━━━━━━━━</span>   2000    0             0.86        1            1887.99 draws/s   0:00:01   0:00:00    \n                                                                                                                   \n</pre>\n",
          "text/plain": "                                                                                                                   \n \u001b[1m \u001b[0m\u001b[1mProgress                \u001b[0m\u001b[1m \u001b[0m \u001b[1m \u001b[0m\u001b[1mDraws\u001b[0m\u001b[1m \u001b[0m \u001b[1m \u001b[0m\u001b[1mDivergences\u001b[0m\u001b[1m \u001b[0m \u001b[1m \u001b[0m\u001b[1mStep size\u001b[0m\u001b[1m \u001b[0m \u001b[1m \u001b[0m\u001b[1mGrad evals\u001b[0m\u001b[1m \u001b[0m \u001b[1m \u001b[0m\u001b[1mSampling Speed \u001b[0m\u001b[1m \u001b[0m \u001b[1m \u001b[0m\u001b[1mElapsed\u001b[0m\u001b[1m \u001b[0m \u001b[1m \u001b[0m\u001b[1mRemaining\u001b[0m\u001b[1m \u001b[0m \n ───────────────────────────────────────────────────────────────────────────────────────────────────────────────── \n  \u001b[38;2;31;119;180m━━━━━━━━━━━━━━━━━━━━━━━━\u001b[0m   2000    0             1.60        3            2749.75 draws/s   0:00:00   0:00:00    \n  \u001b[38;2;31;119;180m━━━━━━━━━━━━━━━━━━━━━━━━\u001b[0m   2000    0             0.85        1            2632.97 draws/s   0:00:00   0:00:00    \n  \u001b[38;2;31;119;180m━━━━━━━━━━━━━━━━━━━━━━━━\u001b[0m   2000    0             1.05        3            2384.07 draws/s   0:00:00   0:00:00    \n  \u001b[38;2;31;119;180m━━━━━━━━━━━━━━━━━━━━━━━━\u001b[0m   2000    0             0.86        1            1887.99 draws/s   0:00:01   0:00:00    \n                                                                                                                   \n"
         },
         "metadata": {},
         "output_type": "display_data"
        }
       ]
      }
     },
     "90dbdcf4113a40dbabab1c3aa8e80229": {
      "model_module": "@jupyter-widgets/base",
      "model_module_version": "2.0.0",
      "model_name": "LayoutModel",
      "state": {}
     },
     "939679bbe502437999d4da314113af31": {
      "model_module": "@jupyter-widgets/output",
      "model_module_version": "1.0.0",
      "model_name": "OutputModel",
      "state": {
       "layout": "IPY_MODEL_7e841edd90cb409d9e1441a6b049fbba",
       "outputs": [
        {
         "data": {
          "text/html": "<pre style=\"white-space:pre;overflow-x:auto;line-height:normal;font-family:Menlo,'DejaVu Sans Mono',consolas,'Courier New',monospace\">                                                                                                                   \n <span style=\"font-weight: bold\"> Progress                 </span> <span style=\"font-weight: bold\"> Draws </span> <span style=\"font-weight: bold\"> Divergences </span> <span style=\"font-weight: bold\"> Step size </span> <span style=\"font-weight: bold\"> Grad evals </span> <span style=\"font-weight: bold\"> Sampling Speed  </span> <span style=\"font-weight: bold\"> Elapsed </span> <span style=\"font-weight: bold\"> Remaining </span> \n ───────────────────────────────────────────────────────────────────────────────────────────────────────────────── \n  <span style=\"color: #1f77b4; text-decoration-color: #1f77b4\">━━━━━━━━━━━━━━━━━━━━━━━━</span>   2000    0             1.13        3            1852.32 draws/s   0:00:01   0:00:00    \n  <span style=\"color: #1f77b4; text-decoration-color: #1f77b4\">━━━━━━━━━━━━━━━━━━━━━━━━</span>   2000    0             0.64        3            1904.60 draws/s   0:00:01   0:00:00    \n  <span style=\"color: #1f77b4; text-decoration-color: #1f77b4\">━━━━━━━━━━━━━━━━━━━━━━━━</span>   2000    0             0.94        3            1791.22 draws/s   0:00:01   0:00:00    \n  <span style=\"color: #1f77b4; text-decoration-color: #1f77b4\">━━━━━━━━━━━━━━━━━━━━━━━━</span>   2000    0             0.99        7            1636.19 draws/s   0:00:01   0:00:00    \n                                                                                                                   \n</pre>\n",
          "text/plain": "                                                                                                                   \n \u001b[1m \u001b[0m\u001b[1mProgress                \u001b[0m\u001b[1m \u001b[0m \u001b[1m \u001b[0m\u001b[1mDraws\u001b[0m\u001b[1m \u001b[0m \u001b[1m \u001b[0m\u001b[1mDivergences\u001b[0m\u001b[1m \u001b[0m \u001b[1m \u001b[0m\u001b[1mStep size\u001b[0m\u001b[1m \u001b[0m \u001b[1m \u001b[0m\u001b[1mGrad evals\u001b[0m\u001b[1m \u001b[0m \u001b[1m \u001b[0m\u001b[1mSampling Speed \u001b[0m\u001b[1m \u001b[0m \u001b[1m \u001b[0m\u001b[1mElapsed\u001b[0m\u001b[1m \u001b[0m \u001b[1m \u001b[0m\u001b[1mRemaining\u001b[0m\u001b[1m \u001b[0m \n ───────────────────────────────────────────────────────────────────────────────────────────────────────────────── \n  \u001b[38;2;31;119;180m━━━━━━━━━━━━━━━━━━━━━━━━\u001b[0m   2000    0             1.13        3            1852.32 draws/s   0:00:01   0:00:00    \n  \u001b[38;2;31;119;180m━━━━━━━━━━━━━━━━━━━━━━━━\u001b[0m   2000    0             0.64        3            1904.60 draws/s   0:00:01   0:00:00    \n  \u001b[38;2;31;119;180m━━━━━━━━━━━━━━━━━━━━━━━━\u001b[0m   2000    0             0.94        3            1791.22 draws/s   0:00:01   0:00:00    \n  \u001b[38;2;31;119;180m━━━━━━━━━━━━━━━━━━━━━━━━\u001b[0m   2000    0             0.99        7            1636.19 draws/s   0:00:01   0:00:00    \n                                                                                                                   \n"
         },
         "metadata": {},
         "output_type": "display_data"
        }
       ]
      }
     },
     "a2565d84fff94915bc2af349c8c563f1": {
      "model_module": "@jupyter-widgets/base",
      "model_module_version": "2.0.0",
      "model_name": "LayoutModel",
      "state": {}
     },
     "b342c3685d7b4a719f732e9c7ba118a9": {
      "model_module": "@jupyter-widgets/base",
      "model_module_version": "2.0.0",
      "model_name": "LayoutModel",
      "state": {}
     },
     "bf0122a783ba4912965597d1a46aa83b": {
      "model_module": "@jupyter-widgets/output",
      "model_module_version": "1.0.0",
      "model_name": "OutputModel",
      "state": {
       "layout": "IPY_MODEL_01d9377b753d4e139b97a000aef42ec8",
       "outputs": [
        {
         "data": {
          "text/html": "<pre style=\"white-space:pre;overflow-x:auto;line-height:normal;font-family:Menlo,'DejaVu Sans Mono',consolas,'Courier New',monospace\">                                                                                                                   \n <span style=\"font-weight: bold\"> Progress                 </span> <span style=\"font-weight: bold\"> Draws </span> <span style=\"font-weight: bold\"> Divergences </span> <span style=\"font-weight: bold\"> Step size </span> <span style=\"font-weight: bold\"> Grad evals </span> <span style=\"font-weight: bold\"> Sampling Speed  </span> <span style=\"font-weight: bold\"> Elapsed </span> <span style=\"font-weight: bold\"> Remaining </span> \n ───────────────────────────────────────────────────────────────────────────────────────────────────────────────── \n  <span style=\"color: #1f77b4; text-decoration-color: #1f77b4\">━━━━━━━━━━━━━━━━━━━━━━━━</span>   2000    0             1.13        3            2059.97 draws/s   0:00:00   0:00:00    \n  <span style=\"color: #1f77b4; text-decoration-color: #1f77b4\">━━━━━━━━━━━━━━━━━━━━━━━━</span>   2000    0             0.64        3            2120.02 draws/s   0:00:00   0:00:00    \n  <span style=\"color: #1f77b4; text-decoration-color: #1f77b4\">━━━━━━━━━━━━━━━━━━━━━━━━</span>   2000    0             0.94        3            2014.28 draws/s   0:00:00   0:00:00    \n  <span style=\"color: #1f77b4; text-decoration-color: #1f77b4\">━━━━━━━━━━━━━━━━━━━━━━━━</span>   2000    0             0.99        7            1839.18 draws/s   0:00:01   0:00:00    \n                                                                                                                   \n</pre>\n",
          "text/plain": "                                                                                                                   \n \u001b[1m \u001b[0m\u001b[1mProgress                \u001b[0m\u001b[1m \u001b[0m \u001b[1m \u001b[0m\u001b[1mDraws\u001b[0m\u001b[1m \u001b[0m \u001b[1m \u001b[0m\u001b[1mDivergences\u001b[0m\u001b[1m \u001b[0m \u001b[1m \u001b[0m\u001b[1mStep size\u001b[0m\u001b[1m \u001b[0m \u001b[1m \u001b[0m\u001b[1mGrad evals\u001b[0m\u001b[1m \u001b[0m \u001b[1m \u001b[0m\u001b[1mSampling Speed \u001b[0m\u001b[1m \u001b[0m \u001b[1m \u001b[0m\u001b[1mElapsed\u001b[0m\u001b[1m \u001b[0m \u001b[1m \u001b[0m\u001b[1mRemaining\u001b[0m\u001b[1m \u001b[0m \n ───────────────────────────────────────────────────────────────────────────────────────────────────────────────── \n  \u001b[38;2;31;119;180m━━━━━━━━━━━━━━━━━━━━━━━━\u001b[0m   2000    0             1.13        3            2059.97 draws/s   0:00:00   0:00:00    \n  \u001b[38;2;31;119;180m━━━━━━━━━━━━━━━━━━━━━━━━\u001b[0m   2000    0             0.64        3            2120.02 draws/s   0:00:00   0:00:00    \n  \u001b[38;2;31;119;180m━━━━━━━━━━━━━━━━━━━━━━━━\u001b[0m   2000    0             0.94        3            2014.28 draws/s   0:00:00   0:00:00    \n  \u001b[38;2;31;119;180m━━━━━━━━━━━━━━━━━━━━━━━━\u001b[0m   2000    0             0.99        7            1839.18 draws/s   0:00:01   0:00:00    \n                                                                                                                   \n"
         },
         "metadata": {},
         "output_type": "display_data"
        }
       ]
      }
     },
     "c130f04928c34ec7909bdea464c3dd1f": {
      "model_module": "@jupyter-widgets/base",
      "model_module_version": "2.0.0",
      "model_name": "LayoutModel",
      "state": {}
     },
     "c1fb3c56c0a14081a437c8178694f466": {
      "model_module": "@jupyter-widgets/base",
      "model_module_version": "2.0.0",
      "model_name": "LayoutModel",
      "state": {}
     },
     "c5288f8c38a34762a1d2008ce7c0e667": {
      "model_module": "@jupyter-widgets/output",
      "model_module_version": "1.0.0",
      "model_name": "OutputModel",
      "state": {
       "layout": "IPY_MODEL_85a4074c174e4eb286cde2c74491bde2",
       "outputs": [
        {
         "data": {
          "text/html": "<pre style=\"white-space:pre;overflow-x:auto;line-height:normal;font-family:Menlo,'DejaVu Sans Mono',consolas,'Courier New',monospace\">                                                                                                                   \n <span style=\"font-weight: bold\"> Progress                 </span> <span style=\"font-weight: bold\"> Draws </span> <span style=\"font-weight: bold\"> Divergences </span> <span style=\"font-weight: bold\"> Step size </span> <span style=\"font-weight: bold\"> Grad evals </span> <span style=\"font-weight: bold\"> Sampling Speed  </span> <span style=\"font-weight: bold\"> Elapsed </span> <span style=\"font-weight: bold\"> Remaining </span> \n ───────────────────────────────────────────────────────────────────────────────────────────────────────────────── \n  <span style=\"color: #1f77b4; text-decoration-color: #1f77b4\">━━━━━━━━━━━━━━━━━━━━━━━━</span>   2000    0             1.25        1            1976.90 draws/s   0:00:01   0:00:00    \n  <span style=\"color: #1f77b4; text-decoration-color: #1f77b4\">━━━━━━━━━━━━━━━━━━━━━━━━</span>   2000    0             0.73        1            2174.66 draws/s   0:00:00   0:00:00    \n  <span style=\"color: #1f77b4; text-decoration-color: #1f77b4\">━━━━━━━━━━━━━━━━━━━━━━━━</span>   2000    0             0.95        3            2049.85 draws/s   0:00:00   0:00:00    \n  <span style=\"color: #1f77b4; text-decoration-color: #1f77b4\">━━━━━━━━━━━━━━━━━━━━━━━━</span>   2000    0             1.29        3            1812.13 draws/s   0:00:01   0:00:00    \n                                                                                                                   \n</pre>\n",
          "text/plain": "                                                                                                                   \n \u001b[1m \u001b[0m\u001b[1mProgress                \u001b[0m\u001b[1m \u001b[0m \u001b[1m \u001b[0m\u001b[1mDraws\u001b[0m\u001b[1m \u001b[0m \u001b[1m \u001b[0m\u001b[1mDivergences\u001b[0m\u001b[1m \u001b[0m \u001b[1m \u001b[0m\u001b[1mStep size\u001b[0m\u001b[1m \u001b[0m \u001b[1m \u001b[0m\u001b[1mGrad evals\u001b[0m\u001b[1m \u001b[0m \u001b[1m \u001b[0m\u001b[1mSampling Speed \u001b[0m\u001b[1m \u001b[0m \u001b[1m \u001b[0m\u001b[1mElapsed\u001b[0m\u001b[1m \u001b[0m \u001b[1m \u001b[0m\u001b[1mRemaining\u001b[0m\u001b[1m \u001b[0m \n ───────────────────────────────────────────────────────────────────────────────────────────────────────────────── \n  \u001b[38;2;31;119;180m━━━━━━━━━━━━━━━━━━━━━━━━\u001b[0m   2000    0             1.25        1            1976.90 draws/s   0:00:01   0:00:00    \n  \u001b[38;2;31;119;180m━━━━━━━━━━━━━━━━━━━━━━━━\u001b[0m   2000    0             0.73        1            2174.66 draws/s   0:00:00   0:00:00    \n  \u001b[38;2;31;119;180m━━━━━━━━━━━━━━━━━━━━━━━━\u001b[0m   2000    0             0.95        3            2049.85 draws/s   0:00:00   0:00:00    \n  \u001b[38;2;31;119;180m━━━━━━━━━━━━━━━━━━━━━━━━\u001b[0m   2000    0             1.29        3            1812.13 draws/s   0:00:01   0:00:00    \n                                                                                                                   \n"
         },
         "metadata": {},
         "output_type": "display_data"
        }
       ]
      }
     },
     "cc2b8f369e164fe1b89df3ca9065c625": {
      "model_module": "@jupyter-widgets/output",
      "model_module_version": "1.0.0",
      "model_name": "OutputModel",
      "state": {
       "layout": "IPY_MODEL_68a4e8f7baa9499b80f3298a32d24be9",
       "outputs": [
        {
         "data": {
          "text/html": "<pre style=\"white-space:pre;overflow-x:auto;line-height:normal;font-family:Menlo,'DejaVu Sans Mono',consolas,'Courier New',monospace\">                                                                                                                   \n <span style=\"font-weight: bold\"> Progress                 </span> <span style=\"font-weight: bold\"> Draws </span> <span style=\"font-weight: bold\"> Divergences </span> <span style=\"font-weight: bold\"> Step size </span> <span style=\"font-weight: bold\"> Grad evals </span> <span style=\"font-weight: bold\"> Sampling Speed  </span> <span style=\"font-weight: bold\"> Elapsed </span> <span style=\"font-weight: bold\"> Remaining </span> \n ───────────────────────────────────────────────────────────────────────────────────────────────────────────────── \n  <span style=\"color: #1f77b4; text-decoration-color: #1f77b4\">━━━━━━━━━━━━━━━━━━━━━━━━</span>   2000    0             1.25        1            2193.21 draws/s   0:00:00   0:00:00    \n  <span style=\"color: #1f77b4; text-decoration-color: #1f77b4\">━━━━━━━━━━━━━━━━━━━━━━━━</span>   2000    0             0.73        1            2275.86 draws/s   0:00:00   0:00:00    \n  <span style=\"color: #1f77b4; text-decoration-color: #1f77b4\">━━━━━━━━━━━━━━━━━━━━━━━━</span>   2000    0             0.95        3            2105.32 draws/s   0:00:00   0:00:00    \n  <span style=\"color: #1f77b4; text-decoration-color: #1f77b4\">━━━━━━━━━━━━━━━━━━━━━━━━</span>   2000    0             1.29        3            1919.07 draws/s   0:00:01   0:00:00    \n                                                                                                                   \n</pre>\n",
          "text/plain": "                                                                                                                   \n \u001b[1m \u001b[0m\u001b[1mProgress                \u001b[0m\u001b[1m \u001b[0m \u001b[1m \u001b[0m\u001b[1mDraws\u001b[0m\u001b[1m \u001b[0m \u001b[1m \u001b[0m\u001b[1mDivergences\u001b[0m\u001b[1m \u001b[0m \u001b[1m \u001b[0m\u001b[1mStep size\u001b[0m\u001b[1m \u001b[0m \u001b[1m \u001b[0m\u001b[1mGrad evals\u001b[0m\u001b[1m \u001b[0m \u001b[1m \u001b[0m\u001b[1mSampling Speed \u001b[0m\u001b[1m \u001b[0m \u001b[1m \u001b[0m\u001b[1mElapsed\u001b[0m\u001b[1m \u001b[0m \u001b[1m \u001b[0m\u001b[1mRemaining\u001b[0m\u001b[1m \u001b[0m \n ───────────────────────────────────────────────────────────────────────────────────────────────────────────────── \n  \u001b[38;2;31;119;180m━━━━━━━━━━━━━━━━━━━━━━━━\u001b[0m   2000    0             1.25        1            2193.21 draws/s   0:00:00   0:00:00    \n  \u001b[38;2;31;119;180m━━━━━━━━━━━━━━━━━━━━━━━━\u001b[0m   2000    0             0.73        1            2275.86 draws/s   0:00:00   0:00:00    \n  \u001b[38;2;31;119;180m━━━━━━━━━━━━━━━━━━━━━━━━\u001b[0m   2000    0             0.95        3            2105.32 draws/s   0:00:00   0:00:00    \n  \u001b[38;2;31;119;180m━━━━━━━━━━━━━━━━━━━━━━━━\u001b[0m   2000    0             1.29        3            1919.07 draws/s   0:00:01   0:00:00    \n                                                                                                                   \n"
         },
         "metadata": {},
         "output_type": "display_data"
        }
       ]
      }
     },
     "cc6d6b692d1e41ffbebc1803dcac4091": {
      "model_module": "@jupyter-widgets/output",
      "model_module_version": "1.0.0",
      "model_name": "OutputModel",
      "state": {
       "layout": "IPY_MODEL_c130f04928c34ec7909bdea464c3dd1f",
       "outputs": [
        {
         "data": {
          "text/html": "<pre style=\"white-space:pre;overflow-x:auto;line-height:normal;font-family:Menlo,'DejaVu Sans Mono',consolas,'Courier New',monospace\">                                                                                                                   \n <span style=\"font-weight: bold\"> Progress                 </span> <span style=\"font-weight: bold\"> Draws </span> <span style=\"font-weight: bold\"> Divergences </span> <span style=\"font-weight: bold\"> Step size </span> <span style=\"font-weight: bold\"> Grad evals </span> <span style=\"font-weight: bold\"> Sampling Speed  </span> <span style=\"font-weight: bold\"> Elapsed </span> <span style=\"font-weight: bold\"> Remaining </span> \n ───────────────────────────────────────────────────────────────────────────────────────────────────────────────── \n  <span style=\"color: #1f77b4; text-decoration-color: #1f77b4\">━━━━━━━━━━━━━━━━━━━━━━━━</span>   2000    0             1.60        3            2680.94 draws/s   0:00:00   0:00:00    \n  <span style=\"color: #1f77b4; text-decoration-color: #1f77b4\">━━━━━━━━━━━━━━━━━━━━━━━━</span>   2000    0             0.85        1            2554.71 draws/s   0:00:00   0:00:00    \n  <span style=\"color: #1f77b4; text-decoration-color: #1f77b4\">━━━━━━━━━━━━━━━━━━━━━━━━</span>   2000    0             1.05        3            2313.73 draws/s   0:00:00   0:00:00    \n  <span style=\"color: #1f77b4; text-decoration-color: #1f77b4\">━━━━━━━━━━━━━━━━━━━━━━━━</span>   2000    0             0.86        1            1809.06 draws/s   0:00:01   0:00:00    \n                                                                                                                   \n</pre>\n",
          "text/plain": "                                                                                                                   \n \u001b[1m \u001b[0m\u001b[1mProgress                \u001b[0m\u001b[1m \u001b[0m \u001b[1m \u001b[0m\u001b[1mDraws\u001b[0m\u001b[1m \u001b[0m \u001b[1m \u001b[0m\u001b[1mDivergences\u001b[0m\u001b[1m \u001b[0m \u001b[1m \u001b[0m\u001b[1mStep size\u001b[0m\u001b[1m \u001b[0m \u001b[1m \u001b[0m\u001b[1mGrad evals\u001b[0m\u001b[1m \u001b[0m \u001b[1m \u001b[0m\u001b[1mSampling Speed \u001b[0m\u001b[1m \u001b[0m \u001b[1m \u001b[0m\u001b[1mElapsed\u001b[0m\u001b[1m \u001b[0m \u001b[1m \u001b[0m\u001b[1mRemaining\u001b[0m\u001b[1m \u001b[0m \n ───────────────────────────────────────────────────────────────────────────────────────────────────────────────── \n  \u001b[38;2;31;119;180m━━━━━━━━━━━━━━━━━━━━━━━━\u001b[0m   2000    0             1.60        3            2680.94 draws/s   0:00:00   0:00:00    \n  \u001b[38;2;31;119;180m━━━━━━━━━━━━━━━━━━━━━━━━\u001b[0m   2000    0             0.85        1            2554.71 draws/s   0:00:00   0:00:00    \n  \u001b[38;2;31;119;180m━━━━━━━━━━━━━━━━━━━━━━━━\u001b[0m   2000    0             1.05        3            2313.73 draws/s   0:00:00   0:00:00    \n  \u001b[38;2;31;119;180m━━━━━━━━━━━━━━━━━━━━━━━━\u001b[0m   2000    0             0.86        1            1809.06 draws/s   0:00:01   0:00:00    \n                                                                                                                   \n"
         },
         "metadata": {},
         "output_type": "display_data"
        }
       ]
      }
     },
     "cca280338fd24debb26a397c45fb9209": {
      "model_module": "@jupyter-widgets/base",
      "model_module_version": "2.0.0",
      "model_name": "LayoutModel",
      "state": {}
     },
     "ce3373662b0d4df6a0b0f010ab883f0c": {
      "model_module": "@jupyter-widgets/output",
      "model_module_version": "1.0.0",
      "model_name": "OutputModel",
      "state": {
       "layout": "IPY_MODEL_6f9c7282fb484cdeb1c9b0f8da5732f1",
       "outputs": [
        {
         "data": {
          "text/html": "<pre style=\"white-space:pre;overflow-x:auto;line-height:normal;font-family:Menlo,'DejaVu Sans Mono',consolas,'Courier New',monospace\">                                                                                                                   \n <span style=\"font-weight: bold\"> Progress                 </span> <span style=\"font-weight: bold\"> Draws </span> <span style=\"font-weight: bold\"> Divergences </span> <span style=\"font-weight: bold\"> Step size </span> <span style=\"font-weight: bold\"> Grad evals </span> <span style=\"font-weight: bold\"> Sampling Speed  </span> <span style=\"font-weight: bold\"> Elapsed </span> <span style=\"font-weight: bold\"> Remaining </span> \n ───────────────────────────────────────────────────────────────────────────────────────────────────────────────── \n  <span style=\"color: #1f77b4; text-decoration-color: #1f77b4\">━━━━━━━━━━━━━━━━━━━━━━━━</span>   2000    0             1.13        3            1876.90 draws/s   0:00:01   0:00:00    \n  <span style=\"color: #1f77b4; text-decoration-color: #1f77b4\">━━━━━━━━━━━━━━━━━━━━━━━━</span>   2000    0             0.64        3            2147.26 draws/s   0:00:00   0:00:00    \n  <span style=\"color: #1f77b4; text-decoration-color: #1f77b4\">━━━━━━━━━━━━━━━━━━━━━━━━</span>   2000    0             0.94        3            1964.18 draws/s   0:00:01   0:00:00    \n  <span style=\"color: #1f77b4; text-decoration-color: #1f77b4\">━━━━━━━━━━━━━━━━━━━━━━━━</span>   2000    0             0.99        7            1697.84 draws/s   0:00:01   0:00:00    \n                                                                                                                   \n</pre>\n",
          "text/plain": "                                                                                                                   \n \u001b[1m \u001b[0m\u001b[1mProgress                \u001b[0m\u001b[1m \u001b[0m \u001b[1m \u001b[0m\u001b[1mDraws\u001b[0m\u001b[1m \u001b[0m \u001b[1m \u001b[0m\u001b[1mDivergences\u001b[0m\u001b[1m \u001b[0m \u001b[1m \u001b[0m\u001b[1mStep size\u001b[0m\u001b[1m \u001b[0m \u001b[1m \u001b[0m\u001b[1mGrad evals\u001b[0m\u001b[1m \u001b[0m \u001b[1m \u001b[0m\u001b[1mSampling Speed \u001b[0m\u001b[1m \u001b[0m \u001b[1m \u001b[0m\u001b[1mElapsed\u001b[0m\u001b[1m \u001b[0m \u001b[1m \u001b[0m\u001b[1mRemaining\u001b[0m\u001b[1m \u001b[0m \n ───────────────────────────────────────────────────────────────────────────────────────────────────────────────── \n  \u001b[38;2;31;119;180m━━━━━━━━━━━━━━━━━━━━━━━━\u001b[0m   2000    0             1.13        3            1876.90 draws/s   0:00:01   0:00:00    \n  \u001b[38;2;31;119;180m━━━━━━━━━━━━━━━━━━━━━━━━\u001b[0m   2000    0             0.64        3            2147.26 draws/s   0:00:00   0:00:00    \n  \u001b[38;2;31;119;180m━━━━━━━━━━━━━━━━━━━━━━━━\u001b[0m   2000    0             0.94        3            1964.18 draws/s   0:00:01   0:00:00    \n  \u001b[38;2;31;119;180m━━━━━━━━━━━━━━━━━━━━━━━━\u001b[0m   2000    0             0.99        7            1697.84 draws/s   0:00:01   0:00:00    \n                                                                                                                   \n"
         },
         "metadata": {},
         "output_type": "display_data"
        }
       ]
      }
     },
     "cf3d95534d154864804fd90d3271a629": {
      "model_module": "@jupyter-widgets/output",
      "model_module_version": "1.0.0",
      "model_name": "OutputModel",
      "state": {
       "layout": "IPY_MODEL_4f2830b77d294244a99d2437c10388ad",
       "outputs": [
        {
         "data": {
          "text/html": "<pre style=\"white-space:pre;overflow-x:auto;line-height:normal;font-family:Menlo,'DejaVu Sans Mono',consolas,'Courier New',monospace\">                                                                                                                   \n <span style=\"font-weight: bold\"> Progress                 </span> <span style=\"font-weight: bold\"> Draws </span> <span style=\"font-weight: bold\"> Divergences </span> <span style=\"font-weight: bold\"> Step size </span> <span style=\"font-weight: bold\"> Grad evals </span> <span style=\"font-weight: bold\"> Sampling Speed  </span> <span style=\"font-weight: bold\"> Elapsed </span> <span style=\"font-weight: bold\"> Remaining </span> \n ───────────────────────────────────────────────────────────────────────────────────────────────────────────────── \n  <span style=\"color: #1f77b4; text-decoration-color: #1f77b4\">━━━━━━━━━━━━━━━━━━━━━━━━</span>   2000    0             1.60        3            2856.11 draws/s   0:00:00   0:00:00    \n  <span style=\"color: #1f77b4; text-decoration-color: #1f77b4\">━━━━━━━━━━━━━━━━━━━━━━━━</span>   2000    0             0.85        1            2635.88 draws/s   0:00:00   0:00:00    \n  <span style=\"color: #1f77b4; text-decoration-color: #1f77b4\">━━━━━━━━━━━━━━━━━━━━━━━━</span>   2000    0             1.05        3            2436.89 draws/s   0:00:00   0:00:00    \n  <span style=\"color: #1f77b4; text-decoration-color: #1f77b4\">━━━━━━━━━━━━━━━━━━━━━━━━</span>   2000    0             0.86        1            2064.67 draws/s   0:00:00   0:00:00    \n                                                                                                                   \n</pre>\n",
          "text/plain": "                                                                                                                   \n \u001b[1m \u001b[0m\u001b[1mProgress                \u001b[0m\u001b[1m \u001b[0m \u001b[1m \u001b[0m\u001b[1mDraws\u001b[0m\u001b[1m \u001b[0m \u001b[1m \u001b[0m\u001b[1mDivergences\u001b[0m\u001b[1m \u001b[0m \u001b[1m \u001b[0m\u001b[1mStep size\u001b[0m\u001b[1m \u001b[0m \u001b[1m \u001b[0m\u001b[1mGrad evals\u001b[0m\u001b[1m \u001b[0m \u001b[1m \u001b[0m\u001b[1mSampling Speed \u001b[0m\u001b[1m \u001b[0m \u001b[1m \u001b[0m\u001b[1mElapsed\u001b[0m\u001b[1m \u001b[0m \u001b[1m \u001b[0m\u001b[1mRemaining\u001b[0m\u001b[1m \u001b[0m \n ───────────────────────────────────────────────────────────────────────────────────────────────────────────────── \n  \u001b[38;2;31;119;180m━━━━━━━━━━━━━━━━━━━━━━━━\u001b[0m   2000    0             1.60        3            2856.11 draws/s   0:00:00   0:00:00    \n  \u001b[38;2;31;119;180m━━━━━━━━━━━━━━━━━━━━━━━━\u001b[0m   2000    0             0.85        1            2635.88 draws/s   0:00:00   0:00:00    \n  \u001b[38;2;31;119;180m━━━━━━━━━━━━━━━━━━━━━━━━\u001b[0m   2000    0             1.05        3            2436.89 draws/s   0:00:00   0:00:00    \n  \u001b[38;2;31;119;180m━━━━━━━━━━━━━━━━━━━━━━━━\u001b[0m   2000    0             0.86        1            2064.67 draws/s   0:00:00   0:00:00    \n                                                                                                                   \n"
         },
         "metadata": {},
         "output_type": "display_data"
        }
       ]
      }
     },
     "d48552f6fa6b4588a45cdc5f96b22f21": {
      "model_module": "@jupyter-widgets/base",
      "model_module_version": "2.0.0",
      "model_name": "LayoutModel",
      "state": {}
     },
     "dc3460ed908c451e9d741472b3703036": {
      "model_module": "@jupyter-widgets/output",
      "model_module_version": "1.0.0",
      "model_name": "OutputModel",
      "state": {
       "layout": "IPY_MODEL_dd0e748d169947e2a31b4aba98da23af",
       "outputs": [
        {
         "data": {
          "text/html": "<pre style=\"white-space:pre;overflow-x:auto;line-height:normal;font-family:Menlo,'DejaVu Sans Mono',consolas,'Courier New',monospace\">                                                                                                                   \n <span style=\"font-weight: bold\"> Progress                 </span> <span style=\"font-weight: bold\"> Draws </span> <span style=\"font-weight: bold\"> Divergences </span> <span style=\"font-weight: bold\"> Step size </span> <span style=\"font-weight: bold\"> Grad evals </span> <span style=\"font-weight: bold\"> Sampling Speed  </span> <span style=\"font-weight: bold\"> Elapsed </span> <span style=\"font-weight: bold\"> Remaining </span> \n ───────────────────────────────────────────────────────────────────────────────────────────────────────────────── \n  <span style=\"color: #1f77b4; text-decoration-color: #1f77b4\">━━━━━━━━━━━━━━━━━━━━━━━━</span>   2000    0             1.25        1            1971.48 draws/s   0:00:01   0:00:00    \n  <span style=\"color: #1f77b4; text-decoration-color: #1f77b4\">━━━━━━━━━━━━━━━━━━━━━━━━</span>   2000    0             0.73        1            2050.93 draws/s   0:00:00   0:00:00    \n  <span style=\"color: #1f77b4; text-decoration-color: #1f77b4\">━━━━━━━━━━━━━━━━━━━━━━━━</span>   2000    0             0.95        3            2189.56 draws/s   0:00:00   0:00:00    \n  <span style=\"color: #1f77b4; text-decoration-color: #1f77b4\">━━━━━━━━━━━━━━━━━━━━━━━━</span>   2000    0             1.29        3            1792.79 draws/s   0:00:01   0:00:00    \n                                                                                                                   \n</pre>\n",
          "text/plain": "                                                                                                                   \n \u001b[1m \u001b[0m\u001b[1mProgress                \u001b[0m\u001b[1m \u001b[0m \u001b[1m \u001b[0m\u001b[1mDraws\u001b[0m\u001b[1m \u001b[0m \u001b[1m \u001b[0m\u001b[1mDivergences\u001b[0m\u001b[1m \u001b[0m \u001b[1m \u001b[0m\u001b[1mStep size\u001b[0m\u001b[1m \u001b[0m \u001b[1m \u001b[0m\u001b[1mGrad evals\u001b[0m\u001b[1m \u001b[0m \u001b[1m \u001b[0m\u001b[1mSampling Speed \u001b[0m\u001b[1m \u001b[0m \u001b[1m \u001b[0m\u001b[1mElapsed\u001b[0m\u001b[1m \u001b[0m \u001b[1m \u001b[0m\u001b[1mRemaining\u001b[0m\u001b[1m \u001b[0m \n ───────────────────────────────────────────────────────────────────────────────────────────────────────────────── \n  \u001b[38;2;31;119;180m━━━━━━━━━━━━━━━━━━━━━━━━\u001b[0m   2000    0             1.25        1            1971.48 draws/s   0:00:01   0:00:00    \n  \u001b[38;2;31;119;180m━━━━━━━━━━━━━━━━━━━━━━━━\u001b[0m   2000    0             0.73        1            2050.93 draws/s   0:00:00   0:00:00    \n  \u001b[38;2;31;119;180m━━━━━━━━━━━━━━━━━━━━━━━━\u001b[0m   2000    0             0.95        3            2189.56 draws/s   0:00:00   0:00:00    \n  \u001b[38;2;31;119;180m━━━━━━━━━━━━━━━━━━━━━━━━\u001b[0m   2000    0             1.29        3            1792.79 draws/s   0:00:01   0:00:00    \n                                                                                                                   \n"
         },
         "metadata": {},
         "output_type": "display_data"
        }
       ]
      }
     },
     "dd0e748d169947e2a31b4aba98da23af": {
      "model_module": "@jupyter-widgets/base",
      "model_module_version": "2.0.0",
      "model_name": "LayoutModel",
      "state": {}
     },
     "e316eb8b6cdd4d28904b688cabfdee05": {
      "model_module": "@jupyter-widgets/output",
      "model_module_version": "1.0.0",
      "model_name": "OutputModel",
      "state": {
       "layout": "IPY_MODEL_d48552f6fa6b4588a45cdc5f96b22f21",
       "outputs": [
        {
         "data": {
          "text/html": "<pre style=\"white-space:pre;overflow-x:auto;line-height:normal;font-family:Menlo,'DejaVu Sans Mono',consolas,'Courier New',monospace\">                                                                                                                   \n <span style=\"font-weight: bold\"> Progress                 </span> <span style=\"font-weight: bold\"> Draws </span> <span style=\"font-weight: bold\"> Divergences </span> <span style=\"font-weight: bold\"> Step size </span> <span style=\"font-weight: bold\"> Grad evals </span> <span style=\"font-weight: bold\"> Sampling Speed  </span> <span style=\"font-weight: bold\"> Elapsed </span> <span style=\"font-weight: bold\"> Remaining </span> \n ───────────────────────────────────────────────────────────────────────────────────────────────────────────────── \n  <span style=\"color: #1f77b4; text-decoration-color: #1f77b4\">━━━━━━━━━━━━━━━━━━━━━━━━</span>   2000    0             1.25        1            1970.86 draws/s   0:00:01   0:00:00    \n  <span style=\"color: #1f77b4; text-decoration-color: #1f77b4\">━━━━━━━━━━━━━━━━━━━━━━━━</span>   2000    0             0.73        1            2031.39 draws/s   0:00:00   0:00:00    \n  <span style=\"color: #1f77b4; text-decoration-color: #1f77b4\">━━━━━━━━━━━━━━━━━━━━━━━━</span>   2000    0             0.95        3            2127.56 draws/s   0:00:00   0:00:00    \n  <span style=\"color: #1f77b4; text-decoration-color: #1f77b4\">━━━━━━━━━━━━━━━━━━━━━━━━</span>   2000    0             1.29        3            1835.60 draws/s   0:00:01   0:00:00    \n                                                                                                                   \n</pre>\n",
          "text/plain": "                                                                                                                   \n \u001b[1m \u001b[0m\u001b[1mProgress                \u001b[0m\u001b[1m \u001b[0m \u001b[1m \u001b[0m\u001b[1mDraws\u001b[0m\u001b[1m \u001b[0m \u001b[1m \u001b[0m\u001b[1mDivergences\u001b[0m\u001b[1m \u001b[0m \u001b[1m \u001b[0m\u001b[1mStep size\u001b[0m\u001b[1m \u001b[0m \u001b[1m \u001b[0m\u001b[1mGrad evals\u001b[0m\u001b[1m \u001b[0m \u001b[1m \u001b[0m\u001b[1mSampling Speed \u001b[0m\u001b[1m \u001b[0m \u001b[1m \u001b[0m\u001b[1mElapsed\u001b[0m\u001b[1m \u001b[0m \u001b[1m \u001b[0m\u001b[1mRemaining\u001b[0m\u001b[1m \u001b[0m \n ───────────────────────────────────────────────────────────────────────────────────────────────────────────────── \n  \u001b[38;2;31;119;180m━━━━━━━━━━━━━━━━━━━━━━━━\u001b[0m   2000    0             1.25        1            1970.86 draws/s   0:00:01   0:00:00    \n  \u001b[38;2;31;119;180m━━━━━━━━━━━━━━━━━━━━━━━━\u001b[0m   2000    0             0.73        1            2031.39 draws/s   0:00:00   0:00:00    \n  \u001b[38;2;31;119;180m━━━━━━━━━━━━━━━━━━━━━━━━\u001b[0m   2000    0             0.95        3            2127.56 draws/s   0:00:00   0:00:00    \n  \u001b[38;2;31;119;180m━━━━━━━━━━━━━━━━━━━━━━━━\u001b[0m   2000    0             1.29        3            1835.60 draws/s   0:00:01   0:00:00    \n                                                                                                                   \n"
         },
         "metadata": {},
         "output_type": "display_data"
        }
       ]
      }
     },
     "ee9851b5ba09433d8b78f38bd35e4a18": {
      "model_module": "@jupyter-widgets/output",
      "model_module_version": "1.0.0",
      "model_name": "OutputModel",
      "state": {
       "layout": "IPY_MODEL_fa312884e83b4187af857b8c1c21d604",
       "outputs": [
        {
         "data": {
          "text/html": "<pre style=\"white-space:pre;overflow-x:auto;line-height:normal;font-family:Menlo,'DejaVu Sans Mono',consolas,'Courier New',monospace\">                                                                                                                   \n <span style=\"font-weight: bold\"> Progress                 </span> <span style=\"font-weight: bold\"> Draws </span> <span style=\"font-weight: bold\"> Divergences </span> <span style=\"font-weight: bold\"> Step size </span> <span style=\"font-weight: bold\"> Grad evals </span> <span style=\"font-weight: bold\"> Sampling Speed  </span> <span style=\"font-weight: bold\"> Elapsed </span> <span style=\"font-weight: bold\"> Remaining </span> \n ───────────────────────────────────────────────────────────────────────────────────────────────────────────────── \n  <span style=\"color: #1f77b4; text-decoration-color: #1f77b4\">━━━━━━━━━━━━━━━━━━━━━━━━</span>   2000    0             0.54        7            1147.75 draws/s   0:00:01   0:00:00    \n  <span style=\"color: #1f77b4; text-decoration-color: #1f77b4\">━━━━━━━━━━━━━━━━━━━━━━━━</span>   2000    0             0.60        7            1160.19 draws/s   0:00:01   0:00:00    \n  <span style=\"color: #1f77b4; text-decoration-color: #1f77b4\">━━━━━━━━━━━━━━━━━━━━━━━━</span>   2000    0             0.54        7            1179.31 draws/s   0:00:01   0:00:00    \n  <span style=\"color: #1f77b4; text-decoration-color: #1f77b4\">━━━━━━━━━━━━━━━━━━━━━━━━</span>   2000    0             0.63        7            1097.77 draws/s   0:00:01   0:00:00    \n                                                                                                                   \n</pre>\n",
          "text/plain": "                                                                                                                   \n \u001b[1m \u001b[0m\u001b[1mProgress                \u001b[0m\u001b[1m \u001b[0m \u001b[1m \u001b[0m\u001b[1mDraws\u001b[0m\u001b[1m \u001b[0m \u001b[1m \u001b[0m\u001b[1mDivergences\u001b[0m\u001b[1m \u001b[0m \u001b[1m \u001b[0m\u001b[1mStep size\u001b[0m\u001b[1m \u001b[0m \u001b[1m \u001b[0m\u001b[1mGrad evals\u001b[0m\u001b[1m \u001b[0m \u001b[1m \u001b[0m\u001b[1mSampling Speed \u001b[0m\u001b[1m \u001b[0m \u001b[1m \u001b[0m\u001b[1mElapsed\u001b[0m\u001b[1m \u001b[0m \u001b[1m \u001b[0m\u001b[1mRemaining\u001b[0m\u001b[1m \u001b[0m \n ───────────────────────────────────────────────────────────────────────────────────────────────────────────────── \n  \u001b[38;2;31;119;180m━━━━━━━━━━━━━━━━━━━━━━━━\u001b[0m   2000    0             0.54        7            1147.75 draws/s   0:00:01   0:00:00    \n  \u001b[38;2;31;119;180m━━━━━━━━━━━━━━━━━━━━━━━━\u001b[0m   2000    0             0.60        7            1160.19 draws/s   0:00:01   0:00:00    \n  \u001b[38;2;31;119;180m━━━━━━━━━━━━━━━━━━━━━━━━\u001b[0m   2000    0             0.54        7            1179.31 draws/s   0:00:01   0:00:00    \n  \u001b[38;2;31;119;180m━━━━━━━━━━━━━━━━━━━━━━━━\u001b[0m   2000    0             0.63        7            1097.77 draws/s   0:00:01   0:00:00    \n                                                                                                                   \n"
         },
         "metadata": {},
         "output_type": "display_data"
        }
       ]
      }
     },
     "f0c47153d3504f32b321e3e6522a24bd": {
      "model_module": "@jupyter-widgets/output",
      "model_module_version": "1.0.0",
      "model_name": "OutputModel",
      "state": {
       "layout": "IPY_MODEL_cca280338fd24debb26a397c45fb9209",
       "outputs": [
        {
         "data": {
          "text/html": "<pre style=\"white-space:pre;overflow-x:auto;line-height:normal;font-family:Menlo,'DejaVu Sans Mono',consolas,'Courier New',monospace\">                                                                                                                   \n <span style=\"font-weight: bold\"> Progress                 </span> <span style=\"font-weight: bold\"> Draws </span> <span style=\"font-weight: bold\"> Divergences </span> <span style=\"font-weight: bold\"> Step size </span> <span style=\"font-weight: bold\"> Grad evals </span> <span style=\"font-weight: bold\"> Sampling Speed  </span> <span style=\"font-weight: bold\"> Elapsed </span> <span style=\"font-weight: bold\"> Remaining </span> \n ───────────────────────────────────────────────────────────────────────────────────────────────────────────────── \n  <span style=\"color: #1f77b4; text-decoration-color: #1f77b4\">━━━━━━━━━━━━━━━━━━━━━━━━</span>   2000    0             0.54        7            1168.73 draws/s   0:00:01   0:00:00    \n  <span style=\"color: #1f77b4; text-decoration-color: #1f77b4\">━━━━━━━━━━━━━━━━━━━━━━━━</span>   2000    0             0.60        7            1101.76 draws/s   0:00:01   0:00:00    \n  <span style=\"color: #1f77b4; text-decoration-color: #1f77b4\">━━━━━━━━━━━━━━━━━━━━━━━━</span>   2000    0             0.54        7            1243.67 draws/s   0:00:01   0:00:00    \n  <span style=\"color: #1f77b4; text-decoration-color: #1f77b4\">━━━━━━━━━━━━━━━━━━━━━━━━</span>   2000    0             0.63        7            1141.70 draws/s   0:00:01   0:00:00    \n                                                                                                                   \n</pre>\n",
          "text/plain": "                                                                                                                   \n \u001b[1m \u001b[0m\u001b[1mProgress                \u001b[0m\u001b[1m \u001b[0m \u001b[1m \u001b[0m\u001b[1mDraws\u001b[0m\u001b[1m \u001b[0m \u001b[1m \u001b[0m\u001b[1mDivergences\u001b[0m\u001b[1m \u001b[0m \u001b[1m \u001b[0m\u001b[1mStep size\u001b[0m\u001b[1m \u001b[0m \u001b[1m \u001b[0m\u001b[1mGrad evals\u001b[0m\u001b[1m \u001b[0m \u001b[1m \u001b[0m\u001b[1mSampling Speed \u001b[0m\u001b[1m \u001b[0m \u001b[1m \u001b[0m\u001b[1mElapsed\u001b[0m\u001b[1m \u001b[0m \u001b[1m \u001b[0m\u001b[1mRemaining\u001b[0m\u001b[1m \u001b[0m \n ───────────────────────────────────────────────────────────────────────────────────────────────────────────────── \n  \u001b[38;2;31;119;180m━━━━━━━━━━━━━━━━━━━━━━━━\u001b[0m   2000    0             0.54        7            1168.73 draws/s   0:00:01   0:00:00    \n  \u001b[38;2;31;119;180m━━━━━━━━━━━━━━━━━━━━━━━━\u001b[0m   2000    0             0.60        7            1101.76 draws/s   0:00:01   0:00:00    \n  \u001b[38;2;31;119;180m━━━━━━━━━━━━━━━━━━━━━━━━\u001b[0m   2000    0             0.54        7            1243.67 draws/s   0:00:01   0:00:00    \n  \u001b[38;2;31;119;180m━━━━━━━━━━━━━━━━━━━━━━━━\u001b[0m   2000    0             0.63        7            1141.70 draws/s   0:00:01   0:00:00    \n                                                                                                                   \n"
         },
         "metadata": {},
         "output_type": "display_data"
        }
       ]
      }
     },
     "f273d5aafcb2412bae66e21d82741e35": {
      "model_module": "@jupyter-widgets/output",
      "model_module_version": "1.0.0",
      "model_name": "OutputModel",
      "state": {
       "layout": "IPY_MODEL_6a529863b3874624ad97981bafcff219",
       "outputs": [
        {
         "data": {
          "text/html": "<pre style=\"white-space:pre;overflow-x:auto;line-height:normal;font-family:Menlo,'DejaVu Sans Mono',consolas,'Courier New',monospace\">                                                                                                                   \n <span style=\"font-weight: bold\"> Progress                 </span> <span style=\"font-weight: bold\"> Draws </span> <span style=\"font-weight: bold\"> Divergences </span> <span style=\"font-weight: bold\"> Step size </span> <span style=\"font-weight: bold\"> Grad evals </span> <span style=\"font-weight: bold\"> Sampling Speed  </span> <span style=\"font-weight: bold\"> Elapsed </span> <span style=\"font-weight: bold\"> Remaining </span> \n ───────────────────────────────────────────────────────────────────────────────────────────────────────────────── \n  <span style=\"color: #1f77b4; text-decoration-color: #1f77b4\">━━━━━━━━━━━━━━━━━━━━━━━━</span>   2000    0             1.25        1            2039.20 draws/s   0:00:00   0:00:00    \n  <span style=\"color: #1f77b4; text-decoration-color: #1f77b4\">━━━━━━━━━━━━━━━━━━━━━━━━</span>   2000    0             0.73        1            2141.81 draws/s   0:00:00   0:00:00    \n  <span style=\"color: #1f77b4; text-decoration-color: #1f77b4\">━━━━━━━━━━━━━━━━━━━━━━━━</span>   2000    0             0.95        3            2088.14 draws/s   0:00:00   0:00:00    \n  <span style=\"color: #1f77b4; text-decoration-color: #1f77b4\">━━━━━━━━━━━━━━━━━━━━━━━━</span>   2000    0             1.29        3            1843.03 draws/s   0:00:01   0:00:00    \n                                                                                                                   \n</pre>\n",
          "text/plain": "                                                                                                                   \n \u001b[1m \u001b[0m\u001b[1mProgress                \u001b[0m\u001b[1m \u001b[0m \u001b[1m \u001b[0m\u001b[1mDraws\u001b[0m\u001b[1m \u001b[0m \u001b[1m \u001b[0m\u001b[1mDivergences\u001b[0m\u001b[1m \u001b[0m \u001b[1m \u001b[0m\u001b[1mStep size\u001b[0m\u001b[1m \u001b[0m \u001b[1m \u001b[0m\u001b[1mGrad evals\u001b[0m\u001b[1m \u001b[0m \u001b[1m \u001b[0m\u001b[1mSampling Speed \u001b[0m\u001b[1m \u001b[0m \u001b[1m \u001b[0m\u001b[1mElapsed\u001b[0m\u001b[1m \u001b[0m \u001b[1m \u001b[0m\u001b[1mRemaining\u001b[0m\u001b[1m \u001b[0m \n ───────────────────────────────────────────────────────────────────────────────────────────────────────────────── \n  \u001b[38;2;31;119;180m━━━━━━━━━━━━━━━━━━━━━━━━\u001b[0m   2000    0             1.25        1            2039.20 draws/s   0:00:00   0:00:00    \n  \u001b[38;2;31;119;180m━━━━━━━━━━━━━━━━━━━━━━━━\u001b[0m   2000    0             0.73        1            2141.81 draws/s   0:00:00   0:00:00    \n  \u001b[38;2;31;119;180m━━━━━━━━━━━━━━━━━━━━━━━━\u001b[0m   2000    0             0.95        3            2088.14 draws/s   0:00:00   0:00:00    \n  \u001b[38;2;31;119;180m━━━━━━━━━━━━━━━━━━━━━━━━\u001b[0m   2000    0             1.29        3            1843.03 draws/s   0:00:01   0:00:00    \n                                                                                                                   \n"
         },
         "metadata": {},
         "output_type": "display_data"
        }
       ]
      }
     },
     "f763d40df0ad4c4f8638fb06ad5296f8": {
      "model_module": "@jupyter-widgets/base",
      "model_module_version": "2.0.0",
      "model_name": "LayoutModel",
      "state": {}
     },
     "fa312884e83b4187af857b8c1c21d604": {
      "model_module": "@jupyter-widgets/base",
      "model_module_version": "2.0.0",
      "model_name": "LayoutModel",
      "state": {}
     }
    },
    "version_major": 2,
    "version_minor": 0
   }
  }
 },
 "nbformat": 4,
 "nbformat_minor": 5
}
