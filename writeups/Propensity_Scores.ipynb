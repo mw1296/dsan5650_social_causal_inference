{
 "cells": [
  {
   "cell_type": "markdown",
   "id": "a7c81217-cc86-4772-95b7-1fa4ddb2ee15",
   "metadata": {},
   "source": [
    "## DSAN 5650: Propensity Score Lab"
   ]
  },
  {
   "cell_type": "code",
   "execution_count": 113,
   "id": "6f226c25-a7b9-4e8d-8848-ab9ec9338147",
   "metadata": {
    "execution": {
     "iopub.execute_input": "2025-07-08T01:28:11.621650Z",
     "iopub.status.busy": "2025-07-08T01:28:11.621342Z",
     "iopub.status.idle": "2025-07-08T01:28:11.628910Z",
     "shell.execute_reply": "2025-07-08T01:28:11.628418Z",
     "shell.execute_reply.started": "2025-07-08T01:28:11.621633Z"
    }
   },
   "outputs": [
    {
     "data": {
      "text/html": [
       "<style>\n",
       "@import url('https://fonts.googleapis.com/css2?family=Roboto:ital,wght@0,100..900;1,100..900&display=swap');\n",
       ".jp-RenderedHTMLCommon {\n",
       "    font-family: \"Roboto\", sans-serif;\n",
       "}\n",
       "</style>\n"
      ],
      "text/plain": [
       "<IPython.core.display.HTML object>"
      ]
     },
     "metadata": {},
     "output_type": "display_data"
    }
   ],
   "source": [
    "%run jupyter_fixes.ipynb"
   ]
  },
  {
   "cell_type": "code",
   "execution_count": 114,
   "id": "a9b79b7c-8508-4dc0-bacb-e567ba140ee5",
   "metadata": {
    "execution": {
     "iopub.execute_input": "2025-07-08T01:28:11.976178Z",
     "iopub.status.busy": "2025-07-08T01:28:11.975843Z",
     "iopub.status.idle": "2025-07-08T01:28:11.979091Z",
     "shell.execute_reply": "2025-07-08T01:28:11.978623Z",
     "shell.execute_reply.started": "2025-07-08T01:28:11.976152Z"
    }
   },
   "outputs": [],
   "source": [
    "import pandas as pd\n",
    "import numpy as np\n",
    "import matplotlib.pyplot as plt\n",
    "import seaborn as sns\n",
    "import patchworklib as pw\n",
    "import graphviz as gr\n",
    "\n",
    "import statsmodels.formula.api as smf"
   ]
  },
  {
   "cell_type": "markdown",
   "id": "df053101-4791-4deb-8d7a-c9fe76c06660",
   "metadata": {},
   "source": [
    "## [Part 1] Load Data"
   ]
  },
  {
   "cell_type": "code",
   "execution_count": 115,
   "id": "c3825eff-7a10-4d10-a7b6-a5e630509043",
   "metadata": {
    "execution": {
     "iopub.execute_input": "2025-07-08T01:28:12.142172Z",
     "iopub.status.busy": "2025-07-08T01:28:12.141961Z",
     "iopub.status.idle": "2025-07-08T01:28:12.161459Z",
     "shell.execute_reply": "2025-07-08T01:28:12.160994Z",
     "shell.execute_reply.started": "2025-07-08T01:28:12.142154Z"
    }
   },
   "outputs": [
    {
     "data": {
      "text/html": [
       "<div>\n",
       "<style scoped>\n",
       "    .dataframe tbody tr th:only-of-type {\n",
       "        vertical-align: middle;\n",
       "    }\n",
       "\n",
       "    .dataframe tbody tr th {\n",
       "        vertical-align: top;\n",
       "    }\n",
       "\n",
       "    .dataframe thead th {\n",
       "        text-align: right;\n",
       "    }\n",
       "</style>\n",
       "<table border=\"1\" class=\"dataframe\">\n",
       "  <thead>\n",
       "    <tr style=\"text-align: right;\">\n",
       "      <th></th>\n",
       "      <th>schoolid</th>\n",
       "      <th>intervention</th>\n",
       "      <th>achievement_score</th>\n",
       "      <th>success_expect</th>\n",
       "      <th>ethnicity</th>\n",
       "      <th>gender</th>\n",
       "      <th>frst_in_family</th>\n",
       "      <th>school_urbanicity</th>\n",
       "      <th>school_mindset</th>\n",
       "      <th>school_achievement</th>\n",
       "      <th>school_ethnic_minority</th>\n",
       "      <th>school_poverty</th>\n",
       "      <th>school_size</th>\n",
       "    </tr>\n",
       "  </thead>\n",
       "  <tbody>\n",
       "    <tr>\n",
       "      <th>0</th>\n",
       "      <td>76</td>\n",
       "      <td>1</td>\n",
       "      <td>0.277359</td>\n",
       "      <td>6</td>\n",
       "      <td>4</td>\n",
       "      <td>2</td>\n",
       "      <td>1</td>\n",
       "      <td>4</td>\n",
       "      <td>0.334544</td>\n",
       "      <td>0.648586</td>\n",
       "      <td>-1.310927</td>\n",
       "      <td>0.224077</td>\n",
       "      <td>-0.426757</td>\n",
       "    </tr>\n",
       "    <tr>\n",
       "      <th>1</th>\n",
       "      <td>76</td>\n",
       "      <td>1</td>\n",
       "      <td>-0.449646</td>\n",
       "      <td>4</td>\n",
       "      <td>12</td>\n",
       "      <td>2</td>\n",
       "      <td>1</td>\n",
       "      <td>4</td>\n",
       "      <td>0.334544</td>\n",
       "      <td>0.648586</td>\n",
       "      <td>-1.310927</td>\n",
       "      <td>0.224077</td>\n",
       "      <td>-0.426757</td>\n",
       "    </tr>\n",
       "    <tr>\n",
       "      <th>2</th>\n",
       "      <td>76</td>\n",
       "      <td>1</td>\n",
       "      <td>0.769703</td>\n",
       "      <td>6</td>\n",
       "      <td>4</td>\n",
       "      <td>2</td>\n",
       "      <td>0</td>\n",
       "      <td>4</td>\n",
       "      <td>0.334544</td>\n",
       "      <td>0.648586</td>\n",
       "      <td>-1.310927</td>\n",
       "      <td>0.224077</td>\n",
       "      <td>-0.426757</td>\n",
       "    </tr>\n",
       "    <tr>\n",
       "      <th>3</th>\n",
       "      <td>76</td>\n",
       "      <td>1</td>\n",
       "      <td>-0.121763</td>\n",
       "      <td>6</td>\n",
       "      <td>4</td>\n",
       "      <td>2</td>\n",
       "      <td>0</td>\n",
       "      <td>4</td>\n",
       "      <td>0.334544</td>\n",
       "      <td>0.648586</td>\n",
       "      <td>-1.310927</td>\n",
       "      <td>0.224077</td>\n",
       "      <td>-0.426757</td>\n",
       "    </tr>\n",
       "    <tr>\n",
       "      <th>4</th>\n",
       "      <td>76</td>\n",
       "      <td>1</td>\n",
       "      <td>1.526147</td>\n",
       "      <td>6</td>\n",
       "      <td>4</td>\n",
       "      <td>1</td>\n",
       "      <td>0</td>\n",
       "      <td>4</td>\n",
       "      <td>0.334544</td>\n",
       "      <td>0.648586</td>\n",
       "      <td>-1.310927</td>\n",
       "      <td>0.224077</td>\n",
       "      <td>-0.426757</td>\n",
       "    </tr>\n",
       "  </tbody>\n",
       "</table>\n",
       "</div>"
      ],
      "text/plain": [
       "   schoolid  intervention  achievement_score  success_expect  ethnicity  \\\n",
       "0        76             1           0.277359               6          4   \n",
       "1        76             1          -0.449646               4         12   \n",
       "2        76             1           0.769703               6          4   \n",
       "3        76             1          -0.121763               6          4   \n",
       "4        76             1           1.526147               6          4   \n",
       "\n",
       "   gender  frst_in_family  school_urbanicity  school_mindset  \\\n",
       "0       2               1                  4        0.334544   \n",
       "1       2               1                  4        0.334544   \n",
       "2       2               0                  4        0.334544   \n",
       "3       2               0                  4        0.334544   \n",
       "4       1               0                  4        0.334544   \n",
       "\n",
       "   school_achievement  school_ethnic_minority  school_poverty  school_size  \n",
       "0            0.648586               -1.310927        0.224077    -0.426757  \n",
       "1            0.648586               -1.310927        0.224077    -0.426757  \n",
       "2            0.648586               -1.310927        0.224077    -0.426757  \n",
       "3            0.648586               -1.310927        0.224077    -0.426757  \n",
       "4            0.648586               -1.310927        0.224077    -0.426757  "
      ]
     },
     "execution_count": 115,
     "metadata": {},
     "output_type": "execute_result"
    }
   ],
   "source": [
    "student_df = pd.read_csv(\"learning_mindset.csv\")\n",
    "student_df.head()"
   ]
  },
  {
   "cell_type": "markdown",
   "id": "9cf8748f-417a-406f-897d-d7108817a110",
   "metadata": {},
   "source": [
    "## Codebook"
   ]
  },
  {
   "cell_type": "markdown",
   "id": "697a630c-6754-4c09-adde-b231c46fd954",
   "metadata": {},
   "source": [
    "* `schoolid`: identifier of the student’s school;\n",
    "* `success_expect`: self-reported expectations for success in the future, a proxy for prior achievement, measured prior to random assignment;\n",
    "* `ethnicity`: categorical variable for student race/ethnicity;\n",
    "* `gender`: categorical variable for student identified gender;\n",
    "* `frst_in_family`: categorical variable for student first-generation status, i.e. first in family to go to college;\n",
    "* `school_urbanicity`: school-level categorical variable for urbanicity of the school, i.e. rural, suburban, etc;\n",
    "* `school_mindset`: school-level mean of students’ fixed mindsets, reported prior to random assignment, standardized;\n",
    "* `school_achievement`: school achievement level, as measured by test scores and college preparation for the previous 4 cohorts of students, standardized;\n",
    "* `school_ethnic_minority`: school racial/ethnic minority composition, i.e., percentage of student body that is Black, Latino, or Native American, standardized;\n",
    "* `school_poverty`: school poverty concentration, i.e., percentage of students who are from families whose incomes fall below the federal poverty line, standardized;\n",
    "* `school_size`: total number of students in all four grade levels in the school, standardized."
   ]
  },
  {
   "cell_type": "code",
   "execution_count": 116,
   "id": "95e7e8d0-62e8-4a68-972a-8cf6da531ab0",
   "metadata": {
    "execution": {
     "iopub.execute_input": "2025-07-08T01:28:12.457159Z",
     "iopub.status.busy": "2025-07-08T01:28:12.456880Z",
     "iopub.status.idle": "2025-07-08T01:28:12.485219Z",
     "shell.execute_reply": "2025-07-08T01:28:12.484780Z",
     "shell.execute_reply.started": "2025-07-08T01:28:12.457144Z"
    }
   },
   "outputs": [
    {
     "data": {
      "text/html": [
       "<div>\n",
       "<style scoped>\n",
       "    .dataframe tbody tr th:only-of-type {\n",
       "        vertical-align: middle;\n",
       "    }\n",
       "\n",
       "    .dataframe tbody tr th {\n",
       "        vertical-align: top;\n",
       "    }\n",
       "\n",
       "    .dataframe thead th {\n",
       "        text-align: right;\n",
       "    }\n",
       "</style>\n",
       "<table border=\"1\" class=\"dataframe\">\n",
       "  <thead>\n",
       "    <tr style=\"text-align: right;\">\n",
       "      <th></th>\n",
       "      <th>schoolid</th>\n",
       "      <th>intervention</th>\n",
       "      <th>achievement_score</th>\n",
       "      <th>success_expect</th>\n",
       "      <th>ethnicity</th>\n",
       "      <th>gender</th>\n",
       "      <th>frst_in_family</th>\n",
       "      <th>school_urbanicity</th>\n",
       "      <th>school_mindset</th>\n",
       "      <th>school_achievement</th>\n",
       "      <th>school_ethnic_minority</th>\n",
       "      <th>school_poverty</th>\n",
       "      <th>school_size</th>\n",
       "    </tr>\n",
       "  </thead>\n",
       "  <tbody>\n",
       "    <tr>\n",
       "      <th>count</th>\n",
       "      <td>10391.000000</td>\n",
       "      <td>10391.000000</td>\n",
       "      <td>1.039100e+04</td>\n",
       "      <td>10391.000000</td>\n",
       "      <td>10391.000000</td>\n",
       "      <td>10391.000000</td>\n",
       "      <td>10391.000000</td>\n",
       "      <td>10391.000000</td>\n",
       "      <td>10391.000000</td>\n",
       "      <td>10391.000000</td>\n",
       "      <td>10391.000000</td>\n",
       "      <td>10391.000000</td>\n",
       "      <td>10391.000000</td>\n",
       "    </tr>\n",
       "    <tr>\n",
       "      <th>mean</th>\n",
       "      <td>39.888846</td>\n",
       "      <td>0.325666</td>\n",
       "      <td>3.829313e-17</td>\n",
       "      <td>5.268117</td>\n",
       "      <td>5.223078</td>\n",
       "      <td>1.489943</td>\n",
       "      <td>0.630931</td>\n",
       "      <td>2.447791</td>\n",
       "      <td>-0.040457</td>\n",
       "      <td>0.054841</td>\n",
       "      <td>-0.089349</td>\n",
       "      <td>-0.045911</td>\n",
       "      <td>-0.026168</td>\n",
       "    </tr>\n",
       "    <tr>\n",
       "      <th>std</th>\n",
       "      <td>24.008975</td>\n",
       "      <td>0.468646</td>\n",
       "      <td>1.000000e+00</td>\n",
       "      <td>1.120765</td>\n",
       "      <td>3.982963</td>\n",
       "      <td>0.499923</td>\n",
       "      <td>0.482576</td>\n",
       "      <td>1.378420</td>\n",
       "      <td>0.969743</td>\n",
       "      <td>0.935560</td>\n",
       "      <td>0.962804</td>\n",
       "      <td>0.967262</td>\n",
       "      <td>1.010387</td>\n",
       "    </tr>\n",
       "    <tr>\n",
       "      <th>min</th>\n",
       "      <td>1.000000</td>\n",
       "      <td>0.000000</td>\n",
       "      <td>-3.111431e+00</td>\n",
       "      <td>1.000000</td>\n",
       "      <td>1.000000</td>\n",
       "      <td>1.000000</td>\n",
       "      <td>0.000000</td>\n",
       "      <td>0.000000</td>\n",
       "      <td>-3.088790</td>\n",
       "      <td>-3.347819</td>\n",
       "      <td>-1.575463</td>\n",
       "      <td>-1.924778</td>\n",
       "      <td>-1.805073</td>\n",
       "    </tr>\n",
       "    <tr>\n",
       "      <th>25%</th>\n",
       "      <td>19.000000</td>\n",
       "      <td>0.000000</td>\n",
       "      <td>-7.033152e-01</td>\n",
       "      <td>5.000000</td>\n",
       "      <td>3.000000</td>\n",
       "      <td>1.000000</td>\n",
       "      <td>0.000000</td>\n",
       "      <td>1.000000</td>\n",
       "      <td>-0.617888</td>\n",
       "      <td>-0.544506</td>\n",
       "      <td>-0.963095</td>\n",
       "      <td>-0.813799</td>\n",
       "      <td>-0.857026</td>\n",
       "    </tr>\n",
       "    <tr>\n",
       "      <th>50%</th>\n",
       "      <td>41.000000</td>\n",
       "      <td>0.000000</td>\n",
       "      <td>-3.449486e-02</td>\n",
       "      <td>5.000000</td>\n",
       "      <td>4.000000</td>\n",
       "      <td>1.000000</td>\n",
       "      <td>1.000000</td>\n",
       "      <td>2.000000</td>\n",
       "      <td>-0.009954</td>\n",
       "      <td>-0.022514</td>\n",
       "      <td>-0.057036</td>\n",
       "      <td>-0.159602</td>\n",
       "      <td>-0.211553</td>\n",
       "    </tr>\n",
       "    <tr>\n",
       "      <th>75%</th>\n",
       "      <td>62.000000</td>\n",
       "      <td>1.000000</td>\n",
       "      <td>6.724723e-01</td>\n",
       "      <td>6.000000</td>\n",
       "      <td>5.000000</td>\n",
       "      <td>2.000000</td>\n",
       "      <td>1.000000</td>\n",
       "      <td>4.000000</td>\n",
       "      <td>0.420441</td>\n",
       "      <td>0.726836</td>\n",
       "      <td>0.515392</td>\n",
       "      <td>0.596474</td>\n",
       "      <td>0.847844</td>\n",
       "    </tr>\n",
       "    <tr>\n",
       "      <th>max</th>\n",
       "      <td>76.000000</td>\n",
       "      <td>1.000000</td>\n",
       "      <td>3.563639e+00</td>\n",
       "      <td>7.000000</td>\n",
       "      <td>15.000000</td>\n",
       "      <td>2.000000</td>\n",
       "      <td>1.000000</td>\n",
       "      <td>4.000000</td>\n",
       "      <td>2.834589</td>\n",
       "      <td>2.171815</td>\n",
       "      <td>2.358274</td>\n",
       "      <td>2.821660</td>\n",
       "      <td>1.892348</td>\n",
       "    </tr>\n",
       "  </tbody>\n",
       "</table>\n",
       "</div>"
      ],
      "text/plain": [
       "           schoolid  intervention  achievement_score  success_expect  \\\n",
       "count  10391.000000  10391.000000       1.039100e+04    10391.000000   \n",
       "mean      39.888846      0.325666       3.829313e-17        5.268117   \n",
       "std       24.008975      0.468646       1.000000e+00        1.120765   \n",
       "min        1.000000      0.000000      -3.111431e+00        1.000000   \n",
       "25%       19.000000      0.000000      -7.033152e-01        5.000000   \n",
       "50%       41.000000      0.000000      -3.449486e-02        5.000000   \n",
       "75%       62.000000      1.000000       6.724723e-01        6.000000   \n",
       "max       76.000000      1.000000       3.563639e+00        7.000000   \n",
       "\n",
       "          ethnicity        gender  frst_in_family  school_urbanicity  \\\n",
       "count  10391.000000  10391.000000    10391.000000       10391.000000   \n",
       "mean       5.223078      1.489943        0.630931           2.447791   \n",
       "std        3.982963      0.499923        0.482576           1.378420   \n",
       "min        1.000000      1.000000        0.000000           0.000000   \n",
       "25%        3.000000      1.000000        0.000000           1.000000   \n",
       "50%        4.000000      1.000000        1.000000           2.000000   \n",
       "75%        5.000000      2.000000        1.000000           4.000000   \n",
       "max       15.000000      2.000000        1.000000           4.000000   \n",
       "\n",
       "       school_mindset  school_achievement  school_ethnic_minority  \\\n",
       "count    10391.000000        10391.000000            10391.000000   \n",
       "mean        -0.040457            0.054841               -0.089349   \n",
       "std          0.969743            0.935560                0.962804   \n",
       "min         -3.088790           -3.347819               -1.575463   \n",
       "25%         -0.617888           -0.544506               -0.963095   \n",
       "50%         -0.009954           -0.022514               -0.057036   \n",
       "75%          0.420441            0.726836                0.515392   \n",
       "max          2.834589            2.171815                2.358274   \n",
       "\n",
       "       school_poverty   school_size  \n",
       "count    10391.000000  10391.000000  \n",
       "mean        -0.045911     -0.026168  \n",
       "std          0.967262      1.010387  \n",
       "min         -1.924778     -1.805073  \n",
       "25%         -0.813799     -0.857026  \n",
       "50%         -0.159602     -0.211553  \n",
       "75%          0.596474      0.847844  \n",
       "max          2.821660      1.892348  "
      ]
     },
     "execution_count": 116,
     "metadata": {},
     "output_type": "execute_result"
    }
   ],
   "source": [
    "student_df.describe()"
   ]
  },
  {
   "cell_type": "code",
   "execution_count": 117,
   "id": "04bbb9f8-d0e5-4480-a65c-dc6216ccefdd",
   "metadata": {
    "execution": {
     "iopub.execute_input": "2025-07-08T01:28:12.621036Z",
     "iopub.status.busy": "2025-07-08T01:28:12.620820Z",
     "iopub.status.idle": "2025-07-08T01:28:12.627565Z",
     "shell.execute_reply": "2025-07-08T01:28:12.627109Z",
     "shell.execute_reply.started": "2025-07-08T01:28:12.621019Z"
    }
   },
   "outputs": [
    {
     "data": {
      "text/plain": [
       "schoolid                     76\n",
       "intervention                  2\n",
       "achievement_score         10391\n",
       "success_expect                7\n",
       "ethnicity                    15\n",
       "gender                        2\n",
       "frst_in_family                2\n",
       "school_urbanicity             5\n",
       "school_mindset               76\n",
       "school_achievement           76\n",
       "school_ethnic_minority       76\n",
       "school_poverty               76\n",
       "school_size                  76\n",
       "dtype: int64"
      ]
     },
     "execution_count": 117,
     "metadata": {},
     "output_type": "execute_result"
    }
   ],
   "source": [
    "student_df.apply(lambda x: len(pd.unique(x)))"
   ]
  },
  {
   "cell_type": "code",
   "execution_count": 118,
   "id": "830b844f-3395-4476-b7ca-a6677d374460",
   "metadata": {
    "execution": {
     "iopub.execute_input": "2025-07-08T01:28:12.764741Z",
     "iopub.status.busy": "2025-07-08T01:28:12.764547Z",
     "iopub.status.idle": "2025-07-08T01:28:12.772922Z",
     "shell.execute_reply": "2025-07-08T01:28:12.772474Z",
     "shell.execute_reply.started": "2025-07-08T01:28:12.764727Z"
    }
   },
   "outputs": [
    {
     "data": {
      "text/html": [
       "<div>\n",
       "<style scoped>\n",
       "    .dataframe tbody tr th:only-of-type {\n",
       "        vertical-align: middle;\n",
       "    }\n",
       "\n",
       "    .dataframe tbody tr th {\n",
       "        vertical-align: top;\n",
       "    }\n",
       "\n",
       "    .dataframe thead th {\n",
       "        text-align: right;\n",
       "    }\n",
       "</style>\n",
       "<table border=\"1\" class=\"dataframe\">\n",
       "  <thead>\n",
       "    <tr style=\"text-align: right;\">\n",
       "      <th></th>\n",
       "      <th>schoolid</th>\n",
       "      <th>intervention</th>\n",
       "      <th>achievement_score</th>\n",
       "      <th>success_expect</th>\n",
       "      <th>ethnicity</th>\n",
       "      <th>gender</th>\n",
       "      <th>frst_in_family</th>\n",
       "      <th>school_urbanicity</th>\n",
       "      <th>school_mindset</th>\n",
       "      <th>school_achievement</th>\n",
       "      <th>school_ethnic_minority</th>\n",
       "      <th>school_poverty</th>\n",
       "      <th>school_size</th>\n",
       "    </tr>\n",
       "  </thead>\n",
       "  <tbody>\n",
       "    <tr>\n",
       "      <th>7140</th>\n",
       "      <td>36</td>\n",
       "      <td>0</td>\n",
       "      <td>-3.111431</td>\n",
       "      <td>4</td>\n",
       "      <td>4</td>\n",
       "      <td>2</td>\n",
       "      <td>1</td>\n",
       "      <td>1</td>\n",
       "      <td>1.731915</td>\n",
       "      <td>-0.587886</td>\n",
       "      <td>-0.986201</td>\n",
       "      <td>0.540381</td>\n",
       "      <td>-1.606304</td>\n",
       "    </tr>\n",
       "  </tbody>\n",
       "</table>\n",
       "</div>"
      ],
      "text/plain": [
       "      schoolid  intervention  achievement_score  success_expect  ethnicity  \\\n",
       "7140        36             0          -3.111431               4          4   \n",
       "\n",
       "      gender  frst_in_family  school_urbanicity  school_mindset  \\\n",
       "7140       2               1                  1        1.731915   \n",
       "\n",
       "      school_achievement  school_ethnic_minority  school_poverty  school_size  \n",
       "7140           -0.587886               -0.986201        0.540381    -1.606304  "
      ]
     },
     "execution_count": 118,
     "metadata": {},
     "output_type": "execute_result"
    }
   ],
   "source": [
    "student_df[student_df['achievement_score'] < -3]"
   ]
  },
  {
   "cell_type": "code",
   "execution_count": 119,
   "id": "409f032a-90bb-48e3-9939-e9675aba0e1c",
   "metadata": {
    "execution": {
     "iopub.execute_input": "2025-07-08T01:28:12.922481Z",
     "iopub.status.busy": "2025-07-08T01:28:12.922253Z",
     "iopub.status.idle": "2025-07-08T01:28:12.930641Z",
     "shell.execute_reply": "2025-07-08T01:28:12.930186Z",
     "shell.execute_reply.started": "2025-07-08T01:28:12.922463Z"
    }
   },
   "outputs": [
    {
     "data": {
      "text/html": [
       "<div>\n",
       "<style scoped>\n",
       "    .dataframe tbody tr th:only-of-type {\n",
       "        vertical-align: middle;\n",
       "    }\n",
       "\n",
       "    .dataframe tbody tr th {\n",
       "        vertical-align: top;\n",
       "    }\n",
       "\n",
       "    .dataframe thead th {\n",
       "        text-align: right;\n",
       "    }\n",
       "</style>\n",
       "<table border=\"1\" class=\"dataframe\">\n",
       "  <thead>\n",
       "    <tr style=\"text-align: right;\">\n",
       "      <th></th>\n",
       "      <th>schoolid</th>\n",
       "      <th>intervention</th>\n",
       "      <th>achievement_score</th>\n",
       "      <th>success_expect</th>\n",
       "      <th>ethnicity</th>\n",
       "      <th>gender</th>\n",
       "      <th>frst_in_family</th>\n",
       "      <th>school_urbanicity</th>\n",
       "      <th>school_mindset</th>\n",
       "      <th>school_achievement</th>\n",
       "      <th>school_ethnic_minority</th>\n",
       "      <th>school_poverty</th>\n",
       "      <th>school_size</th>\n",
       "    </tr>\n",
       "  </thead>\n",
       "  <tbody>\n",
       "    <tr>\n",
       "      <th>1674</th>\n",
       "      <td>43</td>\n",
       "      <td>1</td>\n",
       "      <td>3.563639</td>\n",
       "      <td>7</td>\n",
       "      <td>12</td>\n",
       "      <td>1</td>\n",
       "      <td>0</td>\n",
       "      <td>0</td>\n",
       "      <td>-0.568329</td>\n",
       "      <td>0.613465</td>\n",
       "      <td>-1.21021</td>\n",
       "      <td>-0.66486</td>\n",
       "      <td>-1.481989</td>\n",
       "    </tr>\n",
       "  </tbody>\n",
       "</table>\n",
       "</div>"
      ],
      "text/plain": [
       "      schoolid  intervention  achievement_score  success_expect  ethnicity  \\\n",
       "1674        43             1           3.563639               7         12   \n",
       "\n",
       "      gender  frst_in_family  school_urbanicity  school_mindset  \\\n",
       "1674       1               0                  0       -0.568329   \n",
       "\n",
       "      school_achievement  school_ethnic_minority  school_poverty  school_size  \n",
       "1674            0.613465                -1.21021        -0.66486    -1.481989  "
      ]
     },
     "execution_count": 119,
     "metadata": {},
     "output_type": "execute_result"
    }
   ],
   "source": [
    "student_df[student_df['achievement_score'] > 3.5]"
   ]
  },
  {
   "cell_type": "code",
   "execution_count": 120,
   "id": "4d5a0164-3e30-45c4-b603-a81420913071",
   "metadata": {
    "execution": {
     "iopub.execute_input": "2025-07-08T01:28:13.090149Z",
     "iopub.status.busy": "2025-07-08T01:28:13.089939Z",
     "iopub.status.idle": "2025-07-08T01:28:13.242507Z",
     "shell.execute_reply": "2025-07-08T01:28:13.241999Z",
     "shell.execute_reply.started": "2025-07-08T01:28:13.090131Z"
    }
   },
   "outputs": [
    {
     "data": {
      "image/png": "[encoded data removed]",
      "text/plain": [
       "<Figure size 640x480 with 1 Axes>"
      ]
     },
     "metadata": {},
     "output_type": "display_data"
    }
   ],
   "source": [
    "sns.histplot(\n",
    "    x=\"achievement_score\", data=student_df\n",
    ");"
   ]
  },
  {
   "cell_type": "markdown",
   "id": "088c6ceb-dd6f-4f36-8a94-0a94d52bba0c",
   "metadata": {},
   "source": [
    "## [Part 2] Compute Naïve ATE"
   ]
  },
  {
   "cell_type": "code",
   "execution_count": 180,
   "id": "8656294a-eea2-456a-92b9-5d4fe6730d00",
   "metadata": {
    "execution": {
     "iopub.execute_input": "2025-07-10T00:07:13.894327Z",
     "iopub.status.busy": "2025-07-10T00:07:13.894080Z",
     "iopub.status.idle": "2025-07-10T00:07:13.901324Z",
     "shell.execute_reply": "2025-07-10T00:07:13.900770Z",
     "shell.execute_reply.started": "2025-07-10T00:07:13.894309Z"
    }
   },
   "outputs": [
    {
     "data": {
      "text/html": [
       "<div>\n",
       "<style scoped>\n",
       "    .dataframe tbody tr th:only-of-type {\n",
       "        vertical-align: middle;\n",
       "    }\n",
       "\n",
       "    .dataframe tbody tr th {\n",
       "        vertical-align: top;\n",
       "    }\n",
       "\n",
       "    .dataframe thead th {\n",
       "        text-align: right;\n",
       "    }\n",
       "</style>\n",
       "<table border=\"1\" class=\"dataframe\">\n",
       "  <thead>\n",
       "    <tr style=\"text-align: right;\">\n",
       "      <th></th>\n",
       "      <th>achievement_score</th>\n",
       "    </tr>\n",
       "    <tr>\n",
       "      <th>intervention</th>\n",
       "      <th></th>\n",
       "    </tr>\n",
       "  </thead>\n",
       "  <tbody>\n",
       "    <tr>\n",
       "      <th>0</th>\n",
       "      <td>-0.153803</td>\n",
       "    </tr>\n",
       "    <tr>\n",
       "      <th>1</th>\n",
       "      <td>0.318469</td>\n",
       "    </tr>\n",
       "  </tbody>\n",
       "</table>\n",
       "</div>"
      ],
      "text/plain": [
       "              achievement_score\n",
       "intervention                   \n",
       "0                     -0.153803\n",
       "1                      0.318469"
      ]
     },
     "execution_count": 180,
     "metadata": {},
     "output_type": "execute_result"
    }
   ],
   "source": [
    "group_means = student_df.groupby('intervention')['achievement_score'].mean().to_frame()\n",
    "group_means"
   ]
  },
  {
   "cell_type": "code",
   "execution_count": 181,
   "id": "58414050-5dc9-451e-a224-5ca965b39340",
   "metadata": {
    "execution": {
     "iopub.execute_input": "2025-07-10T00:07:14.345386Z",
     "iopub.status.busy": "2025-07-10T00:07:14.345171Z",
     "iopub.status.idle": "2025-07-10T00:07:14.348681Z",
     "shell.execute_reply": "2025-07-10T00:07:14.348115Z",
     "shell.execute_reply.started": "2025-07-10T00:07:14.345369Z"
    }
   },
   "outputs": [
    {
     "name": "stdout",
     "output_type": "stream",
     "text": [
      "0.47227166925168707\n"
     ]
    }
   ],
   "source": [
    "avg_treatment_effect = group_means.loc[1, 'achievement_score'] - group_means.loc[0, 'achievement_score']\n",
    "print(avg_treatment_effect)"
   ]
  },
  {
   "cell_type": "code",
   "execution_count": 182,
   "id": "ac8fb5c7-f1b9-4ad4-8cfa-6dc12fdba9b5",
   "metadata": {
    "execution": {
     "iopub.execute_input": "2025-07-10T00:07:15.707725Z",
     "iopub.status.busy": "2025-07-10T00:07:15.707522Z",
     "iopub.status.idle": "2025-07-10T00:07:15.723453Z",
     "shell.execute_reply": "2025-07-10T00:07:15.722819Z",
     "shell.execute_reply.started": "2025-07-10T00:07:15.707710Z"
    }
   },
   "outputs": [
    {
     "data": {
      "text/html": [
       "<table class=\"simpletable\">\n",
       "<tr>\n",
       "        <td></td>          <th>coef</th>     <th>std err</th>      <th>t</th>      <th>P>|t|</th>  <th>[0.025</th>    <th>0.975]</th>  \n",
       "</tr>\n",
       "<tr>\n",
       "  <th>Intercept</th>    <td>   -0.1538</td> <td>    0.012</td> <td>  -13.201</td> <td> 0.000</td> <td>   -0.177</td> <td>   -0.131</td>\n",
       "</tr>\n",
       "<tr>\n",
       "  <th>intervention</th> <td>    0.4723</td> <td>    0.020</td> <td>   23.133</td> <td> 0.000</td> <td>    0.432</td> <td>    0.512</td>\n",
       "</tr>\n",
       "</table>"
      ],
      "text/latex": [
       "\\begin{center}\n",
       "\\begin{tabular}{lcccccc}\n",
       "\\toprule\n",
       "                      & \\textbf{coef} & \\textbf{std err} & \\textbf{t} & \\textbf{P$> |$t$|$} & \\textbf{[0.025} & \\textbf{0.975]}  \\\\\n",
       "\\midrule\n",
       "\\textbf{Intercept}    &      -0.1538  &        0.012     &   -13.201  &         0.000        &       -0.177    &       -0.131     \\\\\n",
       "\\textbf{intervention} &       0.4723  &        0.020     &    23.133  &         0.000        &        0.432    &        0.512     \\\\\n",
       "\\bottomrule\n",
       "\\end{tabular}\n",
       "\\end{center}"
      ],
      "text/plain": [
       "<class 'statsmodels.iolib.table.SimpleTable'>"
      ]
     },
     "execution_count": 182,
     "metadata": {},
     "output_type": "execute_result"
    }
   ],
   "source": [
    "smf.ols(\"achievement_score ~ intervention\", data=student_df).fit().summary().tables[1]"
   ]
  },
  {
   "cell_type": "code",
   "execution_count": 183,
   "id": "19c5bc8a-58a5-4d97-8336-20fa508cc91b",
   "metadata": {
    "execution": {
     "iopub.execute_input": "2025-07-10T00:07:17.336313Z",
     "iopub.status.busy": "2025-07-10T00:07:17.335994Z",
     "iopub.status.idle": "2025-07-10T00:07:17.879255Z",
     "shell.execute_reply": "2025-07-10T00:07:17.878782Z",
     "shell.execute_reply.started": "2025-07-10T00:07:17.336288Z"
    }
   },
   "outputs": [
    {
     "data": {
      "image/png": "[encoded data removed]",
      "text/plain": [
       "<Figure size 100x100 with 2 Axes>"
      ]
     },
     "execution_count": 183,
     "metadata": {},
     "output_type": "execute_result"
    }
   ],
   "source": [
    "ax = pw.Brick(figsize=(3.5, 2.25));\n",
    "sns.regplot(x=\"intervention\", y=\"achievement_score\", data=student_df, ax=ax);\n",
    "ax.savefig()"
   ]
  },
  {
   "cell_type": "markdown",
   "id": "9db7ac82-0e01-4c31-9940-721e6390bc4f",
   "metadata": {},
   "source": [
    "## Inverse Probability of Treatment Weighting (IPTW)"
   ]
  },
  {
   "cell_type": "code",
   "execution_count": 185,
   "id": "92cb93e9-f6ce-4ffb-add2-eada2fa761d7",
   "metadata": {
    "execution": {
     "iopub.execute_input": "2025-07-10T00:07:39.087765Z",
     "iopub.status.busy": "2025-07-10T00:07:39.087347Z",
     "iopub.status.idle": "2025-07-10T00:07:39.731592Z",
     "shell.execute_reply": "2025-07-10T00:07:39.731070Z",
     "shell.execute_reply.started": "2025-07-10T00:07:39.087736Z"
    }
   },
   "outputs": [
    {
     "data": {
      "image/png": "[encoded data removed]",
      "text/plain": [
       "<Figure size 640x480 with 1 Axes>"
      ]
     },
     "metadata": {},
     "output_type": "display_data"
    }
   ],
   "source": [
    "sns.scatterplot(\n",
    "    x=\"school_size\", y=\"achievement_score\", hue=\"intervention\",\n",
    "    data=student_df,\n",
    "    alpha=0.1,\n",
    ");"
   ]
  },
  {
   "cell_type": "markdown",
   "id": "87bc62ee-7999-4aec-a359-55212ba65a94",
   "metadata": {},
   "source": [
    "## Messy/Impossible to See the Pattern... Coarse-Graining Time!"
   ]
  },
  {
   "cell_type": "code",
   "execution_count": 186,
   "id": "0cdf82fe-4030-41b2-a0a8-bedb8240b507",
   "metadata": {
    "execution": {
     "iopub.execute_input": "2025-07-10T00:08:21.461311Z",
     "iopub.status.busy": "2025-07-10T00:08:21.461052Z",
     "iopub.status.idle": "2025-07-10T00:08:21.478192Z",
     "shell.execute_reply": "2025-07-10T00:08:21.477140Z",
     "shell.execute_reply.started": "2025-07-10T00:08:21.461294Z"
    }
   },
   "outputs": [
    {
     "data": {
      "text/html": [
       "<div>\n",
       "<style scoped>\n",
       "    .dataframe tbody tr th:only-of-type {\n",
       "        vertical-align: middle;\n",
       "    }\n",
       "\n",
       "    .dataframe tbody tr th {\n",
       "        vertical-align: top;\n",
       "    }\n",
       "\n",
       "    .dataframe thead th {\n",
       "        text-align: right;\n",
       "    }\n",
       "</style>\n",
       "<table border=\"1\" class=\"dataframe\">\n",
       "  <thead>\n",
       "    <tr style=\"text-align: right;\">\n",
       "      <th></th>\n",
       "      <th>intervention</th>\n",
       "      <th>achievement_score</th>\n",
       "      <th>success_expect</th>\n",
       "      <th>ethnicity</th>\n",
       "      <th>gender</th>\n",
       "      <th>frst_in_family</th>\n",
       "      <th>school_urbanicity</th>\n",
       "      <th>school_mindset</th>\n",
       "      <th>school_achievement</th>\n",
       "      <th>school_ethnic_minority</th>\n",
       "      <th>school_poverty</th>\n",
       "      <th>school_size</th>\n",
       "      <th>size_bin</th>\n",
       "      <th>propensity_score</th>\n",
       "    </tr>\n",
       "    <tr>\n",
       "      <th>schoolid</th>\n",
       "      <th></th>\n",
       "      <th></th>\n",
       "      <th></th>\n",
       "      <th></th>\n",
       "      <th></th>\n",
       "      <th></th>\n",
       "      <th></th>\n",
       "      <th></th>\n",
       "      <th></th>\n",
       "      <th></th>\n",
       "      <th></th>\n",
       "      <th></th>\n",
       "      <th></th>\n",
       "      <th></th>\n",
       "    </tr>\n",
       "  </thead>\n",
       "  <tbody>\n",
       "    <tr>\n",
       "      <th>1</th>\n",
       "      <td>0.333333</td>\n",
       "      <td>-0.449531</td>\n",
       "      <td>5.055556</td>\n",
       "      <td>5.791667</td>\n",
       "      <td>1.472222</td>\n",
       "      <td>0.805556</td>\n",
       "      <td>3.0</td>\n",
       "      <td>1.185986</td>\n",
       "      <td>-1.129889</td>\n",
       "      <td>1.009875</td>\n",
       "      <td>1.005063</td>\n",
       "      <td>-1.174702</td>\n",
       "      <td>-1.0</td>\n",
       "      <td>0.295605</td>\n",
       "    </tr>\n",
       "    <tr>\n",
       "      <th>2</th>\n",
       "      <td>0.355140</td>\n",
       "      <td>0.229476</td>\n",
       "      <td>5.289720</td>\n",
       "      <td>4.937695</td>\n",
       "      <td>1.485981</td>\n",
       "      <td>0.778816</td>\n",
       "      <td>4.0</td>\n",
       "      <td>0.208298</td>\n",
       "      <td>-0.122386</td>\n",
       "      <td>1.199492</td>\n",
       "      <td>-0.337134</td>\n",
       "      <td>0.352747</td>\n",
       "      <td>0.0</td>\n",
       "      <td>0.341383</td>\n",
       "    </tr>\n",
       "    <tr>\n",
       "      <th>3</th>\n",
       "      <td>0.363184</td>\n",
       "      <td>0.583921</td>\n",
       "      <td>5.527363</td>\n",
       "      <td>5.154229</td>\n",
       "      <td>1.482587</td>\n",
       "      <td>0.462687</td>\n",
       "      <td>2.0</td>\n",
       "      <td>-2.081630</td>\n",
       "      <td>2.171815</td>\n",
       "      <td>-0.145265</td>\n",
       "      <td>-0.785322</td>\n",
       "      <td>0.882281</td>\n",
       "      <td>1.0</td>\n",
       "      <td>0.382307</td>\n",
       "    </tr>\n",
       "    <tr>\n",
       "      <th>4</th>\n",
       "      <td>0.380137</td>\n",
       "      <td>0.413153</td>\n",
       "      <td>5.109589</td>\n",
       "      <td>4.222603</td>\n",
       "      <td>1.441781</td>\n",
       "      <td>0.671233</td>\n",
       "      <td>0.0</td>\n",
       "      <td>-2.289636</td>\n",
       "      <td>0.190797</td>\n",
       "      <td>0.875012</td>\n",
       "      <td>-0.724801</td>\n",
       "      <td>0.761781</td>\n",
       "      <td>1.0</td>\n",
       "      <td>0.369316</td>\n",
       "    </tr>\n",
       "    <tr>\n",
       "      <th>5</th>\n",
       "      <td>0.328042</td>\n",
       "      <td>0.052769</td>\n",
       "      <td>4.873016</td>\n",
       "      <td>4.465608</td>\n",
       "      <td>1.439153</td>\n",
       "      <td>0.867725</td>\n",
       "      <td>0.0</td>\n",
       "      <td>-0.055150</td>\n",
       "      <td>-0.544506</td>\n",
       "      <td>1.302587</td>\n",
       "      <td>-1.735164</td>\n",
       "      <td>-0.792146</td>\n",
       "      <td>-1.0</td>\n",
       "      <td>0.321202</td>\n",
       "    </tr>\n",
       "    <tr>\n",
       "      <th>...</th>\n",
       "      <td>...</td>\n",
       "      <td>...</td>\n",
       "      <td>...</td>\n",
       "      <td>...</td>\n",
       "      <td>...</td>\n",
       "      <td>...</td>\n",
       "      <td>...</td>\n",
       "      <td>...</td>\n",
       "      <td>...</td>\n",
       "      <td>...</td>\n",
       "      <td>...</td>\n",
       "      <td>...</td>\n",
       "      <td>...</td>\n",
       "      <td>...</td>\n",
       "    </tr>\n",
       "    <tr>\n",
       "      <th>72</th>\n",
       "      <td>0.309013</td>\n",
       "      <td>-0.100439</td>\n",
       "      <td>5.167382</td>\n",
       "      <td>5.090129</td>\n",
       "      <td>1.497854</td>\n",
       "      <td>0.738197</td>\n",
       "      <td>3.0</td>\n",
       "      <td>0.420441</td>\n",
       "      <td>-0.491972</td>\n",
       "      <td>-0.913405</td>\n",
       "      <td>-0.043159</td>\n",
       "      <td>-0.438531</td>\n",
       "      <td>0.0</td>\n",
       "      <td>0.297773</td>\n",
       "    </tr>\n",
       "    <tr>\n",
       "      <th>73</th>\n",
       "      <td>0.307407</td>\n",
       "      <td>-0.407368</td>\n",
       "      <td>5.551852</td>\n",
       "      <td>5.525926</td>\n",
       "      <td>1.518519</td>\n",
       "      <td>0.425926</td>\n",
       "      <td>1.0</td>\n",
       "      <td>-0.462945</td>\n",
       "      <td>0.652608</td>\n",
       "      <td>-0.515202</td>\n",
       "      <td>-0.169849</td>\n",
       "      <td>0.173954</td>\n",
       "      <td>0.0</td>\n",
       "      <td>0.324419</td>\n",
       "    </tr>\n",
       "    <tr>\n",
       "      <th>74</th>\n",
       "      <td>0.317829</td>\n",
       "      <td>-0.417852</td>\n",
       "      <td>5.174419</td>\n",
       "      <td>6.461240</td>\n",
       "      <td>1.461240</td>\n",
       "      <td>0.724806</td>\n",
       "      <td>4.0</td>\n",
       "      <td>0.983982</td>\n",
       "      <td>-0.449943</td>\n",
       "      <td>0.088159</td>\n",
       "      <td>-0.657131</td>\n",
       "      <td>-0.323959</td>\n",
       "      <td>0.0</td>\n",
       "      <td>0.316256</td>\n",
       "    </tr>\n",
       "    <tr>\n",
       "      <th>75</th>\n",
       "      <td>0.312883</td>\n",
       "      <td>0.118138</td>\n",
       "      <td>5.208589</td>\n",
       "      <td>5.460123</td>\n",
       "      <td>1.466258</td>\n",
       "      <td>0.834356</td>\n",
       "      <td>3.0</td>\n",
       "      <td>0.991628</td>\n",
       "      <td>-0.674142</td>\n",
       "      <td>1.564318</td>\n",
       "      <td>0.230755</td>\n",
       "      <td>-1.511909</td>\n",
       "      <td>-2.0</td>\n",
       "      <td>0.307147</td>\n",
       "    </tr>\n",
       "    <tr>\n",
       "      <th>76</th>\n",
       "      <td>0.326531</td>\n",
       "      <td>0.058845</td>\n",
       "      <td>5.377551</td>\n",
       "      <td>4.821429</td>\n",
       "      <td>1.500000</td>\n",
       "      <td>0.479592</td>\n",
       "      <td>4.0</td>\n",
       "      <td>0.334544</td>\n",
       "      <td>0.648586</td>\n",
       "      <td>-1.310927</td>\n",
       "      <td>0.224077</td>\n",
       "      <td>-0.426757</td>\n",
       "      <td>0.0</td>\n",
       "      <td>0.324260</td>\n",
       "    </tr>\n",
       "  </tbody>\n",
       "</table>\n",
       "<p>76 rows × 14 columns</p>\n",
       "</div>"
      ],
      "text/plain": [
       "          intervention  achievement_score  success_expect  ethnicity  \\\n",
       "schoolid                                                               \n",
       "1             0.333333          -0.449531        5.055556   5.791667   \n",
       "2             0.355140           0.229476        5.289720   4.937695   \n",
       "3             0.363184           0.583921        5.527363   5.154229   \n",
       "4             0.380137           0.413153        5.109589   4.222603   \n",
       "5             0.328042           0.052769        4.873016   4.465608   \n",
       "...                ...                ...             ...        ...   \n",
       "72            0.309013          -0.100439        5.167382   5.090129   \n",
       "73            0.307407          -0.407368        5.551852   5.525926   \n",
       "74            0.317829          -0.417852        5.174419   6.461240   \n",
       "75            0.312883           0.118138        5.208589   5.460123   \n",
       "76            0.326531           0.058845        5.377551   4.821429   \n",
       "\n",
       "            gender  frst_in_family  school_urbanicity  school_mindset  \\\n",
       "schoolid                                                                \n",
       "1         1.472222        0.805556                3.0        1.185986   \n",
       "2         1.485981        0.778816                4.0        0.208298   \n",
       "3         1.482587        0.462687                2.0       -2.081630   \n",
       "4         1.441781        0.671233                0.0       -2.289636   \n",
       "5         1.439153        0.867725                0.0       -0.055150   \n",
       "...            ...             ...                ...             ...   \n",
       "72        1.497854        0.738197                3.0        0.420441   \n",
       "73        1.518519        0.425926                1.0       -0.462945   \n",
       "74        1.461240        0.724806                4.0        0.983982   \n",
       "75        1.466258        0.834356                3.0        0.991628   \n",
       "76        1.500000        0.479592                4.0        0.334544   \n",
       "\n",
       "          school_achievement  school_ethnic_minority  school_poverty  \\\n",
       "schoolid                                                               \n",
       "1                  -1.129889                1.009875        1.005063   \n",
       "2                  -0.122386                1.199492       -0.337134   \n",
       "3                   2.171815               -0.145265       -0.785322   \n",
       "4                   0.190797                0.875012       -0.724801   \n",
       "5                  -0.544506                1.302587       -1.735164   \n",
       "...                      ...                     ...             ...   \n",
       "72                 -0.491972               -0.913405       -0.043159   \n",
       "73                  0.652608               -0.515202       -0.169849   \n",
       "74                 -0.449943                0.088159       -0.657131   \n",
       "75                 -0.674142                1.564318        0.230755   \n",
       "76                  0.648586               -1.310927        0.224077   \n",
       "\n",
       "          school_size  size_bin  propensity_score  \n",
       "schoolid                                           \n",
       "1           -1.174702      -1.0          0.295605  \n",
       "2            0.352747       0.0          0.341383  \n",
       "3            0.882281       1.0          0.382307  \n",
       "4            0.761781       1.0          0.369316  \n",
       "5           -0.792146      -1.0          0.321202  \n",
       "...               ...       ...               ...  \n",
       "72          -0.438531       0.0          0.297773  \n",
       "73           0.173954       0.0          0.324419  \n",
       "74          -0.323959       0.0          0.316256  \n",
       "75          -1.511909      -2.0          0.307147  \n",
       "76          -0.426757       0.0          0.324260  \n",
       "\n",
       "[76 rows x 14 columns]"
      ]
     },
     "execution_count": 186,
     "metadata": {},
     "output_type": "execute_result"
    }
   ],
   "source": [
    "school_df = student_df.groupby('schoolid').mean()\n",
    "school_df"
   ]
  },
  {
   "cell_type": "code",
   "execution_count": 187,
   "id": "780a5009-635c-4c2d-8437-f6a2337994ee",
   "metadata": {
    "execution": {
     "iopub.execute_input": "2025-07-10T00:08:23.250290Z",
     "iopub.status.busy": "2025-07-10T00:08:23.249989Z",
     "iopub.status.idle": "2025-07-10T00:08:23.255419Z",
     "shell.execute_reply": "2025-07-10T00:08:23.254883Z",
     "shell.execute_reply.started": "2025-07-10T00:08:23.250268Z"
    }
   },
   "outputs": [
    {
     "data": {
      "text/plain": [
       "-0.861296024346554"
      ]
     },
     "execution_count": 187,
     "metadata": {},
     "output_type": "execute_result"
    }
   ],
   "source": [
    "med_size = school_df['school_size'].median()\n",
    "med_size"
   ]
  },
  {
   "cell_type": "code",
   "execution_count": 188,
   "id": "9819ef18-ca8e-4c6e-bcd9-99859ae7c1b7",
   "metadata": {
    "execution": {
     "iopub.execute_input": "2025-07-10T00:08:24.499309Z",
     "iopub.status.busy": "2025-07-10T00:08:24.499039Z",
     "iopub.status.idle": "2025-07-10T00:08:24.504396Z",
     "shell.execute_reply": "2025-07-10T00:08:24.503868Z",
     "shell.execute_reply.started": "2025-07-10T00:08:24.499290Z"
    }
   },
   "outputs": [],
   "source": [
    "school_df['above_med_size'] = school_df['school_size'] > med_size\n",
    "school_df['above_mean_size'] = school_df['school_size'] > 0.0"
   ]
  },
  {
   "cell_type": "code",
   "execution_count": 191,
   "id": "7bb7fd7c-2866-4bdd-8f5a-0bacea983833",
   "metadata": {
    "execution": {
     "iopub.execute_input": "2025-07-10T00:08:45.389506Z",
     "iopub.status.busy": "2025-07-10T00:08:45.389251Z",
     "iopub.status.idle": "2025-07-10T00:08:45.501127Z",
     "shell.execute_reply": "2025-07-10T00:08:45.500638Z",
     "shell.execute_reply.started": "2025-07-10T00:08:45.389490Z"
    }
   },
   "outputs": [
    {
     "data": {
      "image/png": "[encoded data removed]",
      "text/plain": [
       "<Figure size 100x100 with 2 Axes>"
      ]
     },
     "execution_count": 191,
     "metadata": {},
     "output_type": "execute_result"
    }
   ],
   "source": [
    "ax = pw.Brick(figsize=(3.5, 2.25));\n",
    "sns.scatterplot(\n",
    "    x=\"school_size\", y=\"intervention\", hue='above_med_size', data=school_df, ax=ax,\n",
    ");\n",
    "ax.savefig()"
   ]
  },
  {
   "cell_type": "code",
   "execution_count": 192,
   "id": "a8688e1f-74db-43b4-bfd0-ab5327e736dc",
   "metadata": {
    "execution": {
     "iopub.execute_input": "2025-07-10T00:08:51.189660Z",
     "iopub.status.busy": "2025-07-10T00:08:51.189390Z",
     "iopub.status.idle": "2025-07-10T00:08:51.321876Z",
     "shell.execute_reply": "2025-07-10T00:08:51.321488Z",
     "shell.execute_reply.started": "2025-07-10T00:08:51.189643Z"
    }
   },
   "outputs": [
    {
     "data": {
      "image/png": "[encoded data removed]",
      "text/plain": [
       "<Figure size 640x480 with 1 Axes>"
      ]
     },
     "metadata": {},
     "output_type": "display_data"
    }
   ],
   "source": [
    "sns.violinplot(\n",
    "    x='above_mean_size', y='intervention', data=school_df, inner='point'\n",
    ");"
   ]
  },
  {
   "cell_type": "code",
   "execution_count": 193,
   "id": "f8bc98ae-48cc-4b43-be60-daa720eb5797",
   "metadata": {
    "execution": {
     "iopub.execute_input": "2025-07-10T00:08:57.955205Z",
     "iopub.status.busy": "2025-07-10T00:08:57.954941Z",
     "iopub.status.idle": "2025-07-10T00:08:58.125888Z",
     "shell.execute_reply": "2025-07-10T00:08:58.125473Z",
     "shell.execute_reply.started": "2025-07-10T00:08:57.955187Z"
    }
   },
   "outputs": [
    {
     "data": {
      "image/png": "[encoded data removed]",
      "text/plain": [
       "<Figure size 640x480 with 1 Axes>"
      ]
     },
     "metadata": {},
     "output_type": "display_data"
    }
   ],
   "source": [
    "sns.regplot(\n",
    "    x='above_mean_size', y='intervention', data=school_df\n",
    ");"
   ]
  },
  {
   "cell_type": "markdown",
   "id": "9955b83e-5dd8-4320-9445-0524dd657412",
   "metadata": {},
   "source": [
    "## It looks like there's a relationship... let's check with OLS"
   ]
  },
  {
   "cell_type": "markdown",
   "id": "7e8096c9-0145-4ff5-b0ec-e935c5ab3fc2",
   "metadata": {},
   "source": [
    "Using `statsmodels` as alternative to `lm` in Python"
   ]
  },
  {
   "cell_type": "code",
   "execution_count": 137,
   "id": "9f532267-938f-4edf-bed9-b511d65f99c4",
   "metadata": {
    "execution": {
     "iopub.execute_input": "2025-07-08T01:28:16.669060Z",
     "iopub.status.busy": "2025-07-08T01:28:16.668681Z",
     "iopub.status.idle": "2025-07-08T01:28:16.696631Z",
     "shell.execute_reply": "2025-07-08T01:28:16.695804Z",
     "shell.execute_reply.started": "2025-07-08T01:28:16.669031Z"
    }
   },
   "outputs": [
    {
     "data": {
      "text/html": [
       "<table class=\"simpletable\">\n",
       "<tr>\n",
       "       <td></td>          <th>coef</th>     <th>std err</th>      <th>t</th>      <th>P>|t|</th>  <th>[0.025</th>    <th>0.975]</th>  \n",
       "</tr>\n",
       "<tr>\n",
       "  <th>Intercept</th>   <td>    0.3261</td> <td>    0.005</td> <td>   70.941</td> <td> 0.000</td> <td>    0.317</td> <td>    0.335</td>\n",
       "</tr>\n",
       "<tr>\n",
       "  <th>school_size</th> <td>    0.0159</td> <td>    0.005</td> <td>    3.493</td> <td> 0.000</td> <td>    0.007</td> <td>    0.025</td>\n",
       "</tr>\n",
       "</table>"
      ],
      "text/latex": [
       "\\begin{center}\n",
       "\\begin{tabular}{lcccccc}\n",
       "\\toprule\n",
       "                      & \\textbf{coef} & \\textbf{std err} & \\textbf{t} & \\textbf{P$> |$t$|$} & \\textbf{[0.025} & \\textbf{0.975]}  \\\\\n",
       "\\midrule\n",
       "\\textbf{Intercept}    &       0.3261  &        0.005     &    70.941  &         0.000        &        0.317    &        0.335     \\\\\n",
       "\\textbf{school\\_size} &       0.0159  &        0.005     &     3.493  &         0.000        &        0.007    &        0.025     \\\\\n",
       "\\bottomrule\n",
       "\\end{tabular}\n",
       "\\end{center}"
      ],
      "text/plain": [
       "<class 'statsmodels.iolib.table.SimpleTable'>"
      ]
     },
     "execution_count": 137,
     "metadata": {},
     "output_type": "execute_result"
    }
   ],
   "source": [
    "smf.ols(\"intervention ~ school_size\", data=student_df).fit().summary().tables[1]"
   ]
  },
  {
   "cell_type": "code",
   "execution_count": 138,
   "id": "7cd1711a-5193-4586-b257-0aaf6f23ec52",
   "metadata": {
    "execution": {
     "iopub.execute_input": "2025-07-08T01:28:16.833996Z",
     "iopub.status.busy": "2025-07-08T01:28:16.833776Z",
     "iopub.status.idle": "2025-07-08T01:28:16.855144Z",
     "shell.execute_reply": "2025-07-08T01:28:16.854320Z",
     "shell.execute_reply.started": "2025-07-08T01:28:16.833978Z"
    }
   },
   "outputs": [
    {
     "data": {
      "text/html": [
       "<table class=\"simpletable\">\n",
       "<tr>\n",
       "         <td></td>           <th>coef</th>     <th>std err</th>      <th>t</th>      <th>P>|t|</th>  <th>[0.025</th>    <th>0.975]</th>  \n",
       "</tr>\n",
       "<tr>\n",
       "  <th>Intercept</th>      <td>    0.3254</td> <td>    0.005</td> <td>   70.702</td> <td> 0.000</td> <td>    0.316</td> <td>    0.334</td>\n",
       "</tr>\n",
       "<tr>\n",
       "  <th>school_poverty</th> <td>   -0.0057</td> <td>    0.005</td> <td>   -1.190</td> <td> 0.234</td> <td>   -0.015</td> <td>    0.004</td>\n",
       "</tr>\n",
       "</table>"
      ],
      "text/latex": [
       "\\begin{center}\n",
       "\\begin{tabular}{lcccccc}\n",
       "\\toprule\n",
       "                         & \\textbf{coef} & \\textbf{std err} & \\textbf{t} & \\textbf{P$> |$t$|$} & \\textbf{[0.025} & \\textbf{0.975]}  \\\\\n",
       "\\midrule\n",
       "\\textbf{Intercept}       &       0.3254  &        0.005     &    70.702  &         0.000        &        0.316    &        0.334     \\\\\n",
       "\\textbf{school\\_poverty} &      -0.0057  &        0.005     &    -1.190  &         0.234        &       -0.015    &        0.004     \\\\\n",
       "\\bottomrule\n",
       "\\end{tabular}\n",
       "\\end{center}"
      ],
      "text/plain": [
       "<class 'statsmodels.iolib.table.SimpleTable'>"
      ]
     },
     "execution_count": 138,
     "metadata": {},
     "output_type": "execute_result"
    }
   ],
   "source": [
    "smf.ols(\"intervention ~ school_poverty\", data=student_df).fit().summary().tables[1]"
   ]
  },
  {
   "cell_type": "code",
   "execution_count": 139,
   "id": "af9b9d5d-bb04-44e9-b52b-c6b146b8a8b0",
   "metadata": {
    "execution": {
     "iopub.execute_input": "2025-07-08T01:28:16.992829Z",
     "iopub.status.busy": "2025-07-08T01:28:16.992630Z",
     "iopub.status.idle": "2025-07-08T01:28:17.022089Z",
     "shell.execute_reply": "2025-07-08T01:28:17.021315Z",
     "shell.execute_reply.started": "2025-07-08T01:28:16.992815Z"
    }
   },
   "outputs": [
    {
     "data": {
      "text/html": [
       "<table class=\"simpletable\">\n",
       "<tr>\n",
       "          <td></td>             <th>coef</th>     <th>std err</th>      <th>t</th>      <th>P>|t|</th>  <th>[0.025</th>    <th>0.975]</th>  \n",
       "</tr>\n",
       "<tr>\n",
       "  <th>Intercept</th>         <td>    0.3209</td> <td>    0.009</td> <td>   34.244</td> <td> 0.000</td> <td>    0.303</td> <td>    0.339</td>\n",
       "</tr>\n",
       "<tr>\n",
       "  <th>school_urbanicity</th> <td>    0.0020</td> <td>    0.003</td> <td>    0.587</td> <td> 0.557</td> <td>   -0.005</td> <td>    0.008</td>\n",
       "</tr>\n",
       "</table>"
      ],
      "text/latex": [
       "\\begin{center}\n",
       "\\begin{tabular}{lcccccc}\n",
       "\\toprule\n",
       "                            & \\textbf{coef} & \\textbf{std err} & \\textbf{t} & \\textbf{P$> |$t$|$} & \\textbf{[0.025} & \\textbf{0.975]}  \\\\\n",
       "\\midrule\n",
       "\\textbf{Intercept}          &       0.3209  &        0.009     &    34.244  &         0.000        &        0.303    &        0.339     \\\\\n",
       "\\textbf{school\\_urbanicity} &       0.0020  &        0.003     &     0.587  &         0.557        &       -0.005    &        0.008     \\\\\n",
       "\\bottomrule\n",
       "\\end{tabular}\n",
       "\\end{center}"
      ],
      "text/plain": [
       "<class 'statsmodels.iolib.table.SimpleTable'>"
      ]
     },
     "execution_count": 139,
     "metadata": {},
     "output_type": "execute_result"
    }
   ],
   "source": [
    "smf.ols(\"intervention ~ school_urbanicity\", data=student_df).fit().summary().tables[1]"
   ]
  },
  {
   "cell_type": "code",
   "execution_count": 140,
   "id": "088b2991-a638-44cc-b9a0-103f70dcbef9",
   "metadata": {
    "execution": {
     "iopub.execute_input": "2025-07-08T01:28:17.161140Z",
     "iopub.status.busy": "2025-07-08T01:28:17.160937Z",
     "iopub.status.idle": "2025-07-08T01:28:17.181659Z",
     "shell.execute_reply": "2025-07-08T01:28:17.180888Z",
     "shell.execute_reply.started": "2025-07-08T01:28:17.161126Z"
    }
   },
   "outputs": [
    {
     "data": {
      "text/html": [
       "<table class=\"simpletable\">\n",
       "<tr>\n",
       "             <td></td>               <th>coef</th>     <th>std err</th>      <th>t</th>      <th>P>|t|</th>  <th>[0.025</th>    <th>0.975]</th>  \n",
       "</tr>\n",
       "<tr>\n",
       "  <th>Intercept</th>              <td>    0.3256</td> <td>    0.005</td> <td>   70.509</td> <td> 0.000</td> <td>    0.317</td> <td>    0.335</td>\n",
       "</tr>\n",
       "<tr>\n",
       "  <th>school_ethnic_minority</th> <td>   -0.0011</td> <td>    0.005</td> <td>   -0.231</td> <td> 0.818</td> <td>   -0.010</td> <td>    0.008</td>\n",
       "</tr>\n",
       "</table>"
      ],
      "text/latex": [
       "\\begin{center}\n",
       "\\begin{tabular}{lcccccc}\n",
       "\\toprule\n",
       "                                  & \\textbf{coef} & \\textbf{std err} & \\textbf{t} & \\textbf{P$> |$t$|$} & \\textbf{[0.025} & \\textbf{0.975]}  \\\\\n",
       "\\midrule\n",
       "\\textbf{Intercept}                &       0.3256  &        0.005     &    70.509  &         0.000        &        0.317    &        0.335     \\\\\n",
       "\\textbf{school\\_ethnic\\_minority} &      -0.0011  &        0.005     &    -0.231  &         0.818        &       -0.010    &        0.008     \\\\\n",
       "\\bottomrule\n",
       "\\end{tabular}\n",
       "\\end{center}"
      ],
      "text/plain": [
       "<class 'statsmodels.iolib.table.SimpleTable'>"
      ]
     },
     "execution_count": 140,
     "metadata": {},
     "output_type": "execute_result"
    }
   ],
   "source": [
    "smf.ols(\"intervention ~ school_ethnic_minority\", data=student_df).fit().summary().tables[1]"
   ]
  },
  {
   "cell_type": "code",
   "execution_count": 141,
   "id": "9eef1cfd-a44f-4d07-a95f-44c60f91b112",
   "metadata": {
    "execution": {
     "iopub.execute_input": "2025-07-08T01:28:17.321003Z",
     "iopub.status.busy": "2025-07-08T01:28:17.320789Z",
     "iopub.status.idle": "2025-07-08T01:28:17.348628Z",
     "shell.execute_reply": "2025-07-08T01:28:17.347871Z",
     "shell.execute_reply.started": "2025-07-08T01:28:17.320986Z"
    }
   },
   "outputs": [
    {
     "data": {
      "text/html": [
       "<table class=\"simpletable\">\n",
       "<tr>\n",
       "           <td></td>             <th>coef</th>     <th>std err</th>      <th>t</th>      <th>P>|t|</th>  <th>[0.025</th>    <th>0.975]</th>  \n",
       "</tr>\n",
       "<tr>\n",
       "  <th>Intercept</th>          <td>    0.3249</td> <td>    0.005</td> <td>   70.573</td> <td> 0.000</td> <td>    0.316</td> <td>    0.334</td>\n",
       "</tr>\n",
       "<tr>\n",
       "  <th>school_achievement</th> <td>    0.0140</td> <td>    0.005</td> <td>    2.845</td> <td> 0.004</td> <td>    0.004</td> <td>    0.024</td>\n",
       "</tr>\n",
       "</table>"
      ],
      "text/latex": [
       "\\begin{center}\n",
       "\\begin{tabular}{lcccccc}\n",
       "\\toprule\n",
       "                             & \\textbf{coef} & \\textbf{std err} & \\textbf{t} & \\textbf{P$> |$t$|$} & \\textbf{[0.025} & \\textbf{0.975]}  \\\\\n",
       "\\midrule\n",
       "\\textbf{Intercept}           &       0.3249  &        0.005     &    70.573  &         0.000        &        0.316    &        0.334     \\\\\n",
       "\\textbf{school\\_achievement} &       0.0140  &        0.005     &     2.845  &         0.004        &        0.004    &        0.024     \\\\\n",
       "\\bottomrule\n",
       "\\end{tabular}\n",
       "\\end{center}"
      ],
      "text/plain": [
       "<class 'statsmodels.iolib.table.SimpleTable'>"
      ]
     },
     "execution_count": 141,
     "metadata": {},
     "output_type": "execute_result"
    }
   ],
   "source": [
    "smf.ols(\"intervention ~ school_achievement\", data=student_df).fit().summary().tables[1]"
   ]
  },
  {
   "cell_type": "code",
   "execution_count": 142,
   "id": "e1dab406-caaa-44d7-89fc-cb66af2f3ec2",
   "metadata": {
    "execution": {
     "iopub.execute_input": "2025-07-08T01:28:17.470796Z",
     "iopub.status.busy": "2025-07-08T01:28:17.470621Z",
     "iopub.status.idle": "2025-07-08T01:28:17.496284Z",
     "shell.execute_reply": "2025-07-08T01:28:17.495550Z",
     "shell.execute_reply.started": "2025-07-08T01:28:17.470781Z"
    }
   },
   "outputs": [
    {
     "data": {
      "text/html": [
       "<table class=\"simpletable\">\n",
       "<tr>\n",
       "         <td></td>           <th>coef</th>     <th>std err</th>      <th>t</th>      <th>P>|t|</th>  <th>[0.025</th>    <th>0.975]</th>  \n",
       "</tr>\n",
       "<tr>\n",
       "  <th>Intercept</th>      <td>    0.3248</td> <td>    0.005</td> <td>   70.651</td> <td> 0.000</td> <td>    0.316</td> <td>    0.334</td>\n",
       "</tr>\n",
       "<tr>\n",
       "  <th>school_mindset</th> <td>   -0.0223</td> <td>    0.005</td> <td>   -4.703</td> <td> 0.000</td> <td>   -0.032</td> <td>   -0.013</td>\n",
       "</tr>\n",
       "</table>"
      ],
      "text/latex": [
       "\\begin{center}\n",
       "\\begin{tabular}{lcccccc}\n",
       "\\toprule\n",
       "                         & \\textbf{coef} & \\textbf{std err} & \\textbf{t} & \\textbf{P$> |$t$|$} & \\textbf{[0.025} & \\textbf{0.975]}  \\\\\n",
       "\\midrule\n",
       "\\textbf{Intercept}       &       0.3248  &        0.005     &    70.651  &         0.000        &        0.316    &        0.334     \\\\\n",
       "\\textbf{school\\_mindset} &      -0.0223  &        0.005     &    -4.703  &         0.000        &       -0.032    &       -0.013     \\\\\n",
       "\\bottomrule\n",
       "\\end{tabular}\n",
       "\\end{center}"
      ],
      "text/plain": [
       "<class 'statsmodels.iolib.table.SimpleTable'>"
      ]
     },
     "execution_count": 142,
     "metadata": {},
     "output_type": "execute_result"
    }
   ],
   "source": [
    "smf.ols(\"intervention ~ school_mindset\", data=student_df).fit().summary().tables[1]"
   ]
  },
  {
   "cell_type": "markdown",
   "id": "af180f06-5e69-4f0c-a58c-fc0b912bc665",
   "metadata": {},
   "source": [
    "## Plotting the IPTW"
   ]
  },
  {
   "cell_type": "code",
   "execution_count": 143,
   "id": "bd933af7-917c-4677-b0ee-58ec8d72941a",
   "metadata": {
    "execution": {
     "iopub.execute_input": "2025-07-08T01:28:17.794053Z",
     "iopub.status.busy": "2025-07-08T01:28:17.793312Z",
     "iopub.status.idle": "2025-07-08T01:28:18.653843Z",
     "shell.execute_reply": "2025-07-08T01:28:18.653329Z",
     "shell.execute_reply.started": "2025-07-08T01:28:17.794034Z"
    }
   },
   "outputs": [
    {
     "data": {
      "image/png": "[encoded data removed]",
      "text/plain": [
       "<Figure size 640x480 with 1 Axes>"
      ]
     },
     "metadata": {},
     "output_type": "display_data"
    }
   ],
   "source": [
    "# Before\n",
    "sns.regplot(\n",
    "    x=\"school_size\", y=\"intervention\", x_bins=20, data=student_df\n",
    ");"
   ]
  },
  {
   "cell_type": "code",
   "execution_count": 144,
   "id": "691dcd97-2e62-4106-8589-82a66971ea5b",
   "metadata": {
    "execution": {
     "iopub.execute_input": "2025-07-08T01:28:18.654770Z",
     "iopub.status.busy": "2025-07-08T01:28:18.654605Z",
     "iopub.status.idle": "2025-07-08T01:28:18.659362Z",
     "shell.execute_reply": "2025-07-08T01:28:18.658929Z",
     "shell.execute_reply.started": "2025-07-08T01:28:18.654756Z"
    }
   },
   "outputs": [
    {
     "data": {
      "text/plain": [
       "intervention\n",
       "0    7007\n",
       "1    3384\n",
       "Name: count, dtype: int64"
      ]
     },
     "execution_count": 144,
     "metadata": {},
     "output_type": "execute_result"
    }
   ],
   "source": [
    "student_df['intervention'].value_counts()"
   ]
  },
  {
   "cell_type": "markdown",
   "id": "642f7918-eb9a-47c7-9aca-f1c95ac8e594",
   "metadata": {},
   "source": [
    "## Now for *all* covariates: Scikit-learn time :)"
   ]
  },
  {
   "cell_type": "code",
   "execution_count": 149,
   "id": "1cf66056-9e1d-4790-8906-92fc5e6a9ae8",
   "metadata": {
    "execution": {
     "iopub.execute_input": "2025-07-08T01:32:37.679912Z",
     "iopub.status.busy": "2025-07-08T01:32:37.679658Z",
     "iopub.status.idle": "2025-07-08T01:32:37.779146Z",
     "shell.execute_reply": "2025-07-08T01:32:37.778599Z",
     "shell.execute_reply.started": "2025-07-08T01:32:37.679895Z"
    }
   },
   "outputs": [],
   "source": [
    "from sklearn.linear_model import LogisticRegression"
   ]
  },
  {
   "cell_type": "markdown",
   "id": "0bb9f616-70db-41ef-9e16-46768062ad1e",
   "metadata": {},
   "source": [
    "Prepare data for sklearn"
   ]
  },
  {
   "cell_type": "code",
   "execution_count": 156,
   "id": "a379c71c-45f6-413a-b8b1-1872265bf0a9",
   "metadata": {
    "execution": {
     "iopub.execute_input": "2025-07-08T01:39:01.262638Z",
     "iopub.status.busy": "2025-07-08T01:39:01.262329Z",
     "iopub.status.idle": "2025-07-08T01:39:01.283458Z",
     "shell.execute_reply": "2025-07-08T01:39:01.282946Z",
     "shell.execute_reply.started": "2025-07-08T01:39:01.262620Z"
    }
   },
   "outputs": [
    {
     "data": {
      "text/html": [
       "<div>\n",
       "<style scoped>\n",
       "    .dataframe tbody tr th:only-of-type {\n",
       "        vertical-align: middle;\n",
       "    }\n",
       "\n",
       "    .dataframe tbody tr th {\n",
       "        vertical-align: top;\n",
       "    }\n",
       "\n",
       "    .dataframe thead th {\n",
       "        text-align: right;\n",
       "    }\n",
       "</style>\n",
       "<table border=\"1\" class=\"dataframe\">\n",
       "  <thead>\n",
       "    <tr style=\"text-align: right;\">\n",
       "      <th></th>\n",
       "      <th>school_mindset</th>\n",
       "      <th>school_achievement</th>\n",
       "      <th>school_ethnic_minority</th>\n",
       "      <th>school_poverty</th>\n",
       "      <th>school_size</th>\n",
       "      <th>success_expect_1</th>\n",
       "      <th>success_expect_2</th>\n",
       "      <th>success_expect_3</th>\n",
       "      <th>success_expect_4</th>\n",
       "      <th>success_expect_5</th>\n",
       "      <th>...</th>\n",
       "      <th>ethnicity_15</th>\n",
       "      <th>gender_1</th>\n",
       "      <th>gender_2</th>\n",
       "      <th>frst_in_family_0</th>\n",
       "      <th>frst_in_family_1</th>\n",
       "      <th>school_urbanicity_0</th>\n",
       "      <th>school_urbanicity_1</th>\n",
       "      <th>school_urbanicity_2</th>\n",
       "      <th>school_urbanicity_3</th>\n",
       "      <th>school_urbanicity_4</th>\n",
       "    </tr>\n",
       "  </thead>\n",
       "  <tbody>\n",
       "    <tr>\n",
       "      <th>0</th>\n",
       "      <td>0.334544</td>\n",
       "      <td>0.648586</td>\n",
       "      <td>-1.310927</td>\n",
       "      <td>0.224077</td>\n",
       "      <td>-0.426757</td>\n",
       "      <td>False</td>\n",
       "      <td>False</td>\n",
       "      <td>False</td>\n",
       "      <td>False</td>\n",
       "      <td>False</td>\n",
       "      <td>...</td>\n",
       "      <td>False</td>\n",
       "      <td>False</td>\n",
       "      <td>True</td>\n",
       "      <td>False</td>\n",
       "      <td>True</td>\n",
       "      <td>False</td>\n",
       "      <td>False</td>\n",
       "      <td>False</td>\n",
       "      <td>False</td>\n",
       "      <td>True</td>\n",
       "    </tr>\n",
       "    <tr>\n",
       "      <th>1</th>\n",
       "      <td>0.334544</td>\n",
       "      <td>0.648586</td>\n",
       "      <td>-1.310927</td>\n",
       "      <td>0.224077</td>\n",
       "      <td>-0.426757</td>\n",
       "      <td>False</td>\n",
       "      <td>False</td>\n",
       "      <td>False</td>\n",
       "      <td>True</td>\n",
       "      <td>False</td>\n",
       "      <td>...</td>\n",
       "      <td>False</td>\n",
       "      <td>False</td>\n",
       "      <td>True</td>\n",
       "      <td>False</td>\n",
       "      <td>True</td>\n",
       "      <td>False</td>\n",
       "      <td>False</td>\n",
       "      <td>False</td>\n",
       "      <td>False</td>\n",
       "      <td>True</td>\n",
       "    </tr>\n",
       "    <tr>\n",
       "      <th>2</th>\n",
       "      <td>0.334544</td>\n",
       "      <td>0.648586</td>\n",
       "      <td>-1.310927</td>\n",
       "      <td>0.224077</td>\n",
       "      <td>-0.426757</td>\n",
       "      <td>False</td>\n",
       "      <td>False</td>\n",
       "      <td>False</td>\n",
       "      <td>False</td>\n",
       "      <td>False</td>\n",
       "      <td>...</td>\n",
       "      <td>False</td>\n",
       "      <td>False</td>\n",
       "      <td>True</td>\n",
       "      <td>True</td>\n",
       "      <td>False</td>\n",
       "      <td>False</td>\n",
       "      <td>False</td>\n",
       "      <td>False</td>\n",
       "      <td>False</td>\n",
       "      <td>True</td>\n",
       "    </tr>\n",
       "    <tr>\n",
       "      <th>3</th>\n",
       "      <td>0.334544</td>\n",
       "      <td>0.648586</td>\n",
       "      <td>-1.310927</td>\n",
       "      <td>0.224077</td>\n",
       "      <td>-0.426757</td>\n",
       "      <td>False</td>\n",
       "      <td>False</td>\n",
       "      <td>False</td>\n",
       "      <td>False</td>\n",
       "      <td>False</td>\n",
       "      <td>...</td>\n",
       "      <td>False</td>\n",
       "      <td>False</td>\n",
       "      <td>True</td>\n",
       "      <td>True</td>\n",
       "      <td>False</td>\n",
       "      <td>False</td>\n",
       "      <td>False</td>\n",
       "      <td>False</td>\n",
       "      <td>False</td>\n",
       "      <td>True</td>\n",
       "    </tr>\n",
       "    <tr>\n",
       "      <th>4</th>\n",
       "      <td>0.334544</td>\n",
       "      <td>0.648586</td>\n",
       "      <td>-1.310927</td>\n",
       "      <td>0.224077</td>\n",
       "      <td>-0.426757</td>\n",
       "      <td>False</td>\n",
       "      <td>False</td>\n",
       "      <td>False</td>\n",
       "      <td>False</td>\n",
       "      <td>False</td>\n",
       "      <td>...</td>\n",
       "      <td>False</td>\n",
       "      <td>True</td>\n",
       "      <td>False</td>\n",
       "      <td>True</td>\n",
       "      <td>False</td>\n",
       "      <td>False</td>\n",
       "      <td>False</td>\n",
       "      <td>False</td>\n",
       "      <td>False</td>\n",
       "      <td>True</td>\n",
       "    </tr>\n",
       "    <tr>\n",
       "      <th>...</th>\n",
       "      <td>...</td>\n",
       "      <td>...</td>\n",
       "      <td>...</td>\n",
       "      <td>...</td>\n",
       "      <td>...</td>\n",
       "      <td>...</td>\n",
       "      <td>...</td>\n",
       "      <td>...</td>\n",
       "      <td>...</td>\n",
       "      <td>...</td>\n",
       "      <td>...</td>\n",
       "      <td>...</td>\n",
       "      <td>...</td>\n",
       "      <td>...</td>\n",
       "      <td>...</td>\n",
       "      <td>...</td>\n",
       "      <td>...</td>\n",
       "      <td>...</td>\n",
       "      <td>...</td>\n",
       "      <td>...</td>\n",
       "      <td>...</td>\n",
       "    </tr>\n",
       "    <tr>\n",
       "      <th>10386</th>\n",
       "      <td>1.185986</td>\n",
       "      <td>-1.129889</td>\n",
       "      <td>1.009875</td>\n",
       "      <td>1.005063</td>\n",
       "      <td>-1.174702</td>\n",
       "      <td>False</td>\n",
       "      <td>False</td>\n",
       "      <td>False</td>\n",
       "      <td>False</td>\n",
       "      <td>False</td>\n",
       "      <td>...</td>\n",
       "      <td>False</td>\n",
       "      <td>False</td>\n",
       "      <td>True</td>\n",
       "      <td>False</td>\n",
       "      <td>True</td>\n",
       "      <td>False</td>\n",
       "      <td>False</td>\n",
       "      <td>False</td>\n",
       "      <td>True</td>\n",
       "      <td>False</td>\n",
       "    </tr>\n",
       "    <tr>\n",
       "      <th>10387</th>\n",
       "      <td>1.185986</td>\n",
       "      <td>-1.129889</td>\n",
       "      <td>1.009875</td>\n",
       "      <td>1.005063</td>\n",
       "      <td>-1.174702</td>\n",
       "      <td>False</td>\n",
       "      <td>False</td>\n",
       "      <td>False</td>\n",
       "      <td>False</td>\n",
       "      <td>False</td>\n",
       "      <td>...</td>\n",
       "      <td>False</td>\n",
       "      <td>False</td>\n",
       "      <td>True</td>\n",
       "      <td>False</td>\n",
       "      <td>True</td>\n",
       "      <td>False</td>\n",
       "      <td>False</td>\n",
       "      <td>False</td>\n",
       "      <td>True</td>\n",
       "      <td>False</td>\n",
       "    </tr>\n",
       "    <tr>\n",
       "      <th>10388</th>\n",
       "      <td>1.185986</td>\n",
       "      <td>-1.129889</td>\n",
       "      <td>1.009875</td>\n",
       "      <td>1.005063</td>\n",
       "      <td>-1.174702</td>\n",
       "      <td>False</td>\n",
       "      <td>True</td>\n",
       "      <td>False</td>\n",
       "      <td>False</td>\n",
       "      <td>False</td>\n",
       "      <td>...</td>\n",
       "      <td>True</td>\n",
       "      <td>True</td>\n",
       "      <td>False</td>\n",
       "      <td>False</td>\n",
       "      <td>True</td>\n",
       "      <td>False</td>\n",
       "      <td>False</td>\n",
       "      <td>False</td>\n",
       "      <td>True</td>\n",
       "      <td>False</td>\n",
       "    </tr>\n",
       "    <tr>\n",
       "      <th>10389</th>\n",
       "      <td>1.185986</td>\n",
       "      <td>-1.129889</td>\n",
       "      <td>1.009875</td>\n",
       "      <td>1.005063</td>\n",
       "      <td>-1.174702</td>\n",
       "      <td>False</td>\n",
       "      <td>False</td>\n",
       "      <td>False</td>\n",
       "      <td>False</td>\n",
       "      <td>True</td>\n",
       "      <td>...</td>\n",
       "      <td>False</td>\n",
       "      <td>True</td>\n",
       "      <td>False</td>\n",
       "      <td>False</td>\n",
       "      <td>True</td>\n",
       "      <td>False</td>\n",
       "      <td>False</td>\n",
       "      <td>False</td>\n",
       "      <td>True</td>\n",
       "      <td>False</td>\n",
       "    </tr>\n",
       "    <tr>\n",
       "      <th>10390</th>\n",
       "      <td>1.185986</td>\n",
       "      <td>-1.129889</td>\n",
       "      <td>1.009875</td>\n",
       "      <td>1.005063</td>\n",
       "      <td>-1.174702</td>\n",
       "      <td>False</td>\n",
       "      <td>False</td>\n",
       "      <td>False</td>\n",
       "      <td>False</td>\n",
       "      <td>True</td>\n",
       "      <td>...</td>\n",
       "      <td>False</td>\n",
       "      <td>False</td>\n",
       "      <td>True</td>\n",
       "      <td>False</td>\n",
       "      <td>True</td>\n",
       "      <td>False</td>\n",
       "      <td>False</td>\n",
       "      <td>False</td>\n",
       "      <td>True</td>\n",
       "      <td>False</td>\n",
       "    </tr>\n",
       "  </tbody>\n",
       "</table>\n",
       "<p>10391 rows × 36 columns</p>\n",
       "</div>"
      ],
      "text/plain": [
       "       school_mindset  school_achievement  school_ethnic_minority  \\\n",
       "0            0.334544            0.648586               -1.310927   \n",
       "1            0.334544            0.648586               -1.310927   \n",
       "2            0.334544            0.648586               -1.310927   \n",
       "3            0.334544            0.648586               -1.310927   \n",
       "4            0.334544            0.648586               -1.310927   \n",
       "...               ...                 ...                     ...   \n",
       "10386        1.185986           -1.129889                1.009875   \n",
       "10387        1.185986           -1.129889                1.009875   \n",
       "10388        1.185986           -1.129889                1.009875   \n",
       "10389        1.185986           -1.129889                1.009875   \n",
       "10390        1.185986           -1.129889                1.009875   \n",
       "\n",
       "       school_poverty  school_size  success_expect_1  success_expect_2  \\\n",
       "0            0.224077    -0.426757             False             False   \n",
       "1            0.224077    -0.426757             False             False   \n",
       "2            0.224077    -0.426757             False             False   \n",
       "3            0.224077    -0.426757             False             False   \n",
       "4            0.224077    -0.426757             False             False   \n",
       "...               ...          ...               ...               ...   \n",
       "10386        1.005063    -1.174702             False             False   \n",
       "10387        1.005063    -1.174702             False             False   \n",
       "10388        1.005063    -1.174702             False              True   \n",
       "10389        1.005063    -1.174702             False             False   \n",
       "10390        1.005063    -1.174702             False             False   \n",
       "\n",
       "       success_expect_3  success_expect_4  success_expect_5  ...  \\\n",
       "0                 False             False             False  ...   \n",
       "1                 False              True             False  ...   \n",
       "2                 False             False             False  ...   \n",
       "3                 False             False             False  ...   \n",
       "4                 False             False             False  ...   \n",
       "...                 ...               ...               ...  ...   \n",
       "10386             False             False             False  ...   \n",
       "10387             False             False             False  ...   \n",
       "10388             False             False             False  ...   \n",
       "10389             False             False              True  ...   \n",
       "10390             False             False              True  ...   \n",
       "\n",
       "       ethnicity_15  gender_1  gender_2  frst_in_family_0  frst_in_family_1  \\\n",
       "0             False     False      True             False              True   \n",
       "1             False     False      True             False              True   \n",
       "2             False     False      True              True             False   \n",
       "3             False     False      True              True             False   \n",
       "4             False      True     False              True             False   \n",
       "...             ...       ...       ...               ...               ...   \n",
       "10386         False     False      True             False              True   \n",
       "10387         False     False      True             False              True   \n",
       "10388          True      True     False             False              True   \n",
       "10389         False      True     False             False              True   \n",
       "10390         False     False      True             False              True   \n",
       "\n",
       "       school_urbanicity_0  school_urbanicity_1  school_urbanicity_2  \\\n",
       "0                    False                False                False   \n",
       "1                    False                False                False   \n",
       "2                    False                False                False   \n",
       "3                    False                False                False   \n",
       "4                    False                False                False   \n",
       "...                    ...                  ...                  ...   \n",
       "10386                False                False                False   \n",
       "10387                False                False                False   \n",
       "10388                False                False                False   \n",
       "10389                False                False                False   \n",
       "10390                False                False                False   \n",
       "\n",
       "       school_urbanicity_3  school_urbanicity_4  \n",
       "0                    False                 True  \n",
       "1                    False                 True  \n",
       "2                    False                 True  \n",
       "3                    False                 True  \n",
       "4                    False                 True  \n",
       "...                    ...                  ...  \n",
       "10386                 True                False  \n",
       "10387                 True                False  \n",
       "10388                 True                False  \n",
       "10389                 True                False  \n",
       "10390                 True                False  \n",
       "\n",
       "[10391 rows x 36 columns]"
      ]
     },
     "execution_count": 156,
     "metadata": {},
     "output_type": "execute_result"
    }
   ],
   "source": [
    "id_var = 'schoolid'\n",
    "treatment_var = 'intervention'\n",
    "categorical_covars = [\n",
    "    'success_expect', 'ethnicity', 'gender', 'frst_in_family', 'school_urbanicity'\n",
    "]\n",
    "continuous_covars = [\n",
    "    'school_mindset', 'school_achievement', 'school_ethnic_minority', 'school_poverty',\n",
    "    'school_size'\n",
    "]\n",
    "dummy_df = pd.get_dummies(student_df[categorical_covars], columns=categorical_covars, drop_first=False)\n",
    "continuous_df = student_df[continuous_covars]\n",
    "X_df = pd.concat([continuous_df, dummy_df], axis=1)\n",
    "X_df"
   ]
  },
  {
   "cell_type": "code",
   "execution_count": 157,
   "id": "acae5165-2a6e-4a81-89d3-0da9367ab71d",
   "metadata": {
    "execution": {
     "iopub.execute_input": "2025-07-08T01:39:20.906032Z",
     "iopub.status.busy": "2025-07-08T01:39:20.905310Z",
     "iopub.status.idle": "2025-07-08T01:39:20.909733Z",
     "shell.execute_reply": "2025-07-08T01:39:20.909226Z",
     "shell.execute_reply.started": "2025-07-08T01:39:20.906011Z"
    }
   },
   "outputs": [],
   "source": [
    "y_df = student_df['intervention']"
   ]
  },
  {
   "cell_type": "code",
   "execution_count": 158,
   "id": "0dbdcabf-a349-45bc-9cc7-e96b7c5076e6",
   "metadata": {
    "execution": {
     "iopub.execute_input": "2025-07-08T01:39:31.035206Z",
     "iopub.status.busy": "2025-07-08T01:39:31.034958Z",
     "iopub.status.idle": "2025-07-08T01:39:31.144755Z",
     "shell.execute_reply": "2025-07-08T01:39:31.144246Z",
     "shell.execute_reply.started": "2025-07-08T01:39:31.035188Z"
    }
   },
   "outputs": [],
   "source": [
    "lr_model = LogisticRegression().fit(X_df, y_df)"
   ]
  },
  {
   "cell_type": "code",
   "execution_count": 161,
   "id": "6e8efd59-7961-4771-b181-c8649af8e95d",
   "metadata": {
    "execution": {
     "iopub.execute_input": "2025-07-08T01:40:58.121365Z",
     "iopub.status.busy": "2025-07-08T01:40:58.121112Z",
     "iopub.status.idle": "2025-07-08T01:40:58.154638Z",
     "shell.execute_reply": "2025-07-08T01:40:58.153743Z",
     "shell.execute_reply.started": "2025-07-08T01:40:58.121347Z"
    }
   },
   "outputs": [
    {
     "data": {
      "text/html": [
       "<div>\n",
       "<style scoped>\n",
       "    .dataframe tbody tr th:only-of-type {\n",
       "        vertical-align: middle;\n",
       "    }\n",
       "\n",
       "    .dataframe tbody tr th {\n",
       "        vertical-align: top;\n",
       "    }\n",
       "\n",
       "    .dataframe thead th {\n",
       "        text-align: right;\n",
       "    }\n",
       "</style>\n",
       "<table border=\"1\" class=\"dataframe\">\n",
       "  <thead>\n",
       "    <tr style=\"text-align: right;\">\n",
       "      <th></th>\n",
       "      <th>schoolid</th>\n",
       "      <th>intervention</th>\n",
       "      <th>achievement_score</th>\n",
       "      <th>success_expect</th>\n",
       "      <th>ethnicity</th>\n",
       "      <th>gender</th>\n",
       "      <th>frst_in_family</th>\n",
       "      <th>school_urbanicity</th>\n",
       "      <th>school_mindset</th>\n",
       "      <th>school_achievement</th>\n",
       "      <th>school_ethnic_minority</th>\n",
       "      <th>school_poverty</th>\n",
       "      <th>school_size</th>\n",
       "      <th>size_bin</th>\n",
       "      <th>propensity_score</th>\n",
       "    </tr>\n",
       "  </thead>\n",
       "  <tbody>\n",
       "    <tr>\n",
       "      <th>0</th>\n",
       "      <td>76</td>\n",
       "      <td>1</td>\n",
       "      <td>0.277359</td>\n",
       "      <td>6</td>\n",
       "      <td>4</td>\n",
       "      <td>2</td>\n",
       "      <td>1</td>\n",
       "      <td>4</td>\n",
       "      <td>0.334544</td>\n",
       "      <td>0.648586</td>\n",
       "      <td>-1.310927</td>\n",
       "      <td>0.224077</td>\n",
       "      <td>-0.426757</td>\n",
       "      <td>-0.0</td>\n",
       "      <td>0.323723</td>\n",
       "    </tr>\n",
       "    <tr>\n",
       "      <th>1</th>\n",
       "      <td>76</td>\n",
       "      <td>1</td>\n",
       "      <td>-0.449646</td>\n",
       "      <td>4</td>\n",
       "      <td>12</td>\n",
       "      <td>2</td>\n",
       "      <td>1</td>\n",
       "      <td>4</td>\n",
       "      <td>0.334544</td>\n",
       "      <td>0.648586</td>\n",
       "      <td>-1.310927</td>\n",
       "      <td>0.224077</td>\n",
       "      <td>-0.426757</td>\n",
       "      <td>-0.0</td>\n",
       "      <td>0.242929</td>\n",
       "    </tr>\n",
       "    <tr>\n",
       "      <th>2</th>\n",
       "      <td>76</td>\n",
       "      <td>1</td>\n",
       "      <td>0.769703</td>\n",
       "      <td>6</td>\n",
       "      <td>4</td>\n",
       "      <td>2</td>\n",
       "      <td>0</td>\n",
       "      <td>4</td>\n",
       "      <td>0.334544</td>\n",
       "      <td>0.648586</td>\n",
       "      <td>-1.310927</td>\n",
       "      <td>0.224077</td>\n",
       "      <td>-0.426757</td>\n",
       "      <td>-0.0</td>\n",
       "      <td>0.351739</td>\n",
       "    </tr>\n",
       "    <tr>\n",
       "      <th>3</th>\n",
       "      <td>76</td>\n",
       "      <td>1</td>\n",
       "      <td>-0.121763</td>\n",
       "      <td>6</td>\n",
       "      <td>4</td>\n",
       "      <td>2</td>\n",
       "      <td>0</td>\n",
       "      <td>4</td>\n",
       "      <td>0.334544</td>\n",
       "      <td>0.648586</td>\n",
       "      <td>-1.310927</td>\n",
       "      <td>0.224077</td>\n",
       "      <td>-0.426757</td>\n",
       "      <td>-0.0</td>\n",
       "      <td>0.351739</td>\n",
       "    </tr>\n",
       "    <tr>\n",
       "      <th>4</th>\n",
       "      <td>76</td>\n",
       "      <td>1</td>\n",
       "      <td>1.526147</td>\n",
       "      <td>6</td>\n",
       "      <td>4</td>\n",
       "      <td>1</td>\n",
       "      <td>0</td>\n",
       "      <td>4</td>\n",
       "      <td>0.334544</td>\n",
       "      <td>0.648586</td>\n",
       "      <td>-1.310927</td>\n",
       "      <td>0.224077</td>\n",
       "      <td>-0.426757</td>\n",
       "      <td>-0.0</td>\n",
       "      <td>0.376521</td>\n",
       "    </tr>\n",
       "    <tr>\n",
       "      <th>...</th>\n",
       "      <td>...</td>\n",
       "      <td>...</td>\n",
       "      <td>...</td>\n",
       "      <td>...</td>\n",
       "      <td>...</td>\n",
       "      <td>...</td>\n",
       "      <td>...</td>\n",
       "      <td>...</td>\n",
       "      <td>...</td>\n",
       "      <td>...</td>\n",
       "      <td>...</td>\n",
       "      <td>...</td>\n",
       "      <td>...</td>\n",
       "      <td>...</td>\n",
       "      <td>...</td>\n",
       "    </tr>\n",
       "    <tr>\n",
       "      <th>10386</th>\n",
       "      <td>1</td>\n",
       "      <td>0</td>\n",
       "      <td>0.808867</td>\n",
       "      <td>7</td>\n",
       "      <td>4</td>\n",
       "      <td>2</td>\n",
       "      <td>1</td>\n",
       "      <td>3</td>\n",
       "      <td>1.185986</td>\n",
       "      <td>-1.129889</td>\n",
       "      <td>1.009875</td>\n",
       "      <td>1.005063</td>\n",
       "      <td>-1.174702</td>\n",
       "      <td>-1.0</td>\n",
       "      <td>0.314879</td>\n",
       "    </tr>\n",
       "    <tr>\n",
       "      <th>10387</th>\n",
       "      <td>1</td>\n",
       "      <td>0</td>\n",
       "      <td>-0.156063</td>\n",
       "      <td>7</td>\n",
       "      <td>4</td>\n",
       "      <td>2</td>\n",
       "      <td>1</td>\n",
       "      <td>3</td>\n",
       "      <td>1.185986</td>\n",
       "      <td>-1.129889</td>\n",
       "      <td>1.009875</td>\n",
       "      <td>1.005063</td>\n",
       "      <td>-1.174702</td>\n",
       "      <td>-1.0</td>\n",
       "      <td>0.314879</td>\n",
       "    </tr>\n",
       "    <tr>\n",
       "      <th>10388</th>\n",
       "      <td>1</td>\n",
       "      <td>0</td>\n",
       "      <td>0.370820</td>\n",
       "      <td>2</td>\n",
       "      <td>15</td>\n",
       "      <td>1</td>\n",
       "      <td>1</td>\n",
       "      <td>3</td>\n",
       "      <td>1.185986</td>\n",
       "      <td>-1.129889</td>\n",
       "      <td>1.009875</td>\n",
       "      <td>1.005063</td>\n",
       "      <td>-1.174702</td>\n",
       "      <td>-1.0</td>\n",
       "      <td>0.266406</td>\n",
       "    </tr>\n",
       "    <tr>\n",
       "      <th>10389</th>\n",
       "      <td>1</td>\n",
       "      <td>0</td>\n",
       "      <td>-0.396297</td>\n",
       "      <td>5</td>\n",
       "      <td>4</td>\n",
       "      <td>1</td>\n",
       "      <td>1</td>\n",
       "      <td>3</td>\n",
       "      <td>1.185986</td>\n",
       "      <td>-1.129889</td>\n",
       "      <td>1.009875</td>\n",
       "      <td>1.005063</td>\n",
       "      <td>-1.174702</td>\n",
       "      <td>-1.0</td>\n",
       "      <td>0.298979</td>\n",
       "    </tr>\n",
       "    <tr>\n",
       "      <th>10390</th>\n",
       "      <td>1</td>\n",
       "      <td>0</td>\n",
       "      <td>0.478970</td>\n",
       "      <td>5</td>\n",
       "      <td>1</td>\n",
       "      <td>2</td>\n",
       "      <td>1</td>\n",
       "      <td>3</td>\n",
       "      <td>1.185986</td>\n",
       "      <td>-1.129889</td>\n",
       "      <td>1.009875</td>\n",
       "      <td>1.005063</td>\n",
       "      <td>-1.174702</td>\n",
       "      <td>-1.0</td>\n",
       "      <td>0.253061</td>\n",
       "    </tr>\n",
       "  </tbody>\n",
       "</table>\n",
       "<p>10391 rows × 15 columns</p>\n",
       "</div>"
      ],
      "text/plain": [
       "       schoolid  intervention  achievement_score  success_expect  ethnicity  \\\n",
       "0            76             1           0.277359               6          4   \n",
       "1            76             1          -0.449646               4         12   \n",
       "2            76             1           0.769703               6          4   \n",
       "3            76             1          -0.121763               6          4   \n",
       "4            76             1           1.526147               6          4   \n",
       "...         ...           ...                ...             ...        ...   \n",
       "10386         1             0           0.808867               7          4   \n",
       "10387         1             0          -0.156063               7          4   \n",
       "10388         1             0           0.370820               2         15   \n",
       "10389         1             0          -0.396297               5          4   \n",
       "10390         1             0           0.478970               5          1   \n",
       "\n",
       "       gender  frst_in_family  school_urbanicity  school_mindset  \\\n",
       "0           2               1                  4        0.334544   \n",
       "1           2               1                  4        0.334544   \n",
       "2           2               0                  4        0.334544   \n",
       "3           2               0                  4        0.334544   \n",
       "4           1               0                  4        0.334544   \n",
       "...       ...             ...                ...             ...   \n",
       "10386       2               1                  3        1.185986   \n",
       "10387       2               1                  3        1.185986   \n",
       "10388       1               1                  3        1.185986   \n",
       "10389       1               1                  3        1.185986   \n",
       "10390       2               1                  3        1.185986   \n",
       "\n",
       "       school_achievement  school_ethnic_minority  school_poverty  \\\n",
       "0                0.648586               -1.310927        0.224077   \n",
       "1                0.648586               -1.310927        0.224077   \n",
       "2                0.648586               -1.310927        0.224077   \n",
       "3                0.648586               -1.310927        0.224077   \n",
       "4                0.648586               -1.310927        0.224077   \n",
       "...                   ...                     ...             ...   \n",
       "10386           -1.129889                1.009875        1.005063   \n",
       "10387           -1.129889                1.009875        1.005063   \n",
       "10388           -1.129889                1.009875        1.005063   \n",
       "10389           -1.129889                1.009875        1.005063   \n",
       "10390           -1.129889                1.009875        1.005063   \n",
       "\n",
       "       school_size  size_bin  propensity_score  \n",
       "0        -0.426757      -0.0          0.323723  \n",
       "1        -0.426757      -0.0          0.242929  \n",
       "2        -0.426757      -0.0          0.351739  \n",
       "3        -0.426757      -0.0          0.351739  \n",
       "4        -0.426757      -0.0          0.376521  \n",
       "...            ...       ...               ...  \n",
       "10386    -1.174702      -1.0          0.314879  \n",
       "10387    -1.174702      -1.0          0.314879  \n",
       "10388    -1.174702      -1.0          0.266406  \n",
       "10389    -1.174702      -1.0          0.298979  \n",
       "10390    -1.174702      -1.0          0.253061  \n",
       "\n",
       "[10391 rows x 15 columns]"
      ]
     },
     "execution_count": 161,
     "metadata": {},
     "output_type": "execute_result"
    }
   ],
   "source": [
    "student_df['propensity_score'] = lr_model.predict_proba(X_df)[:,1]\n",
    "student_df"
   ]
  },
  {
   "cell_type": "markdown",
   "id": "254b1026-211f-48a7-a48b-e6534f14c29b",
   "metadata": {},
   "source": [
    "## *Important!* Balance Plot"
   ]
  },
  {
   "cell_type": "code",
   "execution_count": 179,
   "id": "868bb059-bccf-41c5-bde5-5f387f139fdc",
   "metadata": {
    "execution": {
     "iopub.execute_input": "2025-07-08T01:54:05.902694Z",
     "iopub.status.busy": "2025-07-08T01:54:05.902352Z",
     "iopub.status.idle": "2025-07-08T01:54:06.057601Z",
     "shell.execute_reply": "2025-07-08T01:54:06.057117Z",
     "shell.execute_reply.started": "2025-07-08T01:54:05.902676Z"
    }
   },
   "outputs": [
    {
     "data": {
      "image/png": "[encoded data removed]",
      "text/plain": [
       "<Figure size 640x480 with 1 Axes>"
      ]
     },
     "metadata": {},
     "output_type": "display_data"
    }
   ],
   "source": [
    "sns.kdeplot(\n",
    "    x='propensity_score', hue='intervention', data=student_df,\n",
    "    #stat='probability',\n",
    "    common_norm=False,\n",
    "    fill=True,\n",
    ");"
   ]
  },
  {
   "cell_type": "markdown",
   "id": "05fb4f44-4fa7-46be-8e95-03cf00cb1527",
   "metadata": {},
   "source": [
    "## Counterfactual 1: *Everyone* took the seminar"
   ]
  },
  {
   "cell_type": "code",
   "execution_count": 200,
   "id": "7170a806-2b72-4c5f-9cd5-a347495dfb7a",
   "metadata": {
    "execution": {
     "iopub.execute_input": "2025-07-10T00:13:40.715511Z",
     "iopub.status.busy": "2025-07-10T00:13:40.715192Z",
     "iopub.status.idle": "2025-07-10T00:13:40.724510Z",
     "shell.execute_reply": "2025-07-10T00:13:40.724075Z",
     "shell.execute_reply.started": "2025-07-10T00:13:40.715494Z"
    }
   },
   "outputs": [
    {
     "name": "stdout",
     "output_type": "stream",
     "text": [
      "Y1: 0.25648113094308067\n"
     ]
    }
   ],
   "source": [
    "weight_t = 1/student_df.query(\"intervention==1\")[\"propensity_score\"]\n",
    "y1 = sum(student_df.query(\"intervention==1\")[\"achievement_score\"]*weight_t) / len(student_df)\n",
    "print(\"Y1:\", y1)"
   ]
  },
  {
   "cell_type": "markdown",
   "id": "ce9b1b30-8c12-4872-89cd-73c11488066c",
   "metadata": {},
   "source": [
    "## Counterfactual 2: *Nobody* took the seminar"
   ]
  },
  {
   "cell_type": "code",
   "execution_count": 201,
   "id": "b5927aa7-c7e6-48e1-b95a-9c3c77d93f78",
   "metadata": {
    "execution": {
     "iopub.execute_input": "2025-07-10T00:13:41.162140Z",
     "iopub.status.busy": "2025-07-10T00:13:41.161858Z",
     "iopub.status.idle": "2025-07-10T00:13:41.170782Z",
     "shell.execute_reply": "2025-07-10T00:13:41.170353Z",
     "shell.execute_reply.started": "2025-07-10T00:13:41.162116Z"
    }
   },
   "outputs": [
    {
     "name": "stdout",
     "output_type": "stream",
     "text": [
      "Y0: -0.12738115849967555\n"
     ]
    }
   ],
   "source": [
    "weight_nt = 1/(1-student_df.query(\"intervention==0\")[\"propensity_score\"])\n",
    "y0 = sum(student_df.query(\"intervention==0\")[\"achievement_score\"]*weight_nt) / len(student_df)\n",
    "print(\"Y0:\", y0)"
   ]
  },
  {
   "cell_type": "markdown",
   "id": "787dcf2d-d70f-41f7-a8db-1d1979ffaf62",
   "metadata": {},
   "source": [
    "## Counterfactual 3: *Everyone both took and didn't take the seminar* 🤯"
   ]
  },
  {
   "cell_type": "code",
   "execution_count": 202,
   "id": "fa5c0b64-e932-47a4-beb5-090f0e00a46b",
   "metadata": {
    "execution": {
     "iopub.execute_input": "2025-07-10T00:13:41.629279Z",
     "iopub.status.busy": "2025-07-10T00:13:41.629113Z",
     "iopub.status.idle": "2025-07-10T00:13:41.632827Z",
     "shell.execute_reply": "2025-07-10T00:13:41.632396Z",
     "shell.execute_reply.started": "2025-07-10T00:13:41.629265Z"
    }
   },
   "outputs": [
    {
     "name": "stdout",
     "output_type": "stream",
     "text": [
      "ATE: 0.3838622894427562\n"
     ]
    }
   ],
   "source": [
    "weight = (\n",
    "    (student_df[\"intervention\"]-student_df[\"propensity_score\"]) /\n",
    "    (student_df[\"propensity_score\"]*(1-student_df[\"propensity_score\"]))\n",
    ")\n",
    "ate = np.mean(weight * student_df[\"achievement_score\"])\n",
    "print(\"ATE:\", ate)"
   ]
  },
  {
   "cell_type": "code",
   "execution_count": null,
   "id": "1cc9b265-d1b6-4399-9998-e64233defb04",
   "metadata": {},
   "outputs": [],
   "source": []
  }
 ],
 "metadata": {
  "kernelspec": {
   "display_name": "Python 3 (ipykernel)",
   "language": "python",
   "name": "python3"
  },
  "language_info": {
   "codemirror_mode": {
    "name": "ipython",
    "version": 3
   },
   "file_extension": ".py",
   "mimetype": "text/x-python",
   "name": "python",
   "nbconvert_exporter": "python",
   "pygments_lexer": "ipython3",
   "version": "3.12.6"
  },
  "widgets": {
   "application/vnd.jupyter.widget-state+json": {
    "state": {},
    "version_major": 2,
    "version_minor": 0
   }
  }
 },
 "nbformat": 4,
 "nbformat_minor": 5
}
