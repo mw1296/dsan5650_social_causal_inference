{
 "cells": [
  {
   "cell_type": "markdown",
   "id": "3e2b2c83-f99d-4997-9779-e8b87deaa27b",
   "metadata": {},
   "source": [
    "## DSAN 5650 HW2A: Linear Regression with Stan (Modeling Languages I)"
   ]
  },
  {
   "cell_type": "markdown",
   "id": "e8f0196b-7190-4039-b3fd-fac531ad18f2",
   "metadata": {},
   "source": [
    "**Assignment Corrections (Run Following Cell to Fetch)**"
   ]
  },
  {
   "cell_type": "code",
   "execution_count": 1,
   "id": "8e176bc1-8c12-4819-a573-65a514286398",
   "metadata": {
    "execution": {
     "iopub.execute_input": "2025-06-22T03:42:07.469895Z",
     "iopub.status.busy": "2025-06-22T03:42:07.467060Z",
     "iopub.status.idle": "2025-06-22T03:42:07.699373Z",
     "shell.execute_reply": "2025-06-22T03:42:07.698246Z"
    }
   },
   "outputs": [
    {
     "data": {
      "text/markdown": [
       "**DSAN5650 HW2A Corrections**\n",
       "\n",
       "None so far!\n",
       "\n",
       "\n",
       "*Last fetched: Sat Jun 21 23:42:07 2025 EDT*"
      ]
     },
     "metadata": {},
     "output_type": "display_data"
    }
   ],
   "source": [
    "jagr::fetchCorrections(\"2025-sum-dsan5650\", \"HW2A\")"
   ]
  },
  {
   "cell_type": "markdown",
   "id": "77e13ba3-02b6-4aa5-bbfc-551323f2658b",
   "metadata": {},
   "source": [
    "**Assignment Submission (Run Following Cell to Generate Submit Button)**"
   ]
  },
  {
   "cell_type": "code",
   "execution_count": null,
   "id": "7a1f33c8-ab54-423b-9111-e62c054887d3",
   "metadata": {},
   "outputs": [],
   "source": [
    "# Coming Soon..."
   ]
  },
  {
   "cell_type": "markdown",
   "id": "cc6845c0-81ac-4d5b-b2dc-0fcb93c8b49b",
   "metadata": {},
   "source": [
    "### Overview\n",
    "\n",
    "At the beginning of the [Week 4](https://jjacobs.me/dsan5650/w04/slides.html#/title-slide) lecture, we talked about why it might be worthwhile -- as data scientists in general but especially as *social* scientists -- to take the time to learn a full-on **language** for probabilistic modeling, as opposed to continuing down the path of learning individual models one-by-one and adding them to our \"toolbox\".\n",
    "\n",
    "In the same way that becoming fluent in a language allows you to **adapt** to novel circumstances (in the \"One hamburger please\" example from the slides, for example, having only that phrase would leave you helpless if the cashier reported back \"Sorry, hamburger machine broke, but we can make you a [hotdurger](https://rocketpower.fandom.com/wiki/Hotdurger) if you'd like\"), becoming fluent in a **modeling language** like PGMs allows you to adapt \"off-the-shelf\" models like linear regression or SVMs to the particularities of your data analysis project!"
   ]
  },
  {
   "cell_type": "markdown",
   "id": "6408de94-4ec7-42a6-b44c-93d5e5803cc1",
   "metadata": {},
   "source": [
    "### Two Goals\n",
    "\n",
    "The **first** goal for this homework is therefore to make good on all this, by walking you through a social-scientific project where the full richness of this modeling language is necessary if we actually want to capture the thing we'd like to **learn about the social world**. **Part 1** below provides a gentle introduction by walking you through the process of converting the `lm()`-based approach to regression (which is *not* expressed in a full-on modeling language like Stan, but is carried out via \"templated\" function calls) into PGM language in the form of Stan code.\n",
    "\n",
    "**Part 2** then begins your journey into using Stan to infer relationships between variables from real (non-simulated) data, the **Afrobarometer** data discussed in class, with the relevant details provided at the beginning of that section. **Part 3**, which will be the only part in **HW2B**, will then cap off this journey by having you work out a full-on multilevel model which **pools** information across different countries in a statistically-principled manner.\n",
    "\n",
    "Then, whereas that first goal (the goal underlying Parts 1-3) relates to **applying** the pieces of the language that we already know, the **second** goal for this homework (underlying **Parts 4-5**, which will be combined into **HW2C**) is to **extend** our vocabulary with respect to this language, by adding in new terms and new grammatical constructions. But, rather than tucking these details away into HW2C, I want to **prime** you to start thinking about them now, right at the beginning!\n",
    "\n",
    "First, for talking about the **causal impacts** of certain variables on others, as discussed ad nauseum in lecture thus far, we'll need to add the **$\\textsf{do}()$ operator**, which will be the focus of **Part 4**. Concretely: In this language we already know...\n",
    "\n",
    "* How to represent a **Random Variable** like $X$ (as a node in the PGM), and\n",
    "* How to \"encode\" **Conditional Probabilities** like $\\Pr(Y \\mid X)$ (as an arrow from the $X$ node to the $Y$ node, with an associated Conditional Probability Table)\n",
    "\n",
    "It turns out that the $\\textsf{do}()$ operator is not a \"thing\" inside of our PGM (like a circle or an arrow), but a different type of animal entirely. It is a **transformation** that we can **apply** to a given PGM, which then alters the PGM's semantic interpretation as \"how these variables are related **after** an **active intervention** to force one of the variables to have a particular value\". There is a table in Part 4 which will give the full details, but the distilled version is:\n",
    "\n",
    "* With a PGM $\\mathcal{M}$ in hand, $\\Pr(Y \\mid X = 5)$ tells us \"Probability of $Y$ taking on some value after a **passive observation** that $X$ has the value 5\", with respect to the relationships between variables (including $X$ and $Y$, but also any additional variables we think are relevant) specified by $\\mathcal{M}$.\n",
    "* $\\Pr(Y \\mid \\textsf{do}(X = 5))$ tells us \"Probability of $Y$ taking on some value after an **active intervention** to **force** $X$ to have the value 5\", with respect to the relationships between variables in a **new** PGM $\\mathcal{M}' = \\mathcal{M}_{\\textsf{do}(X = 5)}$, a **transformation** of $\\mathcal{M}$ which can be **constructed algorithmically** from $\\mathcal{M}$ to represent the **post-intervention** relationships between the variables we specified in $\\mathcal{M}$."
   ]
  },
  {
   "cell_type": "markdown",
   "id": "575e5ea5-f7e9-4f73-a1cd-802d7c67d2d9",
   "metadata": {},
   "source": [
    "### ...But, We Only Have Observational Data... 😥\n",
    "\n",
    "After learning how $\\textsf{do}()$ acts on our models in this way, you may suddenly become cynical and mad at me:\n",
    "\n",
    "> \"Wait a minute Jeff... this is nice in theory, but we're **data scientists**. We typically ***don't* have the ability to intervene** in some system $\\textsf{do}$-style, we just get a `.csv` file and we're asked to analyze it after the fact!\"\n",
    "\n",
    "If that thought comes to your mind, don't worry: that means you're thinking about this in the exact right way! However, there is still (very much) hope!\n",
    "\n",
    "In these (very common) cases, when we can't actually go out into the world and \"do\" the $\\textsf{do}()$ operation, we can still do the following to **infer causality (asymptotically) from observational data** in light of our explicitly written-out PGM model $\\mathcal{M}$:\n",
    "\n",
    "1. First, compute the new PGM $\\mathcal{M}'$ that results from **simulating** the effect that a $\\textsf{do}()$ intervention has on some variable $X$ in $\\mathcal{M}$ (again, given our modeling assumptions, which we've explicitly encoded into $\\mathcal{M}$)\n",
    "2. Next, compare $\\mathcal{M}'$ to $\\mathcal{M}$: Are there causal pathways between $X$ and $Y$ in $\\mathcal{M}$ that no longer exist in $\\mathcal{M}'$? Write those down, because, these are **precisely the \"backdoor paths\" you'll need to account for** if you want to obtain causal effects from $\\mathcal{M}$, the model you *do* have observational data on, rather than $\\mathcal{M}'$, the model you don't have data for (since that would require going out and re-generating the dataset after appropriate $\\textsf{do}()$ interventions)\n",
    "3. Decompose these pathways into **triples** of nodes, then use your knowledge of the **Four Elemental Confounds** to determine whether the pathway is **already closed** (contains a collider), or whether it **needs to be closed**, in which case you can close it by conditioning on the appropriate variable: either the middle of a *Fork* or *Chain* (to **fully** close the pathway), or a **proxy** for the middle of a *Fork* or *Chain* (to partially close it).\n",
    "\n",
    "It is this using-a-causal-model-to-figure-out-corrections-to-our-observational-data that **Part 5** will walk you through. Yalla!"
   ]
  },
  {
   "cell_type": "markdown",
   "id": "6e36e552-fb60-4c30-a4c0-08cba81a3aa5",
   "metadata": {},
   "source": [
    "## [Part 1] Tutorial with Example Data: From `lm()` to Stan\n",
    "\n",
    "An overarching goal in this first half of the course is to **convert** \"memorized\" statements (\"regress $X$ on $Y$\", \"find a set of coherent clusters within the feature matrix $X$\", etc.) into \"phrases\" which you can express as PGMs. So, as mentioned in Week 5, in Parts 1 and 2 we provide you with already-estimated regression models, and your job is to **rewrite** these `lm()`-based models into `quap()` or `ulam()`-based models. This part doesn't have any questions you need to complete -- it's here to quickly walk you through your first example of Stan code, which you can then build upon for Parts 1 and 2! \n",
    "\n",
    "[Sidebar: as briefly described in the `rethinking` documentation [here](https://github.com/rmcelreath/rethinking?tab=readme-ov-file#quadratic-approximation-with-quap), `quap()` is short for **quadratic approximation**, and provides a \"lite\", approximate version of the more computationally-intensive Markov Chain Monte Carlo (MCMC) estimation performed by `ulam()`. In Part 1.1 -- but not in Part 1.2! -- `quap()` should be able to successfully recover the same regression coefficients that `lm()` produces.]"
   ]
  },
  {
   "cell_type": "markdown",
   "id": "51bc6d45-e5d1-4434-b3db-3dbf6eea7dcd",
   "metadata": {},
   "source": [
    "### [Question 1.1] Example DGP $\\rightarrow$ Best-Fit Line\n",
    "\n",
    "To make the values here meaningful -- which will help us when choosing prior distributions below -- you can interpret values of $X_i$ as the **weight** of a given [sea otter](https://en.wikipedia.org/wiki/Sea_otter) in kg, and values of $Y_i$ as that sea otter's **length** in cm. The code in the `Q1.1-example-code` cell should look familiar to you from previous courses: we first generate $n = 100$ datapoints by way of the following **Data Generating Process (DGP)**:\n",
    "\n",
    "$$\n",
    "\\begin{align*}\n",
    "X_i &\\sim \\mathcal{U}[10, 50] \\\\\n",
    "Y_i &\\sim \\mathcal{N}\\left(5 + 1.5 X_i, 9\\right)\n",
    "\\end{align*}\n",
    "$$\n",
    "\n",
    "\n",
    "\n",
    "That $Y \\sim \\mathcal{N}(5 + 1.5 X, 9)$ line contains a bunch of important info squished together. It corresponds to a (noisy) linear relationship between $X$ and $Y$ that is more commonly written in regression settings as:\n",
    "\n",
    "$$\n",
    "Y = 5 + 1.5 X + \\varepsilon,\n",
    "$$\n",
    "\n",
    "where $\\varepsilon$ is a zero-mean normally-distributed error term (in this case, specifically, we know $\\varepsilon \\sim \\mathcal{N}(0, 9)$), $\\beta_0 = 5$ is our intercept, and $\\beta_1 = 1.5$ is our slope.\n",
    "\n",
    "If we apply a method like Ordinary Least Squares to the generated data, we can derive **estimates** $\\widehat{\\beta}_0$ and $\\widehat{\\beta}_1$ of the $\\beta_0$ and $\\beta_1$ coefficients in $Y = \\beta_0 + \\beta_1 \\cdot X$, by providing this method with a dataset like the $n = 100$ dataset we generate here. The **OLS-estimated** line derived from these $n = 100$ points,\n",
    "\n",
    "$$\n",
    "\\widehat{y} = \\widehat{\\beta}_0 + \\widehat{\\beta}_1 x,\n",
    "$$\n",
    "\n",
    "then gives us the function which **best predicts values of $y$ from given values of $x$**. At one more level of detail<sup>[1]</sup>, it is a \"best\" linear interpolation (with respect to Mean Squared Error) of the collection of data points $\\mathbf{d} = \\left(x,~\\mathbb{E}[Y \\mid X = x]\\right)_{x,y \\in (X,Y)}$.\n",
    "\n",
    "Run the following code cell to see the generated data and estimated linear regression model, then answer the questions given immediately after the code cell:\n",
    "\n",
    "---\n",
    "\n",
    "<small>1. You can dig even deeper into why the $\\mathbb{E}[Y \\mid X = x]$ is an important detail by reading Chapter 1 of [*Advanced Data Analysis from an Elementary Point of View*](https://www.stat.cmu.edu/~cshalizi/ADAfaEPoV/) by Cosma Shalizi!</small>"
   ]
  },
  {
   "cell_type": "code",
   "execution_count": 1,
   "id": "53629673-1ae7-4948-8588-753c56294fbf",
   "metadata": {},
   "outputs": [
    {
     "name": "stderr",
     "output_type": "stream",
     "text": [
      "── \u001b[1mAttaching core tidyverse packages\u001b[22m ──────────────────────── tidyverse 2.0.0 ──\n",
      "\u001b[32m✔\u001b[39m \u001b[34mdplyr    \u001b[39m 1.1.4     \u001b[32m✔\u001b[39m \u001b[34mreadr    \u001b[39m 2.1.5\n",
      "\u001b[32m✔\u001b[39m \u001b[34mforcats  \u001b[39m 1.0.0     \u001b[32m✔\u001b[39m \u001b[34mstringr  \u001b[39m 1.5.1\n",
      "\u001b[32m✔\u001b[39m \u001b[34mggplot2  \u001b[39m 3.5.2     \u001b[32m✔\u001b[39m \u001b[34mtibble   \u001b[39m 3.3.0\n",
      "\u001b[32m✔\u001b[39m \u001b[34mlubridate\u001b[39m 1.9.4     \u001b[32m✔\u001b[39m \u001b[34mtidyr    \u001b[39m 1.3.1\n",
      "\u001b[32m✔\u001b[39m \u001b[34mpurrr    \u001b[39m 1.0.4     \n",
      "── \u001b[1mConflicts\u001b[22m ────────────────────────────────────────── tidyverse_conflicts() ──\n",
      "\u001b[31m✖\u001b[39m \u001b[34mdplyr\u001b[39m::\u001b[32mfilter()\u001b[39m masks \u001b[34mstats\u001b[39m::filter()\n",
      "\u001b[31m✖\u001b[39m \u001b[34mdplyr\u001b[39m::\u001b[32mlag()\u001b[39m    masks \u001b[34mstats\u001b[39m::lag()\n",
      "\u001b[36mℹ\u001b[39m Use the conflicted package (\u001b[3m\u001b[34m<http://conflicted.r-lib.org/>\u001b[39m\u001b[23m) to force all conflicts to become errors\n"
     ]
    },
    {
     "data": {
      "text/plain": [
       "\n",
       "Call:\n",
       "lm(formula = y ~ x, data = example_df)\n",
       "\n",
       "Residuals:\n",
       "     Min       1Q   Median       3Q      Max \n",
       "-25.9660  -7.0187   0.2393   6.1838  29.2610 \n",
       "\n",
       "Coefficients:\n",
       "            Estimate Std. Error t value Pr(>|t|)    \n",
       "(Intercept)  5.86247    2.81084   2.086   0.0396 *  \n",
       "x            1.49027    0.08879  16.784   <2e-16 ***\n",
       "---\n",
       "Signif. codes:  0 ‘***’ 0.001 ‘**’ 0.01 ‘*’ 0.05 ‘.’ 0.1 ‘ ’ 1\n",
       "\n",
       "Residual standard error: 9.803 on 98 degrees of freedom\n",
       "Multiple R-squared:  0.7419,\tAdjusted R-squared:  0.7393 \n",
       "F-statistic: 281.7 on 1 and 98 DF,  p-value: < 2.2e-16\n"
      ]
     },
     "metadata": {},
     "output_type": "display_data"
    },
    {
     "data": {
      "image/png": "[encoded data removed]",
      "text/plain": [
       "plot without title"
      ]
     },
     "metadata": {
      "image/png": {
       "height": 420,
       "width": 420
      }
     },
     "output_type": "display_data"
    }
   ],
   "source": [
    "# @title Q1.1-example-code\n",
    "library(tidyverse)\n",
    "\n",
    "# Generate random data\n",
    "set.seed(5650)\n",
    "n <- 100\n",
    "x_vals <- runif(n, 10, 50)\n",
    "y_noise <- rnorm(n, 0, 9)\n",
    "y_vals <- 5 + 1.5 * x_vals + y_noise\n",
    "example_df <- tibble(x=x_vals, y=y_vals)\n",
    "\n",
    "# Visualize the regression line\n",
    "example_df |> ggplot(aes(x=x, y=y)) +\n",
    "  geom_point() +\n",
    "  # Draw x and y means as dashed lines\n",
    "  geom_vline(xintercept=mean(example_df$x), linetype=\"dashed\") +\n",
    "  geom_hline(yintercept=mean(example_df$y), linetype=\"dashed\") +\n",
    "  geom_smooth(method='lm', formula='y ~ x') +\n",
    "  theme_classic(base_size=20)\n",
    "\n",
    "# Regression line coefficients, estimated via simple lm() model\n",
    "example_lm <- lm(y ~ x, data=example_df)\n",
    "summary(example_lm)"
   ]
  },
  {
   "cell_type": "markdown",
   "id": "25989356-0266-4e0b-ad9e-20bcba265d3e",
   "metadata": {},
   "source": [
    "**Question 1.1a**\n",
    "\n",
    "Complete the following code cell by computing `b0_err_lm` and `b1_err_lm`, representing how far off (in terms of absolute value) the coefficient estimates in `example_lm` are from the **true values**, which we know in this case since we generated the data ourselves in `Q1.1-example-code`. (We'll compare these values with the errors from the Stan model later on)"
   ]
  },
  {
   "cell_type": "code",
   "execution_count": 16,
   "id": "924975ae-d955-4f22-bac2-c3e5abcff9c5",
   "metadata": {
    "execution": {
     "iopub.execute_input": "2025-06-22T05:06:38.909573Z",
     "iopub.status.busy": "2025-06-22T05:06:38.907672Z",
     "iopub.status.idle": "2025-06-22T05:06:38.922822Z",
     "shell.execute_reply": "2025-06-22T05:06:38.921706Z"
    }
   },
   "outputs": [
    {
     "name": "stdout",
     "output_type": "stream",
     "text": [
      "beta0 absolute error: \n",
      "beta1 absolute error: \n"
     ]
    }
   ],
   "source": [
    "# @title Q1.1a-response\n",
    "\n",
    "b0_err_lm <- NULL # Your code here (replace the NULL)\n",
    "b1_err_lm <- NULL # Your code here (replace the NULL)\n",
    "\n",
    "writeLines(paste0(\"beta0 absolute error: \",b0_err_lm))\n",
    "writeLines(paste0(\"beta1 absolute error: \",b1_err_lm))"
   ]
  },
  {
   "cell_type": "markdown",
   "id": "d6936d83-3079-4c81-9d80-4bae8ada7f23",
   "metadata": {},
   "source": [
    "**Question 1.1b**\n",
    "\n",
    "Select the appropriate completion of the sentence: Using `lm()` to estimate a regression provides us with...\n",
    "\n",
    "* (a) A full **probability distribution** over possible regression lines (that is, a distribution over possible values of the intercept $\\beta_0$ and the slope $\\beta_1$)\n",
    "* (b) Just a **point estimate** of the regression line intercept $\\beta_0$ and slope $\\beta_1$ (along with their standard errors)"
   ]
  },
  {
   "cell_type": "code",
   "execution_count": 8,
   "id": "a0261a78-cbfd-4432-b880-a379d12e4069",
   "metadata": {
    "execution": {
     "iopub.execute_input": "2025-06-22T04:51:13.226763Z",
     "iopub.status.busy": "2025-06-22T04:51:13.225812Z",
     "iopub.status.idle": "2025-06-22T04:51:13.235934Z",
     "shell.execute_reply": "2025-06-22T04:51:13.234810Z"
    }
   },
   "outputs": [],
   "source": [
    "# @title Q1.1b-response\n",
    "q1_1b_response <- \"\" # Replace with \"a\" or \"b\""
   ]
  },
  {
   "cell_type": "markdown",
   "id": "4dacc1bf-c664-48a4-8ad7-52d7b771320f",
   "metadata": {},
   "source": [
    "### [Question 1.2] Writing the DGP in an Explicit Generative Form\n",
    "\n",
    "Now, like I've ranted about in class, this use of `lm()` is all well and good if we only ever want to estimate linear regressions and never want to adapt/modify this base model to handle the particularities of our modeling scenario! But, if we want to be able to \"express\" -- to \"talk about\" -- this regression in the general modeling **language of PGMs**, we'll need to use a probabilistic language like **WebPPL** that you saw in HW1, or **Stan** which you'll see in this homework!\n",
    "\n",
    "To recast linear regression into Stan, the key step for us is to focus in on the \"language\" which you actually saw just above, when we wrote out our **DGP** as:\n",
    "\n",
    "$$\n",
    "\\begin{align*}\n",
    "X &\\sim \\mathcal{U}[10, 50] \\\\\n",
    "Y &\\sim \\mathcal{N}(5 + 1.5 X, 9)\n",
    "\\end{align*}\n",
    "$$\n",
    "\n",
    "In fact, when I write out models that I'd like to implement in Stan, I usually use the format that's used in *Statistical Rethinking*, where there's an additional \"comment column\" on the right side of each line, describing what's going on: \n",
    "\n",
    "<table>\n",
    "<thead>\n",
    "<tr>\n",
    "    <th colspan=\"5\">The True Data Generating Process</th>\n",
    "</tr>\n",
    "<tr>\n",
    "    <th></th>\n",
    "    <th colspan=\"3\">Generative Step</th>\n",
    "    <th>Comment</th>\n",
    "</tr>\n",
    "</thead>\n",
    "<tbody>\n",
    "<tr>\n",
    "    <td>1.</td>\n",
    "    <td>$X$</td>\n",
    "    <td>$\\sim$</td>\n",
    "    <td>$\\mathcal{U}[10, 50]$</td>\n",
    "    <td><small>Generate $X$ uniformly in $[10, 50]$</small></td>\n",
    "</tr>\n",
    "<tr>\n",
    "    <td>2.</td>\n",
    "    <td>$Y$</td>\n",
    "    <td>$\\sim$</td>\n",
    "    <td>$\\mathcal{N}(5 + 1.5 X, 9)$</td>\n",
    "    <td><small>Draw $Y$ from a normal distribution centered at $5 + 1.5 X$ with variance $9$</small></td>\n",
    "</tr>\n",
    "</tbody>\n",
    "</table>\n",
    "\n",
    "This two-step generative algorithm is the **true** DGP, which we have here since we're using simulated data generated per our explicit instructions (in the form of R code), but which we usually do **not** have -- for example, we don't know the \"true\" pathway by which an individual's views on authority combine with their political party and country of residence to produce their views on China.\n",
    "\n",
    "So, instead, we need to use a model like linear regression to try and **recover** the relationship between $X$ and $Y$ as best as we can given the data available to us. And, it turns out that we can actually write our **model** for recovering the parameters of a regression like $\\beta_0$ and $\\beta_1$ in the **exact same language** that we wrote our DGP in!<sup>[1]</sup> In the following steps, we'll build up the linear regression model in this explicitly-written-out generative form.\n",
    "\n",
    "---\n",
    "\n",
    "<small>\n",
    "\n",
    "1.  This ability, the fact that we can write **both** (a) our hypothesized DGP for $X$ and $Y$ **and** (b) our model for recovering **estimates** of the relationship between $X$ and $Y$ (like the regression estimates $\\widehat{\\beta}_0$ and $\\widehat{\\beta}_1$), turns out to be a **huge huge humongous important key feature** of this Bayesian PGM language! The hugeness and importance will come into play a bit later in the course, but for now you can think about how **missing data** is typically handled by `lm()` (where a row containing a single missing value gets thrown out, even if other values in the row are non-missing), and how an explicit, generative model like this could allow you **squeeze more statistical power** out of your data.\n",
    "\n",
    "    As a hint, think of the multilevel Radon example from Week 5: if we specify the degree of **adaptive pooling** we'd like our model to perform across units within a cluster (say, with one cluster of counties in the Eastern half of Minnesota and the other containing counties in the Western half), we can then optimally *infer* estimates for missing values from other units in the same cluster: For example, if the mean temperature of one house in the Western half of Minnesota is missing, we don't have to throw this entire house away! Stan can automatically infer a posterior distribution for this house's temperature from the joint distribution of non-missing temperatures with other attributes of houses in that half of Minnesota 🙀\n",
    "\n",
    "</small>"
   ]
  },
  {
   "cell_type": "markdown",
   "id": "fb8d2ed9-83cd-45a0-8121-c74b19b8ad08",
   "metadata": {},
   "source": [
    "**Question 1.2 (Multiple Select)**\n",
    "\n",
    "*(Your first example of how modeling languages allow us to adapt to different modeling circumstances!)*\n",
    "\n",
    "Here, let's say that we're interested in expanding our model so that it can generate **male** and **female** otters with [slightly different characteristics](https://www.montereybayaquarium.org/animals/animals-a-to-z/sea-otter). The process we'd like to use, in words, is as follows:\n",
    "\n",
    "1.  First, \"nature\" flips a fair coin to determine the otter's sex $S$: $S = 1$ for **female** if the coin comes up **Heads**, and $S = 0$ for **male** otherwise.\n",
    "2.  Now, rather than generating otter weights $X$ uniformly in $[10,50]$, the bounds of the uniform distribution **depend** on $S$:\n",
    "    * If $S = 1$, $X$ should be generated uniformly in $[10, 40]$.\n",
    "    * Otherwise, if $S = 0$, $X$ should be generated uniformly in $[20, 50]$\n",
    "3.  The determination of otter **lengths** proceeds as before: drawn from a normal distribution centered at $5 + 1.5X$ with variance $9$.\n",
    "\n",
    "Which of the following new DGPs would successfully implement these three steps? \"Check\" all that apply in the `Q1.2-response` code cell, by setting the variable to the value `TRUE` for a \"check\" and `FALSE` for no check.\n",
    "\n",
    "<table>\n",
    "<thead>\n",
    "<tr>\n",
    "    <th colspan=\"5\" align=\"center\">DGP (a)</th>\n",
    "</tr>\n",
    "<tr>\n",
    "    <th></th>\n",
    "    <th colspan=\"3\">Generative Step</th>\n",
    "    <th>Comment</th>\n",
    "</tr>\n",
    "</thead>\n",
    "<tbody>\n",
    "<tr>\n",
    "    <td>1.</td>\n",
    "    <td>$S$</td>\n",
    "    <td>$\\sim$</td>\n",
    "    <td>$\\text{Bern}(p = 0.5)$</td>\n",
    "    <td><small>Generate $S$ as the result of a fair coin flip ($p = 0.5$).</small></td>\n",
    "</tr>\n",
    "<tr>\n",
    "    <td>2.</td>\n",
    "    <td>$X$</td>\n",
    "    <td>$\\sim$</td>\n",
    "    <td>$\\mathcal{U}[10, 50]$</td>\n",
    "    <td><small>Generate $X$ uniformly in $[10, 50]$</small></td>\n",
    "</tr>\n",
    "<tr>\n",
    "    <td>3.</td>\n",
    "    <td>$Y$</td>\n",
    "    <td>$\\sim$</td>\n",
    "    <td>$\\mathcal{N}(5 + 1.5 X, 9)$</td>\n",
    "    <td><small>Draw $Y$ from a normal distribution centered at $5 + 1.5 X$ with variance $9$</small></td>\n",
    "</tr>\n",
    "</tbody>\n",
    "</table>\n",
    "\n",
    "<table>\n",
    "<thead>\n",
    "<tr>\n",
    "    <th colspan=\"5\" align=\"center\">DGP (b)</th>\n",
    "</tr>\n",
    "<tr>\n",
    "    <th></th>\n",
    "    <th colspan=\"3\">Generative Step</th>\n",
    "    <th>Comment</th>\n",
    "</tr>\n",
    "</thead>\n",
    "<tbody>\n",
    "<tr>\n",
    "    <td>1.</td>\n",
    "    <td>$S$</td>\n",
    "    <td>$\\sim$</td>\n",
    "    <td>$\\text{Bern}(p = 0.5)$</td>\n",
    "    <td><small>Generate $S$ as the result of a fair coin flip ($p = 0.5$).</small></td>\n",
    "</tr>\n",
    "<tr>\n",
    "    <td>2.</td>\n",
    "    <td>$X$</td>\n",
    "    <td>$\\sim$</td>\n",
    "    <td>$\\mathcal{U}[20 - 10S, 50 - 10S]$</td>\n",
    "    <td><small>Generate $X$ uniformly in $[20 - 10S, 50 - 10S]$</small></td>\n",
    "</tr>\n",
    "<tr>\n",
    "    <td>3.</td>\n",
    "    <td>$Y$</td>\n",
    "    <td>$\\sim$</td>\n",
    "    <td>$\\mathcal{N}(5 + 1.5 X, 9)$</td>\n",
    "    <td><small>Draw $Y$ from a normal distribution centered at $5 + 1.5 X$ with variance $9$</small></td>\n",
    "</tr>\n",
    "</tbody>\n",
    "</table>\n",
    "\n",
    "<table>\n",
    "<thead>\n",
    "<tr>\n",
    "    <th colspan=\"5\" align=\"center\">DGP (c)</th>\n",
    "</tr>\n",
    "<tr>\n",
    "    <th></th>\n",
    "    <th colspan=\"3\">Generative Step</th>\n",
    "    <th>Comment</th>\n",
    "</tr>\n",
    "</thead>\n",
    "<tbody>\n",
    "<tr>\n",
    "    <td>1.</td>\n",
    "    <td>$S$</td>\n",
    "    <td>$\\sim$</td>\n",
    "    <td>$\\text{Bern}(p = 0.5)$</td>\n",
    "    <td><small>Generate $S$ as the result of a fair coin flip ($p = 0.5$).</small></td>\n",
    "</tr>\n",
    "<tr>\n",
    "    <td>2.</td>\n",
    "    <td>$a$</td>\n",
    "    <td>$\\leftarrow$</td>\n",
    "    <td>$20 - 10S$</td>\n",
    "    <td><small>Compute $a$ as the result of $20 - 10S$ (i.e., $a$'s value is determined once $S$ is generated)</small></td>\n",
    "</tr>\n",
    "<tr>\n",
    "    <td>3.</td>\n",
    "    <td>$b$</td>\n",
    "    <td>$\\leftarrow$</td>\n",
    "    <td>$50 - 10S$</td>\n",
    "    <td><small>Compute $b$ as the result of $50 - 10S$ (i.e., $b$'s value is determined once $S$ is generated)</small></td>\n",
    "</tr>\n",
    "<tr>\n",
    "    <td>4.</td>\n",
    "    <td>$X$</td>\n",
    "    <td>$\\sim$</td>\n",
    "    <td>$\\mathcal{U}[a, b]$</td>\n",
    "    <td><small>Generate $X$ uniformly in $[a, b]$</small></td>\n",
    "</tr>\n",
    "<tr>\n",
    "    <td>5.</td>\n",
    "    <td>$Y$</td>\n",
    "    <td>$\\sim$</td>\n",
    "    <td>$\\mathcal{N}(5 + 1.5 X, 9)$</td>\n",
    "    <td><small>Draw $Y$ from a normal distribution centered at $5 + 1.5 X$ with variance $9$</small></td>\n",
    "</tr>\n",
    "</tbody>\n",
    "</table>"
   ]
  },
  {
   "cell_type": "code",
   "execution_count": 9,
   "id": "846b1dd6-0858-4115-a1f5-a5c10b4f5a40",
   "metadata": {
    "execution": {
     "iopub.execute_input": "2025-06-22T04:51:14.126221Z",
     "iopub.status.busy": "2025-06-22T04:51:14.125214Z",
     "iopub.status.idle": "2025-06-22T04:51:14.136322Z",
     "shell.execute_reply": "2025-06-22T04:51:14.135125Z"
    }
   },
   "outputs": [],
   "source": [
    "# @title Q1.2-response\n",
    "q1_2_a <- FALSE # Change to TRUE to \"check\" DGP (a)\n",
    "q1_2_b <- FALSE # Change to TRUE to \"check\" DGP (b)\n",
    "q1_2_c <- FALSE # Change to TRUE to \"check\" DGP (c)"
   ]
  },
  {
   "attachments": {},
   "cell_type": "markdown",
   "id": "9d9f09d3-0480-4e55-8e68-cc2b3136ae3b",
   "metadata": {},
   "source": [
    "### [Question 1.3] Writing Linear Regression in an Explicit Generative Form\n",
    "\n",
    "First, note the above detail about how linear regression is simply interpolating a \"best fit\" line between the values of $\\mathbb{E}[Y \\mid X = x]$, values which can be computed using the $x_i$ datapoints we have in our dataset. This is a nice (almost) **distribution-agnostic** feature of regression, since $\\mathbb{E}[Y \\mid X = x]$ essentially just means \"the middle point of the distribution of values $Y$ takes on when $X$ has the value $x$\".\n",
    "\n",
    "I say \"almost\" distribution-agnostic because, there *are* distributions like the [Cauchy distribution](https://en.wikipedia.org/wiki/Cauchy_distribution) for which $\\mathbb{E}[Y]$ would be undefined. However, if we're willing to make the two basic assumptions that the distributions of $[Y \\mid X = x]$ will have a **finite mean** and **finite variance**... then it turns out that these are precisely the two epistemological assumptions which are uniquely encoded in the **Normal distribution!** So, for this reason, we start our generative-form linear regression model with the following \"first\" step<sup>[1]</sup>:\n",
    "\n",
    "<table>\n",
    "<thead>\n",
    "<tr>\n",
    "    <th colspan=\"5\">Linear Regression as a Generative Model</th>\n",
    "</tr>\n",
    "<tr>\n",
    "    <th></th>\n",
    "    <th colspan=\"3\">Generative Step</th>\n",
    "    <th>Comment</th>\n",
    "</tr>\n",
    "</thead>\n",
    "<tbody>\n",
    "<tr>\n",
    "    <td>1.</td>\n",
    "    <td>$Y$</td>\n",
    "    <td>$\\sim$</td>\n",
    "    <td>$\\mathcal{N}(\\mu_y, \\sigma_y^2)$</td>\n",
    "    <td><small>Draw $Y$ from a normal distribution with mean $\\mu_y$ and variance $\\sigma^2_y$</small></td>\n",
    "</tr>\n",
    "</tbody>\n",
    "</table>\n",
    "\n",
    "So, this says that we're modeling the values of $Y$, within \"vertical slices\" of the data where $X = x$, as a\n",
    "\n",
    "* Normal distribution,\n",
    "* Centered at $\\mu_y$,\n",
    "* With a \"width\" of $\\sigma_y^2$\n",
    "\n",
    "The \"width\" $\\sigma_y^2$ just represents how widely these values of $Y$ will vary around the center of the normal distribution in our model. But What is this $\\mu_y$? That's exactly the **center point** of the range of $Y$ values we're modeling within the vertical slice $X = x$, namely, the **expected value** $\\mathbb{E}[Y \\mid X = x]$ we talked about above!\n",
    "\n",
    "So, since the goal of regression is to fit a line as best as possible to the **centers** of these $x$-value-specific distributions of $Y$, as in the following figure:\n",
    "\n",
    "<center>\n",
    "<figure>\n",
    "    <img src=\"https://github.com/jpowerj/dsan-content/blob/main/2025-sum-dsan5650/hw2/regression_normal_dist.jpg?raw=true\" width=\"50%\"></img>\n",
    "    <figcaption><i>From <a href='https://jjacobs.me/dsan5300-01/w02/slides.html#/where-did-that-mathbbey-mid-x-x_i-come-from'>this DSAN 5300 slide</a></i></figcaption>\n",
    "</figure>\n",
    "</center>\n",
    "\n",
    "It is precisely these normal-distribution means $\\mu_y$ that we'll model as a line like $\\mu_y = mx + b$, giving us the second line of our generative model:\n",
    "\n",
    "<table>\n",
    "<thead>\n",
    "<tr>\n",
    "    <th colspan=\"5\">Linear Regression as a Generative Model</th>\n",
    "</tr>\n",
    "<tr>\n",
    "    <th></th>\n",
    "    <th colspan=\"3\">Generative Step</th>\n",
    "    <th>Comment</th>\n",
    "</tr>\n",
    "</thead>\n",
    "<tbody>\n",
    "<tr>\n",
    "    <td>1.</td>\n",
    "    <td>$Y$</td>\n",
    "    <td>$\\sim$</td>\n",
    "    <td>$\\mathcal{N}(\\mu_y, \\sigma_y^2)$</td>\n",
    "    <td><small>Draw $Y$ from a normal distribution with mean $\\mu_y$ and variance $\\sigma_y^2$</small></td>\n",
    "</tr>\n",
    "<tr>\n",
    "    <td>2.</td>\n",
    "    <td>$\\mu_y$</td>\n",
    "    <td>$\\leftarrow$</td>\n",
    "    <td>$\\beta_0 + \\beta_1 x$</td>\n",
    "    <td><small>Compute $\\mu_y$ from $x$ by plugging $x$ into the line equation $\\mu_y = \\beta_0 + \\beta_1 x$</small></td>\n",
    "</tr>\n",
    "</tbody>\n",
    "</table>\n",
    "\n",
    "---\n",
    "\n",
    "<small>\n",
    "\n",
    "1.  Notice how, when we wrote out the **true** DGP earlier, we ordered the steps such that the first (generating $X$ values) had no dependencies, while the second (generating $Y$ values) depended on the first, since the $Y$ values are a function of the $X$ values. The ordering of steps in this part however, where we're trying to **recover** the values of model parameters **from** data, is the opposite: the first line here is the \"end\" of the PGM, and then we \"work backwards\" to the definition of $\\mu_y$, then (in the next step) to the priors on $\\beta_0$, $\\beta_1$, and $\\sigma^2_y$.\n",
    "\n",
    "    Some people make a big deal out of this convention: that we should write **data-generation** PGMs from \"beginning to end\" (from priors to $X$ and $Y$ for example) and **parameter-estimation-from-data** PGMs from \"end to beginning (from the generation of $X$ and $Y$ backwards to the priors that determine this generation). But, I put it in this footnote since I'm not sure how important it really is, except as a reminder that both data-generation and parameter-estimation-from-data tasks can both be written in the **same language**, which has important implications for e.g. handling **missing data** (see footnote in previous cell!)\n",
    "\n",
    "</small>"
   ]
  },
  {
   "cell_type": "markdown",
   "id": "21319aa8-85bf-4e84-94d7-b06a54578b69",
   "metadata": {},
   "source": [
    "**Question 1.3 (Multiple Select)**\n",
    "\n",
    "Say we fixed the values $\\beta_0 = 0$, $\\beta_1 = 1$, and $x = 3$, then used the two-step generative model above to generate data in two ways:\n",
    "\n",
    "* First, we set $\\sigma^2_y$ to have the value $1$, then generate a dataset $\\mathbf{d}^{(a)}$ with $n$ datapoints $\\left\\{\\left(x^{(a)}_0, y^{(a)}_0\\right), \\ldots, \\left(x^{(a)}_n, y^{(a)}_n\\right)\\right\\}$\n",
    "* Second, we set $\\sigma^2_y$ to have the value $100$, then generate a dataset $\\mathbf{d}^{(b)}$ with $n$ datapoints $\\left\\{\\left(x^{(b)}_0, y^{(b)}_0\\right), \\ldots, \\left(x^{(b)}_n, y^{(b)}_n\\right)\\right\\}$\n",
    "\n",
    "Which of the following statements about $\\mathbf{d}^{(a)}$ and $\\mathbf{d}^{(b)}$ do you think will be true? *(\"Check\" all that apply, by setting the values in the `Q1.3a-response` cell to `TRUE`)*\n",
    "\n",
    "* (a) The $x$ coordinates of points in $\\mathbf{d}^{(a)}$ will take on a wider range of values than the $x$ coordinates of points in $\\mathbf{d}^{(b)}$\n",
    "* (b) The $x$ coordinates of points in $\\mathbf{d}^{(b)}$ will take on a wider range of values than the $x$ coordinates of points in $\\mathbf{d}^{(a)}$\n",
    "* (c) The $y$ coordinates of points in $\\mathbf{d}^{(a)}$ will take on a wider range of values than the $y$ coordinates of points in $\\mathbf{d}^{(b)}$\n",
    "* (d) The $y$ coordinates of points in $\\mathbf{d}^{(b)}$ will take on a wider range of values than the $y$ coordinates of points in $\\mathbf{d}^{(a)}$"
   ]
  },
  {
   "cell_type": "code",
   "execution_count": 10,
   "id": "55d70ce2-99b6-4f8a-86c1-02c80117d2f7",
   "metadata": {
    "execution": {
     "iopub.execute_input": "2025-06-22T04:51:15.010463Z",
     "iopub.status.busy": "2025-06-22T04:51:15.009422Z",
     "iopub.status.idle": "2025-06-22T04:51:15.023788Z",
     "shell.execute_reply": "2025-06-22T04:51:15.022644Z"
    }
   },
   "outputs": [],
   "source": [
    "# @title Q1.3-response\n",
    "q1_3_a <- FALSE # Change to TRUE to \"check\" option (a)\n",
    "q1_3_b <- FALSE # Change to TRUE to \"check\" option (b)\n",
    "q1_3_c <- FALSE # Change to TRUE to \"check\" option (c)\n",
    "q1_3_d <- FALSE # Change to TRUE to \"check\" option (d)"
   ]
  },
  {
   "cell_type": "markdown",
   "id": "8e65eb38-f332-4edf-9e9a-314fb7e21d88",
   "metadata": {},
   "source": [
    "### [Question 1.4] The Final Modeling Step: Priors! (On $\\beta_0$, $\\beta_1$, and $\\sigma_y^2$)\n",
    "\n",
    "This is... technically the spot where a lot of students get frustrated with PGMs (relative to the ease of using `lm()`), but I hope I've prepared you for this moment through my rants about how **Bayes' Rule** gives us a way to optimally update **prior hypotheses** on the basis of **new data** to derive new **posterior hypotheses**!\n",
    "\n",
    "The fully-written-out linear regression PGM is shown in graphical form in the following diagram, which can give you a sense for how choosing values for the priors (the nodes pointing into $\\beta_0$, $\\beta_1$, and $\\sigma^2_y$) is what \"activates\" the flow of information into the parameters, which in turn flow into the determination of $X$ and $Y$ via our generative model:\n",
    "\n",
    "<center>\n",
    "<figure>\n",
    "<img src=\"https://raw.githubusercontent.com/jpowerj/dsan-content/20bd6795f50632a4508d3fcc4ed3aa9f393072a7/2025-sum-dsan5650/hw2/pgm_regression.svg\" width=\"50%\"></img>\n",
    "<figcaption><i>The full PGM for our linear regression model, in graphical form. Notice how, since the priors like $\\mu_0$, $\\sigma^2_0$ don't have any arrows pointing into them, they are precisely where the \"flow\" of information starts: once priors have been set, inference can begin!</i></figcaption>\n",
    "</figure>\n",
    "</center>\n",
    "\n",
    "In this case we can also retain some sanity by focusing in on our **estimation task**: rather than worrying about what priors \"mean\" in general, here we can just interpret them as our \"initial guess\" -- encoded as a **distribution over possible values** -- for $\\beta_0$, $\\beta_1$, and $\\sigma_y^2$. So, we could come up with priors for our three parameters using **background knowledge** of otters as follows:\n",
    "\n",
    "<table>\n",
    "<thead>\n",
    "<tr>\n",
    "    <th>Parameter</th>\n",
    "    <th>Example Background Knowledge</th>\n",
    "    <th>Choice of Prior Distribution</th>\n",
    "</tr>\n",
    "</thead>\n",
    "<tbody>\n",
    "<tr>\n",
    "    <td>$\\sigma_y^2$</td>\n",
    "    <td>Within a given (fixed) weight value $x$, otter lengths probably don't range by very much -- perhaps at most by $\\pm$ 8 cm. So, I'll assume that (before I start observing data and \"sharpening\" this prior) values between 0 and 8 cm are equally likely (remember that variance = square of standard deviation!)</td>\n",
    "    <td>$\\sigma_y^2 \\sim \\mathcal{U}[0,64]$</td>\n",
    "</tr>\n",
    "<tr>\n",
    "    <td rowspan=\"2\">$\\beta_1$</td>\n",
    "    <td>(a) I'm not even going to assume that otters get longer as they get heavier; to match the open-endedness that the <code>lm()</code> function allows, I'm only going to assume that there's <i>some</i> amount $\\beta_1$ by which an otter's height changes with its weight, and that this amount is within some reasonable bounds like $[-20, 20]$.</td>\n",
    "    <td>$\\beta_1 \\sim \\mathcal{U}[-20, 20]$</td>\n",
    "</tr>\n",
    "<tr>\n",
    "    <td>(b) As an alternative to (a), rather than assuming equal likelihood for values between -20 and 20, I'll instead assume that the range is $(-\\infty, \\infty)$, but that the likelihood of a specific $\\beta_1$ value <b>decreases as it gets further from 0</b>. For example, I'll assume that values like 3 or 5 are more likely than values like 10 billion, with the likelihood of a value $v$ dropping quadratically as $|v|$ increases.<br><br>Thus, I'll use the <b>Normal distribution</b>, to penalize values super far from 0 (since the Normal distribution implements a <b>quadratic</b> decrease in likelihood as values grow further from the mean, due to the $(x-\\mu)^2$ term in the Normal PDF)</td>\n",
    "    <td>$\\beta_1 \\sim \\mathcal{N}(0, 10)$</td>\n",
    "</tr>\n",
    "<tr>\n",
    "    <td rowspan=\"3\">$\\beta_0$</td>\n",
    "    <td>(a) The <b>lightest</b> otters we've seen tend to be ~10kg and 20 $\\pm$ 5cm long. The <b>heaviest</b> otters we've seen tend to be ~50kg and 80 $\\pm$ 5cm long. Extrapolating this \"trend\" (between two points) back to a hypothetical weight of 0kg, we'd get an intercept of about 5 $\\pm$ 5 cm. I'll use the Normal distribution like I did for $\\beta_1$, to allow a range of values close to 5 but to penalize values which are super far from 5.</td>\n",
    "    <td>$\\beta_0 \\sim \\mathcal{N}(5, 2.5)$</td>\n",
    "</tr>\n",
    "<tr>\n",
    "    <td>(b) Instead of the approach in (a), I'd instead like to ensure that $\\beta_0$ takes on only non-negative values, since I know that otter heights don't go below 0! So, instead I'll use a uniform prior, starting my estimation with the assumption that the intercept could be any value from 0 to 20 with equal likelihood.<br><br><i></i></td>\n",
    "    <td>$\\beta_0 \\sim \\mathcal{U}[0,20]$</td>\n",
    "</tr>\n",
    "<tr>\n",
    "    <td><i>(Optional fancy prior)</i> Note that we could <i>combine</i> both of the above pieces of information ((a) values-further-from-5-are-less-likely and (b) no-negative-values) via a fancy prior utilizing e.g. a lognormal or truncated-normal distribution! $\\log(\\beta_0) \\sim \\mathcal{N}(\\log(5) + 1, 1)$, for example, would produce a prior with a mode of 5 and no negative values, and could be written in Stan below using <code>b0 ~ dlnorm(log(5)+1,1)</code>. For sanity, we stick to the first two options.</td>\n",
    "    <td>$\\log(\\beta_0) \\sim \\mathcal{N}(\\log(5)+\\frac{1}{4}, \\frac{1}{2})$</td>\n",
    "</tr>\n",
    "</tbody>\n",
    "</table>\n",
    "\n",
    "Once we've settled upon these prior distributions, our generative-format linear regression model is now complete! Picking the \"more informative\" choices from the above table for each parameter (though any of the choices above would work), we have:\n",
    "\n",
    "<table>\n",
    "<thead>\n",
    "<tr>\n",
    "    <th colspan=\"5\">Linear Regression as a Generative Model</th>\n",
    "</tr>\n",
    "<tr>\n",
    "    <th></th>\n",
    "    <th colspan=\"3\">Generative Step</th>\n",
    "    <th>Comment</th>\n",
    "</tr>\n",
    "</thead>\n",
    "<tbody>\n",
    "<tr>\n",
    "    <td>1.</td>\n",
    "    <td>$Y$</td>\n",
    "    <td>$\\sim$</td>\n",
    "    <td>$\\mathcal{N}(\\mu_y, \\sigma_y^2)$</td>\n",
    "    <td><small>Draw $Y$ from a normal distribution with mean $\\mu_y$ and variance $\\sigma_y^2$</small></td>\n",
    "</tr>\n",
    "<tr>\n",
    "    <td>2.</td>\n",
    "    <td>$\\mu_y$</td>\n",
    "    <td>$\\leftarrow$</td>\n",
    "    <td>$\\beta_0 + \\beta_1 x$</td>\n",
    "    <td><small>Compute $\\mu_y$ from $x$ by plugging $x$ into the line equation $\\mu_y = \\beta_0 + \\beta_1 x$<sup>[1]</sup></small></td>\n",
    "</tr>\n",
    "<tr>\n",
    "    <td>3.</td>\n",
    "    <td>$\\sigma_y^2$</td>\n",
    "    <td>$\\sim$</td>\n",
    "    <td>$\\mathcal{U}[0,64]$</td>\n",
    "    <td><small>Before observing data, values of $\\sigma_y^2$ from 0 to 64 have equal likelihood</small></td>\n",
    "</tr>\n",
    "<tr>\n",
    "    <td>4.</td>\n",
    "    <td>$\\beta_0$</td>\n",
    "    <td>$\\sim$</td>\n",
    "    <td>$\\mathcal{N}(5, 2.5)$</td>\n",
    "    <td><small>Most likely value for $\\beta_0$ is 5; likelihood of other values $v$ decreases quadratically in $|v-5|$</small></td>\n",
    "</tr>\n",
    "<tr>\n",
    "    <td>5.</td>\n",
    "    <td>$\\beta_1$</td>\n",
    "    <td>$\\sim$</td>\n",
    "    <td>$\\mathcal{N}(0, 10)$</td>\n",
    "    <td><small>Most likely value for $\\beta_0$ is 0; likelihood of other values $v$ decreases quadratically in $|v|$</small></td>\n",
    "</tr>\n",
    "</tbody>\n",
    "</table>\n",
    "\n",
    "Run the following code cell to see how this model is coded and estimated using **Stan**, by way of the `quap()` wrapper provided by the `rethinking` library (FYI: The use of `alist()`, as another \"wrapper\" around the lines of the generative model within the `quap()` wrapper, is **crucial** here -- `alist()` tells R \"Hey, don't execute these lines right now! Keep them as symbolic expressions\", since `quap()` will instead convert+plug them into Stan as parameter-estimate-generation instructions)\n",
    "\n",
    "---\n",
    "\n",
    "<small>\n",
    "\n",
    "1.  Note how we use $\\leftarrow$ rather than $\\sim$ in the second line, because $\\mu_y$ has no stochastic element: it is fully determined once we have values for $\\beta_0$, $\\beta_1$, and $x$! This mirrors the Stan code below, where the line defining `mu_y` is the only line which uses `<-` instead of `~`.\n",
    "\n",
    "</small>"
   ]
  },
  {
   "cell_type": "code",
   "execution_count": 11,
   "id": "b96b04fb-e271-4f1e-8b42-b09a2e503b73",
   "metadata": {
    "execution": {
     "iopub.execute_input": "2025-06-22T04:51:15.638328Z",
     "iopub.status.busy": "2025-06-22T04:51:15.637389Z",
     "iopub.status.idle": "2025-06-22T04:51:15.683818Z",
     "shell.execute_reply": "2025-06-22T04:51:15.682660Z"
    }
   },
   "outputs": [
    {
     "data": {
      "text/html": [
       "<table class=\"dataframe\">\n",
       "<caption>A precis: 3 × 4</caption>\n",
       "<thead>\n",
       "\t<tr><th></th><th scope=col>mean</th><th scope=col>sd</th><th scope=col>5.5%</th><th scope=col>94.5%</th></tr>\n",
       "\t<tr><th></th><th scope=col>&lt;dbl&gt;</th><th scope=col>&lt;dbl&gt;</th><th scope=col>&lt;dbl&gt;</th><th scope=col>&lt;dbl&gt;</th></tr>\n",
       "</thead>\n",
       "<tbody>\n",
       "\t<tr><th scope=row>sigma2_y</th><td>9.705491</td><td>0.68635707</td><td>8.608560</td><td>10.802423</td></tr>\n",
       "\t<tr><th scope=row>b1</th><td>1.504342</td><td>0.06302402</td><td>1.403617</td><td> 1.605066</td></tr>\n",
       "\t<tr><th scope=row>b0</th><td>5.386917</td><td>1.85999876</td><td>2.414280</td><td> 8.359554</td></tr>\n",
       "</tbody>\n",
       "</table>\n"
      ],
      "text/latex": [
       "A precis: 3 × 4\n",
       "\\begin{tabular}{r|llll}\n",
       "  & mean & sd & 5.5\\% & 94.5\\%\\\\\n",
       "  & <dbl> & <dbl> & <dbl> & <dbl>\\\\\n",
       "\\hline\n",
       "\tsigma2\\_y & 9.705491 & 0.68635707 & 8.608560 & 10.802423\\\\\n",
       "\tb1 & 1.504342 & 0.06302402 & 1.403617 &  1.605066\\\\\n",
       "\tb0 & 5.386917 & 1.85999876 & 2.414280 &  8.359554\\\\\n",
       "\\end{tabular}\n"
      ],
      "text/markdown": [
       "\n",
       "A precis: 3 × 4\n",
       "\n",
       "| <!--/--> | mean &lt;dbl&gt; | sd &lt;dbl&gt; | 5.5% &lt;dbl&gt; | 94.5% &lt;dbl&gt; |\n",
       "|---|---|---|---|---|\n",
       "| sigma2_y | 9.705491 | 0.68635707 | 8.608560 | 10.802423 |\n",
       "| b1 | 1.504342 | 0.06302402 | 1.403617 |  1.605066 |\n",
       "| b0 | 5.386917 | 1.85999876 | 2.414280 |  8.359554 |\n",
       "\n"
      ],
      "text/plain": [
       "         mean     sd         5.5%     94.5%    \n",
       "sigma2_y 9.705491 0.68635707 8.608560 10.802423\n",
       "b1       1.504342 0.06302402 1.403617  1.605066\n",
       "b0       5.386917 1.85999876 2.414280  8.359554"
      ]
     },
     "metadata": {},
     "output_type": "display_data"
    }
   ],
   "source": [
    "# @title Q1.4-example-code\n",
    "library(rethinking)\n",
    "x_mean <- mean(example_df$x)\n",
    "example_pgm <- quap(alist(\n",
    "    # 1. Generate y from mu_y, sigma2_y\n",
    "    y ~ dnorm(mu_y, sigma2_y),\n",
    "    # 2. Compute mu_y from b0, b1, x\n",
    "    mu_y <- b0 + b1 * x,\n",
    "    # 3. Prior on sigma2_y\n",
    "    sigma2_y ~ dunif(0, 64),\n",
    "    # 4. Choices for prior on b1\n",
    "    # b1 ~ dunif(-20, 20),\n",
    "    b1 ~ dnorm(0, 10),\n",
    "    # 5. Choices for prior on b0\n",
    "    b0 ~ dnorm(5, 2.5)\n",
    "    #b0 ~ dunif(0, 20)\n",
    "  ), data=example_df\n",
    ")\n",
    "(example_precis <- precis(example_pgm))"
   ]
  },
  {
   "cell_type": "markdown",
   "id": "6fb8403c-c6b6-4907-bcb4-5ad5f97aae2e",
   "metadata": {},
   "source": [
    "In the last line of the previous code cell, we summarize the model's estimates using `precis()`, which is just the `rethinking` library's version of the `summary()` function we use to see the results of an `lm()` model. Use this output to answer the following two questions:"
   ]
  },
  {
   "cell_type": "markdown",
   "id": "850b2d9f-8d77-495b-b600-112552978cc9",
   "metadata": {},
   "source": [
    "**Question 1.4a**\n",
    "\n",
    "Complete the following code cell by computing `b0_err_pgm` and `b1_err_pgm`, representing how far off (in terms of absolute value) the coefficient estimates in `example_pgm` are from the **true values**, which we know in this case since we generated the data ourselves in `Q1.1-example-code`."
   ]
  },
  {
   "cell_type": "code",
   "execution_count": 13,
   "id": "e6e3b130-d7be-40f5-a6c5-d195e869e62a",
   "metadata": {
    "execution": {
     "iopub.execute_input": "2025-06-22T04:55:00.489734Z",
     "iopub.status.busy": "2025-06-22T04:55:00.481060Z",
     "iopub.status.idle": "2025-06-22T04:55:00.553576Z",
     "shell.execute_reply": "2025-06-22T04:55:00.545873Z"
    }
   },
   "outputs": [
    {
     "name": "stdout",
     "output_type": "stream",
     "text": [
      "beta0 absolute error: \n",
      "beta1 absolute error: \n"
     ]
    }
   ],
   "source": [
    "# @title Q1.4a-response\n",
    "\n",
    "b0_err_pgm <- NULL # Your code here (replace the NULL)\n",
    "b1_err_pgm <- NULL # Your code here (replace the NULL)\n",
    "\n",
    "writeLines(paste0(\"beta0 absolute error: \",b0_err_pgm))\n",
    "writeLines(paste0(\"beta1 absolute error: \",b1_err_pgm))"
   ]
  },
  {
   "cell_type": "markdown",
   "id": "741899f5-da51-4287-8466-ec40ce0eef6b",
   "metadata": {},
   "source": [
    "**Question 1.4b**\n",
    "\n",
    "Now, complete the following code cell, by computing the indicated differences between the `lm()` errors and the `quap()` errors:"
   ]
  },
  {
   "cell_type": "code",
   "execution_count": 18,
   "id": "f81a4565-820b-445f-ba2d-954265425e06",
   "metadata": {
    "execution": {
     "iopub.execute_input": "2025-06-22T05:18:04.166260Z",
     "iopub.status.busy": "2025-06-22T05:18:04.158712Z",
     "iopub.status.idle": "2025-06-22T05:18:04.200415Z",
     "shell.execute_reply": "2025-06-22T05:18:04.199256Z"
    }
   },
   "outputs": [
    {
     "name": "stdout",
     "output_type": "stream",
     "text": [
      "Specify values for b0_diff and b1_diff first!\n"
     ]
    }
   ],
   "source": [
    "# @title Q1.4b-response\n",
    "b0_diff <- NULL # Your code here (replace the NULL)\n",
    "b1_diff <- NULL # Your code here (replace the NULL)\n",
    "\n",
    "if (!is.null(b0_diff) & !is.null(b1_diff)) {\n",
    "    b0_pct <- 100*((b0_diff/b0_err_lm))\n",
    "    writeLines(paste0(\"b0: PGM estimates are \",round(b0_pct, 2),\"% better\"))\n",
    "    b1_pct <- 100*((b1_diff/b1_err_lm))\n",
    "    writeLines(paste0(\"b1: PGM estimates are \",round(b1_pct, 2),\"% better\"))\n",
    "} else {\n",
    "    writeLines(\"Specify values for b0_diff and b1_diff first!\")\n",
    "}"
   ]
  },
  {
   "cell_type": "markdown",
   "id": "33be6fec-229e-4793-9678-b4c64b0bf119",
   "metadata": {},
   "source": [
    "What your answers should indicate (from looking in the **mean** column) is that we've obtained estimates from `quap()` that are actually **closer** to the true values $\\beta_0 = 5$ and $\\beta_1 = 1.5$ than the estimates we obtained using `lm()` earlier 😎. This is the beauty of informative priors:\n",
    "\n",
    "* By incorporating even the most minimal background knowledge into our estimation, we can improve the veracity/precision of our estimates. And...\n",
    "* If someone disagrees with the way we've incorporated this background knowledge into the model, they can **choose a different set of priors** and re-estimate the model to see if our claimed results still hold (or, better yet, we can **pre-emptively** choose different sets of priors and report the estimates for different settings accordingly -- this is called **robustness testing**)"
   ]
  },
  {
   "cell_type": "markdown",
   "id": "3dda7cd7-e60f-4979-896c-0f4e41d591fe",
   "metadata": {},
   "source": [
    "### [Question 1.5] Plotting Posterior Estimates of the Regression Line\n",
    "\n",
    "The remaining new thing, relative to `lm()`, is that our use of probabilistic priors means that we don't obtain a **single** regression line, but a **whole posterior distribution over regression lines**. This follows from the fact that we have:\n",
    "\n",
    "* A whole posterior distribution over $\\beta_0$ values, and\n",
    "* A whole posterior distribution over $\\beta_1$ values.\n",
    "\n",
    "In both cases, the posterior distribution is derived via repeated, though computationally-optimized, applications of **Bayes Rule**: for example, in the $\\beta_0$ case, taking our original prior distribution $\\beta_0 \\sim \\mathcal{N}(5, 2.5)$ (which means that the prior PDF for $\\beta_0$ is $f(x) = \\varphi_{5, 2.5}(x)$<sup>[1]</sup>), and updating it in light of observed data $(x_i, y_i)$ to obtain a new distribution\n",
    "\n",
    "$$\n",
    "\\underbrace{f(\\beta_0 \\mid (x_i, y_i))}_{\\text{Posterior dist of }\\beta_0} = \\frac{f((x_i, y_i) \\mid \\beta_0)}{f((x_i, y_i))} \\cdot \\underbrace{f(\\beta_0)}_{\\text{Prior dist of }\\beta_0}\n",
    "$$\n",
    "\n",
    "So yeah, this is a final fun fact about these explicitly-written-out generative PGMs: where in previous cases you may have computed the regression line first and then \"added on\" confidence bands around this line in an *ad hoc* manner, here we automatically derive not only \"the\" line, but actually an entire **probability distribution over lines**, the probability distribution which represents uncertainty about the relationship between $X$ and $Y$ after optimally (\"optimally\" in the sense of [De Finetti's Theorem](https://en.wikipedia.org/wiki/De_Finetti%27s_theorem) which I mentioned briefly in class) balancing the **observed data** with our **priors**.\n",
    "\n",
    "What this means is, we can just draw a bunch of samples from the **posterior distribution** (the distribution we summarized above using `precis()`), using the `rethinking`-provided function `extract.samples()`, and then plot them with some transparency, so that the diagonal \"bands\" in the $x-y$ plane where the regression line is more likely end up looking darker than less-likely diagonal bands:\n",
    "\n",
    "---\n",
    "\n",
    "<small>\n",
    "\n",
    "1.  Here $\\varphi_{\\mu, \\sigma^2}(x)$ is the PDF of the Normal distribution with mean $\\mu$ and variance $\\sigma^2$\n",
    "\n",
    "</small>"
   ]
  },
  {
   "cell_type": "code",
   "execution_count": 22,
   "id": "efd5467d-a7d7-436e-a498-eee7cfa31f9c",
   "metadata": {
    "execution": {
     "iopub.execute_input": "2025-06-22T05:26:05.304180Z",
     "iopub.status.busy": "2025-06-22T05:26:05.302377Z",
     "iopub.status.idle": "2025-06-22T05:26:05.460842Z",
     "shell.execute_reply": "2025-06-22T05:26:05.459700Z"
    }
   },
   "outputs": [
    {
     "data": {
      "image/png": "[encoded data removed]",
      "text/plain": [
       "plot without title"
      ]
     },
     "metadata": {
      "image/png": {
       "height": 420,
       "width": 420
      }
     },
     "output_type": "display_data"
    }
   ],
   "source": [
    "# @title Q1.6-example-code-1\n",
    "set.seed(5650)\n",
    "num_post_samples <- 30\n",
    "example_post_df <- extract.samples(example_pgm, n=num_post_samples)\n",
    "# example_post_df |> head()\n",
    "ggplot() +\n",
    "  geom_point(data=example_df, aes(x=x, y=y)) +\n",
    "  geom_vline(xintercept=mean(example_df$x), linetype=\"dashed\") +\n",
    "  geom_hline(yintercept=mean(example_df$y), linetype=\"dashed\") +\n",
    "  geom_abline(\n",
    "      data=example_post_df, aes(slope=b1, intercept=b0),\n",
    "      alpha=0.25\n",
    "  ) +\n",
    "  theme_classic(base_size=20) +\n",
    "  labs(title=paste0(num_post_samples, \" Samples from Regression Posterior\"))"
   ]
  },
  {
   "cell_type": "markdown",
   "id": "99607adb-ddea-48e6-a4df-456ccab41238",
   "metadata": {},
   "source": [
    "Moreover, if we wanted (though this is sort of... falling prey to the classical regression framework, so some people tend to avoid it in Bayes world), there's an alternative to just drawing individual regression lines over and over again.\n",
    "\n",
    "We could instead use the information contained in the estimated posterior distribution to derive what are called **compatibility intervals** (the Bayesian version of confidence intervals), like the **89% compatibility interval** produced by the following code cell.\n",
    "\n",
    "Since we're literally \"scooping out\" the middle 89% of the posterior probability density function (PDF), this interval is kind of... the \"real\" version of the thing you **think** you're learning when you learn confidence intervals in high school stats classes! You can read through the first two examples in [this paper](https://www.colorado.edu/amath/sites/default/files/attached-files/2_23_2018.pdf) for details on the difference, but the short version is: **yes, unlike the case for frequentist confidence intervals, you *can* say (given standard Bayesian assumptions) that there's an 89% chance of the true regression line falling within this band!**"
   ]
  },
  {
   "cell_type": "code",
   "execution_count": 55,
   "id": "2386cf04-7b0c-4489-88a2-df7976e5ad33",
   "metadata": {
    "execution": {
     "iopub.execute_input": "2025-06-22T05:54:35.460000Z",
     "iopub.status.busy": "2025-06-22T05:54:35.458869Z",
     "iopub.status.idle": "2025-06-22T05:54:35.702643Z",
     "shell.execute_reply": "2025-06-22T05:54:35.701389Z"
    }
   },
   "outputs": [
    {
     "data": {
      "image/png": "[encoded data removed]",
      "text/plain": [
       "plot without title"
      ]
     },
     "metadata": {
      "image/png": {
       "height": 420,
       "width": 420
      }
     },
     "output_type": "display_data"
    }
   ],
   "source": [
    "# @title Q1.6-example-code-2\n",
    "# Derive 89% compatibility interval bounds\n",
    "weight_vals <- seq(from=10, to=50, by=1)\n",
    "mu_y <- link(example_pgm, data=data.frame(x=weight_vals))\n",
    "mu_mean <- apply(mu_y, 2, mean)\n",
    "mu_PI <- apply(mu_y, 2, PI, prob=0.89)\n",
    "compat_df <- tibble(\n",
    "    p5=mu_PI[1,],\n",
    "    p94=mu_PI[2,],\n",
    "    x=weight_vals,\n",
    "    y=mu_mean\n",
    ")\n",
    "# And plot on top of scatter\n",
    "ggplot() +\n",
    "  geom_point(data=example_df, aes(x=x, y=y)) +\n",
    "  geom_smooth(\n",
    "      data=compat_df, aes(x=x, y=mu_mean, ymin=p5, ymax=p94),\n",
    "      stat=\"identity\"\n",
    "  ) +\n",
    "  geom_vline(xintercept=mean(example_df$x), linetype=\"dashed\") +\n",
    "  geom_hline(yintercept=mean(example_df$y), linetype=\"dashed\") +\n",
    "  theme_classic(base_size=20) +\n",
    "  labs(title=paste0(\"89% Compatibility Interval for Regression\"))"
   ]
  },
  {
   "cell_type": "markdown",
   "id": "03747bfb-d51d-4bae-a0dd-26aaaf8d1d49",
   "metadata": {},
   "source": [
    "**Question 1.5a**\n",
    "\n",
    "Under the assumptions of linear regression via `lm()`, if we plot a **95% confidence interval** around the estimated regression line (the default when plotting using `geom_smooth()` as we've done in the plots above), can we state that\n",
    "\n",
    "> \"There is a 95% probability that the true linear relationship between $X$ and $Y$ lies within this shaded area\"?\n",
    "\n",
    "* (a) Yes\n",
    "* (b) No"
   ]
  },
  {
   "cell_type": "code",
   "execution_count": 57,
   "id": "2a03cc75-558d-4f4e-9601-165326c3eacd",
   "metadata": {
    "execution": {
     "iopub.execute_input": "2025-06-22T05:55:45.010377Z",
     "iopub.status.busy": "2025-06-22T05:55:45.009116Z",
     "iopub.status.idle": "2025-06-22T05:55:45.019985Z",
     "shell.execute_reply": "2025-06-22T05:55:45.018741Z"
    }
   },
   "outputs": [],
   "source": [
    "# @title Q1.5a-response\n",
    "q1_5a_response <- \"\" # Replace with \"a\" for Yes and \"b\" for No"
   ]
  },
  {
   "cell_type": "markdown",
   "id": "ca2b155b-8b3e-4db3-bb9e-ae45dfa61c1c",
   "metadata": {},
   "source": [
    "**Question 1.5b**\n",
    "\n",
    "Under the assumptions of linear regression via PGMs, if we plot an **89% compatibility interval** around the estimated regression line (as we did in the previous plot), can we state that\n",
    "\n",
    "> \"There is an 89% probability that the true linear relationship between $X$ and $Y$ lies within this shaded area\"?\n",
    "\n",
    "* (a) Yes\n",
    "* (b) No"
   ]
  },
  {
   "cell_type": "code",
   "execution_count": 58,
   "id": "b101d6a0-22e7-44eb-ad94-771ebdc64efb",
   "metadata": {
    "execution": {
     "iopub.execute_input": "2025-06-22T05:56:09.300949Z",
     "iopub.status.busy": "2025-06-22T05:56:09.299785Z",
     "iopub.status.idle": "2025-06-22T05:56:09.310505Z",
     "shell.execute_reply": "2025-06-22T05:56:09.309283Z"
    }
   },
   "outputs": [],
   "source": [
    "# @title Q1.5b-response\n",
    "q1_5b_response <- \"\" # Replace with \"a\" for Yes and \"b\" for No"
   ]
  },
  {
   "cell_type": "markdown",
   "id": "163f15a8-7fab-4491-a53b-f68e22edf145",
   "metadata": {},
   "source": [
    "### [Question 1.6] Modeling *Centers* Rather Than *Intercepts*\n",
    "\n",
    "As a final consideration before Part 1, there's one additional difference between the `lm()` and PGM approaches that we've \"unlocked\" now that we've converted the `lm()` approach into explicitly-written Stan code above!\n",
    "\n",
    "Long story short, you're often making your life harder by trying to directly model the **$y$-intercept** of the regression line. For a bunch of (important) reasons, it's often much less brain-hurting to instead model the **value that $y$ takes on at the *mean* value of $x$**. For example:\n",
    "\n",
    "* (a) you usually have more data on points near the mean than points out on the ends of the range of possible values, and\n",
    "* (b) sometimes the range of valid $x$ values doesn't even include low values near $0$, which is exactly what you saw in the otter data above: the weight value $x$ never dips below 10, so our prior on $\\beta_0$ had to awkwardly guess the value for a not-actually-possible value (the height of an otter weighing 0 kg)\n",
    "\n",
    "So, the following code cell re-does the estimation from Parts 1.1-1.6, but models the regression line relative to the **mean** $x$ value: i.e., we parameterize the regression line as \"starting\" from some value `y_at_xmean`, our estimate of the value that $y$ takes on at the point $\\mu_x = \\frac{1}{n}\\sum_{i=1}^{n}x_i$, then increasing (or decreasing) by `slope` for each 1-unit change in $x$ away from this mean value. It should only require a slight adjustment to switch back and forth between these forms, as can be seen from the following (new) PGM:\n",
    "\n",
    "<center>\n",
    "<figure>\n",
    "<img src=\"https://raw.githubusercontent.com/jpowerj/dsan-content/f6c51e1f750f2a1173a150a57ba8f89a008b7c4e/2025-sum-dsan5650/hw2/pgm_regression_xmean.svg\" width=\"40%\"></img>\n",
    "<figcaption><i>The new PGM for Question 1.6, where there are only two changes: (a) We model $\\beta_0$ as the value of $y$ when $x$ is at its <b>mean</b> value $\\mu_x$, rather than the value of $y$ when $x = 0$ (the intercept form); (b) We adjust our prior values on $\\beta_0$ accordingly.</i></figcaption>\n",
    "</figure>\n",
    "</center>\n",
    "\n",
    "This is the form you should use in Parts 1 and 2, since e.g. the independent variable `antiauth` that we start with is from 1 to 4 and thus never dips down to the value 0!"
   ]
  },
  {
   "cell_type": "code",
   "execution_count": 59,
   "id": "108d2d83-75fd-4221-84be-aec35ce54b8a",
   "metadata": {
    "execution": {
     "iopub.execute_input": "2025-06-22T05:56:11.805692Z",
     "iopub.status.busy": "2025-06-22T05:56:11.804611Z",
     "iopub.status.idle": "2025-06-22T05:56:11.982857Z",
     "shell.execute_reply": "2025-06-22T05:56:11.981632Z"
    }
   },
   "outputs": [
    {
     "data": {
      "text/html": [
       "<table class=\"dataframe\">\n",
       "<caption>A precis: 3 × 4</caption>\n",
       "<thead>\n",
       "\t<tr><th></th><th scope=col>mean</th><th scope=col>sd</th><th scope=col>5.5%</th><th scope=col>94.5%</th></tr>\n",
       "\t<tr><th></th><th scope=col>&lt;dbl&gt;</th><th scope=col>&lt;dbl&gt;</th><th scope=col>&lt;dbl&gt;</th><th scope=col>&lt;dbl&gt;</th></tr>\n",
       "</thead>\n",
       "<tbody>\n",
       "\t<tr><th scope=row>y_at_xmean</th><td>50.077826</td><td>0.96588363</td><td>48.534157</td><td>51.621494</td></tr>\n",
       "\t<tr><th scope=row>slope</th><td> 1.490156</td><td>0.08789377</td><td> 1.349685</td><td> 1.630628</td></tr>\n",
       "\t<tr><th scope=row>sigma2_y</th><td> 9.704209</td><td>0.68619120</td><td> 8.607543</td><td>10.800875</td></tr>\n",
       "</tbody>\n",
       "</table>\n"
      ],
      "text/latex": [
       "A precis: 3 × 4\n",
       "\\begin{tabular}{r|llll}\n",
       "  & mean & sd & 5.5\\% & 94.5\\%\\\\\n",
       "  & <dbl> & <dbl> & <dbl> & <dbl>\\\\\n",
       "\\hline\n",
       "\ty\\_at\\_xmean & 50.077826 & 0.96588363 & 48.534157 & 51.621494\\\\\n",
       "\tslope &  1.490156 & 0.08789377 &  1.349685 &  1.630628\\\\\n",
       "\tsigma2\\_y &  9.704209 & 0.68619120 &  8.607543 & 10.800875\\\\\n",
       "\\end{tabular}\n"
      ],
      "text/markdown": [
       "\n",
       "A precis: 3 × 4\n",
       "\n",
       "| <!--/--> | mean &lt;dbl&gt; | sd &lt;dbl&gt; | 5.5% &lt;dbl&gt; | 94.5% &lt;dbl&gt; |\n",
       "|---|---|---|---|---|\n",
       "| y_at_xmean | 50.077826 | 0.96588363 | 48.534157 | 51.621494 |\n",
       "| slope |  1.490156 | 0.08789377 |  1.349685 |  1.630628 |\n",
       "| sigma2_y |  9.704209 | 0.68619120 |  8.607543 | 10.800875 |\n",
       "\n"
      ],
      "text/plain": [
       "           mean      sd         5.5%      94.5%    \n",
       "y_at_xmean 50.077826 0.96588363 48.534157 51.621494\n",
       "slope       1.490156 0.08789377  1.349685  1.630628\n",
       "sigma2_y    9.704209 0.68619120  8.607543 10.800875"
      ]
     },
     "metadata": {},
     "output_type": "display_data"
    },
    {
     "data": {
      "image/png": "[encoded data removed]",
      "text/plain": [
       "plot without title"
      ]
     },
     "metadata": {
      "image/png": {
       "height": 420,
       "width": 420
      }
     },
     "output_type": "display_data"
    }
   ],
   "source": [
    "# @title Q1.6-example-code\n",
    "x_mean <- mean(example_df$x)\n",
    "example_pgm <- quap(\n",
    "  alist(\n",
    "    y ~ dnorm(mu_y, sigma2_y),\n",
    "    mu_y <- y_at_xmean + slope * (x - x_mean),\n",
    "    y_at_xmean ~ dnorm(50, 10),\n",
    "    slope ~ dnorm(0,10),\n",
    "    sigma2_y ~ dunif(0,64)\n",
    "  ),\n",
    "  data=example_df\n",
    ")\n",
    "(example_precis <- precis(example_pgm))\n",
    "example_post_df <- extract.samples(example_pgm, n=20) |>\n",
    "  mutate(intercept=y_at_xmean - slope * x_mean)\n",
    "# example_post_df |> head()\n",
    "ggplot() +\n",
    "  geom_point(data=example_df, aes(x=x, y=y)) +\n",
    "  geom_vline(xintercept=mean(example_df$x), linetype=\"dashed\") +\n",
    "  # geom_smooth(method='lm', formula='y ~ x') +\n",
    "  geom_abline(\n",
    "      data=example_post_df, aes(slope=slope, intercept=intercept),\n",
    "      alpha=0.25\n",
    "  ) +\n",
    "  theme_classic(base_size=20)"
   ]
  },
  {
   "cell_type": "markdown",
   "id": "8b79bd3c-8716-4ce5-a6b0-497f62073b83",
   "metadata": {},
   "source": [
    "Now that you've seen how to \"convert\" `lm()`-specific regression estimates into generalizable/modifiable models written out in Stan, the remainder of the assignment asks you to do this for each level of a multilevel regression separately, then combine them into a single all-encompassing multilevel model which **pools** data across clusters of observations!"
   ]
  },
  {
   "cell_type": "markdown",
   "id": "9cffe9ab-ad05-4fb4-82a9-1a15b7ae6df7",
   "metadata": {},
   "source": [
    "**Question 1.6a**\n",
    "\n",
    "Say we're working as a data analyst for a company that makes car engines. The company has some metric of engine performance $y$ with respect to the speed of the car $x$, and cares about modeling two aspects of an engine:\n",
    "\n",
    "* The engine's \"performance at rest\", i.e., performance when the speed $x = 0$, and\n",
    "* The engine's performance as speed increases, i.e., the change in performance $y$ for each unit increase in speed $x$ above 0\n",
    "\n",
    "If the company wants you to start by estimating the linear relationship between speed and engine performance, which of the two PGM forms of regression should you opt for in this case?\n",
    "\n",
    "* (a) The \"standard\" regression model, where we estimate $\\beta_0$ as the $y$-intercept and $\\beta_1$ as the slope (the change in engine performance for a 1-unit increase in speed)\n",
    "* (b) The \"centered\" regression model, where we estimate $\\beta_0$ as the value of $y$ when $x$ is at its mean, and $\\beta_1$ as the slope (the change in engine performance for a 1-unit increase in speed)"
   ]
  },
  {
   "cell_type": "code",
   "execution_count": 60,
   "id": "b1d3a40c-bfbb-4462-82b1-016edb184831",
   "metadata": {
    "execution": {
     "iopub.execute_input": "2025-06-22T06:04:03.978165Z",
     "iopub.status.busy": "2025-06-22T06:04:03.971776Z",
     "iopub.status.idle": "2025-06-22T06:04:04.012072Z",
     "shell.execute_reply": "2025-06-22T06:04:04.010911Z"
    }
   },
   "outputs": [],
   "source": [
    "# @title Q1.6a-response\n",
    "q1_6a_response <- \"\" # Change to \"a\" for option (a), and \"b\" for option (b)"
   ]
  },
  {
   "cell_type": "markdown",
   "id": "b16d3591-8470-4f14-9d3d-e39e90e97005",
   "metadata": {},
   "source": [
    "**Question 1.6b**\n",
    "\n",
    "Now, say you're instead working for a credit card company, and they'd like you to model some \"risk score\" $y$ representing how likely a given individual is to default on a loan, given their FICO credit score $x$.\n",
    "\n",
    "Given that FICO scores range from 300 to 850, which of the two PGM forms of regression should you opt for in this case?\n",
    "\n",
    "* (a) The \"standard\" regression model, where we estimate $\\beta_0$ as the $y$-intercept and $\\beta_1$ as the slope (the change in risk per 1-unit increase in FICO score)\n",
    "* (b) The \"centered\" regression model, where we estimate $\\beta_0$ as the risk value $y$ when $x$ is at the mean FICO score in the dataset, and $\\beta_1$ as the slope (the change in risk per 1-unit increase in FICO score)"
   ]
  },
  {
   "cell_type": "code",
   "execution_count": 61,
   "id": "78b624b7-2cd3-40cd-9f7a-b078602accc5",
   "metadata": {
    "execution": {
     "iopub.execute_input": "2025-06-22T06:08:03.280635Z",
     "iopub.status.busy": "2025-06-22T06:08:03.278804Z",
     "iopub.status.idle": "2025-06-22T06:08:03.304389Z",
     "shell.execute_reply": "2025-06-22T06:08:03.302532Z"
    }
   },
   "outputs": [],
   "source": [
    "# @title Q1.6b-response\n",
    "q1_6b_response <- \"\" # Change to \"a\" for option (a), and \"b\" for option (b)"
   ]
  },
  {
   "cell_type": "markdown",
   "id": "f50916c4-bc42-4a91-99f0-91ece3539bcf",
   "metadata": {},
   "source": [
    "## [Part 2] Afrobarometer I: Single-Level Regressions in Stan"
   ]
  },
  {
   "cell_type": "markdown",
   "id": "826217a9-84a4-450a-b20f-831096ccca14",
   "metadata": {},
   "source": [
    "Introducing this part is greatly helped by the fact that we covered three key higher-level pieces of info in class during Week 5:\n",
    "\n",
    "**Afrobarometer**\n",
    "\n",
    "We briefly discussed the [Afrobarometer](https://www.afrobarometer.org/) survey dataset, in particular:\n",
    "\n",
    "* How it has a cluster of questions (Q18 through Q19B) which assess **individual attitudes towards governmental authority**, forming our **individual-level independent variable** `antiauth`, and\n",
    "* How it has another cluster of questions (Q78A through Q78B) which assess **individual attitudes towards the economic and political impact of China and the US on their home country**, forming our **individual-level dependent variable** `china`\n",
    "\n",
    "**Social-Scientific Puzzles**\n",
    "\n",
    "We then went through the social-scientific reasons why we might **not** be able to **explain** some social phenomenon -- in this case, the phenomenon of sentiment towards China among individuals across 39 countries in Africa -- using individual-level data on its own, or country-level data on its own.\n",
    "\n",
    "Here, the challenge comes from the following four-country \"puzzle\" we discussed at the very beginning, where knowing only each individual's `antiauth` values would not allow you to explain the four different patterns exhibited by these four countries:\n",
    "\n",
    "<figure>\n",
    "<img src='https://github.com/jpowerj/dsan-content/blob/main/2025-sum-dsan5650/hw2/four-puzzles.png?raw=true' width='40%'></img>\n",
    "<figcaption><i>The \"four-country puzzle\" exhibiting why we may need <b>country</b>-level data to explain <b>individual</b>-level attitudes towards China. On the off-diagonal, we have (a) positive sentiment regardless of `antiauth` level in Tanzania but (b) negative sentiment regardless of `antiauth` level in Tunisia. Then, on the diagonal, (c) sentiment increasing in `antiauth` level in Nigeria but (d) decreasing in `antiauth` level in Zimbabwe.</i></figcaption>\n",
    "</figure>\n",
    "\n",
    "**Historical/Sociological Background $\\leadsto$ Hypotheses**\n",
    "\n",
    "Finally, we covered some of the historical/sociological background for a few of the countries (Tanzania and Zimbabwe) which could be used to **generate hypotheses** about what might explain these social phenomena. In this case:\n",
    "\n",
    "* China's early developmental aid to Tanzania in the 1970's...\n",
    "* Juxtaposed to their military-political aid to Zimbabwe over roughly the same timespan...\n",
    "* May lead us to a hypothesis that the **type** of aid given to the country matters for explaining our puzzle,\n",
    "* Which in turn may lead us to go and operationalize this hypothesis, e.g., by disaggregating e.g. the `total_trade` variable into `total_development_aid` and `total_military_aid` components\n",
    "\n",
    "So, now that I've justified my in-class rants as background-knowledge-provision, let's begin!"
   ]
  },
  {
   "cell_type": "markdown",
   "id": "84b9f2a0-4481-49bc-8792-e41e1111a0e3",
   "metadata": {},
   "source": [
    "### [Question 2.1] Individual-Level Regression"
   ]
  },
  {
   "cell_type": "markdown",
   "id": "b2f14047-19fb-4416-bd73-f7bfe2c1cb59",
   "metadata": {},
   "source": [
    "Run the code cell immediately after this markdown cell, which loads the data, estimates the **individual**-level regression parameters, and generates a (binscatter) plot of the resulting linear model. This model relates changes in the independent variable $X =$ **anti-authoritarian attitudes** (`antiauth`) to changes in the dependent variable $Y =$ **sentiment towards China's role in the respondent's country** (`china`), with details as follows:\n",
    "\n",
    "**Dependent Variable (Thing We're Trying to Explain): `china`**\n",
    "\n",
    "* Question text: Do you think that the economic and political influence of **China** on **[your country]** is mostly positive, mostly negative, or haven't you heard enough to say?\n",
    "* Values: 1=Very negative, 2=Somewhat negative, 3=Neither positive nor negative, 4=Somewhat positive, 5=Very positive\n",
    "\n",
    "**Independent Variable (Thing We Hypothesize as Explanation for `china` values)**:\n",
    "\n",
    "Here, the three variables averaged to produce the `antiauth` measure are structured as follows:\n",
    "\n",
    "<table>\n",
    "<thead>\n",
    "<tr>\n",
    "    <th align=\"center\">QID</th>\n",
    "    <th align=\"center\">varname</th>\n",
    "    <th colspan=\"2\" align=\"center\">Statement 1</th>\n",
    "    <th colspan=\"2\" align=\"center\">Statement 2</th>\n",
    "</tr>\n",
    "</thead>\n",
    "<tbody>\n",
    "<tr>\n",
    "    <td rowspan=\"3\"><b>Q18</b></td>\n",
    "    <td rowspan=\"3\"><code>accountable</code></td>\n",
    "    <td colspan=\"2\">It is more important to have a government that can get things done, even if we have no influence over what it does.</td>\n",
    "    <td colspan=\"2\">It is more important for citizens to be able to hold government accountable, even if that means it makes decisions more slowly.</td>\n",
    "</tr>\n",
    "<tr>\n",
    "    <td align=\"center\">Strongly Agree</td>\n",
    "    <td align=\"center\">Agree</td>\n",
    "    <td align=\"center\">Agree</td>\n",
    "    <td align=\"center\">Strongly Agree</td>\n",
    "</tr>\n",
    "<tr>\n",
    "    <td align=\"center\">1</td>\n",
    "    <td align=\"center\">2</td>\n",
    "    <td align=\"center\">3</td>\n",
    "    <td align=\"center\">4</td>\n",
    "</tr>\n",
    "<tr>\n",
    "    <td rowspan=\"3\"><b>Q19A</b></td>\n",
    "    <td rowspan=\"3\"><code>gov_is_employee</code></td>\n",
    "    <td colspan=\"2\">The government is like the people’s boss. People should respect the government and do what it directs.</td>\n",
    "    <td colspan=\"2\">The government is like the people’s employee. It should respect the citizens and do what they request.</td>\n",
    "</tr>\n",
    "<tr>\n",
    "    <td align=\"center\">Strongly Agree</td>\n",
    "    <td align=\"center\">Agree</td>\n",
    "    <td align=\"center\">Agree</td>\n",
    "    <td align=\"center\">Strongly Agree</td>\n",
    "</tr>\n",
    "<tr>\n",
    "    <td align=\"center\">1</td>\n",
    "    <td align=\"center\">2</td>\n",
    "    <td align=\"center\">3</td>\n",
    "    <td align=\"center\">4</td>\n",
    "</tr>\n",
    "<tr>\n",
    "    <td rowspan=\"3\"><b>Q19B</b> (Reversed)</td>\n",
    "    <td rowspan=\"3\"><code>listen_to_voters</code></td>\n",
    "    <td colspan=\"2\">Our elected leaders should follow their own ideas in deciding what is best for the country.</td>\n",
    "    <td colspan=\"2\">Our elected officials should listen to voters' views and do what they demand.</td>\n",
    "</tr>\n",
    "<tr>\n",
    "    <td align=\"center\">Strongly Agree</td>\n",
    "    <td align=\"center\">Agree</td>\n",
    "    <td align=\"center\">Agree</td>\n",
    "    <td align=\"center\">Strongly Agree</td>\n",
    "</tr>\n",
    "<tr>\n",
    "    <td align=\"center\">1</td>\n",
    "    <td align=\"center\">2</td>\n",
    "    <td align=\"center\">3</td>\n",
    "    <td align=\"center\">4</td>\n",
    "</tr>\n",
    "</tbody>\n",
    "</table>"
   ]
  },
  {
   "cell_type": "code",
   "execution_count": null,
   "id": "9badc0b8-6f7e-4acf-82f8-c6fa9d573a9a",
   "metadata": {},
   "outputs": [],
   "source": [
    "# @title Q2.1-helper\n",
    "library(tidyverse)\n",
    "source(\"stat_binscatter.r\")\n",
    "# Load raw .csv data\n",
    "ab_df <- read_csv(\"https://jpj.georgetown.domains/dsan5650-data/ab_multilevel.csv\")\n",
    "# Filter non-numeric (NA or DK) responses\n",
    "valid_df <- ab_df |> filter(valid_china & valid_antiauth)\n",
    "\n",
    "# Count number of observations at each level of the hierarchy\n",
    "num_countries <- valid_df$country_name |> n_distinct()\n",
    "writeLines(paste0(\"\\nTotal number of countries (level 3): \",num_countries))\n",
    "num_parties <- valid_df$party_vote |> n_distinct()\n",
    "writeLines(paste0(\"Total number of political parties (level 2): \",num_parties))\n",
    "n <- nrow(valid_df)\n",
    "writeLines(paste0(\"Total number of respondents (level 1): \",n))\n",
    "\n",
    "# Individual-level regression using lm()\n",
    "indiv_lm <- lm(china ~ antiauth, data=valid_df)\n",
    "summary(indiv_lm)\n",
    "\n",
    "# And plot the regression line with (binscattered) points\n",
    "ggplot() +\n",
    "    geom_hline(yintercept=mean(valid_df$china), linetype=\"dashed\") +\n",
    "    geom_vline(xintercept=mean(valid_df$antiauth), linetype=\"dashed\") +\n",
    "    geom_smooth(\n",
    "        data=valid_df, aes(x=antiauth, y=china),\n",
    "        method=\"lm\", formula=\"y ~ x\"\n",
    "    ) +\n",
    "    stat_binscatter(\n",
    "        data=valid_df,\n",
    "        aes(x=antiauth, y=china),\n",
    "        geom=\"pointrange\", bins=8\n",
    "    ) +\n",
    "    theme_classic(base_size=20) +\n",
    "    labs(title=\"Sentiment Towards China vs. Anti-Auth Values\")"
   ]
  },
  {
   "cell_type": "markdown",
   "id": "23aaf0da-0b45-4e26-8095-5e18c77ed94b",
   "metadata": {},
   "source": [
    "Your task now, in the cell titled `Q2.1a-response`, is to **convert this `lm()`-estimated regression into a `quap()`-estimated regression**, deriving the same (approximate) intercept and slope values!"
   ]
  },
  {
   "cell_type": "code",
   "execution_count": null,
   "id": "3442484f-c2de-4c6b-9765-8a0a64672ad9",
   "metadata": {},
   "outputs": [],
   "source": [
    "# @title Q2.1a-response\n",
    "library(rethinking) |> suppressPackageStartupMessages()\n",
    "aa_mean <- mean(valid_df$antiauth)\n",
    "writeLines(paste0(\"Mean antiauth value: \",aa_mean))\n",
    "\n",
    "indiv_model <- quap(\n",
    "  alist(\n",
    "      # Your code here (generative model for china as a function of antiauth)\n",
    "  ),\n",
    "  data=valid_df\n",
    ")\n",
    "precis(indiv_model)"
   ]
  },
  {
   "cell_type": "markdown",
   "id": "ca713f9f-fd85-422c-9c66-b351b5d5fbb7",
   "metadata": {},
   "source": [
    "Now, in the cell titled `Q2.1b-response`, first use the `extract.samples()` function from `rethinking` to draw **30 samples from the posterior regression line distribution**, i.e., 30 draws of the variables in `indiv_model`, and call this sample of 30 lines `post_df`.\n",
    "\n",
    "Next, note how we're parameterizing the regression line as $\\beta_{\\bar{x}} + \\beta_1 * (x - \\overline{x})$. This means that there **won't** be a column in `post_df` corresponding to the `intercept` argument required by `geom_abline()`. To deal with this (since the `geom_abline()` function from `ggplot2` requires an `intercept` argument), compute a new column within `post_df` called `intercept` by using the `y_at_xmean` values and the `slope` values to extrapolate each line's $y$-intercept.\n",
    "\n",
    "Finally, use `ggplot()` with the following layers (at minimum) to plot the results:\n",
    "\n",
    "* Use `stat_binscatter()` with `bins=8` to plot the distribution of individual `antiauth` and `china` values in `valid_df`,\n",
    "* Use `geom_abline()` to superimpose the 30 posterior samples, using an `alpha` value of `0.25` (so that the overlap points across the different lines are drawn darker in the plot), then\n",
    "* Use `theme_classic(base_size=20)` to make the plot cleaner and make the font big enough for us to see the axis ticks and labels!"
   ]
  },
  {
   "cell_type": "code",
   "execution_count": null,
   "id": "3b076a9e-270c-4bd8-97fa-e18afe016bb5",
   "metadata": {},
   "outputs": [],
   "source": [
    "# @title Q2.1b-response\n",
    "\n",
    "# Your code here\n"
   ]
  },
  {
   "cell_type": "markdown",
   "id": "931b70ea-0c6d-45e7-aa40-a6fb45e2789f",
   "metadata": {},
   "source": [
    "### [Question 2.2] Party-Level Regression\n",
    "\n",
    "Our model in this question assumes that info about the **political party** an individual voted for is sufficient for determining their sentiment towards China's role in their country.\n",
    "\n",
    "As in the previous question, the **dependent** variable is `china`. However, here the **independent** variable is a measure of the party's ideology on a left-right spectrum. The following code cell\n",
    "\n",
    "1.  Drops observations with `NA` values for `ideology_pos_str` (which in fact also drops lots of countries, since this value is `NA` for e.g. monarchies like Eswatini or Morocco), then\n",
    "2.  Displays counts representing, for each possible ideological position listed on Wikipedia, how many respondents voted for political parties with that position"
   ]
  },
  {
   "cell_type": "code",
   "execution_count": null,
   "id": "08f0ec33-678a-4ca5-9021-d0849e3114b9",
   "metadata": {},
   "outputs": [],
   "source": [
    "# @title Q2.2-helper-1\n",
    "valid_ideology_df <- valid_df |> filter(!is.na(ideology_pos_str))\n",
    "valid_ideology_df |> count(ideology_pos_str)"
   ]
  },
  {
   "cell_type": "markdown",
   "id": "f14d224b-1ed8-4f31-9b51-748ca6c6f20d",
   "metadata": {},
   "source": [
    "To really drive the point home that these are... subjective judgements arbitrarily mapped into $[-2,2]$ to make these qualitative judgements quantitatively tractable, the following code cell uses an `ideology_map` tibble with a `left_join()` to add a new `ideology_num` column to `valid_ideology_df`, so that we can then use this column as our **independent variable** to predict `china`:"
   ]
  },
  {
   "cell_type": "code",
   "execution_count": null,
   "id": "a57fd051-350a-4e66-b3ee-72c9aa85393c",
   "metadata": {},
   "outputs": [],
   "source": [
    "# @title Q2.2-helper-2\n",
    "ideology_map <- tribble(\n",
    "    ~ideology_pos_str, ~ideology_num,\n",
    "    \"Left\", -2.0,\n",
    "    \"Center-Left to Left\", -1.5,\n",
    "    \"Center-Left\", -1.0,\n",
    "    \"Center to Center-Left\", -0.5,\n",
    "    \"Center\", 0.0,\n",
    "    \"Center to Center-Right\", 0.5,\n",
    "    \"Center-Right\", 1.0,\n",
    "    \"Center-Right to Right\", 1.5,\n",
    "    \"Right\", 2.0,\n",
    ")\n",
    "ideology_map"
   ]
  },
  {
   "cell_type": "markdown",
   "id": "10e3eddc-835a-4af2-b9ac-9d8a225b60e9",
   "metadata": {},
   "source": [
    "As a final piece of starter code, the following code cell performs the `lm()`-based regression of `china` on `ideology_num`, deriving and then plotting an estimate of how sentiment towards China increases or decreases on average as the party one votes for moves from left to right (relative to this arbitrarily-chosen $[-2,2]$ spectrum):"
   ]
  },
  {
   "cell_type": "code",
   "execution_count": null,
   "id": "aec1489a-c8f2-4a99-857c-afe130f0fad6",
   "metadata": {},
   "outputs": [],
   "source": [
    "# @title Q2.2-helper-3\n",
    "ideology_num_df <- valid_ideology_df |>\n",
    "  filter(valid_party) |>\n",
    "  left_join(ideology_map, by=\"ideology_pos_str\")\n",
    "\n",
    "# Estimate and display the regression coefficients\n",
    "ideology_lm <- lm(china ~ ideology_num, data=ideology_num_df)\n",
    "summary(ideology_lm)\n",
    "\n",
    "# Plot the estimated line on top of a binscatter of ideological spectrum values\n",
    "ggplot() +\n",
    "    geom_hline(yintercept=mean(ideology_num_df$china), linetype=\"dashed\") +\n",
    "    geom_vline(xintercept=mean(ideology_num_df$ideology_num), linetype=\"dashed\") +\n",
    "    geom_smooth(\n",
    "        data=ideology_num_df, aes(x=ideology_num, y=china),\n",
    "        method=\"lm\", formula=\"y ~ x\"\n",
    "    ) +\n",
    "    stat_binscatter(\n",
    "      data=ideology_num_df, aes(x=ideology_num, y=china),\n",
    "      geom=\"pointrange\", bins=20\n",
    "    ) +\n",
    "    theme_classic(base_size=18)"
   ]
  },
  {
   "cell_type": "markdown",
   "id": "56aca792-e4c6-4136-8f82-b619f8be04a9",
   "metadata": {},
   "source": [
    "As in the previous question, your job in the cell titled `Q2.2a-response` is to **convert** this `lm()`-based regression into a Stan model which recovers the same (approximate) slope and intercept estimates. This time, the code cell is blank besides the `# Your code here` line, but you should name your estimated model (the result of the call to `quap()`) `ideology_model`!"
   ]
  },
  {
   "cell_type": "code",
   "execution_count": null,
   "id": "92748b4c-4362-4c6a-9aa5-e4981a223f7a",
   "metadata": {},
   "outputs": [],
   "source": [
    "# @title Q2.2a-response\n",
    "\n",
    "# Your code here"
   ]
  },
  {
   "cell_type": "markdown",
   "id": "2ec89145-e9b8-40c1-88f4-d47da1eadb42",
   "metadata": {},
   "source": [
    "And now, sample **30 draws** from the posterior distribution of regression lines in `ideology_model`, using `extract.samples()`, then plot these draws with the same provisions as given above for `Q2.1b-response`:"
   ]
  },
  {
   "cell_type": "code",
   "execution_count": null,
   "id": "4eb43116-1201-4fac-a75e-b059c3d23bef",
   "metadata": {},
   "outputs": [],
   "source": [
    "# @title Q2.2b-response\n",
    "\n",
    "# Your code here"
   ]
  },
  {
   "cell_type": "markdown",
   "id": "2de945b1-2cd1-4cff-924e-fefb6a4f91a0",
   "metadata": {},
   "source": [
    "### [Question 2.3] Country-Level Regression\n",
    "\n",
    "Since we have bilateral trade data for every country in the Afrobarometer sample with China, we don't need to worry about dropping `NA` values in this case. So, your job in this question is to \"convert\" one final `lm()`-based regression into a model written in Stan. Here, the dependent variable will be `china` as before, but the **independent** variable is now `ltrade_china`, the **natural log** of the total volume of trade between the respondent's country and China (we take the log because, as you may have seen in econ classes/examples, economic variables like income and trade are often skewed such that values become more evenly-spaced after applying the log transformation). As before, run the following starter code to see the `lm()`-based estimate, then convert the `lm()`-based model into a Stan model in `Q2.3a-response` and `Q2.3b-response` cells."
   ]
  },
  {
   "cell_type": "code",
   "execution_count": null,
   "id": "80d7e22c-8257-4827-869e-f26a5350a0f7",
   "metadata": {},
   "outputs": [],
   "source": [
    "# @title Q2.3-helper-1\n",
    "valid_df <- valid_df |> mutate(\n",
    "    ltrade_china = log(trade_china)\n",
    ")\n",
    "\n",
    "# Estimate and display the regression coefficients\n",
    "trade_lm <- lm(china ~ ltrade_china, data=valid_df)\n",
    "summary(trade_lm)\n",
    "\n",
    "# Plot the estimated line on top of a binscatter of log-trade values\n",
    "ggplot() +\n",
    "    geom_hline(yintercept=mean(valid_df$china), linetype=\"dashed\") +\n",
    "    geom_vline(xintercept=mean(valid_df$ltrade_china), linetype=\"dashed\") +\n",
    "    geom_smooth(\n",
    "        data=valid_df, aes(x=ltrade_china, y=china),\n",
    "        method=\"lm\", formula=\"y ~ x\"\n",
    "    ) +\n",
    "    stat_binscatter(\n",
    "      data=valid_df, aes(x=ltrade_china, y=china),\n",
    "      geom=\"pointrange\", bins=8\n",
    "    ) +\n",
    "    theme_classic(base_size=18)"
   ]
  },
  {
   "cell_type": "markdown",
   "id": "4350122a-6fac-4b4f-8765-69be9e294dda",
   "metadata": {},
   "source": [
    "Now, with even fewer instructions than before, fill in the `Q2.3a-response` and `Q2.3b-response` cells as you did in the previous two parts, to obtain and plot a model of China sentiment vs. trade based on the Afrobarometer sample!"
   ]
  },
  {
   "cell_type": "code",
   "execution_count": null,
   "id": "77935cf9-887c-4ba3-b5bf-a496ac071ba2",
   "metadata": {},
   "outputs": [],
   "source": [
    "# @title Q2.3a-response\n",
    "\n",
    "# Your code here (estimate a model named trade_model via a call to quap())\n"
   ]
  },
  {
   "cell_type": "code",
   "execution_count": null,
   "id": "0f97e24b-5810-454f-8625-0ee87ce74ae0",
   "metadata": {},
   "outputs": [],
   "source": [
    "# @title Q1.3b-response\n",
    "\n",
    "# Your code here\n",
    "# (Plot 30 draws from the posterior of trade_model superimposed on a binscatter\n",
    "# of ltrade_china values, as you did in Q1.1b-response and Q1.2b-response)\n"
   ]
  },
  {
   "cell_type": "markdown",
   "id": "4e7ec617-efbd-4a0f-bfed-009c47cb58f3",
   "metadata": {},
   "source": [
    "Congratulations, you've reached the end of **HW2A**! You can submit this portion of HW2 using the button at the top of the notebook to receive your autograder feedback, and/or move on to **HW2B** 🏃"
   ]
  }
 ],
 "metadata": {
  "kernelspec": {
   "display_name": "R",
   "language": "R",
   "name": "ir"
  },
  "language_info": {
   "codemirror_mode": "r",
   "file_extension": ".r",
   "mimetype": "text/x-r-source",
   "name": "R",
   "pygments_lexer": "r",
   "version": "4.4.3"
  },
  "widgets": {
   "application/vnd.jupyter.widget-state+json": {
    "state": {},
    "version_major": 2,
    "version_minor": 0
   }
  }
 },
 "nbformat": 4,
 "nbformat_minor": 5
}
